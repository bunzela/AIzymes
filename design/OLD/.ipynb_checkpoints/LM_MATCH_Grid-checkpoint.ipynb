{
 "cells": [
  {
   "cell_type": "markdown",
   "id": "647c0384",
   "metadata": {},
   "source": [
    "## Run function for the AIzyme algorithm, relies on the Function part"
   ]
  },
  {
   "cell_type": "code",
   "execution_count": 36,
   "id": "948eed2f",
   "metadata": {
    "scrolled": false
   },
   "outputs": [
    {
     "name": "stdout",
     "output_type": "stream",
     "text": [
      "AIzyme Functions loaded!\n"
     ]
    }
   ],
   "source": [
    "#### DESIGN RUN NAME #####################################################################################################\n",
    "DESIGN_FOLDER     = 'LM_MATCH_GRID_Functions_009'\n",
    "FOLDER_MATCH      = 'MATCH' #Not needed for now -> This is just for match\n",
    "FOLDER_PARENT     = f'{FOLDER_MATCH}/matches' # -> Adjust, contains ONLY parent pdbs\n",
    "##########################################################################################################################\n",
    "#### Input parameters ####################################################################################################\n",
    "MAX_JOBS          = 100\n",
    "N_PARENT_JOBS     = 10\n",
    "MAX_DESIGNS       = 40000\n",
    "KBT_BOLTZMANN     = 0.02\n",
    "CST_WEIGHT        = 1.0\n",
    "HIGHSCORE         = 0.93\n",
    "NEG_BEST          = 0.79\n",
    "ProteinMPNN_PROB  = 0.0\n",
    "WT                = \"1ohp\"\n",
    "LIGAND            = \"5TS\"\n",
    "REPACK            = \"36,45,51,67\"\n",
    "MATCH             = \"14,18,26,30,55,65,80,82,99,101,112\"\n",
    "DESIGN            = \"7,10,11,14,15,18,26,29,30,38,54,55,58,59,63,65,71,73,78\"\n",
    "DESIGN           += \",80,82,84,86,93,95,97,99,101,103,109,112,114,116,121\"\n",
    "ProteinMPNN_T     = \"0.1\"\n",
    "SUBMIT_PREFIX     = \"MATCH\" # Adjust, use a short prefix to allow \n",
    "BLUEPEBBLE        = False\n",
    "GRID              = True\n",
    "BACKGROUND_JOB    = False\n",
    "\n",
    "if GRID:            ROSETTA_PATH = \"/home/bunzelh/rosetta_src_2021.16.61629_bundle/main/source/\"      #GRID\n",
    "if BLUEPEBBLE:      \n",
    "                    ROSETTA_PATH = \"/sw/apps/rosetta/rosetta_src_2021.16.61629_bundle/main/source/\"   #BLUEPEBBLE \n",
    "                    BLUEPEBBLE_ACCOUNT = \"ptch000361\"\n",
    "                    #BLUEPEBBLE_ACCOUNT = \"ptch000721\"\n",
    "if BACKGROUND_JOB:  ROSETTA_PATH = \"/sw/apps/rosetta/rosetta_src_2021.16.61629_bundle/main/source/\"   #BLUEPEBBLE \n",
    "    \n",
    "NORM              = {'interface_score': [10, 30], 'total_score': [340, 410], 'catalytic_score': [-40, 0]}\n",
    "##########################################################################################################################\n",
    "AIZYME_TOOLS      = \"../src/AIzymes_009.ipynb\"\n",
    "%run \"$AIZYME_TOOLS\"\n",
    "plot_scores()"
   ]
  },
  {
   "cell_type": "code",
   "execution_count": 43,
   "id": "d9474551",
   "metadata": {},
   "outputs": [
    {
     "name": "stdout",
     "output_type": "stream",
     "text": [
      "AIzyme Functions loaded!\n",
      "Matching is done\n"
     ]
    }
   ],
   "source": [
    "%run \"$AIZYME_TOOLS\"\n",
    "run_RosettaMatch(EXPLORE=False) "
   ]
  },
  {
   "cell_type": "code",
   "execution_count": null,
   "id": "76857e3e",
   "metadata": {
    "scrolled": false
   },
   "outputs": [
    {
     "name": "stdout",
     "output_type": "stream",
     "text": [
      "AIzyme Functions loaded!\n",
      "DESIGN_FOLDER    : LM_MATCH_GRID_Functions_009\n",
      "FOLDER_MATCH     : MATCH\n",
      "MAX_JOBS         : 100\n",
      "N_PARENT_JOBS    : 10\n",
      "MAX_DESIGNS      : 40000\n",
      "KBT_BOLTZMANN    : 0.02\n",
      "CST_WEIGHT       : 1.0\n",
      "ProteinMPNN_PROB : 0.0\n",
      "WT               : 1ohp\n",
      "LIGAND           : 5TS\n",
      "ROSETTA_PATH     : /home/bunzelh/rosetta_src_2021.16.61629_bundle/main/source/\n",
      "REPACK           : 36,45,51,67\n",
      "DESIGN           : 7,10,11,14,15,18,26,29,30,38,54,55,58,59,63,65,71,73,78,80,82,84,86,93,95,97,99,101,103,109,112,114,116,121\n",
      "MATCH            : 14,18,26,30,55,65,80,82,99,101,112\n",
      "FOLDER_PARENT    : MATCH/matches\n",
      "ProteinMPNN_T    : 0.1\n",
      "SUBMIT_PREFIX    : MATCH\n",
      "BLUEPEBBLE       : False\n",
      "GRID             : True\n",
      "BACKGROUND_JOB   : False\n",
      "EXPLORE          : False\n"
     ]
    }
   ],
   "source": [
    "%run \"$AIZYME_TOOLS\"\n",
    "controller(RESET=False, EXPLORE=False, UNBLOCK_ALL=False, PRINT_VAR=True, PLOT_DATA=True) "
   ]
  },
  {
   "cell_type": "code",
   "execution_count": 1,
   "id": "4105e3b8",
   "metadata": {
    "scrolled": true
   },
   "outputs": [],
   "source": [
    "!qstat | grep MATCH\n",
    "#!qstat | grep MATCH | awk '{print $1}' | xargs -I {} qdel {}"
   ]
  },
  {
   "cell_type": "code",
   "execution_count": null,
   "id": "c9951e7c",
   "metadata": {
    "scrolled": false
   },
   "outputs": [],
   "source": [
    "%run \"$AIZYME_TOOLS\"\n",
    "all_scores_df = pd.read_csv(f\"{DESIGN_FOLDER}/all_scores.csv\")\n",
    "display(all_scores_df)"
   ]
  },
  {
   "cell_type": "code",
   "execution_count": 41,
   "id": "d64b16fd",
   "metadata": {},
   "outputs": [
    {
     "name": "stdout",
     "output_type": "stream",
     "text": [
      "AIzyme Functions loaded!\n"
     ]
    },
    {
     "ename": "PermissionError",
     "evalue": "[Errno 13] Permission denied: '/home/bunzelh/231126_Aizymes_RL/Design_MATCH_AI/all_scores.csv'",
     "output_type": "error",
     "traceback": [
      "\u001b[0;31m---------------------------------------------------------------------------\u001b[0m",
      "\u001b[0;31mPermissionError\u001b[0m                           Traceback (most recent call last)",
      "\u001b[0;32m/tmp/ipykernel_8535/2690132606.py\u001b[0m in \u001b[0;36m<module>\u001b[0;34m\u001b[0m\n\u001b[1;32m      1\u001b[0m \u001b[0mget_ipython\u001b[0m\u001b[0;34m(\u001b[0m\u001b[0;34m)\u001b[0m\u001b[0;34m.\u001b[0m\u001b[0mrun_line_magic\u001b[0m\u001b[0;34m(\u001b[0m\u001b[0;34m'run'\u001b[0m\u001b[0;34m,\u001b[0m \u001b[0;34m'\"$AIZYME_TOOLS\"'\u001b[0m\u001b[0;34m)\u001b[0m\u001b[0;34m\u001b[0m\u001b[0;34m\u001b[0m\u001b[0m\n\u001b[0;32m----> 2\u001b[0;31m \u001b[0mget_best_structures\u001b[0m\u001b[0;34m(\u001b[0m\u001b[0;34m)\u001b[0m\u001b[0;34m\u001b[0m\u001b[0;34m\u001b[0m\u001b[0m\n\u001b[0m",
      "\u001b[0;32m/tmp/ipykernel_8535/2580291326.py\u001b[0m in \u001b[0;36mget_best_structures\u001b[0;34m()\u001b[0m\n\u001b[1;32m    192\u001b[0m \u001b[0;34m\u001b[0m\u001b[0m\n\u001b[1;32m    193\u001b[0m     \u001b[0;31m# Read the scores DataFrame\u001b[0m\u001b[0;34m\u001b[0m\u001b[0;34m\u001b[0m\u001b[0;34m\u001b[0m\u001b[0m\n\u001b[0;32m--> 194\u001b[0;31m     \u001b[0mall_scores_df\u001b[0m \u001b[0;34m=\u001b[0m \u001b[0mpd\u001b[0m\u001b[0;34m.\u001b[0m\u001b[0mread_csv\u001b[0m\u001b[0;34m(\u001b[0m\u001b[0;34m'/home/bunzelh/231126_Aizymes_RL/Design_MATCH_AI/all_scores.csv'\u001b[0m\u001b[0;34m)\u001b[0m\u001b[0;34m\u001b[0m\u001b[0;34m\u001b[0m\u001b[0m\n\u001b[0m\u001b[1;32m    195\u001b[0m \u001b[0;34m\u001b[0m\u001b[0m\n\u001b[1;32m    196\u001b[0m     \u001b[0;31m# Drop rows with NaN in 'total_score'\u001b[0m\u001b[0;34m\u001b[0m\u001b[0;34m\u001b[0m\u001b[0;34m\u001b[0m\u001b[0m\n",
      "\u001b[0;32m~/miniconda3/envs/py37/lib/python3.7/site-packages/pandas/util/_decorators.py\u001b[0m in \u001b[0;36mwrapper\u001b[0;34m(*args, **kwargs)\u001b[0m\n\u001b[1;32m    309\u001b[0m                     \u001b[0mstacklevel\u001b[0m\u001b[0;34m=\u001b[0m\u001b[0mstacklevel\u001b[0m\u001b[0;34m,\u001b[0m\u001b[0;34m\u001b[0m\u001b[0;34m\u001b[0m\u001b[0m\n\u001b[1;32m    310\u001b[0m                 )\n\u001b[0;32m--> 311\u001b[0;31m             \u001b[0;32mreturn\u001b[0m \u001b[0mfunc\u001b[0m\u001b[0;34m(\u001b[0m\u001b[0;34m*\u001b[0m\u001b[0margs\u001b[0m\u001b[0;34m,\u001b[0m \u001b[0;34m**\u001b[0m\u001b[0mkwargs\u001b[0m\u001b[0;34m)\u001b[0m\u001b[0;34m\u001b[0m\u001b[0;34m\u001b[0m\u001b[0m\n\u001b[0m\u001b[1;32m    312\u001b[0m \u001b[0;34m\u001b[0m\u001b[0m\n\u001b[1;32m    313\u001b[0m         \u001b[0;32mreturn\u001b[0m \u001b[0mwrapper\u001b[0m\u001b[0;34m\u001b[0m\u001b[0;34m\u001b[0m\u001b[0m\n",
      "\u001b[0;32m~/miniconda3/envs/py37/lib/python3.7/site-packages/pandas/io/parsers/readers.py\u001b[0m in \u001b[0;36mread_csv\u001b[0;34m(filepath_or_buffer, sep, delimiter, header, names, index_col, usecols, squeeze, prefix, mangle_dupe_cols, dtype, engine, converters, true_values, false_values, skipinitialspace, skiprows, skipfooter, nrows, na_values, keep_default_na, na_filter, verbose, skip_blank_lines, parse_dates, infer_datetime_format, keep_date_col, date_parser, dayfirst, cache_dates, iterator, chunksize, compression, thousands, decimal, lineterminator, quotechar, quoting, doublequote, escapechar, comment, encoding, encoding_errors, dialect, error_bad_lines, warn_bad_lines, on_bad_lines, delim_whitespace, low_memory, memory_map, float_precision, storage_options)\u001b[0m\n\u001b[1;32m    584\u001b[0m     \u001b[0mkwds\u001b[0m\u001b[0;34m.\u001b[0m\u001b[0mupdate\u001b[0m\u001b[0;34m(\u001b[0m\u001b[0mkwds_defaults\u001b[0m\u001b[0;34m)\u001b[0m\u001b[0;34m\u001b[0m\u001b[0;34m\u001b[0m\u001b[0m\n\u001b[1;32m    585\u001b[0m \u001b[0;34m\u001b[0m\u001b[0m\n\u001b[0;32m--> 586\u001b[0;31m     \u001b[0;32mreturn\u001b[0m \u001b[0m_read\u001b[0m\u001b[0;34m(\u001b[0m\u001b[0mfilepath_or_buffer\u001b[0m\u001b[0;34m,\u001b[0m \u001b[0mkwds\u001b[0m\u001b[0;34m)\u001b[0m\u001b[0;34m\u001b[0m\u001b[0;34m\u001b[0m\u001b[0m\n\u001b[0m\u001b[1;32m    587\u001b[0m \u001b[0;34m\u001b[0m\u001b[0m\n\u001b[1;32m    588\u001b[0m \u001b[0;34m\u001b[0m\u001b[0m\n",
      "\u001b[0;32m~/miniconda3/envs/py37/lib/python3.7/site-packages/pandas/io/parsers/readers.py\u001b[0m in \u001b[0;36m_read\u001b[0;34m(filepath_or_buffer, kwds)\u001b[0m\n\u001b[1;32m    480\u001b[0m \u001b[0;34m\u001b[0m\u001b[0m\n\u001b[1;32m    481\u001b[0m     \u001b[0;31m# Create the parser.\u001b[0m\u001b[0;34m\u001b[0m\u001b[0;34m\u001b[0m\u001b[0;34m\u001b[0m\u001b[0m\n\u001b[0;32m--> 482\u001b[0;31m     \u001b[0mparser\u001b[0m \u001b[0;34m=\u001b[0m \u001b[0mTextFileReader\u001b[0m\u001b[0;34m(\u001b[0m\u001b[0mfilepath_or_buffer\u001b[0m\u001b[0;34m,\u001b[0m \u001b[0;34m**\u001b[0m\u001b[0mkwds\u001b[0m\u001b[0;34m)\u001b[0m\u001b[0;34m\u001b[0m\u001b[0;34m\u001b[0m\u001b[0m\n\u001b[0m\u001b[1;32m    483\u001b[0m \u001b[0;34m\u001b[0m\u001b[0m\n\u001b[1;32m    484\u001b[0m     \u001b[0;32mif\u001b[0m \u001b[0mchunksize\u001b[0m \u001b[0;32mor\u001b[0m \u001b[0miterator\u001b[0m\u001b[0;34m:\u001b[0m\u001b[0;34m\u001b[0m\u001b[0;34m\u001b[0m\u001b[0m\n",
      "\u001b[0;32m~/miniconda3/envs/py37/lib/python3.7/site-packages/pandas/io/parsers/readers.py\u001b[0m in \u001b[0;36m__init__\u001b[0;34m(self, f, engine, **kwds)\u001b[0m\n\u001b[1;32m    809\u001b[0m             \u001b[0mself\u001b[0m\u001b[0;34m.\u001b[0m\u001b[0moptions\u001b[0m\u001b[0;34m[\u001b[0m\u001b[0;34m\"has_index_names\"\u001b[0m\u001b[0;34m]\u001b[0m \u001b[0;34m=\u001b[0m \u001b[0mkwds\u001b[0m\u001b[0;34m[\u001b[0m\u001b[0;34m\"has_index_names\"\u001b[0m\u001b[0;34m]\u001b[0m\u001b[0;34m\u001b[0m\u001b[0;34m\u001b[0m\u001b[0m\n\u001b[1;32m    810\u001b[0m \u001b[0;34m\u001b[0m\u001b[0m\n\u001b[0;32m--> 811\u001b[0;31m         \u001b[0mself\u001b[0m\u001b[0;34m.\u001b[0m\u001b[0m_engine\u001b[0m \u001b[0;34m=\u001b[0m \u001b[0mself\u001b[0m\u001b[0;34m.\u001b[0m\u001b[0m_make_engine\u001b[0m\u001b[0;34m(\u001b[0m\u001b[0mself\u001b[0m\u001b[0;34m.\u001b[0m\u001b[0mengine\u001b[0m\u001b[0;34m)\u001b[0m\u001b[0;34m\u001b[0m\u001b[0;34m\u001b[0m\u001b[0m\n\u001b[0m\u001b[1;32m    812\u001b[0m \u001b[0;34m\u001b[0m\u001b[0m\n\u001b[1;32m    813\u001b[0m     \u001b[0;32mdef\u001b[0m \u001b[0mclose\u001b[0m\u001b[0;34m(\u001b[0m\u001b[0mself\u001b[0m\u001b[0;34m)\u001b[0m\u001b[0;34m:\u001b[0m\u001b[0;34m\u001b[0m\u001b[0;34m\u001b[0m\u001b[0m\n",
      "\u001b[0;32m~/miniconda3/envs/py37/lib/python3.7/site-packages/pandas/io/parsers/readers.py\u001b[0m in \u001b[0;36m_make_engine\u001b[0;34m(self, engine)\u001b[0m\n\u001b[1;32m   1038\u001b[0m             )\n\u001b[1;32m   1039\u001b[0m         \u001b[0;31m# error: Too many arguments for \"ParserBase\"\u001b[0m\u001b[0;34m\u001b[0m\u001b[0;34m\u001b[0m\u001b[0;34m\u001b[0m\u001b[0m\n\u001b[0;32m-> 1040\u001b[0;31m         \u001b[0;32mreturn\u001b[0m \u001b[0mmapping\u001b[0m\u001b[0;34m[\u001b[0m\u001b[0mengine\u001b[0m\u001b[0;34m]\u001b[0m\u001b[0;34m(\u001b[0m\u001b[0mself\u001b[0m\u001b[0;34m.\u001b[0m\u001b[0mf\u001b[0m\u001b[0;34m,\u001b[0m \u001b[0;34m**\u001b[0m\u001b[0mself\u001b[0m\u001b[0;34m.\u001b[0m\u001b[0moptions\u001b[0m\u001b[0;34m)\u001b[0m  \u001b[0;31m# type: ignore[call-arg]\u001b[0m\u001b[0;34m\u001b[0m\u001b[0;34m\u001b[0m\u001b[0m\n\u001b[0m\u001b[1;32m   1041\u001b[0m \u001b[0;34m\u001b[0m\u001b[0m\n\u001b[1;32m   1042\u001b[0m     \u001b[0;32mdef\u001b[0m \u001b[0m_failover_to_python\u001b[0m\u001b[0;34m(\u001b[0m\u001b[0mself\u001b[0m\u001b[0;34m)\u001b[0m\u001b[0;34m:\u001b[0m\u001b[0;34m\u001b[0m\u001b[0;34m\u001b[0m\u001b[0m\n",
      "\u001b[0;32m~/miniconda3/envs/py37/lib/python3.7/site-packages/pandas/io/parsers/c_parser_wrapper.py\u001b[0m in \u001b[0;36m__init__\u001b[0;34m(self, src, **kwds)\u001b[0m\n\u001b[1;32m     49\u001b[0m \u001b[0;34m\u001b[0m\u001b[0m\n\u001b[1;32m     50\u001b[0m         \u001b[0;31m# open handles\u001b[0m\u001b[0;34m\u001b[0m\u001b[0;34m\u001b[0m\u001b[0;34m\u001b[0m\u001b[0m\n\u001b[0;32m---> 51\u001b[0;31m         \u001b[0mself\u001b[0m\u001b[0;34m.\u001b[0m\u001b[0m_open_handles\u001b[0m\u001b[0;34m(\u001b[0m\u001b[0msrc\u001b[0m\u001b[0;34m,\u001b[0m \u001b[0mkwds\u001b[0m\u001b[0;34m)\u001b[0m\u001b[0;34m\u001b[0m\u001b[0;34m\u001b[0m\u001b[0m\n\u001b[0m\u001b[1;32m     52\u001b[0m         \u001b[0;32massert\u001b[0m \u001b[0mself\u001b[0m\u001b[0;34m.\u001b[0m\u001b[0mhandles\u001b[0m \u001b[0;32mis\u001b[0m \u001b[0;32mnot\u001b[0m \u001b[0;32mNone\u001b[0m\u001b[0;34m\u001b[0m\u001b[0;34m\u001b[0m\u001b[0m\n\u001b[1;32m     53\u001b[0m \u001b[0;34m\u001b[0m\u001b[0m\n",
      "\u001b[0;32m~/miniconda3/envs/py37/lib/python3.7/site-packages/pandas/io/parsers/base_parser.py\u001b[0m in \u001b[0;36m_open_handles\u001b[0;34m(self, src, kwds)\u001b[0m\n\u001b[1;32m    227\u001b[0m             \u001b[0mmemory_map\u001b[0m\u001b[0;34m=\u001b[0m\u001b[0mkwds\u001b[0m\u001b[0;34m.\u001b[0m\u001b[0mget\u001b[0m\u001b[0;34m(\u001b[0m\u001b[0;34m\"memory_map\"\u001b[0m\u001b[0;34m,\u001b[0m \u001b[0;32mFalse\u001b[0m\u001b[0;34m)\u001b[0m\u001b[0;34m,\u001b[0m\u001b[0;34m\u001b[0m\u001b[0;34m\u001b[0m\u001b[0m\n\u001b[1;32m    228\u001b[0m             \u001b[0mstorage_options\u001b[0m\u001b[0;34m=\u001b[0m\u001b[0mkwds\u001b[0m\u001b[0;34m.\u001b[0m\u001b[0mget\u001b[0m\u001b[0;34m(\u001b[0m\u001b[0;34m\"storage_options\"\u001b[0m\u001b[0;34m,\u001b[0m \u001b[0;32mNone\u001b[0m\u001b[0;34m)\u001b[0m\u001b[0;34m,\u001b[0m\u001b[0;34m\u001b[0m\u001b[0;34m\u001b[0m\u001b[0m\n\u001b[0;32m--> 229\u001b[0;31m             \u001b[0merrors\u001b[0m\u001b[0;34m=\u001b[0m\u001b[0mkwds\u001b[0m\u001b[0;34m.\u001b[0m\u001b[0mget\u001b[0m\u001b[0;34m(\u001b[0m\u001b[0;34m\"encoding_errors\"\u001b[0m\u001b[0;34m,\u001b[0m \u001b[0;34m\"strict\"\u001b[0m\u001b[0;34m)\u001b[0m\u001b[0;34m,\u001b[0m\u001b[0;34m\u001b[0m\u001b[0;34m\u001b[0m\u001b[0m\n\u001b[0m\u001b[1;32m    230\u001b[0m         )\n\u001b[1;32m    231\u001b[0m \u001b[0;34m\u001b[0m\u001b[0m\n",
      "\u001b[0;32m~/miniconda3/envs/py37/lib/python3.7/site-packages/pandas/io/common.py\u001b[0m in \u001b[0;36mget_handle\u001b[0;34m(path_or_buf, mode, encoding, compression, memory_map, is_text, errors, storage_options)\u001b[0m\n\u001b[1;32m    705\u001b[0m                 \u001b[0mencoding\u001b[0m\u001b[0;34m=\u001b[0m\u001b[0mioargs\u001b[0m\u001b[0;34m.\u001b[0m\u001b[0mencoding\u001b[0m\u001b[0;34m,\u001b[0m\u001b[0;34m\u001b[0m\u001b[0;34m\u001b[0m\u001b[0m\n\u001b[1;32m    706\u001b[0m                 \u001b[0merrors\u001b[0m\u001b[0;34m=\u001b[0m\u001b[0merrors\u001b[0m\u001b[0;34m,\u001b[0m\u001b[0;34m\u001b[0m\u001b[0;34m\u001b[0m\u001b[0m\n\u001b[0;32m--> 707\u001b[0;31m                 \u001b[0mnewline\u001b[0m\u001b[0;34m=\u001b[0m\u001b[0;34m\"\"\u001b[0m\u001b[0;34m,\u001b[0m\u001b[0;34m\u001b[0m\u001b[0;34m\u001b[0m\u001b[0m\n\u001b[0m\u001b[1;32m    708\u001b[0m             )\n\u001b[1;32m    709\u001b[0m         \u001b[0;32melse\u001b[0m\u001b[0;34m:\u001b[0m\u001b[0;34m\u001b[0m\u001b[0;34m\u001b[0m\u001b[0m\n",
      "\u001b[0;31mPermissionError\u001b[0m: [Errno 13] Permission denied: '/home/bunzelh/231126_Aizymes_RL/Design_MATCH_AI/all_scores.csv'"
     ]
    }
   ],
   "source": [
    "%run \"$AIZYME_TOOLS\"\n",
    "get_best_structures()"
   ]
  },
  {
   "cell_type": "code",
   "execution_count": 35,
   "id": "81b8ede3",
   "metadata": {
    "scrolled": false
   },
   "outputs": [],
   "source": [
    "!qstat"
   ]
  },
  {
   "cell_type": "code",
   "execution_count": 38,
   "id": "1c8487e3",
   "metadata": {},
   "outputs": [
    {
     "data": {
      "text/html": [
       "<div>\n",
       "<style scoped>\n",
       "    .dataframe tbody tr th:only-of-type {\n",
       "        vertical-align: middle;\n",
       "    }\n",
       "\n",
       "    .dataframe tbody tr th {\n",
       "        vertical-align: top;\n",
       "    }\n",
       "\n",
       "    .dataframe thead th {\n",
       "        text-align: right;\n",
       "    }\n",
       "</style>\n",
       "<table border=\"1\" class=\"dataframe\">\n",
       "  <thead>\n",
       "    <tr style=\"text-align: right;\">\n",
       "      <th></th>\n",
       "      <th>index</th>\n",
       "      <th>sequence</th>\n",
       "      <th>parent_index</th>\n",
       "      <th>interface_score</th>\n",
       "      <th>total_score</th>\n",
       "      <th>catalytic_score</th>\n",
       "      <th>interface_potential</th>\n",
       "      <th>total_potential</th>\n",
       "      <th>catalytic_potential</th>\n",
       "      <th>relax_interface_score</th>\n",
       "      <th>...</th>\n",
       "      <th>design_interface_score</th>\n",
       "      <th>design_total_score</th>\n",
       "      <th>design_catalytic_score</th>\n",
       "      <th>generation</th>\n",
       "      <th>mutations</th>\n",
       "      <th>design_method</th>\n",
       "      <th>score_taken_from</th>\n",
       "      <th>blocked</th>\n",
       "      <th>cat_resi</th>\n",
       "      <th>cat_resn</th>\n",
       "    </tr>\n",
       "  </thead>\n",
       "  <tbody>\n",
       "  </tbody>\n",
       "</table>\n",
       "<p>0 rows × 22 columns</p>\n",
       "</div>"
      ],
      "text/plain": [
       "Empty DataFrame\n",
       "Columns: [index, sequence, parent_index, interface_score, total_score, catalytic_score, interface_potential, total_potential, catalytic_potential, relax_interface_score, relax_total_score, relax_catalytic_score, design_interface_score, design_total_score, design_catalytic_score, generation, mutations, design_method, score_taken_from, blocked, cat_resi, cat_resn]\n",
       "Index: []\n",
       "\n",
       "[0 rows x 22 columns]"
      ]
     },
     "execution_count": 38,
     "metadata": {},
     "output_type": "execute_result"
    }
   ],
   "source": [
    "make_empty_all_scores_df()"
   ]
  },
  {
   "cell_type": "code",
   "execution_count": 34,
   "id": "fb0346cb",
   "metadata": {},
   "outputs": [
    {
     "name": "stdout",
     "output_type": "stream",
     "text": [
      "lmerlicek has registered the job 859581 for deletion\r\n",
      "lmerlicek has registered the job 859582 for deletion\r\n",
      "lmerlicek has registered the job 859583 for deletion\r\n",
      "lmerlicek has registered the job 859584 for deletion\r\n",
      "lmerlicek has registered the job 859586 for deletion\r\n",
      "lmerlicek has registered the job 859587 for deletion\r\n",
      "lmerlicek has registered the job 859588 for deletion\r\n",
      "job 859589 is already in deletion\r\n",
      "lmerlicek has registered the job 859590 for deletion\r\n",
      "job 859594 is already in deletion\r\n",
      "job 859595 is already in deletion\r\n",
      "lmerlicek has registered the job 859600 for deletion\r\n",
      "denied: job \"859604\" does not exist\r\n",
      "denied: job \"859610\" does not exist\r\n",
      "lmerlicek has registered the job 859611 for deletion\r\n",
      "lmerlicek has registered the job 859613 for deletion\r\n",
      "denied: job \"859614\" does not exist\r\n",
      "lmerlicek has registered the job 859615 for deletion\r\n",
      "lmerlicek has registered the job 859619 for deletion\r\n",
      "lmerlicek has registered the job 859620 for deletion\r\n",
      "denied: job \"859629\" does not exist\r\n",
      "lmerlicek has registered the job 859632 for deletion\r\n",
      "lmerlicek has registered the job 859633 for deletion\r\n",
      "lmerlicek has registered the job 859634 for deletion\r\n",
      "lmerlicek has registered the job 859635 for deletion\r\n",
      "lmerlicek has registered the job 859636 for deletion\r\n",
      "lmerlicek has registered the job 859637 for deletion\r\n",
      "lmerlicek has registered the job 859638 for deletion\r\n",
      "lmerlicek has registered the job 859639 for deletion\r\n",
      "lmerlicek has registered the job 859640 for deletion\r\n",
      "lmerlicek has registered the job 859641 for deletion\r\n",
      "lmerlicek has registered the job 859642 for deletion\r\n",
      "lmerlicek has registered the job 859643 for deletion\r\n",
      "lmerlicek has registered the job 859644 for deletion\r\n",
      "lmerlicek has registered the job 859645 for deletion\r\n",
      "lmerlicek has registered the job 859646 for deletion\r\n",
      "lmerlicek has registered the job 859647 for deletion\r\n",
      "lmerlicek has registered the job 859648 for deletion\r\n",
      "lmerlicek has registered the job 859649 for deletion\r\n",
      "lmerlicek has registered the job 859650 for deletion\r\n",
      "lmerlicek has registered the job 859651 for deletion\r\n",
      "lmerlicek has registered the job 859652 for deletion\r\n",
      "lmerlicek has registered the job 859653 for deletion\r\n",
      "lmerlicek has registered the job 859654 for deletion\r\n",
      "lmerlicek has registered the job 859655 for deletion\r\n",
      "lmerlicek has registered the job 859656 for deletion\r\n",
      "lmerlicek has registered the job 859657 for deletion\r\n",
      "lmerlicek has registered the job 859658 for deletion\r\n",
      "lmerlicek has registered the job 859659 for deletion\r\n",
      "lmerlicek has registered the job 859660 for deletion\r\n",
      "lmerlicek has registered the job 859661 for deletion\r\n",
      "lmerlicek has registered the job 859662 for deletion\r\n",
      "lmerlicek has registered the job 859663 for deletion\r\n",
      "lmerlicek has registered the job 859664 for deletion\r\n",
      "lmerlicek has registered the job 859665 for deletion\r\n",
      "lmerlicek has registered the job 859666 for deletion\r\n",
      "lmerlicek has registered the job 859667 for deletion\r\n",
      "lmerlicek has registered the job 859668 for deletion\r\n",
      "lmerlicek has registered the job 859669 for deletion\r\n",
      "lmerlicek has registered the job 859670 for deletion\r\n",
      "lmerlicek has registered the job 859671 for deletion\r\n",
      "lmerlicek has registered the job 859672 for deletion\r\n",
      "lmerlicek has registered the job 859673 for deletion\r\n",
      "lmerlicek has registered the job 859674 for deletion\r\n",
      "lmerlicek has registered the job 859675 for deletion\r\n",
      "lmerlicek has registered the job 859676 for deletion\r\n"
     ]
    }
   ],
   "source": [
    "!qdel 859581 859582 859583 859584 859586 859587 859588 859589 859590 859594 859595 859600 859604 859610 859611 859613 859614 859615 859619 859620 859629 859632 859633 859634 859635 859636 859637 859638 859639 859640 859641 859642 859643 859644 859645 859646 859647 859648 859649 859650 859651 859652 859653 859654 859655 859656 859657 859658 859659 859660 859661 859662 859663 859664 859665 859666 859667 859668 859669 859670 859671 859672 859673 859674 859675 859676\n"
   ]
  },
  {
   "cell_type": "code",
   "execution_count": null,
   "id": "10972859",
   "metadata": {},
   "outputs": [],
   "source": []
  }
 ],
 "metadata": {
  "kernelspec": {
   "display_name": "Python 3 (ipykernel)",
   "language": "python",
   "name": "python3"
  },
  "language_info": {
   "codemirror_mode": {
    "name": "ipython",
    "version": 3
   },
   "file_extension": ".py",
   "mimetype": "text/x-python",
   "name": "python",
   "nbconvert_exporter": "python",
   "pygments_lexer": "ipython3",
   "version": "3.7.12"
  }
 },
 "nbformat": 4,
 "nbformat_minor": 5
}
