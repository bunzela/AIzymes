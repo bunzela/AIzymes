{
 "cells": [
  {
   "cell_type": "code",
   "execution_count": 37,
   "id": "948eed2f",
   "metadata": {
    "scrolled": false
   },
   "outputs": [
    {
     "name": "stdout",
     "output_type": "stream",
     "text": [
      "AIzyme Functions loaded!\n"
     ]
    }
   ],
   "source": [
    "#### DESIGN RUN NAME #####################################################################################################\n",
    "DESIGN_FOLDER     = 'AB_TEST_Grid_AIzyme_Functions_009'\n",
    "FOLDER_MATCH      = 'MATCH' #Not needed for now -> This is just for match\n",
    "FOLDER_PARENT     = '../../design/Parent_1ohp' # -> Adjust, contains ONLY parent pdbs\n",
    "##########################################################################################################################\n",
    "#### Input parameters ####################################################################################################\n",
    "MAX_JOBS          = 5\n",
    "N_PARENT_JOBS     = 10\n",
    "MAX_DESIGNS       = 100\n",
    "KBT_BOLTZMANN     = 0.02\n",
    "CST_WEIGHT        = 1.0\n",
    "HIGHSCORE         = 0.93\n",
    "NEG_BEST          = 0.79\n",
    "ProteinMPNN_PROB  = 0.0\n",
    "WT                = \"1ohp\"\n",
    "LIGAND            = \"5TS\"\n",
    "REPACK            = \"36,45,51,67\"\n",
    "MATCH             = \"14,18,26,30,55,65,80,82,99,101,112\"\n",
    "DESIGN            = \"7,10,11,14,15,18,26,29,30,38,54,55,58,59,63,65,71,73,78\"\n",
    "DESIGN           += \",80,82,84,86,93,95,97,99,101,103,109,112,114,116,121\"\n",
    "ProteinMPNN_T     = \"0.1\"\n",
    "SUBMIT_PREFIX     = \"AB1\" # Adjust, use a short prefix to allow \n",
    "BLUEPEBBLE        = False\n",
    "GRID              = True\n",
    "BACKGROUND_JOB    = False\n",
    "\n",
    "if GRID:            ROSETTA_PATH = \"/home/bunzelh/rosetta_src_2021.16.61629_bundle/main/source/\"      #GRID\n",
    "if BLUEPEBBLE:      \n",
    "                    ROSETTA_PATH = \"/sw/apps/rosetta/rosetta_src_2021.16.61629_bundle/main/source/\"   #BLUEPEBBLE \n",
    "                    BLUEPEBBLE_ACCOUNT = \"ptch000361\"\n",
    "                    #BLUEPEBBLE_ACCOUNT = \"ptch000721\"\n",
    "if BACKGROUND_JOB:  ROSETTA_PATH = \"/sw/apps/rosetta/rosetta_src_2021.16.61629_bundle/main/source/\"   #BLUEPEBBLE \n",
    "    \n",
    "NORM              = {'interface_score': [10, 30], 'total_score': [340, 410], 'catalytic_score': [-40, 0]}\n",
    "##########################################################################################################################\n",
    "AIZYME_TOOLS      = \"../src/AIzymes_009.ipynb\"\n",
    "%run \"$AIZYME_TOOLS\"\n",
    "plot_scores()"
   ]
  },
  {
   "cell_type": "code",
   "execution_count": null,
   "id": "b486023f",
   "metadata": {
    "scrolled": false
   },
   "outputs": [
    {
     "name": "stdout",
     "output_type": "stream",
     "text": [
      "AIzyme Functions loaded!\n",
      "DESIGN_FOLDER    : AB_TEST_Grid_AIzyme_Functions_009\n",
      "FOLDER_MATCH     : MATCH\n",
      "MAX_JOBS         : 5\n",
      "N_PARENT_JOBS    : 10\n",
      "MAX_DESIGNS      : 100\n",
      "KBT_BOLTZMANN    : 0.02\n",
      "CST_WEIGHT       : 1.0\n",
      "ProteinMPNN_PROB : 0.0\n",
      "WT               : 1ohp\n",
      "LIGAND           : 5TS\n",
      "ROSETTA_PATH     : /home/bunzelh/rosetta_src_2021.16.61629_bundle/main/source/\n",
      "REPACK           : 36,45,51,67\n",
      "DESIGN           : 7,10,11,14,15,18,26,29,30,38,54,55,58,59,63,65,71,73,78,80,82,84,86,93,95,97,99,101,103,109,112,114,116,121\n",
      "MATCH            : 14,18,26,30,55,65,80,82,99,101,112\n",
      "FOLDER_PARENT    : ../../design/Parent_1ohp\n",
      "ProteinMPNN_T    : 0.1\n",
      "SUBMIT_PREFIX    : AB1\n",
      "BLUEPEBBLE       : False\n",
      "GRID             : True\n",
      "BACKGROUND_JOB   : False\n",
      "EXPLORE          : True\n"
     ]
    },
    {
     "name": "stderr",
     "output_type": "stream",
     "text": [
      "2024-03-17 18:52:50 - INFO - Updated total_score, interface_delta_X, and catalytic_score of index 1.\n",
      "2024-03-17 18:52:50 - INFO - Updated total_score, interface_delta_X, and catalytic_score of index 2.\n",
      "2024-03-17 18:52:51 - INFO - Updated total_score, interface_delta_X, and catalytic_score of index 3.\n",
      "2024-03-17 18:52:51 - INFO - Run RosettaDesign for index 5 based on index 1ohp.\n"
     ]
    },
    {
     "name": "stdout",
     "output_type": "stream",
     "text": [
      "XXXXXXX /home/bunzelh/AIzymes/design/AB_TEST_Grid_AIzyme_Functions_009/1/1ohp_Rosetta_Design_1.pdb\n",
      "XXXXXXX REMARK 666 MATCH TEMPLATE X 5TS    0 MATCH MOTIF A ASP   99  1  1               \n",
      "\n",
      "XXXXXXX /home/bunzelh/AIzymes/design/AB_TEST_Grid_AIzyme_Functions_009/2/1ohp_Rosetta_Design_2.pdb\n",
      "XXXXXXX REMARK 666 MATCH TEMPLATE X 5TS    0 MATCH MOTIF A ASP   99  1  1               \n",
      "\n",
      "XXXXXXX /home/bunzelh/AIzymes/design/AB_TEST_Grid_AIzyme_Functions_009/3/1ohp_Rosetta_Design_3.pdb\n",
      "XXXXXXX REMARK 666 MATCH TEMPLATE X 5TS    0 MATCH MOTIF A ASP   99  1  1               \n",
      "\n",
      "XXXXXXX /home/bunzelh/AIzymes/design/AB_TEST_Grid_AIzyme_Functions_009/../../design/Parent_1ohp/1ohp.pdb\n",
      "XXXXXXX REMARK 666 MATCH TEMPLATE X 5TS    0 MATCH MOTIF A ASP   99  1  1   \n",
      "\n"
     ]
    },
    {
     "name": "stderr",
     "output_type": "stream",
     "text": [
      "2024-03-17 18:52:52 - INFO - Run RosettaDesign for index 6 based on index 1ohp.\n"
     ]
    },
    {
     "name": "stdout",
     "output_type": "stream",
     "text": [
      "XXXXXXX /home/bunzelh/AIzymes/design/AB_TEST_Grid_AIzyme_Functions_009/../../design/Parent_1ohp/1ohp.pdb\n",
      "XXXXXXX REMARK 666 MATCH TEMPLATE X 5TS    0 MATCH MOTIF A ASP   99  1  1   \n",
      "\n"
     ]
    },
    {
     "name": "stderr",
     "output_type": "stream",
     "text": [
      "2024-03-17 18:52:53 - INFO - Run RosettaDesign for index 7 based on index 1ohp.\n"
     ]
    },
    {
     "name": "stdout",
     "output_type": "stream",
     "text": [
      "XXXXXXX /home/bunzelh/AIzymes/design/AB_TEST_Grid_AIzyme_Functions_009/../../design/Parent_1ohp/1ohp.pdb\n",
      "XXXXXXX REMARK 666 MATCH TEMPLATE X 5TS    0 MATCH MOTIF A ASP   99  1  1   \n",
      "\n"
     ]
    },
    {
     "name": "stderr",
     "output_type": "stream",
     "text": [
      "2024-03-17 18:53:56 - INFO - Updated total_score, interface_delta_X, and catalytic_score of index 0.\n",
      "2024-03-17 18:53:56 - INFO - Updated total_score, interface_delta_X, and catalytic_score of index 4.\n"
     ]
    },
    {
     "name": "stdout",
     "output_type": "stream",
     "text": [
      "XXXXXXX /home/bunzelh/AIzymes/design/AB_TEST_Grid_AIzyme_Functions_009/0/1ohp_Rosetta_Design_0.pdb\n",
      "XXXXXXX REMARK 666 MATCH TEMPLATE X 5TS    0 MATCH MOTIF A ASP   99  1  1               \n",
      "\n",
      "XXXXXXX /home/bunzelh/AIzymes/design/AB_TEST_Grid_AIzyme_Functions_009/4/1ohp_Rosetta_Design_4.pdb\n",
      "XXXXXXX REMARK 666 MATCH TEMPLATE X 5TS    0 MATCH MOTIF A ASP   99  1  1               \n",
      "\n"
     ]
    },
    {
     "name": "stderr",
     "output_type": "stream",
     "text": [
      "2024-03-17 18:53:56 - INFO - Run RosettaDesign for index 8 based on index 1ohp.\n"
     ]
    },
    {
     "name": "stdout",
     "output_type": "stream",
     "text": [
      "XXXXXXX /home/bunzelh/AIzymes/design/AB_TEST_Grid_AIzyme_Functions_009/../../design/Parent_1ohp/1ohp.pdb\n",
      "XXXXXXX REMARK 666 MATCH TEMPLATE X 5TS    0 MATCH MOTIF A ASP   99  1  1   \n",
      "\n"
     ]
    },
    {
     "name": "stderr",
     "output_type": "stream",
     "text": [
      "2024-03-17 18:53:57 - INFO - Run RosettaDesign for index 9 based on index 1ohp.\n"
     ]
    },
    {
     "name": "stdout",
     "output_type": "stream",
     "text": [
      "XXXXXXX /home/bunzelh/AIzymes/design/AB_TEST_Grid_AIzyme_Functions_009/../../design/Parent_1ohp/1ohp.pdb\n",
      "XXXXXXX REMARK 666 MATCH TEMPLATE X 5TS    0 MATCH MOTIF A ASP   99  1  1   \n",
      "\n"
     ]
    }
   ],
   "source": [
    "%run \"$AIZYME_TOOLS\"\n",
    "controller(RESET=False, EXPLORE=True, UNBLOCK_ALL=False, PRINT_VAR=True, PLOT_DATA=False) "
   ]
  },
  {
   "cell_type": "code",
   "execution_count": 47,
   "id": "735e30a1",
   "metadata": {},
   "outputs": [
    {
     "name": "stdout",
     "output_type": "stream",
     "text": [
      "job-ID  prior   name       user         state submit/start at     queue                          slots ja-task-ID \r\n",
      "-----------------------------------------------------------------------------------------------------------------\r\n",
      " 859160 0.55500 AB1_Rosett bunzelh      r     03/17/2024 18:43:44 regular.q@bs-grid71.ethz.ch        1        \r\n",
      " 859161 0.55500 AB1_Rosett bunzelh      r     03/17/2024 18:43:44 regular.q@bs-grid68.ethz.ch        1        \r\n",
      " 859162 0.55500 AB1_Rosett bunzelh      r     03/17/2024 18:43:44 regular.q@bs-grid74.ethz.ch        1        \r\n",
      " 859163 0.55500 AB1_Rosett bunzelh      r     03/17/2024 18:43:44 regular.q@bs-grid76.ethz.ch        1        \r\n",
      " 859164 0.55500 AB1_Rosett bunzelh      r     03/17/2024 18:43:44 regular.q@bs-dsvr56.ethz.ch        1        \r\n"
     ]
    }
   ],
   "source": [
    "!qstat\n",
    "#!qdel -u bunzelh"
   ]
  },
  {
   "cell_type": "code",
   "execution_count": 45,
   "id": "76857e3e",
   "metadata": {
    "scrolled": false
   },
   "outputs": [
    {
     "name": "stdout",
     "output_type": "stream",
     "text": [
      "AIzyme Functions loaded!\n"
     ]
    },
    {
     "data": {
      "text/html": [
       "<div>\n",
       "<style scoped>\n",
       "    .dataframe tbody tr th:only-of-type {\n",
       "        vertical-align: middle;\n",
       "    }\n",
       "\n",
       "    .dataframe tbody tr th {\n",
       "        vertical-align: top;\n",
       "    }\n",
       "\n",
       "    .dataframe thead th {\n",
       "        text-align: right;\n",
       "    }\n",
       "</style>\n",
       "<table border=\"1\" class=\"dataframe\">\n",
       "  <thead>\n",
       "    <tr style=\"text-align: right;\">\n",
       "      <th></th>\n",
       "      <th>index</th>\n",
       "      <th>sequence</th>\n",
       "      <th>parent_index</th>\n",
       "      <th>interface_score</th>\n",
       "      <th>total_score</th>\n",
       "      <th>catalytic_score</th>\n",
       "      <th>interface_potential</th>\n",
       "      <th>total_potential</th>\n",
       "      <th>catalytic_potential</th>\n",
       "      <th>generation</th>\n",
       "      <th>mutations</th>\n",
       "      <th>design_method</th>\n",
       "      <th>score_taken_from</th>\n",
       "      <th>blocked</th>\n",
       "      <th>cat_resi</th>\n",
       "      <th>cat_resn</th>\n",
       "      <th>kbt_boltzmann</th>\n",
       "      <th>luca</th>\n",
       "    </tr>\n",
       "  </thead>\n",
       "  <tbody>\n",
       "    <tr>\n",
       "      <th>0</th>\n",
       "      <td>0</td>\n",
       "      <td>NaN</td>\n",
       "      <td>Parent</td>\n",
       "      <td>NaN</td>\n",
       "      <td>NaN</td>\n",
       "      <td>NaN</td>\n",
       "      <td>NaN</td>\n",
       "      <td>NaN</td>\n",
       "      <td>NaN</td>\n",
       "      <td>0</td>\n",
       "      <td>NaN</td>\n",
       "      <td>RosettaDesign</td>\n",
       "      <td>NaN</td>\n",
       "      <td>False</td>\n",
       "      <td>99</td>\n",
       "      <td>NaN</td>\n",
       "      <td>0.02</td>\n",
       "      <td>1ohp</td>\n",
       "    </tr>\n",
       "    <tr>\n",
       "      <th>1</th>\n",
       "      <td>1</td>\n",
       "      <td>NaN</td>\n",
       "      <td>Parent</td>\n",
       "      <td>NaN</td>\n",
       "      <td>NaN</td>\n",
       "      <td>NaN</td>\n",
       "      <td>NaN</td>\n",
       "      <td>NaN</td>\n",
       "      <td>NaN</td>\n",
       "      <td>0</td>\n",
       "      <td>NaN</td>\n",
       "      <td>RosettaDesign</td>\n",
       "      <td>NaN</td>\n",
       "      <td>False</td>\n",
       "      <td>99</td>\n",
       "      <td>NaN</td>\n",
       "      <td>0.02</td>\n",
       "      <td>1ohp</td>\n",
       "    </tr>\n",
       "    <tr>\n",
       "      <th>2</th>\n",
       "      <td>2</td>\n",
       "      <td>NaN</td>\n",
       "      <td>Parent</td>\n",
       "      <td>NaN</td>\n",
       "      <td>NaN</td>\n",
       "      <td>NaN</td>\n",
       "      <td>NaN</td>\n",
       "      <td>NaN</td>\n",
       "      <td>NaN</td>\n",
       "      <td>0</td>\n",
       "      <td>NaN</td>\n",
       "      <td>RosettaDesign</td>\n",
       "      <td>NaN</td>\n",
       "      <td>False</td>\n",
       "      <td>99</td>\n",
       "      <td>NaN</td>\n",
       "      <td>0.02</td>\n",
       "      <td>1ohp</td>\n",
       "    </tr>\n",
       "    <tr>\n",
       "      <th>3</th>\n",
       "      <td>3</td>\n",
       "      <td>NaN</td>\n",
       "      <td>Parent</td>\n",
       "      <td>NaN</td>\n",
       "      <td>NaN</td>\n",
       "      <td>NaN</td>\n",
       "      <td>NaN</td>\n",
       "      <td>NaN</td>\n",
       "      <td>NaN</td>\n",
       "      <td>0</td>\n",
       "      <td>NaN</td>\n",
       "      <td>RosettaDesign</td>\n",
       "      <td>NaN</td>\n",
       "      <td>False</td>\n",
       "      <td>99</td>\n",
       "      <td>NaN</td>\n",
       "      <td>0.02</td>\n",
       "      <td>1ohp</td>\n",
       "    </tr>\n",
       "    <tr>\n",
       "      <th>4</th>\n",
       "      <td>4</td>\n",
       "      <td>NaN</td>\n",
       "      <td>Parent</td>\n",
       "      <td>NaN</td>\n",
       "      <td>NaN</td>\n",
       "      <td>NaN</td>\n",
       "      <td>NaN</td>\n",
       "      <td>NaN</td>\n",
       "      <td>NaN</td>\n",
       "      <td>0</td>\n",
       "      <td>NaN</td>\n",
       "      <td>RosettaDesign</td>\n",
       "      <td>NaN</td>\n",
       "      <td>False</td>\n",
       "      <td>99</td>\n",
       "      <td>NaN</td>\n",
       "      <td>0.02</td>\n",
       "      <td>1ohp</td>\n",
       "    </tr>\n",
       "  </tbody>\n",
       "</table>\n",
       "</div>"
      ],
      "text/plain": [
       "   index  sequence parent_index  interface_score  total_score  \\\n",
       "0      0       NaN       Parent              NaN          NaN   \n",
       "1      1       NaN       Parent              NaN          NaN   \n",
       "2      2       NaN       Parent              NaN          NaN   \n",
       "3      3       NaN       Parent              NaN          NaN   \n",
       "4      4       NaN       Parent              NaN          NaN   \n",
       "\n",
       "   catalytic_score  interface_potential  total_potential  catalytic_potential  \\\n",
       "0              NaN                  NaN              NaN                  NaN   \n",
       "1              NaN                  NaN              NaN                  NaN   \n",
       "2              NaN                  NaN              NaN                  NaN   \n",
       "3              NaN                  NaN              NaN                  NaN   \n",
       "4              NaN                  NaN              NaN                  NaN   \n",
       "\n",
       "   generation  mutations  design_method  score_taken_from  blocked  cat_resi  \\\n",
       "0           0        NaN  RosettaDesign               NaN    False        99   \n",
       "1           0        NaN  RosettaDesign               NaN    False        99   \n",
       "2           0        NaN  RosettaDesign               NaN    False        99   \n",
       "3           0        NaN  RosettaDesign               NaN    False        99   \n",
       "4           0        NaN  RosettaDesign               NaN    False        99   \n",
       "\n",
       "   cat_resn  kbt_boltzmann  luca  \n",
       "0       NaN           0.02  1ohp  \n",
       "1       NaN           0.02  1ohp  \n",
       "2       NaN           0.02  1ohp  \n",
       "3       NaN           0.02  1ohp  \n",
       "4       NaN           0.02  1ohp  "
      ]
     },
     "metadata": {},
     "output_type": "display_data"
    }
   ],
   "source": [
    "%run \"$AIZYME_TOOLS\"\n",
    "all_scores_df = pd.read_csv(f\"{DESIGN_FOLDER}/all_scores.csv\")\n",
    "display(all_scores_df)"
   ]
  },
  {
   "cell_type": "code",
   "execution_count": 40,
   "id": "c9951e7c",
   "metadata": {},
   "outputs": [
    {
     "name": "stdout",
     "output_type": "stream",
     "text": [
      "AIzyme Functions loaded!\n"
     ]
    },
    {
     "ename": "KeyboardInterrupt",
     "evalue": "",
     "output_type": "error",
     "traceback": [
      "\u001b[0;31m---------------------------------------------------------------------------\u001b[0m",
      "\u001b[0;31mKeyboardInterrupt\u001b[0m                         Traceback (most recent call last)",
      "\u001b[0;32m/tmp/ipykernel_22939/2690132606.py\u001b[0m in \u001b[0;36m<module>\u001b[0;34m\u001b[0m\n\u001b[1;32m      1\u001b[0m \u001b[0mget_ipython\u001b[0m\u001b[0;34m(\u001b[0m\u001b[0;34m)\u001b[0m\u001b[0;34m.\u001b[0m\u001b[0mrun_line_magic\u001b[0m\u001b[0;34m(\u001b[0m\u001b[0;34m'run'\u001b[0m\u001b[0;34m,\u001b[0m \u001b[0;34m'\"$AIZYME_TOOLS\"'\u001b[0m\u001b[0;34m)\u001b[0m\u001b[0;34m\u001b[0m\u001b[0;34m\u001b[0m\u001b[0m\n\u001b[0;32m----> 2\u001b[0;31m \u001b[0mget_best_structures\u001b[0m\u001b[0;34m(\u001b[0m\u001b[0;34m)\u001b[0m\u001b[0;34m\u001b[0m\u001b[0;34m\u001b[0m\u001b[0m\n\u001b[0m",
      "\u001b[0;32m/tmp/ipykernel_22939/3085086617.py\u001b[0m in \u001b[0;36mget_best_structures\u001b[0;34m()\u001b[0m\n\u001b[1;32m    213\u001b[0m     \u001b[0;31m# Loop to find duplicates, calculate average score, and standard deviation\u001b[0m\u001b[0;34m\u001b[0m\u001b[0;34m\u001b[0m\u001b[0;34m\u001b[0m\u001b[0m\n\u001b[1;32m    214\u001b[0m     \u001b[0;32mfor\u001b[0m \u001b[0mi\u001b[0m\u001b[0;34m,\u001b[0m \u001b[0mrow\u001b[0m \u001b[0;32min\u001b[0m \u001b[0mall_scores_df\u001b[0m\u001b[0;34m.\u001b[0m\u001b[0miterrows\u001b[0m\u001b[0;34m(\u001b[0m\u001b[0;34m)\u001b[0m\u001b[0;34m:\u001b[0m\u001b[0;34m\u001b[0m\u001b[0;34m\u001b[0m\u001b[0m\n\u001b[0;32m--> 215\u001b[0;31m         \u001b[0mduplicates\u001b[0m \u001b[0;34m=\u001b[0m \u001b[0mall_scores_df\u001b[0m\u001b[0;34m[\u001b[0m\u001b[0mall_scores_df\u001b[0m\u001b[0;34m[\u001b[0m\u001b[0;34m'sequence'\u001b[0m\u001b[0;34m]\u001b[0m \u001b[0;34m==\u001b[0m \u001b[0mrow\u001b[0m\u001b[0;34m[\u001b[0m\u001b[0;34m'sequence'\u001b[0m\u001b[0;34m]\u001b[0m\u001b[0;34m]\u001b[0m\u001b[0;34m\u001b[0m\u001b[0;34m\u001b[0m\u001b[0m\n\u001b[0m\u001b[1;32m    216\u001b[0m         \u001b[0mavg_score\u001b[0m  \u001b[0;34m=\u001b[0m \u001b[0mduplicates\u001b[0m\u001b[0;34m[\u001b[0m\u001b[0;34m'total_score'\u001b[0m\u001b[0;34m]\u001b[0m\u001b[0;34m.\u001b[0m\u001b[0mmean\u001b[0m\u001b[0;34m(\u001b[0m\u001b[0;34m)\u001b[0m\u001b[0;34m\u001b[0m\u001b[0;34m\u001b[0m\u001b[0m\n\u001b[1;32m    217\u001b[0m         \u001b[0mstd_dev\u001b[0m    \u001b[0;34m=\u001b[0m \u001b[0mduplicates\u001b[0m\u001b[0;34m[\u001b[0m\u001b[0;34m'total_score'\u001b[0m\u001b[0;34m]\u001b[0m\u001b[0;34m.\u001b[0m\u001b[0mstd\u001b[0m\u001b[0;34m(\u001b[0m\u001b[0;34m)\u001b[0m\u001b[0;34m\u001b[0m\u001b[0;34m\u001b[0m\u001b[0m\n",
      "\u001b[0;32m~/miniconda3/envs/py37/lib/python3.7/site-packages/pandas/core/ops/common.py\u001b[0m in \u001b[0;36mnew_method\u001b[0;34m(self, other)\u001b[0m\n\u001b[1;32m     67\u001b[0m         \u001b[0mother\u001b[0m \u001b[0;34m=\u001b[0m \u001b[0mitem_from_zerodim\u001b[0m\u001b[0;34m(\u001b[0m\u001b[0mother\u001b[0m\u001b[0;34m)\u001b[0m\u001b[0;34m\u001b[0m\u001b[0;34m\u001b[0m\u001b[0m\n\u001b[1;32m     68\u001b[0m \u001b[0;34m\u001b[0m\u001b[0m\n\u001b[0;32m---> 69\u001b[0;31m         \u001b[0;32mreturn\u001b[0m \u001b[0mmethod\u001b[0m\u001b[0;34m(\u001b[0m\u001b[0mself\u001b[0m\u001b[0;34m,\u001b[0m \u001b[0mother\u001b[0m\u001b[0;34m)\u001b[0m\u001b[0;34m\u001b[0m\u001b[0;34m\u001b[0m\u001b[0m\n\u001b[0m\u001b[1;32m     70\u001b[0m \u001b[0;34m\u001b[0m\u001b[0m\n\u001b[1;32m     71\u001b[0m     \u001b[0;32mreturn\u001b[0m \u001b[0mnew_method\u001b[0m\u001b[0;34m\u001b[0m\u001b[0;34m\u001b[0m\u001b[0m\n",
      "\u001b[0;32m~/miniconda3/envs/py37/lib/python3.7/site-packages/pandas/core/arraylike.py\u001b[0m in \u001b[0;36m__eq__\u001b[0;34m(self, other)\u001b[0m\n\u001b[1;32m     30\u001b[0m     \u001b[0;34m@\u001b[0m\u001b[0munpack_zerodim_and_defer\u001b[0m\u001b[0;34m(\u001b[0m\u001b[0;34m\"__eq__\"\u001b[0m\u001b[0;34m)\u001b[0m\u001b[0;34m\u001b[0m\u001b[0;34m\u001b[0m\u001b[0m\n\u001b[1;32m     31\u001b[0m     \u001b[0;32mdef\u001b[0m \u001b[0m__eq__\u001b[0m\u001b[0;34m(\u001b[0m\u001b[0mself\u001b[0m\u001b[0;34m,\u001b[0m \u001b[0mother\u001b[0m\u001b[0;34m)\u001b[0m\u001b[0;34m:\u001b[0m\u001b[0;34m\u001b[0m\u001b[0;34m\u001b[0m\u001b[0m\n\u001b[0;32m---> 32\u001b[0;31m         \u001b[0;32mreturn\u001b[0m \u001b[0mself\u001b[0m\u001b[0;34m.\u001b[0m\u001b[0m_cmp_method\u001b[0m\u001b[0;34m(\u001b[0m\u001b[0mother\u001b[0m\u001b[0;34m,\u001b[0m \u001b[0moperator\u001b[0m\u001b[0;34m.\u001b[0m\u001b[0meq\u001b[0m\u001b[0;34m)\u001b[0m\u001b[0;34m\u001b[0m\u001b[0;34m\u001b[0m\u001b[0m\n\u001b[0m\u001b[1;32m     33\u001b[0m \u001b[0;34m\u001b[0m\u001b[0m\n\u001b[1;32m     34\u001b[0m     \u001b[0;34m@\u001b[0m\u001b[0munpack_zerodim_and_defer\u001b[0m\u001b[0;34m(\u001b[0m\u001b[0;34m\"__ne__\"\u001b[0m\u001b[0;34m)\u001b[0m\u001b[0;34m\u001b[0m\u001b[0;34m\u001b[0m\u001b[0m\n",
      "\u001b[0;32m~/miniconda3/envs/py37/lib/python3.7/site-packages/pandas/core/series.py\u001b[0m in \u001b[0;36m_cmp_method\u001b[0;34m(self, other, op)\u001b[0m\n\u001b[1;32m   5500\u001b[0m \u001b[0;34m\u001b[0m\u001b[0m\n\u001b[1;32m   5501\u001b[0m         \u001b[0;32mwith\u001b[0m \u001b[0mnp\u001b[0m\u001b[0;34m.\u001b[0m\u001b[0merrstate\u001b[0m\u001b[0;34m(\u001b[0m\u001b[0mall\u001b[0m\u001b[0;34m=\u001b[0m\u001b[0;34m\"ignore\"\u001b[0m\u001b[0;34m)\u001b[0m\u001b[0;34m:\u001b[0m\u001b[0;34m\u001b[0m\u001b[0;34m\u001b[0m\u001b[0m\n\u001b[0;32m-> 5502\u001b[0;31m             \u001b[0mres_values\u001b[0m \u001b[0;34m=\u001b[0m \u001b[0mops\u001b[0m\u001b[0;34m.\u001b[0m\u001b[0mcomparison_op\u001b[0m\u001b[0;34m(\u001b[0m\u001b[0mlvalues\u001b[0m\u001b[0;34m,\u001b[0m \u001b[0mrvalues\u001b[0m\u001b[0;34m,\u001b[0m \u001b[0mop\u001b[0m\u001b[0;34m)\u001b[0m\u001b[0;34m\u001b[0m\u001b[0;34m\u001b[0m\u001b[0m\n\u001b[0m\u001b[1;32m   5503\u001b[0m \u001b[0;34m\u001b[0m\u001b[0m\n\u001b[1;32m   5504\u001b[0m         \u001b[0;32mreturn\u001b[0m \u001b[0mself\u001b[0m\u001b[0;34m.\u001b[0m\u001b[0m_construct_result\u001b[0m\u001b[0;34m(\u001b[0m\u001b[0mres_values\u001b[0m\u001b[0;34m,\u001b[0m \u001b[0mname\u001b[0m\u001b[0;34m=\u001b[0m\u001b[0mres_name\u001b[0m\u001b[0;34m)\u001b[0m\u001b[0;34m\u001b[0m\u001b[0;34m\u001b[0m\u001b[0m\n",
      "\u001b[0;32m~/miniconda3/envs/py37/lib/python3.7/site-packages/pandas/core/ops/array_ops.py\u001b[0m in \u001b[0;36mcomparison_op\u001b[0;34m(left, right, op)\u001b[0m\n\u001b[1;32m    282\u001b[0m \u001b[0;34m\u001b[0m\u001b[0m\n\u001b[1;32m    283\u001b[0m     \u001b[0;32melif\u001b[0m \u001b[0mis_object_dtype\u001b[0m\u001b[0;34m(\u001b[0m\u001b[0mlvalues\u001b[0m\u001b[0;34m.\u001b[0m\u001b[0mdtype\u001b[0m\u001b[0;34m)\u001b[0m \u001b[0;32mor\u001b[0m \u001b[0misinstance\u001b[0m\u001b[0;34m(\u001b[0m\u001b[0mrvalues\u001b[0m\u001b[0;34m,\u001b[0m \u001b[0mstr\u001b[0m\u001b[0;34m)\u001b[0m\u001b[0;34m:\u001b[0m\u001b[0;34m\u001b[0m\u001b[0;34m\u001b[0m\u001b[0m\n\u001b[0;32m--> 284\u001b[0;31m         \u001b[0mres_values\u001b[0m \u001b[0;34m=\u001b[0m \u001b[0mcomp_method_OBJECT_ARRAY\u001b[0m\u001b[0;34m(\u001b[0m\u001b[0mop\u001b[0m\u001b[0;34m,\u001b[0m \u001b[0mlvalues\u001b[0m\u001b[0;34m,\u001b[0m \u001b[0mrvalues\u001b[0m\u001b[0;34m)\u001b[0m\u001b[0;34m\u001b[0m\u001b[0;34m\u001b[0m\u001b[0m\n\u001b[0m\u001b[1;32m    285\u001b[0m \u001b[0;34m\u001b[0m\u001b[0m\n\u001b[1;32m    286\u001b[0m     \u001b[0;32melse\u001b[0m\u001b[0;34m:\u001b[0m\u001b[0;34m\u001b[0m\u001b[0;34m\u001b[0m\u001b[0m\n",
      "\u001b[0;32m~/miniconda3/envs/py37/lib/python3.7/site-packages/pandas/core/ops/array_ops.py\u001b[0m in \u001b[0;36mcomp_method_OBJECT_ARRAY\u001b[0;34m(op, x, y)\u001b[0m\n\u001b[1;32m     71\u001b[0m         \u001b[0mresult\u001b[0m \u001b[0;34m=\u001b[0m \u001b[0mlibops\u001b[0m\u001b[0;34m.\u001b[0m\u001b[0mvec_compare\u001b[0m\u001b[0;34m(\u001b[0m\u001b[0mx\u001b[0m\u001b[0;34m.\u001b[0m\u001b[0mravel\u001b[0m\u001b[0;34m(\u001b[0m\u001b[0;34m)\u001b[0m\u001b[0;34m,\u001b[0m \u001b[0my\u001b[0m\u001b[0;34m.\u001b[0m\u001b[0mravel\u001b[0m\u001b[0;34m(\u001b[0m\u001b[0;34m)\u001b[0m\u001b[0;34m,\u001b[0m \u001b[0mop\u001b[0m\u001b[0;34m)\u001b[0m\u001b[0;34m\u001b[0m\u001b[0;34m\u001b[0m\u001b[0m\n\u001b[1;32m     72\u001b[0m     \u001b[0;32melse\u001b[0m\u001b[0;34m:\u001b[0m\u001b[0;34m\u001b[0m\u001b[0;34m\u001b[0m\u001b[0m\n\u001b[0;32m---> 73\u001b[0;31m         \u001b[0mresult\u001b[0m \u001b[0;34m=\u001b[0m \u001b[0mlibops\u001b[0m\u001b[0;34m.\u001b[0m\u001b[0mscalar_compare\u001b[0m\u001b[0;34m(\u001b[0m\u001b[0mx\u001b[0m\u001b[0;34m.\u001b[0m\u001b[0mravel\u001b[0m\u001b[0;34m(\u001b[0m\u001b[0;34m)\u001b[0m\u001b[0;34m,\u001b[0m \u001b[0my\u001b[0m\u001b[0;34m,\u001b[0m \u001b[0mop\u001b[0m\u001b[0;34m)\u001b[0m\u001b[0;34m\u001b[0m\u001b[0;34m\u001b[0m\u001b[0m\n\u001b[0m\u001b[1;32m     74\u001b[0m     \u001b[0;32mreturn\u001b[0m \u001b[0mresult\u001b[0m\u001b[0;34m.\u001b[0m\u001b[0mreshape\u001b[0m\u001b[0;34m(\u001b[0m\u001b[0mx\u001b[0m\u001b[0;34m.\u001b[0m\u001b[0mshape\u001b[0m\u001b[0;34m)\u001b[0m\u001b[0;34m\u001b[0m\u001b[0;34m\u001b[0m\u001b[0m\n\u001b[1;32m     75\u001b[0m \u001b[0;34m\u001b[0m\u001b[0m\n",
      "\u001b[0;31mKeyboardInterrupt\u001b[0m: "
     ]
    }
   ],
   "source": [
    "%run \"$AIZYME_TOOLS\"\n",
    "get_best_structures()"
   ]
  },
  {
   "cell_type": "code",
   "execution_count": null,
   "id": "1d9b4dd0",
   "metadata": {},
   "outputs": [],
   "source": []
  }
 ],
 "metadata": {
  "kernelspec": {
   "display_name": "Python 3 (ipykernel)",
   "language": "python",
   "name": "python3"
  },
  "language_info": {
   "codemirror_mode": {
    "name": "ipython",
    "version": 3
   },
   "file_extension": ".py",
   "mimetype": "text/x-python",
   "name": "python",
   "nbconvert_exporter": "python",
   "pygments_lexer": "ipython3",
   "version": "3.7.16"
  }
 },
 "nbformat": 4,
 "nbformat_minor": 5
}
