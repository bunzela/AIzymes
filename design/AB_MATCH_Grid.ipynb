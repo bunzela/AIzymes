{
 "cells": [
  {
   "cell_type": "markdown",
   "id": "647c0384",
   "metadata": {},
   "source": [
    "## Run function for the AIzyme algorithm, relies on the Function part"
   ]
  },
  {
   "cell_type": "code",
   "execution_count": 37,
   "id": "948eed2f",
   "metadata": {
    "scrolled": false
   },
   "outputs": [
    {
     "name": "stdout",
     "output_type": "stream",
     "text": [
      "AIzyme Functions loaded!\n"
     ]
    }
   ],
   "source": [
    "#### DESIGN RUN NAME #####################################################################################################\n",
    "DESIGN_FOLDER     = 'AB_MATCH_GRID_Functions_009'\n",
    "FOLDER_MATCH      = 'MATCH' #Not needed for now -> This is just for match\n",
    "FOLDER_PARENT     = '../../design/Parent_1ohp' # -> Adjust, contains ONLY parent pdbs\n",
    "##########################################################################################################################\n",
    "#### Input parameters ####################################################################################################\n",
    "MAX_JOBS          = 5\n",
    "N_PARENT_JOBS     = 10\n",
    "MAX_DESIGNS       = 100\n",
    "KBT_BOLTZMANN     = 0.02\n",
    "CST_WEIGHT        = 1.0\n",
    "HIGHSCORE         = 0.93\n",
    "NEG_BEST          = 0.79\n",
    "ProteinMPNN_PROB  = 0.0\n",
    "WT                = \"1ohp\"\n",
    "LIGAND            = \"5TS\"\n",
    "REPACK            = \"36,45,51,67\"\n",
    "MATCH             = \"14,18,26,30,55,65,80,82,99,101,112\"\n",
    "DESIGN            = \"7,10,11,14,15,18,26,29,30,38,54,55,58,59,63,65,71,73,78\"\n",
    "DESIGN           += \",80,82,84,86,93,95,97,99,101,103,109,112,114,116,121\"\n",
    "ProteinMPNN_T     = \"0.1\"\n",
    "SUBMIT_PREFIX     = \"MATCH\" # Adjust, use a short prefix to allow \n",
    "BLUEPEBBLE        = False\n",
    "GRID              = True\n",
    "BACKGROUND_JOB    = False\n",
    "\n",
    "if GRID:            ROSETTA_PATH = \"/home/bunzelh/rosetta_src_2021.16.61629_bundle/main/source/\"      #GRID\n",
    "if BLUEPEBBLE:      \n",
    "                    ROSETTA_PATH = \"/sw/apps/rosetta/rosetta_src_2021.16.61629_bundle/main/source/\"   #BLUEPEBBLE \n",
    "                    BLUEPEBBLE_ACCOUNT = \"ptch000361\"\n",
    "                    #BLUEPEBBLE_ACCOUNT = \"ptch000721\"\n",
    "if BACKGROUND_JOB:  ROSETTA_PATH = \"/sw/apps/rosetta/rosetta_src_2021.16.61629_bundle/main/source/\"   #BLUEPEBBLE \n",
    "    \n",
    "NORM              = {'interface_score': [10, 30], 'total_score': [340, 410], 'catalytic_score': [-40, 0]}\n",
    "##########################################################################################################################\n",
    "AIZYME_TOOLS      = \"../src/AIzymes_009.ipynb\"\n",
    "%run \"$AIZYME_TOOLS\"\n",
    "plot_scores()"
   ]
  },
  {
   "cell_type": "code",
   "execution_count": 42,
   "id": "d9474551",
   "metadata": {},
   "outputs": [
    {
     "name": "stdout",
     "output_type": "stream",
     "text": [
      "AIzyme Functions loaded!\n"
     ]
    },
    {
     "name": "stderr",
     "output_type": "stream",
     "text": [
      "2024-02-11 09:20:40 - INFO - Run ESMfold & Rosetta_Relax for index MATCH.\n"
     ]
    }
   ],
   "source": [
    "%run \"$AIZYME_TOOLS\"\n",
    "run_RosettaMatch(EXPLORE=False) "
   ]
  },
  {
   "cell_type": "code",
   "execution_count": null,
   "id": "76857e3e",
   "metadata": {
    "scrolled": false
   },
   "outputs": [],
   "source": [
    "%run \"$AIZYME_TOOLS\"\n",
    "controller(RESET=False, EXPLORE=True, UNBLOCK_ALL=False, PRINT_VAR=True, PLOT_DATA=True) "
   ]
  },
  {
   "cell_type": "code",
   "execution_count": 41,
   "id": "4105e3b8",
   "metadata": {
    "scrolled": true
   },
   "outputs": [
    {
     "name": "stdout",
     "output_type": "stream",
     "text": [
      " 854696 0.55500 DM_ESMfold bunzelh      r     02/11/2024 09:20:24 regular.q@bs-dsvr56.ethz.ch        1        \n",
      "bunzelh has registered the job 854696 for deletion\n"
     ]
    }
   ],
   "source": [
    "!qstat | grep MATCH\n",
    "#!qstat | grep MATCH | awk '{print $1}' | xargs -I {} qdel {}"
   ]
  },
  {
   "cell_type": "code",
   "execution_count": null,
   "id": "c9951e7c",
   "metadata": {
    "scrolled": false
   },
   "outputs": [],
   "source": [
    "%run \"$AIZYME_TOOLS\"\n",
    "all_scores_df = pd.read_csv(f\"{DESIGN_FOLDER}/all_scores.csv\")\n",
    "display(all_scores_df)"
   ]
  },
  {
   "cell_type": "code",
   "execution_count": null,
   "id": "d64b16fd",
   "metadata": {},
   "outputs": [],
   "source": [
    "%run \"$AIZYME_TOOLS\"\n",
    "#get_best_structures()"
   ]
  }
 ],
 "metadata": {
  "kernelspec": {
   "display_name": "Python 3 (ipykernel)",
   "language": "python",
   "name": "python3"
  },
  "language_info": {
   "codemirror_mode": {
    "name": "ipython",
    "version": 3
   },
   "file_extension": ".py",
   "mimetype": "text/x-python",
   "name": "python",
   "nbconvert_exporter": "python",
   "pygments_lexer": "ipython3",
   "version": "3.7.16"
  }
 },
 "nbformat": 4,
 "nbformat_minor": 5
}
