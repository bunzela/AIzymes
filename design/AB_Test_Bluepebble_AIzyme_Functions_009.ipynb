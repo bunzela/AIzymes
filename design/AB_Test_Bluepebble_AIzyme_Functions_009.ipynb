{
 "cells": [
  {
   "cell_type": "code",
   "execution_count": 1,
   "id": "948eed2f",
   "metadata": {
    "scrolled": false
   },
   "outputs": [
    {
     "name": "stdout",
     "output_type": "stream",
     "text": [
      "AIzyme Functions loaded!\n"
     ]
    }
   ],
   "source": [
    "#### DESIGN RUN NAME #####################################################################################################\n",
    "DESIGN_FOLDER     = 'AB_TEST_Grid_AIzyme_Functions_009'\n",
    "FOLDER_MATCH      = 'MATCH' #Not needed for now -> This is just for match\n",
    "FOLDER_PARENT     = '../../design/Parent_1ohp' # -> Adjust, contains ONLY parent pdbs\n",
    "##########################################################################################################################\n",
    "#### Input parameters ####################################################################################################\n",
    "MAX_JOBS          = 5\n",
    "N_PARENT_JOBS     = 10\n",
    "MAX_DESIGNS       = 100\n",
    "KBT_BOLTZMANN     = 0.02\n",
    "CST_WEIGHT        = 1.0\n",
    "HIGHSCORE         = 0.93\n",
    "NEG_BEST          = 0.79\n",
    "ProteinMPNN_PROB  = 0.0\n",
    "WT                = \"1ohp\"\n",
    "LIGAND            = \"5TS\"\n",
    "REPACK            = \"36,45,51,67\"\n",
    "MATCH             = \"14,18,26,30,55,65,80,82,99,101,112\"\n",
    "DESIGN            = \"7,10,11,14,15,18,26,29,30,38,54,55,58,59,63,65,71,73,78\"\n",
    "DESIGN           += \",80,82,84,86,93,95,97,99,101,103,109,112,114,116,121\"\n",
    "ProteinMPNN_T     = \"0.1\"\n",
    "SUBMIT_PREFIX     = \"AB1\" # Adjust, use a short prefix to allow \n",
    "BLUEPEBBLE        = True\n",
    "GRID              = False\n",
    "BACKGROUND_JOB    = False\n",
    "\n",
    "if GRID:            ROSETTA_PATH = \"/home/bunzelh/rosetta_src_2021.16.61629_bundle/main/source/\"      #GRID\n",
    "if BLUEPEBBLE:      \n",
    "                    ROSETTA_PATH = \"/sw/apps/rosetta/rosetta_src_2021.16.61629_bundle/main/source/\"   #BLUEPEBBLE \n",
    "                    BLUEPEBBLE_ACCOUNT = \"ptch000361\"\n",
    "                    #BLUEPEBBLE_ACCOUNT = \"ptch000721\"\n",
    "if BACKGROUND_JOB:  ROSETTA_PATH = \"/sw/apps/rosetta/rosetta_src_2021.16.61629_bundle/main/source/\"   #BLUEPEBBLE \n",
    "    \n",
    "NORM              = {'interface_score': [10, 30], 'total_score': [340, 410], 'catalytic_score': [-40, 0]}\n",
    "##########################################################################################################################\n",
    "AIZYME_TOOLS      = \"../src/AIzymes_009.ipynb\"\n",
    "%run \"$AIZYME_TOOLS\"\n",
    "plot_scores()"
   ]
  },
  {
   "cell_type": "code",
   "execution_count": null,
   "id": "b486023f",
   "metadata": {
    "scrolled": false
   },
   "outputs": [
    {
     "name": "stdout",
     "output_type": "stream",
     "text": [
      "AIzyme Functions loaded!\n",
      "DESIGN_FOLDER    : AB_TEST_Grid_AIzyme_Functions_009\n",
      "FOLDER_MATCH     : MATCH\n",
      "MAX_JOBS         : 5\n",
      "N_PARENT_JOBS    : 10\n",
      "MAX_DESIGNS      : 100\n",
      "KBT_BOLTZMANN    : 0.02\n",
      "CST_WEIGHT       : 1.0\n",
      "ProteinMPNN_PROB : 0.0\n",
      "WT               : 1ohp\n",
      "LIGAND           : 5TS\n",
      "ROSETTA_PATH     : /sw/apps/rosetta/rosetta_src_2021.16.61629_bundle/main/source/\n",
      "REPACK           : 36,45,51,67\n",
      "DESIGN           : 7,10,11,14,15,18,26,29,30,38,54,55,58,59,63,65,71,73,78,80,82,84,86,93,95,97,99,101,103,109,112,114,116,121\n",
      "MATCH            : 14,18,26,30,55,65,80,82,99,101,112\n",
      "FOLDER_PARENT    : ../../design/Parent_1ohp\n",
      "ProteinMPNN_T    : 0.1\n",
      "SUBMIT_PREFIX    : AB1\n",
      "BLUEPEBBLE       : True\n",
      "GRID             : False\n",
      "BACKGROUND_JOB   : False\n",
      "EXPLORE          : True\n"
     ]
    }
   ],
   "source": [
    "%run \"$AIZYME_TOOLS\"\n",
    "controller(RESET=False, EXPLORE=True, UNBLOCK_ALL=False, PRINT_VAR=True, PLOT_DATA=False) "
   ]
  },
  {
   "cell_type": "code",
   "execution_count": 3,
   "id": "735e30a1",
   "metadata": {},
   "outputs": [
    {
     "name": "stdout",
     "output_type": "stream",
     "text": [
      "             JOBID PARTITION     NAME     USER ST       TIME  NODES NODELIST(REASON)\r\n",
      "           8146434     short AB1_Rose  hb18661 PD       0:00      1 (Priority)\r\n",
      "           8146433     short AB1_Rose  hb18661 PD       0:00      1 (Priority)\r\n",
      "           8146431     short AB1_Rose  hb18661 PD       0:00      1 (Priority)\r\n",
      "           8146430     short AB1_Rose  hb18661 PD       0:00      1 (Priority)\r\n",
      "           8146429     short AB1_Rose  hb18661 PD       0:00      1 (Priority)\r\n"
     ]
    }
   ],
   "source": [
    "!squeue --me\n",
    "#!scancel --me"
   ]
  },
  {
   "cell_type": "code",
   "execution_count": 5,
   "id": "76857e3e",
   "metadata": {
    "scrolled": false
   },
   "outputs": [
    {
     "name": "stdout",
     "output_type": "stream",
     "text": [
      "AIzyme Functions loaded!\n"
     ]
    },
    {
     "data": {
      "text/html": [
       "<div>\n",
       "<style scoped>\n",
       "    .dataframe tbody tr th:only-of-type {\n",
       "        vertical-align: middle;\n",
       "    }\n",
       "\n",
       "    .dataframe tbody tr th {\n",
       "        vertical-align: top;\n",
       "    }\n",
       "\n",
       "    .dataframe thead th {\n",
       "        text-align: right;\n",
       "    }\n",
       "</style>\n",
       "<table border=\"1\" class=\"dataframe\">\n",
       "  <thead>\n",
       "    <tr style=\"text-align: right;\">\n",
       "      <th></th>\n",
       "      <th>index</th>\n",
       "      <th>sequence</th>\n",
       "      <th>parent_index</th>\n",
       "      <th>interface_score</th>\n",
       "      <th>total_score</th>\n",
       "      <th>catalytic_score</th>\n",
       "      <th>interface_potential</th>\n",
       "      <th>total_potential</th>\n",
       "      <th>catalytic_potential</th>\n",
       "      <th>generation</th>\n",
       "      <th>mutations</th>\n",
       "      <th>design_method</th>\n",
       "      <th>score_taken_from</th>\n",
       "      <th>blocked</th>\n",
       "      <th>cat_resi</th>\n",
       "      <th>cat_resn</th>\n",
       "      <th>kbt_boltzmann</th>\n",
       "      <th>luca</th>\n",
       "    </tr>\n",
       "  </thead>\n",
       "  <tbody>\n",
       "    <tr>\n",
       "      <th>0</th>\n",
       "      <td>0</td>\n",
       "      <td>NaN</td>\n",
       "      <td>Parent</td>\n",
       "      <td>NaN</td>\n",
       "      <td>NaN</td>\n",
       "      <td>NaN</td>\n",
       "      <td>NaN</td>\n",
       "      <td>NaN</td>\n",
       "      <td>NaN</td>\n",
       "      <td>0</td>\n",
       "      <td>NaN</td>\n",
       "      <td>RosettaDesign</td>\n",
       "      <td>NaN</td>\n",
       "      <td>False</td>\n",
       "      <td>99</td>\n",
       "      <td>NaN</td>\n",
       "      <td>0.02</td>\n",
       "      <td>1ohp</td>\n",
       "    </tr>\n",
       "    <tr>\n",
       "      <th>1</th>\n",
       "      <td>1</td>\n",
       "      <td>NaN</td>\n",
       "      <td>Parent</td>\n",
       "      <td>NaN</td>\n",
       "      <td>NaN</td>\n",
       "      <td>NaN</td>\n",
       "      <td>NaN</td>\n",
       "      <td>NaN</td>\n",
       "      <td>NaN</td>\n",
       "      <td>0</td>\n",
       "      <td>NaN</td>\n",
       "      <td>RosettaDesign</td>\n",
       "      <td>NaN</td>\n",
       "      <td>False</td>\n",
       "      <td>99</td>\n",
       "      <td>NaN</td>\n",
       "      <td>0.02</td>\n",
       "      <td>1ohp</td>\n",
       "    </tr>\n",
       "    <tr>\n",
       "      <th>2</th>\n",
       "      <td>2</td>\n",
       "      <td>NaN</td>\n",
       "      <td>Parent</td>\n",
       "      <td>NaN</td>\n",
       "      <td>NaN</td>\n",
       "      <td>NaN</td>\n",
       "      <td>NaN</td>\n",
       "      <td>NaN</td>\n",
       "      <td>NaN</td>\n",
       "      <td>0</td>\n",
       "      <td>NaN</td>\n",
       "      <td>RosettaDesign</td>\n",
       "      <td>NaN</td>\n",
       "      <td>False</td>\n",
       "      <td>99</td>\n",
       "      <td>NaN</td>\n",
       "      <td>0.02</td>\n",
       "      <td>1ohp</td>\n",
       "    </tr>\n",
       "    <tr>\n",
       "      <th>3</th>\n",
       "      <td>3</td>\n",
       "      <td>NaN</td>\n",
       "      <td>Parent</td>\n",
       "      <td>NaN</td>\n",
       "      <td>NaN</td>\n",
       "      <td>NaN</td>\n",
       "      <td>NaN</td>\n",
       "      <td>NaN</td>\n",
       "      <td>NaN</td>\n",
       "      <td>0</td>\n",
       "      <td>NaN</td>\n",
       "      <td>RosettaDesign</td>\n",
       "      <td>NaN</td>\n",
       "      <td>False</td>\n",
       "      <td>99</td>\n",
       "      <td>NaN</td>\n",
       "      <td>0.02</td>\n",
       "      <td>1ohp</td>\n",
       "    </tr>\n",
       "    <tr>\n",
       "      <th>4</th>\n",
       "      <td>4</td>\n",
       "      <td>NaN</td>\n",
       "      <td>Parent</td>\n",
       "      <td>NaN</td>\n",
       "      <td>NaN</td>\n",
       "      <td>NaN</td>\n",
       "      <td>NaN</td>\n",
       "      <td>NaN</td>\n",
       "      <td>NaN</td>\n",
       "      <td>0</td>\n",
       "      <td>NaN</td>\n",
       "      <td>RosettaDesign</td>\n",
       "      <td>NaN</td>\n",
       "      <td>False</td>\n",
       "      <td>99</td>\n",
       "      <td>NaN</td>\n",
       "      <td>0.02</td>\n",
       "      <td>1ohp</td>\n",
       "    </tr>\n",
       "  </tbody>\n",
       "</table>\n",
       "</div>"
      ],
      "text/plain": [
       "   index  sequence parent_index  interface_score  total_score  \\\n",
       "0      0       NaN       Parent              NaN          NaN   \n",
       "1      1       NaN       Parent              NaN          NaN   \n",
       "2      2       NaN       Parent              NaN          NaN   \n",
       "3      3       NaN       Parent              NaN          NaN   \n",
       "4      4       NaN       Parent              NaN          NaN   \n",
       "\n",
       "   catalytic_score  interface_potential  total_potential  catalytic_potential  \\\n",
       "0              NaN                  NaN              NaN                  NaN   \n",
       "1              NaN                  NaN              NaN                  NaN   \n",
       "2              NaN                  NaN              NaN                  NaN   \n",
       "3              NaN                  NaN              NaN                  NaN   \n",
       "4              NaN                  NaN              NaN                  NaN   \n",
       "\n",
       "   generation  mutations  design_method  score_taken_from  blocked  cat_resi  \\\n",
       "0           0        NaN  RosettaDesign               NaN    False        99   \n",
       "1           0        NaN  RosettaDesign               NaN    False        99   \n",
       "2           0        NaN  RosettaDesign               NaN    False        99   \n",
       "3           0        NaN  RosettaDesign               NaN    False        99   \n",
       "4           0        NaN  RosettaDesign               NaN    False        99   \n",
       "\n",
       "   cat_resn  kbt_boltzmann  luca  \n",
       "0       NaN           0.02  1ohp  \n",
       "1       NaN           0.02  1ohp  \n",
       "2       NaN           0.02  1ohp  \n",
       "3       NaN           0.02  1ohp  \n",
       "4       NaN           0.02  1ohp  "
      ]
     },
     "metadata": {},
     "output_type": "display_data"
    }
   ],
   "source": [
    "%run \"$AIZYME_TOOLS\"\n",
    "all_scores_df = pd.read_csv(f\"{DESIGN_FOLDER}/all_scores.csv\")\n",
    "display(all_scores_df)"
   ]
  },
  {
   "cell_type": "code",
   "execution_count": 6,
   "id": "c9951e7c",
   "metadata": {},
   "outputs": [
    {
     "name": "stdout",
     "output_type": "stream",
     "text": [
      "AIzyme Functions loaded!\n"
     ]
    }
   ],
   "source": [
    "%run \"$AIZYME_TOOLS\"\n",
    "#get_best_structures()"
   ]
  },
  {
   "cell_type": "code",
   "execution_count": null,
   "id": "629d6db0",
   "metadata": {},
   "outputs": [],
   "source": []
  }
 ],
 "metadata": {
  "kernelspec": {
   "display_name": "Python 3 (ipykernel)",
   "language": "python",
   "name": "python3"
  },
  "language_info": {
   "codemirror_mode": {
    "name": "ipython",
    "version": 3
   },
   "file_extension": ".py",
   "mimetype": "text/x-python",
   "name": "python",
   "nbconvert_exporter": "python",
   "pygments_lexer": "ipython3",
   "version": "3.7.16"
  }
 },
 "nbformat": 4,
 "nbformat_minor": 5
}
