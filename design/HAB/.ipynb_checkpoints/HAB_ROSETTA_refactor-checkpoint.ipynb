{
 "cells": [
  {
   "cell_type": "code",
   "execution_count": 3,
   "id": "8b4b8893",
   "metadata": {
    "scrolled": false
   },
   "outputs": [
    {
     "name": "stdout",
     "output_type": "stream",
     "text": [
      "Do you really want to restart AIzymes from scratch? \n",
      "    This will delete all existing files in /home/bunzelh/AIzymes/design/HAB/HAB_refactor_standard_013 [y/n]\n",
      "\n",
      "    y\n"
     ]
    },
    {
     "name": "stderr",
     "output_type": "stream",
     "text": [
      "2024-11-05 09:39:10 - INFO - Running AI.zymes setup.\n",
      "2024-11-05 09:39:10 - INFO - Content of /home/bunzelh/AIzymes/design/HAB/HAB_refactor_standard_013 deleted.\n",
      "2024-11-05 09:39:10 - INFO - Happy AI.zymeing! :)\n"
     ]
    },
    {
     "name": "stdout",
     "output_type": "stream",
     "text": [
      "AIzymes initiated.\n"
     ]
    }
   ],
   "source": [
    "import sys, os\n",
    "if os.path.join(os.getcwd(), '../../src') not in sys.path: sys.path.append(os.path.join(os.getcwd(), '../../src'))\n",
    "from AIzymes_013 import *\n",
    "\n",
    "# GENERAL SETTINGS FOR AI.zymes -------------------------------------------------------------------------------------------\n",
    "AIzymes = AIzymes_MAIN()\n",
    "AIzymes.setup(FOLDER_HOME = 'HAB_refactor_standard_013',\n",
    "  FOLDER_PARENT     = 'parent',\n",
    "  MAX_JOBS          = 10,\n",
    "  N_PARENT_JOBS     = 10,\n",
    "  MAX_DESIGNS       = 50,\n",
    "  KBT_BOLTZMANN     = [0.5, 0.0003],\n",
    "  CST_WEIGHT        = 1.0,\n",
    "  CST_NAME          = \"5TS_enzdes_planar_tAB100\",\n",
    "  WT                = \"7vuu\",\n",
    "  LIGAND            = \"5TS\",\n",
    "  DESIGN            = \"4,8,16,21,25,28,40,41,44,52,57,60,61\",\n",
    "  SUBMIT_PREFIX     = \"Ref\",\n",
    "  SYSTEM            = \"GRID\",\n",
    "  EXPLORE           = True,\n",
    "  FIELD_TARGET      = \"XXX\",\n",
    " )"
   ]
  },
  {
   "cell_type": "code",
   "execution_count": 2,
   "id": "5aadc10c",
   "metadata": {
    "scrolled": false
   },
   "outputs": [
    {
     "name": "stderr",
     "output_type": "stream",
     "text": [
      "2024-11-05 09:38:21 - DEBUG - Updating scores\n",
      "2024-11-05 09:38:21 - DEBUG - Parent design not yet done. 1/10 jobs submitted.\n",
      "2024-11-05 09:38:21 - DEBUG - Child index 0 created for Parent.\n",
      "2024-11-05 09:38:21 - DEBUG - Run RosettaDesign for index 0 based on index 0.\n",
      "2024-11-05 09:38:21 - DEBUG - Calculating ElectricFields for index 0.\n",
      "2024-11-05 09:38:21 - DEBUG - Your job 1675970 (\"Ref_RosettaDesign_ElectricFields_0\") has been submitted\n",
      "2024-11-05 09:38:21 - DEBUG - Updating scores\n",
      "2024-11-05 09:38:21 - DEBUG - Parent design not yet done. 2/10 jobs submitted.\n",
      "2024-11-05 09:38:21 - DEBUG - Child index 1 created for Parent.\n",
      "2024-11-05 09:38:21 - DEBUG - Run RosettaDesign for index 1 based on index 1.\n",
      "2024-11-05 09:38:21 - DEBUG - Calculating ElectricFields for index 1.\n",
      "2024-11-05 09:38:22 - DEBUG - Your job 1675971 (\"Ref_RosettaDesign_ElectricFields_1\") has been submitted\n",
      "2024-11-05 09:38:22 - DEBUG - Updating scores\n",
      "2024-11-05 09:38:22 - DEBUG - Parent design not yet done. 3/10 jobs submitted.\n",
      "2024-11-05 09:38:22 - DEBUG - Child index 2 created for Parent.\n",
      "2024-11-05 09:38:22 - DEBUG - Run RosettaDesign for index 2 based on index 2.\n",
      "2024-11-05 09:38:22 - DEBUG - Calculating ElectricFields for index 2.\n",
      "2024-11-05 09:38:22 - DEBUG - Your job 1675972 (\"Ref_RosettaDesign_ElectricFields_2\") has been submitted\n",
      "2024-11-05 09:38:22 - DEBUG - Updating scores\n",
      "2024-11-05 09:38:22 - DEBUG - Parent design not yet done. 4/10 jobs submitted.\n",
      "2024-11-05 09:38:22 - DEBUG - Child index 3 created for Parent.\n",
      "2024-11-05 09:38:22 - DEBUG - Run RosettaDesign for index 3 based on index 3.\n",
      "2024-11-05 09:38:22 - DEBUG - Calculating ElectricFields for index 3.\n",
      "2024-11-05 09:38:22 - DEBUG - Your job 1675973 (\"Ref_RosettaDesign_ElectricFields_3\") has been submitted\n",
      "2024-11-05 09:38:22 - DEBUG - Updating scores\n",
      "2024-11-05 09:38:22 - DEBUG - Parent design not yet done. 5/10 jobs submitted.\n",
      "2024-11-05 09:38:22 - DEBUG - Child index 4 created for Parent.\n",
      "2024-11-05 09:38:22 - DEBUG - Run RosettaDesign for index 4 based on index 4.\n",
      "2024-11-05 09:38:22 - DEBUG - Calculating ElectricFields for index 4.\n",
      "2024-11-05 09:38:22 - DEBUG - Your job 1675974 (\"Ref_RosettaDesign_ElectricFields_4\") has been submitted\n",
      "2024-11-05 09:38:22 - DEBUG - Updating scores\n",
      "2024-11-05 09:38:22 - DEBUG - Parent design not yet done. 6/10 jobs submitted.\n",
      "2024-11-05 09:38:22 - DEBUG - Child index 5 created for Parent.\n",
      "2024-11-05 09:38:22 - DEBUG - Run RosettaDesign for index 5 based on index 5.\n",
      "2024-11-05 09:38:22 - DEBUG - Calculating ElectricFields for index 5.\n",
      "2024-11-05 09:38:22 - DEBUG - Your job 1675975 (\"Ref_RosettaDesign_ElectricFields_5\") has been submitted\n",
      "2024-11-05 09:38:23 - DEBUG - Updating scores\n",
      "2024-11-05 09:38:23 - DEBUG - Parent design not yet done. 7/10 jobs submitted.\n",
      "2024-11-05 09:38:23 - DEBUG - Child index 6 created for Parent.\n",
      "2024-11-05 09:38:23 - DEBUG - Run RosettaDesign for index 6 based on index 6.\n",
      "2024-11-05 09:38:23 - DEBUG - Calculating ElectricFields for index 6.\n",
      "2024-11-05 09:38:23 - DEBUG - Your job 1675976 (\"Ref_RosettaDesign_ElectricFields_6\") has been submitted\n",
      "2024-11-05 09:38:23 - DEBUG - Updating scores\n",
      "2024-11-05 09:38:23 - DEBUG - Parent design not yet done. 8/10 jobs submitted.\n",
      "2024-11-05 09:38:23 - DEBUG - Child index 7 created for Parent.\n",
      "2024-11-05 09:38:23 - DEBUG - Run RosettaDesign for index 7 based on index 7.\n",
      "2024-11-05 09:38:23 - DEBUG - Calculating ElectricFields for index 7.\n",
      "2024-11-05 09:38:23 - DEBUG - Your job 1675977 (\"Ref_RosettaDesign_ElectricFields_7\") has been submitted\n",
      "2024-11-05 09:38:23 - DEBUG - Updating scores\n",
      "2024-11-05 09:38:23 - DEBUG - Parent design not yet done. 9/10 jobs submitted.\n",
      "2024-11-05 09:38:23 - DEBUG - Child index 8 created for Parent.\n",
      "2024-11-05 09:38:23 - DEBUG - Run RosettaDesign for index 8 based on index 8.\n",
      "2024-11-05 09:38:23 - DEBUG - Calculating ElectricFields for index 8.\n",
      "2024-11-05 09:38:23 - DEBUG - Your job 1675978 (\"Ref_RosettaDesign_ElectricFields_8\") has been submitted\n",
      "2024-11-05 09:38:23 - DEBUG - Updating scores\n",
      "2024-11-05 09:38:23 - DEBUG - Parent design not yet done. 10/10 jobs submitted.\n",
      "2024-11-05 09:38:23 - DEBUG - Child index 9 created for Parent.\n",
      "2024-11-05 09:38:23 - DEBUG - Run RosettaDesign for index 9 based on index 9.\n",
      "2024-11-05 09:38:23 - DEBUG - Calculating ElectricFields for index 9.\n",
      "2024-11-05 09:38:23 - DEBUG - Your job 1675979 (\"Ref_RosettaDesign_ElectricFields_9\") has been submitted\n"
     ]
    },
    {
     "data": {
      "text/html": [
       "<pre style=\"white-space:pre;overflow-x:auto;line-height:normal;font-family:Menlo,'DejaVu Sans Mono',consolas,'Courier New',monospace\"><span style=\"color: #800000; text-decoration-color: #800000\">╭─────────────────────────────── </span><span style=\"color: #800000; text-decoration-color: #800000; font-weight: bold\">Traceback </span><span style=\"color: #bf7f7f; text-decoration-color: #bf7f7f; font-weight: bold\">(most recent call last)</span><span style=\"color: #800000; text-decoration-color: #800000\"> ────────────────────────────────╮</span>\n",
       "<span style=\"color: #800000; text-decoration-color: #800000\">│</span> in <span style=\"color: #00ff00; text-decoration-color: #00ff00\">&lt;module&gt;</span>:<span style=\"color: #0000ff; text-decoration-color: #0000ff\">8</span>                                                                                    <span style=\"color: #800000; text-decoration-color: #800000\">│</span>\n",
       "<span style=\"color: #800000; text-decoration-color: #800000\">│</span>                                                                                                  <span style=\"color: #800000; text-decoration-color: #800000\">│</span>\n",
       "<span style=\"color: #800000; text-decoration-color: #800000\">│</span>   <span style=\"color: #7f7f7f; text-decoration-color: #7f7f7f\">5 </span>AIzymes.initialize(FOLDER_HOME = <span style=\"color: #808000; text-decoration-color: #808000\">'HAB_refactor_standard_013'</span>,                                <span style=\"color: #800000; text-decoration-color: #800000\">│</span>\n",
       "<span style=\"color: #800000; text-decoration-color: #800000\">│</span>   <span style=\"color: #7f7f7f; text-decoration-color: #7f7f7f\">6 </span><span style=\"color: #7f7f7f; text-decoration-color: #7f7f7f\">│   │   │   │      </span>LOG=<span style=\"color: #808000; text-decoration-color: #808000\">\"debug\"</span>,                                                              <span style=\"color: #800000; text-decoration-color: #800000\">│</span>\n",
       "<span style=\"color: #800000; text-decoration-color: #800000\">│</span>   <span style=\"color: #7f7f7f; text-decoration-color: #7f7f7f\">7 </span><span style=\"color: #7f7f7f; text-decoration-color: #7f7f7f\">│   │   │   │      </span>PRINT_VAR=<span style=\"color: #0000ff; text-decoration-color: #0000ff\">False</span>) <span style=\"color: #7f7f7f; text-decoration-color: #7f7f7f\">#LOG=\"debug/info\"</span>                                        <span style=\"color: #800000; text-decoration-color: #800000\">│</span>\n",
       "<span style=\"color: #800000; text-decoration-color: #800000\">│</span> <span style=\"color: #800000; text-decoration-color: #800000\">❱ </span>8 AIzymes.controller()                                                                         <span style=\"color: #800000; text-decoration-color: #800000\">│</span>\n",
       "<span style=\"color: #800000; text-decoration-color: #800000\">│</span>   <span style=\"color: #7f7f7f; text-decoration-color: #7f7f7f\">9 </span>                                                                                             <span style=\"color: #800000; text-decoration-color: #800000\">│</span>\n",
       "<span style=\"color: #800000; text-decoration-color: #800000\">│</span>                                                                                                  <span style=\"color: #800000; text-decoration-color: #800000\">│</span>\n",
       "<span style=\"color: #800000; text-decoration-color: #800000\">│</span> <span style=\"color: #bfbf7f; text-decoration-color: #bfbf7f\">/home/bunzelh/AIzymes/design/HAB/../../src/</span><span style=\"color: #808000; text-decoration-color: #808000; font-weight: bold\">AIzymes_013.py</span>:<span style=\"color: #0000ff; text-decoration-color: #0000ff\">133</span> in <span style=\"color: #00ff00; text-decoration-color: #00ff00\">controller</span>                      <span style=\"color: #800000; text-decoration-color: #800000\">│</span>\n",
       "<span style=\"color: #800000; text-decoration-color: #800000\">│</span>                                                                                                  <span style=\"color: #800000; text-decoration-color: #800000\">│</span>\n",
       "<span style=\"color: #800000; text-decoration-color: #800000\">│</span>   <span style=\"color: #7f7f7f; text-decoration-color: #7f7f7f\">130 </span><span style=\"color: #7f7f7f; text-decoration-color: #7f7f7f\">│   │   │   </span><span style=\"color: #0000ff; text-decoration-color: #0000ff\">if</span> key <span style=\"color: #ff00ff; text-decoration-color: #ff00ff\">not</span> <span style=\"color: #ff00ff; text-decoration-color: #ff00ff\">in</span> [<span style=\"color: #808000; text-decoration-color: #808000\">'self'</span>]:                                                        <span style=\"color: #800000; text-decoration-color: #800000\">│</span>\n",
       "<span style=\"color: #800000; text-decoration-color: #800000\">│</span>   <span style=\"color: #7f7f7f; text-decoration-color: #7f7f7f\">131 </span><span style=\"color: #7f7f7f; text-decoration-color: #7f7f7f\">│   │   │   │   </span><span style=\"color: #00ffff; text-decoration-color: #00ffff\">setattr</span>(<span style=\"color: #00ffff; text-decoration-color: #00ffff\">self</span>, key, value)                                                  <span style=\"color: #800000; text-decoration-color: #800000\">│</span>\n",
       "<span style=\"color: #800000; text-decoration-color: #800000\">│</span>   <span style=\"color: #7f7f7f; text-decoration-color: #7f7f7f\">132 </span><span style=\"color: #7f7f7f; text-decoration-color: #7f7f7f\">│   │   </span>                                                                                   <span style=\"color: #800000; text-decoration-color: #800000\">│</span>\n",
       "<span style=\"color: #800000; text-decoration-color: #800000\">│</span> <span style=\"color: #800000; text-decoration-color: #800000\">❱ </span>133 <span style=\"color: #7f7f7f; text-decoration-color: #7f7f7f\">│   │   </span>start_controller(<span style=\"color: #00ffff; text-decoration-color: #00ffff\">self</span>)                                                             <span style=\"color: #800000; text-decoration-color: #800000\">│</span>\n",
       "<span style=\"color: #800000; text-decoration-color: #800000\">│</span>   <span style=\"color: #7f7f7f; text-decoration-color: #7f7f7f\">134 </span><span style=\"color: #7f7f7f; text-decoration-color: #7f7f7f\">│   </span>                                                                                       <span style=\"color: #800000; text-decoration-color: #800000\">│</span>\n",
       "<span style=\"color: #800000; text-decoration-color: #800000\">│</span>   <span style=\"color: #7f7f7f; text-decoration-color: #7f7f7f\">135 </span><span style=\"color: #7f7f7f; text-decoration-color: #7f7f7f\">│   </span><span style=\"color: #0000ff; text-decoration-color: #0000ff\">def</span> <span style=\"color: #00ff00; text-decoration-color: #00ff00\">plot</span>(<span style=\"color: #00ffff; text-decoration-color: #00ffff\">self</span>, main_plots=<span style=\"color: #0000ff; text-decoration-color: #0000ff\">True</span>, tree_plot=<span style=\"color: #0000ff; text-decoration-color: #0000ff\">True</span>, landscape_plot=<span style=\"color: #0000ff; text-decoration-color: #0000ff\">True</span>, print_vals=<span style=\"color: #0000ff; text-decoration-color: #0000ff\">True</span>   <span style=\"color: #800000; text-decoration-color: #800000\">│</span>\n",
       "<span style=\"color: #800000; text-decoration-color: #800000\">│</span>   <span style=\"color: #7f7f7f; text-decoration-color: #7f7f7f\">136 </span><span style=\"color: #bfbfbf; text-decoration-color: #bfbfbf\">│   │   </span><span style=\"color: #808000; text-decoration-color: #808000\">\"\"\"</span>                                                                                <span style=\"color: #800000; text-decoration-color: #800000\">│</span>\n",
       "<span style=\"color: #800000; text-decoration-color: #800000\">│</span>                                                                                                  <span style=\"color: #800000; text-decoration-color: #800000\">│</span>\n",
       "<span style=\"color: #800000; text-decoration-color: #800000\">│</span> <span style=\"color: #bfbf7f; text-decoration-color: #bfbf7f\">/home/bunzelh/AIzymes/design/HAB/../../src/</span><span style=\"color: #808000; text-decoration-color: #808000; font-weight: bold\">main_running_001.py</span>:<span style=\"color: #0000ff; text-decoration-color: #0000ff\">60</span> in <span style=\"color: #00ff00; text-decoration-color: #00ff00\">start_controller</span>            <span style=\"color: #800000; text-decoration-color: #800000\">│</span>\n",
       "<span style=\"color: #800000; text-decoration-color: #800000\">│</span>                                                                                                  <span style=\"color: #800000; text-decoration-color: #800000\">│</span>\n",
       "<span style=\"color: #800000; text-decoration-color: #800000\">│</span>   <span style=\"color: #7f7f7f; text-decoration-color: #7f7f7f\"> 57 </span><span style=\"color: #7f7f7f; text-decoration-color: #7f7f7f\">│   │   </span><span style=\"color: #0000ff; text-decoration-color: #0000ff\">if</span> num_running_jobs &gt;= <span style=\"color: #00ffff; text-decoration-color: #00ffff\">self</span>.MAX_JOBS:                                              <span style=\"color: #800000; text-decoration-color: #800000\">│</span>\n",
       "<span style=\"color: #800000; text-decoration-color: #800000\">│</span>   <span style=\"color: #7f7f7f; text-decoration-color: #7f7f7f\"> 58 </span><span style=\"color: #7f7f7f; text-decoration-color: #7f7f7f\">│   │   │   </span>                                                                               <span style=\"color: #800000; text-decoration-color: #800000\">│</span>\n",
       "<span style=\"color: #800000; text-decoration-color: #800000\">│</span>   <span style=\"color: #7f7f7f; text-decoration-color: #7f7f7f\"> 59 </span><span style=\"color: #7f7f7f; text-decoration-color: #7f7f7f\">│   │   │   </span><span style=\"color: #7f7f7f; text-decoration-color: #7f7f7f\"># Pause and continue after some time</span>                                           <span style=\"color: #800000; text-decoration-color: #800000\">│</span>\n",
       "<span style=\"color: #800000; text-decoration-color: #800000\">│</span> <span style=\"color: #800000; text-decoration-color: #800000\">❱ </span> 60 <span style=\"color: #7f7f7f; text-decoration-color: #7f7f7f\">│   │   │   </span>time.sleep(<span style=\"color: #0000ff; text-decoration-color: #0000ff\">20</span>)                                                                 <span style=\"color: #800000; text-decoration-color: #800000\">│</span>\n",
       "<span style=\"color: #800000; text-decoration-color: #800000\">│</span>   <span style=\"color: #7f7f7f; text-decoration-color: #7f7f7f\"> 61 </span><span style=\"color: #7f7f7f; text-decoration-color: #7f7f7f\">│   │   </span>                                                                                   <span style=\"color: #800000; text-decoration-color: #800000\">│</span>\n",
       "<span style=\"color: #800000; text-decoration-color: #800000\">│</span>   <span style=\"color: #7f7f7f; text-decoration-color: #7f7f7f\"> 62 </span><span style=\"color: #7f7f7f; text-decoration-color: #7f7f7f\">│   │   </span><span style=\"color: #0000ff; text-decoration-color: #0000ff\">else</span>:                                                                              <span style=\"color: #800000; text-decoration-color: #800000\">│</span>\n",
       "<span style=\"color: #800000; text-decoration-color: #800000\">│</span>   <span style=\"color: #7f7f7f; text-decoration-color: #7f7f7f\"> 63 </span>                                                                                           <span style=\"color: #800000; text-decoration-color: #800000\">│</span>\n",
       "<span style=\"color: #800000; text-decoration-color: #800000\">╰──────────────────────────────────────────────────────────────────────────────────────────────────╯</span>\n",
       "<span style=\"color: #ff0000; text-decoration-color: #ff0000; font-weight: bold\">KeyboardInterrupt</span>\n",
       "</pre>\n"
      ],
      "text/plain": [
       "\u001b[31m╭─\u001b[0m\u001b[31m──────────────────────────────\u001b[0m\u001b[31m \u001b[0m\u001b[1;31mTraceback \u001b[0m\u001b[1;2;31m(most recent call last)\u001b[0m\u001b[31m \u001b[0m\u001b[31m───────────────────────────────\u001b[0m\u001b[31m─╮\u001b[0m\n",
       "\u001b[31m│\u001b[0m in \u001b[92m<module>\u001b[0m:\u001b[94m8\u001b[0m                                                                                    \u001b[31m│\u001b[0m\n",
       "\u001b[31m│\u001b[0m                                                                                                  \u001b[31m│\u001b[0m\n",
       "\u001b[31m│\u001b[0m   \u001b[2m5 \u001b[0mAIzymes.initialize(FOLDER_HOME = \u001b[33m'\u001b[0m\u001b[33mHAB_refactor_standard_013\u001b[0m\u001b[33m'\u001b[0m,                                \u001b[31m│\u001b[0m\n",
       "\u001b[31m│\u001b[0m   \u001b[2m6 \u001b[0m\u001b[2m│   │   │   │      \u001b[0mLOG=\u001b[33m\"\u001b[0m\u001b[33mdebug\u001b[0m\u001b[33m\"\u001b[0m,                                                              \u001b[31m│\u001b[0m\n",
       "\u001b[31m│\u001b[0m   \u001b[2m7 \u001b[0m\u001b[2m│   │   │   │      \u001b[0mPRINT_VAR=\u001b[94mFalse\u001b[0m) \u001b[2m#LOG=\"debug/info\"\u001b[0m                                        \u001b[31m│\u001b[0m\n",
       "\u001b[31m│\u001b[0m \u001b[31m❱ \u001b[0m8 AIzymes.controller()                                                                         \u001b[31m│\u001b[0m\n",
       "\u001b[31m│\u001b[0m   \u001b[2m9 \u001b[0m                                                                                             \u001b[31m│\u001b[0m\n",
       "\u001b[31m│\u001b[0m                                                                                                  \u001b[31m│\u001b[0m\n",
       "\u001b[31m│\u001b[0m \u001b[2;33m/home/bunzelh/AIzymes/design/HAB/../../src/\u001b[0m\u001b[1;33mAIzymes_013.py\u001b[0m:\u001b[94m133\u001b[0m in \u001b[92mcontroller\u001b[0m                      \u001b[31m│\u001b[0m\n",
       "\u001b[31m│\u001b[0m                                                                                                  \u001b[31m│\u001b[0m\n",
       "\u001b[31m│\u001b[0m   \u001b[2m130 \u001b[0m\u001b[2m│   │   │   \u001b[0m\u001b[94mif\u001b[0m key \u001b[95mnot\u001b[0m \u001b[95min\u001b[0m [\u001b[33m'\u001b[0m\u001b[33mself\u001b[0m\u001b[33m'\u001b[0m]:                                                        \u001b[31m│\u001b[0m\n",
       "\u001b[31m│\u001b[0m   \u001b[2m131 \u001b[0m\u001b[2m│   │   │   │   \u001b[0m\u001b[96msetattr\u001b[0m(\u001b[96mself\u001b[0m, key, value)                                                  \u001b[31m│\u001b[0m\n",
       "\u001b[31m│\u001b[0m   \u001b[2m132 \u001b[0m\u001b[2m│   │   \u001b[0m                                                                                   \u001b[31m│\u001b[0m\n",
       "\u001b[31m│\u001b[0m \u001b[31m❱ \u001b[0m133 \u001b[2m│   │   \u001b[0mstart_controller(\u001b[96mself\u001b[0m)                                                             \u001b[31m│\u001b[0m\n",
       "\u001b[31m│\u001b[0m   \u001b[2m134 \u001b[0m\u001b[2m│   \u001b[0m                                                                                       \u001b[31m│\u001b[0m\n",
       "\u001b[31m│\u001b[0m   \u001b[2m135 \u001b[0m\u001b[2m│   \u001b[0m\u001b[94mdef\u001b[0m \u001b[92mplot\u001b[0m(\u001b[96mself\u001b[0m, main_plots=\u001b[94mTrue\u001b[0m, tree_plot=\u001b[94mTrue\u001b[0m, landscape_plot=\u001b[94mTrue\u001b[0m, print_vals=\u001b[94mTrue\u001b[0m   \u001b[31m│\u001b[0m\n",
       "\u001b[31m│\u001b[0m   \u001b[2m136 \u001b[0m\u001b[2;90m│   │   \u001b[0m\u001b[33m\"\"\"\u001b[0m                                                                                \u001b[31m│\u001b[0m\n",
       "\u001b[31m│\u001b[0m                                                                                                  \u001b[31m│\u001b[0m\n",
       "\u001b[31m│\u001b[0m \u001b[2;33m/home/bunzelh/AIzymes/design/HAB/../../src/\u001b[0m\u001b[1;33mmain_running_001.py\u001b[0m:\u001b[94m60\u001b[0m in \u001b[92mstart_controller\u001b[0m            \u001b[31m│\u001b[0m\n",
       "\u001b[31m│\u001b[0m                                                                                                  \u001b[31m│\u001b[0m\n",
       "\u001b[31m│\u001b[0m   \u001b[2m 57 \u001b[0m\u001b[2m│   │   \u001b[0m\u001b[94mif\u001b[0m num_running_jobs >= \u001b[96mself\u001b[0m.MAX_JOBS:                                              \u001b[31m│\u001b[0m\n",
       "\u001b[31m│\u001b[0m   \u001b[2m 58 \u001b[0m\u001b[2m│   │   │   \u001b[0m                                                                               \u001b[31m│\u001b[0m\n",
       "\u001b[31m│\u001b[0m   \u001b[2m 59 \u001b[0m\u001b[2m│   │   │   \u001b[0m\u001b[2m# Pause and continue after some time\u001b[0m                                           \u001b[31m│\u001b[0m\n",
       "\u001b[31m│\u001b[0m \u001b[31m❱ \u001b[0m 60 \u001b[2m│   │   │   \u001b[0mtime.sleep(\u001b[94m20\u001b[0m)                                                                 \u001b[31m│\u001b[0m\n",
       "\u001b[31m│\u001b[0m   \u001b[2m 61 \u001b[0m\u001b[2m│   │   \u001b[0m                                                                                   \u001b[31m│\u001b[0m\n",
       "\u001b[31m│\u001b[0m   \u001b[2m 62 \u001b[0m\u001b[2m│   │   \u001b[0m\u001b[94melse\u001b[0m:                                                                              \u001b[31m│\u001b[0m\n",
       "\u001b[31m│\u001b[0m   \u001b[2m 63 \u001b[0m                                                                                           \u001b[31m│\u001b[0m\n",
       "\u001b[31m╰──────────────────────────────────────────────────────────────────────────────────────────────────╯\u001b[0m\n",
       "\u001b[1;91mKeyboardInterrupt\u001b[0m\n"
      ]
     },
     "metadata": {},
     "output_type": "display_data"
    }
   ],
   "source": [
    "import sys, os\n",
    "if os.path.join(os.getcwd(), '../../src') not in sys.path: sys.path.append(os.path.join(os.getcwd(), '../../src'))\n",
    "from AIzymes_013 import *\n",
    "AIzymes = AIzymes_MAIN()\n",
    "AIzymes.initialize(FOLDER_HOME = 'HAB_refactor_standard_013', \n",
    "                   LOG=\"debug\", \n",
    "                   PRINT_VAR=False) #LOG=\"debug/info\"\n",
    "AIzymes.controller()"
   ]
  },
  {
   "cell_type": "code",
   "execution_count": null,
   "id": "b9a21715",
   "metadata": {},
   "outputs": [],
   "source": [
    "import sys, os\n",
    "if os.path.join(os.getcwd(), '../../src') not in sys.path: sys.path.append(os.path.join(os.getcwd(), '../../src'))\n",
    "from AIzymes_013 import *\n",
    "AIzymes = AIzymes_MAIN()\n",
    "AIzymes.initialize(FOLDER_HOME = 'HAB_refactor_standard_013', LOG=\"info\", PRINT_VAR=False) #LOG=\"debug/info\"\n",
    "AIzymes.plot()"
   ]
  },
  {
   "cell_type": "code",
   "execution_count": null,
   "id": "13a70fe2",
   "metadata": {},
   "outputs": [],
   "source": []
  }
 ],
 "metadata": {
  "kernelspec": {
   "display_name": "Python 3 (ipykernel)",
   "language": "python",
   "name": "python3"
  },
  "language_info": {
   "codemirror_mode": {
    "name": "ipython",
    "version": 3
   },
   "file_extension": ".py",
   "mimetype": "text/x-python",
   "name": "python",
   "nbconvert_exporter": "python",
   "pygments_lexer": "ipython3",
   "version": "3.7.16"
  }
 },
 "nbformat": 4,
 "nbformat_minor": 5
}
