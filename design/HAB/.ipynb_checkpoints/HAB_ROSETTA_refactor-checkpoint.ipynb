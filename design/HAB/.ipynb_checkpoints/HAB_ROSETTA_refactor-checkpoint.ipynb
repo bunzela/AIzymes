{
 "cells": [
  {
   "cell_type": "code",
   "execution_count": 1,
   "id": "8b4b8893",
   "metadata": {
    "scrolled": true
   },
   "outputs": [
    {
     "name": "stdout",
     "output_type": "stream",
     "text": [
      "Do you really want to restart AIzymes from scratch? \n",
      "    This will delete all existing files in /home/bunzelh/AIzymes/design/HAB/HAB_refactor_standard_013 [y/n]\n",
      "\n",
      "    y\n"
     ]
    },
    {
     "name": "stderr",
     "output_type": "stream",
     "text": [
      "2024-10-08 08:18:23 - INFO - Running AI.zymes setup.\n",
      "2024-10-08 08:18:23 - INFO - Content of /home/bunzelh/AIzymes/design/HAB/HAB_refactor_standard_013 deleted.\n",
      "2024-10-08 08:18:23 - INFO - Happy AI.zymeing! :)\n"
     ]
    },
    {
     "name": "stdout",
     "output_type": "stream",
     "text": [
      "AIzymes initiated.\n",
      "\n"
     ]
    }
   ],
   "source": [
    "import sys, os\n",
    "if os.path.join(os.getcwd(), '../../src') not in sys.path: sys.path.append(os.path.join(os.getcwd(), '../../src'))\n",
    "from AIzymes_013 import *\n",
    "\n",
    "# GENERAL SETTINGS FOR AI.zymes -------------------------------------------------------------------------------------------\n",
    "AIzymes = AIzymes_MAIN()\n",
    "AIzymes.setup(FOLDER_HOME = 'HAB_refactor_standard_013',\n",
    "  FOLDER_PARENT     = 'parent',\n",
    "  MAX_JOBS          = 10,\n",
    "  N_PARENT_JOBS     = 10,\n",
    "  MAX_DESIGNS       = 50,\n",
    "  KBT_BOLTZMANN     = [0.5, 0.0003],\n",
    "  CST_WEIGHT        = 1.0,\n",
    "  CST_NAME          = \"5TS_enzdes_planar_tAB100\",\n",
    "  WT                = \"7vuu\",\n",
    "  LIGAND            = \"5TS\",\n",
    "  DESIGN            = \"4,8,16,21,25,28,40,41,44,52,57,60,61\",\n",
    "  SUBMIT_PREFIX     = \"REF\",\n",
    "  SYSTEM            = \"GRID\",\n",
    "  EXPLORE           = True,\n",
    " )"
   ]
  },
  {
   "cell_type": "code",
   "execution_count": 2,
   "id": "5aadc10c",
   "metadata": {
    "scrolled": false
   },
   "outputs": [
    {
     "name": "stderr",
     "output_type": "stream",
     "text": [
      "2024-10-08 08:18:24 - DEBUG - Updating scores\n",
      "2024-10-08 08:18:24 - DEBUG - Parent design not yet done. 1/10 jobs submitted.\n",
      "2024-10-08 08:18:24 - DEBUG - Child index 0 created for Parent.\n",
      "2024-10-08 08:18:24 - DEBUG - Run RosettaDesign for index 0 based on index 0.\n",
      "2024-10-08 08:18:24 - DEBUG - Your job 1619480 (\"REF_RosettaDesign_0\") has been submitted\n",
      "2024-10-08 08:18:24 - DEBUG - Updating scores\n",
      "2024-10-08 08:18:24 - DEBUG - Parent design not yet done. 2/10 jobs submitted.\n",
      "2024-10-08 08:18:24 - DEBUG - Child index 1 created for Parent.\n",
      "2024-10-08 08:18:24 - DEBUG - Run RosettaDesign for index 1 based on index 1.\n",
      "2024-10-08 08:18:24 - DEBUG - Your job 1619481 (\"REF_RosettaDesign_1\") has been submitted\n",
      "2024-10-08 08:18:24 - DEBUG - Updating scores\n",
      "2024-10-08 08:18:24 - DEBUG - Parent design not yet done. 3/10 jobs submitted.\n",
      "2024-10-08 08:18:24 - DEBUG - Child index 2 created for Parent.\n",
      "2024-10-08 08:18:24 - DEBUG - Run RosettaDesign for index 2 based on index 2.\n",
      "2024-10-08 08:18:24 - DEBUG - Your job 1619482 (\"REF_RosettaDesign_2\") has been submitted\n",
      "2024-10-08 08:18:24 - DEBUG - Updating scores\n",
      "2024-10-08 08:18:24 - DEBUG - Parent design not yet done. 4/10 jobs submitted.\n",
      "2024-10-08 08:18:25 - DEBUG - Child index 3 created for Parent.\n",
      "2024-10-08 08:18:25 - DEBUG - Run RosettaDesign for index 3 based on index 3.\n",
      "2024-10-08 08:18:25 - DEBUG - Your job 1619483 (\"REF_RosettaDesign_3\") has been submitted\n",
      "2024-10-08 08:18:25 - DEBUG - Updating scores\n",
      "2024-10-08 08:18:25 - DEBUG - Parent design not yet done. 5/10 jobs submitted.\n",
      "2024-10-08 08:18:25 - DEBUG - Child index 4 created for Parent.\n",
      "2024-10-08 08:18:25 - DEBUG - Run RosettaDesign for index 4 based on index 4.\n",
      "2024-10-08 08:18:25 - DEBUG - Your job 1619484 (\"REF_RosettaDesign_4\") has been submitted\n",
      "2024-10-08 08:18:25 - DEBUG - Updating scores\n",
      "2024-10-08 08:18:25 - DEBUG - Parent design not yet done. 6/10 jobs submitted.\n",
      "2024-10-08 08:18:25 - DEBUG - Child index 5 created for Parent.\n",
      "2024-10-08 08:18:25 - DEBUG - Run RosettaDesign for index 5 based on index 5.\n",
      "2024-10-08 08:18:25 - DEBUG - Your job 1619485 (\"REF_RosettaDesign_5\") has been submitted\n",
      "2024-10-08 08:18:25 - DEBUG - Updating scores\n",
      "2024-10-08 08:18:25 - DEBUG - Parent design not yet done. 7/10 jobs submitted.\n",
      "2024-10-08 08:18:25 - DEBUG - Child index 6 created for Parent.\n",
      "2024-10-08 08:18:25 - DEBUG - Run RosettaDesign for index 6 based on index 6.\n",
      "2024-10-08 08:18:25 - DEBUG - Your job 1619486 (\"REF_RosettaDesign_6\") has been submitted\n",
      "2024-10-08 08:18:25 - DEBUG - Updating scores\n",
      "2024-10-08 08:18:25 - DEBUG - Parent design not yet done. 8/10 jobs submitted.\n",
      "2024-10-08 08:18:25 - DEBUG - Child index 7 created for Parent.\n",
      "2024-10-08 08:18:25 - DEBUG - Run RosettaDesign for index 7 based on index 7.\n",
      "2024-10-08 08:18:25 - DEBUG - Your job 1619487 (\"REF_RosettaDesign_7\") has been submitted\n",
      "2024-10-08 08:18:26 - DEBUG - Updating scores\n",
      "2024-10-08 08:18:26 - DEBUG - Parent design not yet done. 9/10 jobs submitted.\n",
      "2024-10-08 08:18:26 - DEBUG - Child index 8 created for Parent.\n",
      "2024-10-08 08:18:26 - DEBUG - Run RosettaDesign for index 8 based on index 8.\n",
      "2024-10-08 08:18:26 - DEBUG - Your job 1619488 (\"REF_RosettaDesign_8\") has been submitted\n",
      "2024-10-08 08:18:26 - DEBUG - Updating scores\n",
      "2024-10-08 08:18:26 - DEBUG - Parent design not yet done. 10/10 jobs submitted.\n",
      "2024-10-08 08:18:26 - DEBUG - Child index 9 created for Parent.\n",
      "2024-10-08 08:18:26 - DEBUG - Run RosettaDesign for index 9 based on index 9.\n",
      "2024-10-08 08:18:26 - DEBUG - Your job 1619489 (\"REF_RosettaDesign_9\") has been submitted\n",
      "2024-10-08 08:20:28 - DEBUG - Updating scores\n",
      "2024-10-08 08:20:29 - INFO - Updated scores and potentials of index 7.\n",
      "2024-10-08 08:20:29 - DEBUG - Starting new calculation for index 7.\n",
      "2024-10-08 08:20:29 - INFO - Index 7 has no predicted structure, starting ESMfold.\n",
      "2024-10-08 08:20:29 - DEBUG - Run ESMfold for index 7.\n",
      "2024-10-08 08:20:29 - DEBUG - Your job 1619506 (\"REF_ESMfold_7\") has been submitted\n",
      "2024-10-08 08:21:09 - DEBUG - Updating scores\n",
      "2024-10-08 08:21:10 - INFO - Updated scores and potentials of index 0.\n",
      "2024-10-08 08:21:10 - INFO - Updated scores and potentials of index 2.\n",
      "2024-10-08 08:21:10 - DEBUG - Starting new calculation for index 0.\n",
      "2024-10-08 08:21:10 - INFO - Index 0 has no predicted structure, starting ESMfold.\n",
      "2024-10-08 08:21:10 - DEBUG - Run ESMfold for index 0.\n",
      "2024-10-08 08:21:10 - DEBUG - Your job 1619510 (\"REF_ESMfold_0\") has been submitted\n",
      "2024-10-08 08:21:10 - DEBUG - Updating scores\n",
      "2024-10-08 08:21:10 - DEBUG - Starting new calculation for index 2.\n",
      "2024-10-08 08:21:10 - INFO - Index 2 has no predicted structure, starting ESMfold.\n",
      "2024-10-08 08:21:10 - DEBUG - Run ESMfold for index 2.\n",
      "2024-10-08 08:21:10 - DEBUG - Your job 1619511 (\"REF_ESMfold_2\") has been submitted\n",
      "2024-10-08 08:24:32 - DEBUG - Updating scores\n",
      "2024-10-08 08:24:33 - INFO - Updated scores and potentials of index 1.\n",
      "2024-10-08 08:24:34 - INFO - Updated scores and potentials of index 8.\n",
      "2024-10-08 08:24:34 - INFO - Updated scores and potentials of index 9.\n",
      "2024-10-08 08:24:34 - DEBUG - Starting new calculation for index 1.\n",
      "2024-10-08 08:24:34 - INFO - Index 1 has no predicted structure, starting ESMfold.\n",
      "2024-10-08 08:24:34 - DEBUG - Run ESMfold for index 1.\n",
      "2024-10-08 08:24:34 - DEBUG - Your job 1619516 (\"REF_ESMfold_1\") has been submitted\n",
      "2024-10-08 08:24:34 - DEBUG - Updating scores\n",
      "2024-10-08 08:24:34 - DEBUG - Starting new calculation for index 8.\n",
      "2024-10-08 08:24:34 - INFO - Index 8 has no predicted structure, starting ESMfold.\n",
      "2024-10-08 08:24:34 - DEBUG - Run ESMfold for index 8.\n",
      "2024-10-08 08:24:34 - DEBUG - Your job 1619517 (\"REF_ESMfold_8\") has been submitted\n",
      "2024-10-08 08:24:35 - DEBUG - Updating scores\n",
      "2024-10-08 08:24:35 - DEBUG - Starting new calculation for index 9.\n",
      "2024-10-08 08:24:35 - INFO - Index 9 has no predicted structure, starting ESMfold.\n",
      "2024-10-08 08:24:35 - DEBUG - Run ESMfold for index 9.\n",
      "2024-10-08 08:24:35 - DEBUG - Your job 1619518 (\"REF_ESMfold_9\") has been submitted\n",
      "2024-10-08 08:25:35 - DEBUG - Updating scores\n",
      "2024-10-08 08:25:36 - INFO - Updated scores and potentials of index 4.\n",
      "2024-10-08 08:25:36 - DEBUG - Starting new calculation for index 4.\n",
      "2024-10-08 08:25:36 - INFO - Index 4 has no predicted structure, starting ESMfold.\n",
      "2024-10-08 08:25:36 - DEBUG - Run ESMfold for index 4.\n",
      "2024-10-08 08:25:36 - DEBUG - Your job 1619519 (\"REF_ESMfold_4\") has been submitted\n",
      "2024-10-08 08:27:57 - DEBUG - Updating scores\n",
      "2024-10-08 08:27:58 - INFO - Updated scores and potentials of index 5.\n",
      "2024-10-08 08:27:58 - DEBUG - Starting new calculation for index 5.\n",
      "2024-10-08 08:27:58 - INFO - Index 5 has no predicted structure, starting ESMfold.\n",
      "2024-10-08 08:27:58 - DEBUG - Run ESMfold for index 5.\n",
      "2024-10-08 08:27:58 - DEBUG - Your job 1619522 (\"REF_ESMfold_5\") has been submitted\n",
      "2024-10-08 08:32:00 - DEBUG - Updating scores\n",
      "2024-10-08 08:32:01 - INFO - Updated scores and potentials of index 3.\n",
      "2024-10-08 08:32:02 - INFO - Updated scores and potentials of index 6.\n",
      "2024-10-08 08:32:02 - DEBUG - Starting new calculation for index 3.\n",
      "2024-10-08 08:32:02 - INFO - Index 3 has no predicted structure, starting ESMfold.\n",
      "2024-10-08 08:32:02 - DEBUG - Run ESMfold for index 3.\n",
      "2024-10-08 08:32:02 - DEBUG - Your job 1619531 (\"REF_ESMfold_3\") has been submitted\n",
      "2024-10-08 08:32:02 - DEBUG - Updating scores\n",
      "2024-10-08 08:32:02 - DEBUG - Starting new calculation for index 6.\n",
      "2024-10-08 08:32:02 - INFO - Index 6 has no predicted structure, starting ESMfold.\n",
      "2024-10-08 08:32:02 - DEBUG - Run ESMfold for index 6.\n",
      "2024-10-08 08:32:02 - DEBUG - Your job 1619532 (\"REF_ESMfold_6\") has been submitted\n"
     ]
    },
    {
     "ename": "KeyboardInterrupt",
     "evalue": "",
     "output_type": "error",
     "traceback": [
      "\u001b[0;31m---------------------------------------------------------------------------\u001b[0m",
      "\u001b[0;31mKeyboardInterrupt\u001b[0m                         Traceback (most recent call last)",
      "\u001b[0;32m/tmp/ipykernel_16090/3426467122.py\u001b[0m in \u001b[0;36m<module>\u001b[0;34m\u001b[0m\n\u001b[1;32m      6\u001b[0m                    \u001b[0mLOG\u001b[0m\u001b[0;34m=\u001b[0m\u001b[0;34m\"debug\"\u001b[0m\u001b[0;34m,\u001b[0m\u001b[0;34m\u001b[0m\u001b[0;34m\u001b[0m\u001b[0m\n\u001b[1;32m      7\u001b[0m                    PRINT_VAR=False) #LOG=\"debug/info\"\n\u001b[0;32m----> 8\u001b[0;31m \u001b[0mAIzymes\u001b[0m\u001b[0;34m.\u001b[0m\u001b[0mcontroller\u001b[0m\u001b[0;34m(\u001b[0m\u001b[0;34m)\u001b[0m\u001b[0;34m\u001b[0m\u001b[0;34m\u001b[0m\u001b[0m\n\u001b[0m",
      "\u001b[0;32m~/AIzymes/design/HAB/../../src/AIzymes_013.py\u001b[0m in \u001b[0;36mcontroller\u001b[0;34m(self, HIGHSCORE, NORM)\u001b[0m\n\u001b[1;32m     86\u001b[0m                 \u001b[0msetattr\u001b[0m\u001b[0;34m(\u001b[0m\u001b[0mself\u001b[0m\u001b[0;34m,\u001b[0m \u001b[0mkey\u001b[0m\u001b[0;34m,\u001b[0m \u001b[0mvalue\u001b[0m\u001b[0;34m)\u001b[0m\u001b[0;34m\u001b[0m\u001b[0;34m\u001b[0m\u001b[0m\n\u001b[1;32m     87\u001b[0m \u001b[0;34m\u001b[0m\u001b[0m\n\u001b[0;32m---> 88\u001b[0;31m         \u001b[0mstart_controller\u001b[0m\u001b[0;34m(\u001b[0m\u001b[0mself\u001b[0m\u001b[0;34m)\u001b[0m\u001b[0;34m\u001b[0m\u001b[0;34m\u001b[0m\u001b[0m\n\u001b[0m\u001b[1;32m     89\u001b[0m \u001b[0;34m\u001b[0m\u001b[0m\n\u001b[1;32m     90\u001b[0m     \u001b[0;32mdef\u001b[0m \u001b[0mplot\u001b[0m\u001b[0;34m(\u001b[0m\u001b[0mself\u001b[0m\u001b[0;34m)\u001b[0m\u001b[0;34m:\u001b[0m\u001b[0;34m\u001b[0m\u001b[0;34m\u001b[0m\u001b[0m\n",
      "\u001b[0;32m~/AIzymes/design/HAB/../../src/main_running_001.py\u001b[0m in \u001b[0;36mstart_controller\u001b[0;34m(self)\u001b[0m\n\u001b[1;32m     26\u001b[0m \u001b[0;34m\u001b[0m\u001b[0m\n\u001b[1;32m     27\u001b[0m             \u001b[0;31m# Pause and continue after some time\u001b[0m\u001b[0;34m\u001b[0m\u001b[0;34m\u001b[0m\u001b[0;34m\u001b[0m\u001b[0m\n\u001b[0;32m---> 28\u001b[0;31m             \u001b[0mtime\u001b[0m\u001b[0;34m.\u001b[0m\u001b[0msleep\u001b[0m\u001b[0;34m(\u001b[0m\u001b[0;36m20\u001b[0m\u001b[0;34m)\u001b[0m\u001b[0;34m\u001b[0m\u001b[0;34m\u001b[0m\u001b[0m\n\u001b[0m\u001b[1;32m     29\u001b[0m \u001b[0;34m\u001b[0m\u001b[0m\n\u001b[1;32m     30\u001b[0m         \u001b[0;32melse\u001b[0m\u001b[0;34m:\u001b[0m\u001b[0;34m\u001b[0m\u001b[0;34m\u001b[0m\u001b[0m\n",
      "\u001b[0;31mKeyboardInterrupt\u001b[0m: "
     ]
    }
   ],
   "source": [
    "import sys, os\n",
    "if os.path.join(os.getcwd(), '../../src') not in sys.path: sys.path.append(os.path.join(os.getcwd(), '../../src'))\n",
    "from AIzymes_013 import *\n",
    "AIzymes = AIzymes_MAIN()\n",
    "AIzymes.initialize(FOLDER_HOME = 'HAB_refactor_standard_013', \n",
    "                   LOG=\"debug\", \n",
    "                   PRINT_VAR=False) #LOG=\"debug/info\"\n",
    "AIzymes.controller()"
   ]
  },
  {
   "cell_type": "code",
   "execution_count": null,
   "id": "b9a21715",
   "metadata": {},
   "outputs": [],
   "source": [
    "import sys, os\n",
    "if os.path.join(os.getcwd(), '../../src') not in sys.path: sys.path.append(os.path.join(os.getcwd(), '../../src'))\n",
    "from AIzymes_013 import *\n",
    "AIzymes = AIzymes_MAIN()\n",
    "AIzymes.initialize(FOLDER_HOME = 'HAB_refactor_standard_013', LOG=\"info\", PRINT_VAR=False) #LOG=\"debug/info\"\n",
    "AIzymes.plot()"
   ]
  },
  {
   "cell_type": "code",
   "execution_count": null,
   "id": "13a70fe2",
   "metadata": {},
   "outputs": [],
   "source": []
  }
 ],
 "metadata": {
  "kernelspec": {
   "display_name": "Python 3 (ipykernel)",
   "language": "python",
   "name": "python3"
  },
  "language_info": {
   "codemirror_mode": {
    "name": "ipython",
    "version": 3
   },
   "file_extension": ".py",
   "mimetype": "text/x-python",
   "name": "python",
   "nbconvert_exporter": "python",
   "pygments_lexer": "ipython3",
   "version": "3.7.16"
  }
 },
 "nbformat": 4,
 "nbformat_minor": 5
}
