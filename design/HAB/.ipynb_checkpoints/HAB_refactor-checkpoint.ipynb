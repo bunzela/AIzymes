{
 "cells": [
  {
   "cell_type": "code",
   "execution_count": 10,
   "id": "8b4b8893",
   "metadata": {
    "scrolled": true
   },
   "outputs": [
    {
     "name": "stdout",
     "output_type": "stream",
     "text": [
      "/home/bunzelh/AIzymes/design/HAB/../../src\n",
      "Do you really want to restart AIzymes from scratch? \n",
      "    This will delete all existing files in /home/bunzelh/AIzymes/design/HAB/AB_refactor_standard_013 [y/n]\n",
      "\n",
      "    y\n"
     ]
    },
    {
     "name": "stderr",
     "output_type": "stream",
     "text": [
      "2024-09-30 12:50:10 - INFO - Running AI.zymes setup.\n",
      "2024-09-30 12:50:10 - INFO - Content of /home/bunzelh/AIzymes/design/HAB/AB_refactor_standard_013 deleted.\n",
      "2024-09-30 12:50:10 - INFO - Happy AI.zymeing! :)\n"
     ]
    },
    {
     "name": "stdout",
     "output_type": "stream",
     "text": [
      "\n",
      "Attention: - HAB removed Protein / LigandMPNN from run_ESMfold_RosettaRelax as this breaks the logic of the programm\n",
      "           - All operations are now started through run_design (accepts a list of commands to be run in sequence!)\n",
      "           - All system-specific definitions moved to set_system.\n",
      "          \n",
      "To DO      - Plotting does not yet work\n",
      "           - Protein / LigandMPNN\n",
      "\n",
      "\n",
      "AIzymes initiated.\n",
      "\n"
     ]
    }
   ],
   "source": [
    "import sys, os\n",
    "if os.path.join(os.getcwd(), '../../src') not in sys.path: sys.path.append(os.path.join(os.getcwd(), '../../src'))\n",
    "from AIzymes_013 import *\n",
    "\n",
    "# GENERAL SETTINGS FOR AI.zymes -------------------------------------------------------------------------------------------\n",
    "AIzymes = AIzymes_MAIN()\n",
    "AIzymes = AIzymes.setup(FOLDER_HOME = 'AB_refactor_standard_013',\n",
    "  FOLDER_PARENT     = 'Parent',\n",
    "  MAX_JOBS          = 10,\n",
    "  N_PARENT_JOBS     = 10,\n",
    "  MAX_DESIGNS       = 15,\n",
    "  KBT_BOLTZMANN     = [0.5, 0.0003],\n",
    "  CST_WEIGHT        = 1.0,\n",
    "  CST_NAME          = \"5TS_enzdes_planar_tAB100\",\n",
    "  WT                = \"7vuu\",\n",
    "  LIGAND            = \"5TS\",\n",
    "  DESIGN            = \"4,8,16,21,25,28,40,41,44,52,57,60,61\",\n",
    "  ProteinMPNN_T     = \"0.1\",\n",
    "  LMPNN_T           = \"0.1\",\n",
    "  SUBMIT_PREFIX     = \"ref\",\n",
    "  SYSTEM            = \"GRID\",\n",
    "  ROSETTA_PATH      = \"/home/bunzelh/rosetta_src_2021.16.61629_bundle/main/source/\",\n",
    "  EXPLORE           = True,\n",
    "  FIELD_TOOLS       = '../../src/FieldTools.py'\n",
    " )"
   ]
  },
  {
   "cell_type": "code",
   "execution_count": null,
   "id": "5aadc10c",
   "metadata": {
    "scrolled": false
   },
   "outputs": [
    {
     "name": "stderr",
     "output_type": "stream",
     "text": [
      "2024-09-30 12:53:59 - DEBUG - Updating scores\n",
      "2024-09-30 12:53:59 - DEBUG - Starting new calculation for index 9.\n",
      "2024-09-30 12:53:59 - INFO - Index 9 has no relaxed structure, starting ESMfold and RosettaRelax.\n",
      "2024-09-30 12:53:59 - DEBUG - Run ESMfold for index 9.\n",
      "2024-09-30 12:53:59 - DEBUG - Run RosettaRelax for index 9.\n",
      "2024-09-30 12:53:59 - DEBUG - Your job 1615545 (\"ref_ESMfold_RosettaRelax_9\") has been submitted\n",
      "2024-09-30 12:53:59 - DEBUG - Updating scores\n",
      "2024-09-30 12:53:59 - DEBUG - Starting new calculation for index 8.\n",
      "2024-09-30 12:53:59 - INFO - Index 8 has no relaxed structure, starting ESMfold and RosettaRelax.\n",
      "2024-09-30 12:53:59 - DEBUG - Run ESMfold for index 8.\n",
      "2024-09-30 12:53:59 - DEBUG - Run RosettaRelax for index 8.\n",
      "2024-09-30 12:53:59 - DEBUG - Your job 1615546 (\"ref_ESMfold_RosettaRelax_8\") has been submitted\n",
      "2024-09-30 12:53:59 - DEBUG - Updating scores\n",
      "2024-09-30 12:53:59 - DEBUG - Starting new calculation for index 7.\n",
      "2024-09-30 12:53:59 - INFO - Index 7 has no relaxed structure, starting ESMfold and RosettaRelax.\n",
      "2024-09-30 12:53:59 - DEBUG - Run ESMfold for index 7.\n",
      "2024-09-30 12:53:59 - DEBUG - Run RosettaRelax for index 7.\n",
      "2024-09-30 12:53:59 - DEBUG - Your job 1615547 (\"ref_ESMfold_RosettaRelax_7\") has been submitted\n",
      "2024-09-30 12:53:59 - DEBUG - Updating scores\n",
      "2024-09-30 12:54:20 - DEBUG - Updating scores\n",
      "2024-09-30 12:54:20 - INFO - Updated scores and potentials of index 6.\n",
      "2024-09-30 12:54:20 - DEBUG - Starting new calculation for index 6.\n",
      "2024-09-30 12:54:20 - INFO - Index 6 has no relaxed structure, starting ESMfold and RosettaRelax.\n",
      "2024-09-30 12:54:20 - DEBUG - Run ESMfold for index 6.\n",
      "2024-09-30 12:54:20 - DEBUG - Run RosettaRelax for index 6.\n",
      "2024-09-30 12:54:20 - DEBUG - Your job 1615548 (\"ref_ESMfold_RosettaRelax_6\") has been submitted\n",
      "2024-09-30 12:54:20 - DEBUG - Updating scores\n",
      "2024-09-30 12:54:41 - DEBUG - Updating scores\n",
      "2024-09-30 12:55:01 - DEBUG - Updating scores\n",
      "2024-09-30 12:55:02 - INFO - Updated scores and potentials of index 1.\n",
      "2024-09-30 12:55:02 - INFO - Updated scores and potentials of index 3.\n",
      "2024-09-30 12:55:03 - INFO - Updated scores and potentials of index 4.\n",
      "2024-09-30 12:55:04 - INFO - Updated scores and potentials of index 5.\n",
      "2024-09-30 12:55:04 - DEBUG - Starting new calculation for index 4.\n",
      "2024-09-30 12:55:04 - INFO - Index 4 has no relaxed structure, starting ESMfold and RosettaRelax.\n",
      "2024-09-30 12:55:04 - DEBUG - Run ESMfold for index 4.\n",
      "2024-09-30 12:55:04 - DEBUG - Run RosettaRelax for index 4.\n",
      "2024-09-30 12:55:04 - DEBUG - Your job 1615549 (\"ref_ESMfold_RosettaRelax_4\") has been submitted\n",
      "2024-09-30 12:55:04 - DEBUG - Updating scores\n",
      "2024-09-30 12:55:04 - DEBUG - Starting new calculation for index 1.\n",
      "2024-09-30 12:55:04 - INFO - Index 1 has no relaxed structure, starting ESMfold and RosettaRelax.\n",
      "2024-09-30 12:55:04 - DEBUG - Run ESMfold for index 1.\n",
      "2024-09-30 12:55:04 - DEBUG - Run RosettaRelax for index 1.\n",
      "2024-09-30 12:55:04 - DEBUG - Your job 1615550 (\"ref_ESMfold_RosettaRelax_1\") has been submitted\n",
      "2024-09-30 12:55:05 - DEBUG - Updating scores\n",
      "2024-09-30 12:55:05 - DEBUG - Starting new calculation for index 3.\n",
      "2024-09-30 12:55:05 - INFO - Index 3 has no relaxed structure, starting ESMfold and RosettaRelax.\n",
      "2024-09-30 12:55:05 - DEBUG - Run ESMfold for index 3.\n",
      "2024-09-30 12:55:05 - DEBUG - Run RosettaRelax for index 3.\n",
      "2024-09-30 12:55:05 - DEBUG - Your job 1615551 (\"ref_ESMfold_RosettaRelax_3\") has been submitted\n",
      "2024-09-30 12:55:05 - DEBUG - Updating scores\n",
      "2024-09-30 12:55:05 - DEBUG - Starting new calculation for index 5.\n",
      "2024-09-30 12:55:05 - INFO - Index 5 has no relaxed structure, starting ESMfold and RosettaRelax.\n",
      "2024-09-30 12:55:05 - DEBUG - Run ESMfold for index 5.\n",
      "2024-09-30 12:55:05 - DEBUG - Run RosettaRelax for index 5.\n",
      "2024-09-30 12:55:05 - DEBUG - Your job 1615552 (\"ref_ESMfold_RosettaRelax_5\") has been submitted\n",
      "2024-09-30 12:55:05 - DEBUG - Updating scores\n",
      "2024-09-30 12:55:25 - DEBUG - Updating scores\n",
      "2024-09-30 12:55:26 - INFO - Updated scores and potentials of index 2.\n",
      "2024-09-30 12:55:26 - DEBUG - Starting new calculation for index 2.\n",
      "2024-09-30 12:55:26 - INFO - Index 2 has no relaxed structure, starting ESMfold and RosettaRelax.\n",
      "2024-09-30 12:55:26 - DEBUG - Run ESMfold for index 2.\n",
      "2024-09-30 12:55:26 - DEBUG - Run RosettaRelax for index 2.\n",
      "2024-09-30 12:55:26 - DEBUG - Your job 1615553 (\"ref_ESMfold_RosettaRelax_2\") has been submitted\n",
      "2024-09-30 12:55:26 - DEBUG - Updating scores\n",
      "2024-09-30 12:55:46 - DEBUG - Updating scores\n",
      "2024-09-30 12:56:07 - DEBUG - Updating scores\n",
      "2024-09-30 12:56:27 - DEBUG - Updating scores\n",
      "2024-09-30 12:56:47 - DEBUG - Updating scores\n",
      "2024-09-30 12:57:07 - DEBUG - Updating scores\n"
     ]
    }
   ],
   "source": [
    "import sys, os\n",
    "if os.path.join(os.getcwd(), '../../src') not in sys.path: sys.path.append(os.path.join(os.getcwd(), '../../src'))\n",
    "from AIzymes_013 import *\n",
    "AIzymes = AIzymes_MAIN()\n",
    "AIzymes.initialize(FOLDER_HOME = 'AB_refactor_standard_013', LOG=\"debug\", PRINT_VAR=False) #LOG=\"debug/info\"\n",
    "AIzymes.controller()"
   ]
  },
  {
   "cell_type": "code",
   "execution_count": 9,
   "id": "4db205de",
   "metadata": {},
   "outputs": [],
   "source": [
    "#!qdel -u bunzelh\n",
    "#!rm -r /home/bunzelh/AIzymes/design/HAB/AB_refactor_standard_013"
   ]
  },
  {
   "cell_type": "code",
   "execution_count": 4,
   "id": "ceeafc31",
   "metadata": {},
   "outputs": [
    {
     "name": "stdout",
     "output_type": "stream",
     "text": [
      "8\n",
      "job-ID  prior   name       user         state submit/start at     queue                          slots ja-task-ID \n",
      "-----------------------------------------------------------------------------------------------------------------\n",
      "1615520 0.55500 ref_Rosett bunzelh      r     09/30/2024 12:46:27 regular.q@bs-dsvr57.ethz.ch        1        \n",
      "1615521 0.55500 ref_Rosett bunzelh      r     09/30/2024 12:46:27 regular.q@bs-dsvr58.ethz.ch        1        \n",
      "1615523 0.55500 ref_Rosett bunzelh      r     09/30/2024 12:46:27 regular.q@bs-grid72.ethz.ch        1        \n",
      "1615524 0.55500 ref_Rosett bunzelh      r     09/30/2024 12:46:27 regular.q@bs-grid73.ethz.ch        1        \n",
      "1615525 0.55500 ref_Rosett bunzelh      r     09/30/2024 12:46:27 regular.q@bs-grid77.ethz.ch        1        \n",
      "1615528 0.55500 ref_Rosett bunzelh      r     09/30/2024 12:46:27 regular.q@bs-grid75.ethz.ch        1        \n",
      "1615529 0.55500 ref_Rosett bunzelh      r     09/30/2024 12:46:27 regular.q@bs-grid68.ethz.ch        1        \n",
      "1615530 0.55500 ref_ESMfol bunzelh      r     09/30/2024 12:48:27 regular.q@bs-dsvr69.ethz.ch        1        \n"
     ]
    }
   ],
   "source": [
    "!qstat | grep ref | wc -l\n",
    "!qstat "
   ]
  },
  {
   "cell_type": "code",
   "execution_count": null,
   "id": "03341e61",
   "metadata": {},
   "outputs": [],
   "source": [
    "!ls "
   ]
  },
  {
   "cell_type": "code",
   "execution_count": null,
   "id": "08370e4e",
   "metadata": {},
   "outputs": [],
   "source": []
  },
  {
   "cell_type": "code",
   "execution_count": null,
   "id": "6dc65d57",
   "metadata": {},
   "outputs": [],
   "source": []
  }
 ],
 "metadata": {
  "kernelspec": {
   "display_name": "Python 3 (ipykernel)",
   "language": "python",
   "name": "python3"
  },
  "language_info": {
   "codemirror_mode": {
    "name": "ipython",
    "version": 3
   },
   "file_extension": ".py",
   "mimetype": "text/x-python",
   "name": "python",
   "nbconvert_exporter": "python",
   "pygments_lexer": "ipython3",
   "version": "3.7.16"
  }
 },
 "nbformat": 4,
 "nbformat_minor": 5
}
