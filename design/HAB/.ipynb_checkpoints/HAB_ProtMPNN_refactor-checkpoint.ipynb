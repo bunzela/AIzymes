{
 "cells": [
  {
   "cell_type": "code",
   "execution_count": 1,
   "id": "8b4b8893",
   "metadata": {},
   "outputs": [
    {
     "name": "stdout",
     "output_type": "stream",
     "text": [
      "Do you really want to restart AIzymes from scratch? \n",
      "    This will delete all existing files in /home/bunzelh/AIzymes/design/HAB/HAB_refactor_ProtMPNN_013 [y/n]\n",
      "\n",
      "    y\n"
     ]
    },
    {
     "name": "stderr",
     "output_type": "stream",
     "text": [
      "2024-10-08 08:18:27 - INFO - Running AI.zymes setup.\n",
      "2024-10-08 08:18:27 - INFO - Content of /home/bunzelh/AIzymes/design/HAB/HAB_refactor_ProtMPNN_013 deleted.\n",
      "2024-10-08 08:18:27 - INFO - Happy AI.zymeing! :)\n"
     ]
    },
    {
     "name": "stdout",
     "output_type": "stream",
     "text": [
      "AIzymes initiated.\n",
      "\n"
     ]
    }
   ],
   "source": [
    "import sys, os\n",
    "if os.path.join(os.getcwd(), '../../src') not in sys.path: sys.path.append(os.path.join(os.getcwd(), '../../src'))\n",
    "from AIzymes_013 import *\n",
    "\n",
    "# GENERAL SETTINGS FOR AI.zymes -------------------------------------------------------------------------------------------\n",
    "AIzymes = AIzymes_MAIN()\n",
    "AIzymes.setup(FOLDER_HOME = 'HAB_refactor_ProtMPNN_013',\n",
    "  FOLDER_PARENT     = 'parent',\n",
    "  MAX_JOBS          = 10,\n",
    "  N_PARENT_JOBS     = 10,\n",
    "  MAX_DESIGNS       = 50,\n",
    "  KBT_BOLTZMANN     = [0.5, 0.0003],\n",
    "  CST_WEIGHT        = 1.0,\n",
    "  ProteinMPNN_PROB  = 1.0,\n",
    "  ProteinMPNN_BIAS  = 0.5,\n",
    "  CST_NAME          = \"5TS_enzdes_planar_tAB100\",\n",
    "  WT                = \"7vuu\",\n",
    "  LIGAND            = \"5TS\",\n",
    "  DESIGN            = \"4,8,16,21,25,28,40,41,44,52,57,60,61\",\n",
    "  ProteinMPNN_T     = \"0.1\",\n",
    "  SUBMIT_PREFIX     = \"mpnn\",\n",
    "  SYSTEM            = \"GRID\",\n",
    "  ROSETTA_PATH      = \"/home/bunzelh/rosetta_src_2021.16.61629_bundle/main/source/\",\n",
    "  EXPLORE           = True,\n",
    "  FIELD_TOOLS       = '../../src/FieldTools.py',\n",
    "  PARENT_DES_MED    = 'ProteinMPNN'\n",
    " )"
   ]
  },
  {
   "cell_type": "code",
   "execution_count": 2,
   "id": "5aadc10c",
   "metadata": {
    "scrolled": false
   },
   "outputs": [
    {
     "name": "stderr",
     "output_type": "stream",
     "text": [
      "2024-10-08 08:18:29 - DEBUG - Updating scores\n",
      "2024-10-08 08:18:29 - DEBUG - Parent design not yet done. 1/10 jobs submitted.\n",
      "2024-10-08 08:18:29 - DEBUG - Child index 0 created for Parent.\n",
      "2024-10-08 08:18:29 - DEBUG - Run ProteinMPNN for index 0.\n",
      "2024-10-08 08:18:29 - DEBUG - Your job 1619490 (\"mpnn_ProteinMPNN_0\") has been submitted\n",
      "2024-10-08 08:18:29 - DEBUG - Updating scores\n",
      "2024-10-08 08:18:29 - DEBUG - Parent design not yet done. 2/10 jobs submitted.\n",
      "2024-10-08 08:18:29 - DEBUG - Child index 1 created for Parent.\n",
      "2024-10-08 08:18:29 - DEBUG - Run ProteinMPNN for index 1.\n",
      "2024-10-08 08:18:29 - DEBUG - Your job 1619491 (\"mpnn_ProteinMPNN_1\") has been submitted\n",
      "2024-10-08 08:18:29 - DEBUG - Updating scores\n",
      "2024-10-08 08:18:29 - DEBUG - Parent design not yet done. 3/10 jobs submitted.\n",
      "2024-10-08 08:18:29 - DEBUG - Child index 2 created for Parent.\n",
      "2024-10-08 08:18:29 - DEBUG - Run ProteinMPNN for index 2.\n",
      "2024-10-08 08:18:29 - DEBUG - Your job 1619492 (\"mpnn_ProteinMPNN_2\") has been submitted\n",
      "2024-10-08 08:18:29 - DEBUG - Updating scores\n",
      "2024-10-08 08:18:29 - DEBUG - Parent design not yet done. 4/10 jobs submitted.\n",
      "2024-10-08 08:18:29 - DEBUG - Child index 3 created for Parent.\n",
      "2024-10-08 08:18:29 - DEBUG - Run ProteinMPNN for index 3.\n",
      "2024-10-08 08:18:29 - DEBUG - Your job 1619493 (\"mpnn_ProteinMPNN_3\") has been submitted\n",
      "2024-10-08 08:18:30 - DEBUG - Updating scores\n",
      "2024-10-08 08:18:30 - DEBUG - Parent design not yet done. 5/10 jobs submitted.\n",
      "2024-10-08 08:18:30 - DEBUG - Child index 4 created for Parent.\n",
      "2024-10-08 08:18:30 - DEBUG - Run ProteinMPNN for index 4.\n",
      "2024-10-08 08:18:30 - DEBUG - Your job 1619494 (\"mpnn_ProteinMPNN_4\") has been submitted\n",
      "2024-10-08 08:20:11 - DEBUG - Updating scores\n",
      "2024-10-08 08:20:11 - DEBUG - Parent design not yet done. 6/10 jobs submitted.\n",
      "2024-10-08 08:20:11 - DEBUG - Child index 5 created for Parent.\n",
      "2024-10-08 08:20:11 - DEBUG - Run ProteinMPNN for index 5.\n",
      "2024-10-08 08:20:11 - DEBUG - Your job 1619505 (\"mpnn_ProteinMPNN_5\") has been submitted\n",
      "2024-10-08 08:20:32 - DEBUG - Updating scores\n",
      "2024-10-08 08:20:32 - DEBUG - Parent design not yet done. 7/10 jobs submitted.\n",
      "2024-10-08 08:20:32 - DEBUG - Child index 6 created for Parent.\n",
      "2024-10-08 08:20:32 - DEBUG - Run ProteinMPNN for index 6.\n",
      "2024-10-08 08:20:32 - DEBUG - Your job 1619507 (\"mpnn_ProteinMPNN_6\") has been submitted\n",
      "2024-10-08 08:20:32 - DEBUG - Updating scores\n",
      "2024-10-08 08:20:32 - DEBUG - Parent design not yet done. 8/10 jobs submitted.\n",
      "2024-10-08 08:20:32 - DEBUG - Child index 7 created for Parent.\n",
      "2024-10-08 08:20:32 - DEBUG - Run ProteinMPNN for index 7.\n",
      "2024-10-08 08:20:32 - DEBUG - Your job 1619508 (\"mpnn_ProteinMPNN_7\") has been submitted\n",
      "2024-10-08 08:20:32 - DEBUG - Updating scores\n",
      "2024-10-08 08:20:32 - DEBUG - Parent design not yet done. 9/10 jobs submitted.\n",
      "2024-10-08 08:20:32 - DEBUG - Child index 8 created for Parent.\n",
      "2024-10-08 08:20:32 - DEBUG - Run ProteinMPNN for index 8.\n",
      "2024-10-08 08:20:32 - DEBUG - Your job 1619509 (\"mpnn_ProteinMPNN_8\") has been submitted\n",
      "2024-10-08 08:21:13 - DEBUG - Updating scores\n",
      "2024-10-08 08:21:13 - DEBUG - Parent design not yet done. 10/10 jobs submitted.\n",
      "2024-10-08 08:21:13 - DEBUG - Child index 9 created for Parent.\n",
      "2024-10-08 08:21:13 - DEBUG - Run ProteinMPNN for index 9.\n",
      "2024-10-08 08:21:13 - DEBUG - Your job 1619512 (\"mpnn_ProteinMPNN_9\") has been submitted\n",
      "2024-10-08 08:21:33 - DEBUG - Updating scores\n",
      "2024-10-08 08:21:33 - DEBUG - Starting new calculation for index 0.\n",
      "2024-10-08 08:21:33 - INFO - Index 0 has no predicted structure, starting ESMfold.\n",
      "2024-10-08 08:21:33 - DEBUG - Run ESMfold for index 0.\n",
      "2024-10-08 08:21:33 - DEBUG - Your job 1619513 (\"mpnn_ESMfold_0\") has been submitted\n",
      "2024-10-08 08:23:14 - DEBUG - Updating scores\n",
      "2024-10-08 08:23:14 - DEBUG - Starting new calculation for index 5.\n",
      "2024-10-08 08:23:14 - INFO - Index 5 has no predicted structure, starting ESMfold.\n",
      "2024-10-08 08:23:14 - DEBUG - Run ESMfold for index 5.\n",
      "2024-10-08 08:23:14 - DEBUG - Your job 1619514 (\"mpnn_ESMfold_5\") has been submitted\n",
      "2024-10-08 08:23:35 - DEBUG - Updating scores\n",
      "2024-10-08 08:23:35 - DEBUG - Starting new calculation for index 9.\n",
      "2024-10-08 08:23:35 - INFO - Index 9 has no predicted structure, starting ESMfold.\n",
      "2024-10-08 08:23:35 - DEBUG - Run ESMfold for index 9.\n",
      "2024-10-08 08:23:35 - DEBUG - Your job 1619515 (\"mpnn_ESMfold_9\") has been submitted\n"
     ]
    },
    {
     "ename": "KeyboardInterrupt",
     "evalue": "",
     "output_type": "error",
     "traceback": [
      "\u001b[0;31m---------------------------------------------------------------------------\u001b[0m",
      "\u001b[0;31mKeyboardInterrupt\u001b[0m                         Traceback (most recent call last)",
      "\u001b[0;32m/tmp/ipykernel_16110/1828793074.py\u001b[0m in \u001b[0;36m<module>\u001b[0;34m\u001b[0m\n\u001b[1;32m      4\u001b[0m \u001b[0mAIzymes\u001b[0m \u001b[0;34m=\u001b[0m \u001b[0mAIzymes_MAIN\u001b[0m\u001b[0;34m(\u001b[0m\u001b[0;34m)\u001b[0m\u001b[0;34m\u001b[0m\u001b[0;34m\u001b[0m\u001b[0m\n\u001b[1;32m      5\u001b[0m \u001b[0mAIzymes\u001b[0m\u001b[0;34m.\u001b[0m\u001b[0minitialize\u001b[0m\u001b[0;34m(\u001b[0m\u001b[0mFOLDER_HOME\u001b[0m \u001b[0;34m=\u001b[0m \u001b[0;34m'HAB_refactor_ProtMPNN_013'\u001b[0m\u001b[0;34m,\u001b[0m \u001b[0mLOG\u001b[0m\u001b[0;34m=\u001b[0m\u001b[0;34m\"debug\"\u001b[0m\u001b[0;34m,\u001b[0m \u001b[0mPRINT_VAR\u001b[0m\u001b[0;34m=\u001b[0m\u001b[0;32mFalse\u001b[0m\u001b[0;34m)\u001b[0m \u001b[0;31m#LOG=\"debug/info\"\u001b[0m\u001b[0;34m\u001b[0m\u001b[0;34m\u001b[0m\u001b[0m\n\u001b[0;32m----> 6\u001b[0;31m \u001b[0mAIzymes\u001b[0m\u001b[0;34m.\u001b[0m\u001b[0mcontroller\u001b[0m\u001b[0;34m(\u001b[0m\u001b[0;34m)\u001b[0m\u001b[0;34m\u001b[0m\u001b[0;34m\u001b[0m\u001b[0m\n\u001b[0m",
      "\u001b[0;32m~/AIzymes/design/HAB/../../src/AIzymes_013.py\u001b[0m in \u001b[0;36mcontroller\u001b[0;34m(self, HIGHSCORE, NORM)\u001b[0m\n\u001b[1;32m     86\u001b[0m                 \u001b[0msetattr\u001b[0m\u001b[0;34m(\u001b[0m\u001b[0mself\u001b[0m\u001b[0;34m,\u001b[0m \u001b[0mkey\u001b[0m\u001b[0;34m,\u001b[0m \u001b[0mvalue\u001b[0m\u001b[0;34m)\u001b[0m\u001b[0;34m\u001b[0m\u001b[0;34m\u001b[0m\u001b[0m\n\u001b[1;32m     87\u001b[0m \u001b[0;34m\u001b[0m\u001b[0m\n\u001b[0;32m---> 88\u001b[0;31m         \u001b[0mstart_controller\u001b[0m\u001b[0;34m(\u001b[0m\u001b[0mself\u001b[0m\u001b[0;34m)\u001b[0m\u001b[0;34m\u001b[0m\u001b[0;34m\u001b[0m\u001b[0m\n\u001b[0m\u001b[1;32m     89\u001b[0m \u001b[0;34m\u001b[0m\u001b[0m\n\u001b[1;32m     90\u001b[0m     \u001b[0;32mdef\u001b[0m \u001b[0mplot\u001b[0m\u001b[0;34m(\u001b[0m\u001b[0mself\u001b[0m\u001b[0;34m)\u001b[0m\u001b[0;34m:\u001b[0m\u001b[0;34m\u001b[0m\u001b[0;34m\u001b[0m\u001b[0m\n",
      "\u001b[0;32m~/AIzymes/design/HAB/../../src/main_running_001.py\u001b[0m in \u001b[0;36mstart_controller\u001b[0;34m(self)\u001b[0m\n\u001b[1;32m     26\u001b[0m \u001b[0;34m\u001b[0m\u001b[0m\n\u001b[1;32m     27\u001b[0m             \u001b[0;31m# Pause and continue after some time\u001b[0m\u001b[0;34m\u001b[0m\u001b[0;34m\u001b[0m\u001b[0;34m\u001b[0m\u001b[0m\n\u001b[0;32m---> 28\u001b[0;31m             \u001b[0mtime\u001b[0m\u001b[0;34m.\u001b[0m\u001b[0msleep\u001b[0m\u001b[0;34m(\u001b[0m\u001b[0;36m20\u001b[0m\u001b[0;34m)\u001b[0m\u001b[0;34m\u001b[0m\u001b[0;34m\u001b[0m\u001b[0m\n\u001b[0m\u001b[1;32m     29\u001b[0m \u001b[0;34m\u001b[0m\u001b[0m\n\u001b[1;32m     30\u001b[0m         \u001b[0;32melse\u001b[0m\u001b[0;34m:\u001b[0m\u001b[0;34m\u001b[0m\u001b[0;34m\u001b[0m\u001b[0m\n",
      "\u001b[0;31mKeyboardInterrupt\u001b[0m: "
     ]
    }
   ],
   "source": [
    "import sys, os\n",
    "if os.path.join(os.getcwd(), '../../src') not in sys.path: sys.path.append(os.path.join(os.getcwd(), '../../src'))\n",
    "from AIzymes_013 import *\n",
    "AIzymes = AIzymes_MAIN()\n",
    "AIzymes.initialize(FOLDER_HOME = 'HAB_refactor_ProtMPNN_013', LOG=\"debug\", PRINT_VAR=False) #LOG=\"debug/info\"\n",
    "AIzymes.controller()"
   ]
  },
  {
   "cell_type": "code",
   "execution_count": null,
   "id": "2b64a5df",
   "metadata": {},
   "outputs": [],
   "source": [
    "import sys, os\n",
    "if os.path.join(os.getcwd(), '../../src') not in sys.path: sys.path.append(os.path.join(os.getcwd(), '../../src'))\n",
    "from AIzymes_013 import *\n",
    "AIzymes = AIzymes_MAIN()\n",
    "AIzymes.initialize(FOLDER_HOME = 'HAB_refactor_ProtMPNN_013', LOG=\"info\", PRINT_VAR=False) #LOG=\"debug/info\"\n",
    "AIzymes.plot()"
   ]
  },
  {
   "cell_type": "code",
   "execution_count": null,
   "id": "3ac82215",
   "metadata": {},
   "outputs": [],
   "source": []
  }
 ],
 "metadata": {
  "kernelspec": {
   "display_name": "Python 3 (ipykernel)",
   "language": "python",
   "name": "python3"
  },
  "language_info": {
   "codemirror_mode": {
    "name": "ipython",
    "version": 3
   },
   "file_extension": ".py",
   "mimetype": "text/x-python",
   "name": "python",
   "nbconvert_exporter": "python",
   "pygments_lexer": "ipython3",
   "version": "3.7.16"
  }
 },
 "nbformat": 4,
 "nbformat_minor": 5
}
