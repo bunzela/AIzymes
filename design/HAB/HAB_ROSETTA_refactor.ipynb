{
 "cells": [
  {
   "cell_type": "code",
   "execution_count": 1,
   "id": "8b4b8893",
   "metadata": {
    "scrolled": false
   },
   "outputs": [
    {
     "name": "stdout",
     "output_type": "stream",
     "text": [
      "Do you really want to restart AIzymes from scratch? \n",
      "    This will delete all existing files in /home/bunzelh/AIzymes/design/HAB/HAB_refactor_standard_013 [y/n]\n",
      "\n",
      "    y\n"
     ]
    },
    {
     "name": "stderr",
     "output_type": "stream",
     "text": [
      "2024-11-05 10:56:08 - INFO - Running AI.zymes setup.\n",
      "2024-11-05 10:56:08 - INFO - Content of /home/bunzelh/AIzymes/design/HAB/HAB_refactor_standard_013 deleted.\n",
      "2024-11-05 10:56:08 - INFO - Happy AI.zymeing! :)\n"
     ]
    },
    {
     "name": "stdout",
     "output_type": "stream",
     "text": [
      "AIzymes initiated.\n"
     ]
    }
   ],
   "source": [
    "import sys, os\n",
    "if os.path.join(os.getcwd(), '../../src') not in sys.path: sys.path.append(os.path.join(os.getcwd(), '../../src'))\n",
    "from AIzymes_013 import *\n",
    "\n",
    "# GENERAL SETTINGS FOR AI.zymes -------------------------------------------------------------------------------------------\n",
    "AIzymes = AIzymes_MAIN()\n",
    "AIzymes.setup(FOLDER_HOME = 'HAB_refactor_standard_013',\n",
    "  FOLDER_PARENT     = 'parent',\n",
    "  MAX_JOBS          = 10,\n",
    "  N_PARENT_JOBS     = 10,\n",
    "  MAX_DESIGNS       = 50,\n",
    "  KBT_BOLTZMANN     = [0.5, 0.0003],\n",
    "  CST_WEIGHT        = 1.0,\n",
    "  CST_NAME          = \"5TS_enzdes_planar_tAB100\",\n",
    "  WT                = \"7vuu\",\n",
    "  LIGAND            = \"5TS\",\n",
    "  DESIGN            = \"4,8,16,21,25,28,40,41,44,52,57,60,61\",\n",
    "  SUBMIT_PREFIX     = \"Ref\",\n",
    "  SYSTEM            = \"GRID\",\n",
    "  EXPLORE           = True,\n",
    "  FIELD_TARGET      = \"XXX\",\n",
    " )"
   ]
  },
  {
   "cell_type": "code",
   "execution_count": null,
   "id": "5aadc10c",
   "metadata": {
    "scrolled": false
   },
   "outputs": [
    {
     "name": "stderr",
     "output_type": "stream",
     "text": [
      "2024-11-05 10:56:12 - DEBUG - Updating scores\n",
      "2024-11-05 10:56:12 - DEBUG - Parent design not yet done. 1/10 jobs submitted.\n",
      "2024-11-05 10:56:12 - DEBUG - Child index 0 created for Parent.\n",
      "2024-11-05 10:56:12 - DEBUG - Run RosettaDesign for index 0 based on index 0.\n",
      "2024-11-05 10:56:12 - DEBUG - Calculating ElectricFields for index 0.\n",
      "2024-11-05 10:56:12 - DEBUG - Your job 1676321 (\"Ref_RosettaDesign_ElectricFields_0\") has been submitted\n",
      "2024-11-05 10:56:12 - DEBUG - Updating scores\n",
      "2024-11-05 10:56:12 - DEBUG - Parent design not yet done. 2/10 jobs submitted.\n",
      "2024-11-05 10:56:12 - DEBUG - Child index 1 created for Parent.\n",
      "2024-11-05 10:56:12 - DEBUG - Run RosettaDesign for index 1 based on index 1.\n",
      "2024-11-05 10:56:13 - DEBUG - Calculating ElectricFields for index 1.\n",
      "2024-11-05 10:56:13 - DEBUG - Your job 1676322 (\"Ref_RosettaDesign_ElectricFields_1\") has been submitted\n",
      "2024-11-05 10:56:13 - DEBUG - Updating scores\n",
      "2024-11-05 10:56:13 - DEBUG - Parent design not yet done. 3/10 jobs submitted.\n",
      "2024-11-05 10:56:13 - DEBUG - Child index 2 created for Parent.\n",
      "2024-11-05 10:56:13 - DEBUG - Run RosettaDesign for index 2 based on index 2.\n",
      "2024-11-05 10:56:13 - DEBUG - Calculating ElectricFields for index 2.\n",
      "2024-11-05 10:56:13 - DEBUG - Your job 1676324 (\"Ref_RosettaDesign_ElectricFields_2\") has been submitted\n",
      "2024-11-05 10:56:53 - DEBUG - Updating scores\n",
      "2024-11-05 10:56:53 - DEBUG - Parent design not yet done. 4/10 jobs submitted.\n",
      "2024-11-05 10:56:53 - DEBUG - Child index 3 created for Parent.\n",
      "2024-11-05 10:56:53 - DEBUG - Run RosettaDesign for index 3 based on index 3.\n",
      "2024-11-05 10:56:53 - DEBUG - Calculating ElectricFields for index 3.\n",
      "2024-11-05 10:56:53 - DEBUG - Your job 1676329 (\"Ref_RosettaDesign_ElectricFields_3\") has been submitted\n",
      "2024-11-05 10:56:53 - DEBUG - Updating scores\n",
      "2024-11-05 10:56:53 - DEBUG - Parent design not yet done. 5/10 jobs submitted.\n",
      "2024-11-05 10:56:53 - DEBUG - Child index 4 created for Parent.\n",
      "2024-11-05 10:56:53 - DEBUG - Run RosettaDesign for index 4 based on index 4.\n",
      "2024-11-05 10:56:53 - DEBUG - Calculating ElectricFields for index 4.\n",
      "2024-11-05 10:56:54 - DEBUG - Your job 1676330 (\"Ref_RosettaDesign_ElectricFields_4\") has been submitted\n",
      "2024-11-05 10:57:14 - DEBUG - Updating scores\n",
      "2024-11-05 10:57:14 - DEBUG - Parent design not yet done. 6/10 jobs submitted.\n",
      "2024-11-05 10:57:14 - DEBUG - Child index 5 created for Parent.\n",
      "2024-11-05 10:57:14 - DEBUG - Run RosettaDesign for index 5 based on index 5.\n",
      "2024-11-05 10:57:14 - DEBUG - Calculating ElectricFields for index 5.\n",
      "2024-11-05 10:57:14 - DEBUG - Your job 1676332 (\"Ref_RosettaDesign_ElectricFields_5\") has been submitted\n",
      "2024-11-05 10:57:14 - DEBUG - Updating scores\n",
      "2024-11-05 10:57:14 - DEBUG - Parent design not yet done. 7/10 jobs submitted.\n",
      "2024-11-05 10:57:14 - DEBUG - Child index 6 created for Parent.\n",
      "2024-11-05 10:57:14 - DEBUG - Run RosettaDesign for index 6 based on index 6.\n",
      "2024-11-05 10:57:14 - DEBUG - Calculating ElectricFields for index 6.\n",
      "2024-11-05 10:57:14 - DEBUG - Your job 1676333 (\"Ref_RosettaDesign_ElectricFields_6\") has been submitted\n"
     ]
    }
   ],
   "source": [
    "import sys, os\n",
    "if os.path.join(os.getcwd(), '../../src') not in sys.path: sys.path.append(os.path.join(os.getcwd(), '../../src'))\n",
    "from AIzymes_013 import *\n",
    "AIzymes = AIzymes_MAIN()\n",
    "AIzymes.initialize(FOLDER_HOME = 'HAB_refactor_standard_013', \n",
    "                   LOG=\"debug\", \n",
    "                   PRINT_VAR=False) #LOG=\"debug/info\"\n",
    "AIzymes.controller()"
   ]
  },
  {
   "cell_type": "code",
   "execution_count": null,
   "id": "b9a21715",
   "metadata": {},
   "outputs": [],
   "source": [
    "import sys, os\n",
    "if os.path.join(os.getcwd(), '../../src') not in sys.path: sys.path.append(os.path.join(os.getcwd(), '../../src'))\n",
    "from AIzymes_013 import *\n",
    "AIzymes = AIzymes_MAIN()\n",
    "AIzymes.initialize(FOLDER_HOME = 'HAB_refactor_standard_013', LOG=\"info\", PRINT_VAR=False) #LOG=\"debug/info\"\n",
    "AIzymes.plot()"
   ]
  },
  {
   "cell_type": "code",
   "execution_count": null,
   "id": "13a70fe2",
   "metadata": {},
   "outputs": [],
   "source": []
  }
 ],
 "metadata": {
  "kernelspec": {
   "display_name": "Python 3 (ipykernel)",
   "language": "python",
   "name": "python3"
  },
  "language_info": {
   "codemirror_mode": {
    "name": "ipython",
    "version": 3
   },
   "file_extension": ".py",
   "mimetype": "text/x-python",
   "name": "python",
   "nbconvert_exporter": "python",
   "pygments_lexer": "ipython3",
   "version": "3.7.16"
  }
 },
 "nbformat": 4,
 "nbformat_minor": 5
}
