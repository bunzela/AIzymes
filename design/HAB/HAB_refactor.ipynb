{
 "cells": [
  {
   "cell_type": "code",
   "execution_count": 10,
   "id": "8b4b8893",
   "metadata": {
    "scrolled": true
   },
   "outputs": [
    {
     "name": "stdout",
     "output_type": "stream",
     "text": [
      "/home/bunzelh/AIzymes/design/HAB/../../src\n",
      "Do you really want to restart AIzymes from scratch? \n",
      "    This will delete all existing files in /home/bunzelh/AIzymes/design/HAB/AB_refactor_standard_013 [y/n]\n",
      "\n",
      "    y\n"
     ]
    },
    {
     "name": "stderr",
     "output_type": "stream",
     "text": [
      "2024-09-30 12:50:10 - INFO - Running AI.zymes setup.\n",
      "2024-09-30 12:50:10 - INFO - Content of /home/bunzelh/AIzymes/design/HAB/AB_refactor_standard_013 deleted.\n",
      "2024-09-30 12:50:10 - INFO - Happy AI.zymeing! :)\n"
     ]
    },
    {
     "name": "stdout",
     "output_type": "stream",
     "text": [
      "\n",
      "Attention: - HAB removed Protein / LigandMPNN from run_ESMfold_RosettaRelax as this breaks the logic of the programm\n",
      "           - All operations are now started through run_design (accepts a list of commands to be run in sequence!)\n",
      "           - All system-specific definitions moved to set_system.\n",
      "          \n",
      "To DO      - Plotting does not yet work\n",
      "           - Protein / LigandMPNN\n",
      "\n",
      "\n",
      "AIzymes initiated.\n",
      "\n"
     ]
    }
   ],
   "source": [
    "import sys, os\n",
    "if os.path.join(os.getcwd(), '../../src') not in sys.path: sys.path.append(os.path.join(os.getcwd(), '../../src'))\n",
    "from AIzymes_013 import *\n",
    "\n",
    "# GENERAL SETTINGS FOR AI.zymes -------------------------------------------------------------------------------------------\n",
    "AIzymes = AIzymes_MAIN()\n",
    "AIzymes.setup(FOLDER_HOME = 'AB_refactor_standard_013',\n",
    "  FOLDER_PARENT     = 'Parent',\n",
    "  MAX_JOBS          = 10,\n",
    "  N_PARENT_JOBS     = 10,\n",
    "  MAX_DESIGNS       = 15,\n",
    "  KBT_BOLTZMANN     = [0.5, 0.0003],\n",
    "  CST_WEIGHT        = 1.0,\n",
    "  CST_NAME          = \"5TS_enzdes_planar_tAB100\",\n",
    "  WT                = \"7vuu\",\n",
    "  LIGAND            = \"5TS\",\n",
    "  DESIGN            = \"4,8,16,21,25,28,40,41,44,52,57,60,61\",\n",
    "  ProteinMPNN_T     = \"0.1\",\n",
    "  LMPNN_T           = \"0.1\",\n",
    "  SUBMIT_PREFIX     = \"ref\",\n",
    "  SYSTEM            = \"GRID\",\n",
    "  ROSETTA_PATH      = \"/home/bunzelh/rosetta_src_2021.16.61629_bundle/main/source/\",\n",
    "  EXPLORE           = True,\n",
    "  FIELD_TOOLS       = '../../src/FieldTools.py'\n",
    " )"
   ]
  },
  {
   "cell_type": "code",
   "execution_count": 1,
   "id": "5aadc10c",
   "metadata": {
    "scrolled": false
   },
   "outputs": [
    {
     "name": "stderr",
     "output_type": "stream",
     "text": [
      "2024-09-30 13:06:00 - DEBUG - Updating scores\n"
     ]
    },
    {
     "name": "stdout",
     "output_type": "stream",
     "text": [
      "/home/bunzelh/AIzymes/design/HAB/AB_refactor_standard_013/15\n"
     ]
    },
    {
     "name": "stderr",
     "output_type": "stream",
     "text": [
      "2024-09-30 13:06:20 - DEBUG - Updating scores\n",
      "2024-09-30 13:06:40 - DEBUG - Updating scores\n",
      "2024-09-30 13:07:00 - DEBUG - Updating scores\n",
      "2024-09-30 13:07:20 - DEBUG - Updating scores\n",
      "2024-09-30 13:07:41 - DEBUG - Updating scores\n",
      "2024-09-30 13:08:01 - DEBUG - Updating scores\n",
      "2024-09-30 13:08:21 - DEBUG - Updating scores\n",
      "2024-09-30 13:08:41 - DEBUG - Updating scores\n",
      "2024-09-30 13:08:42 - INFO - Updated scores and potentials of index 0.\n",
      "2024-09-30 13:08:42 - DEBUG - Unblocked index 0.\n",
      "2024-09-30 13:09:02 - DEBUG - Updating scores\n",
      "2024-09-30 13:09:02 - INFO - 0 selected because its relaxed but nothing was designed from it.\n",
      "2024-09-30 13:09:02 - DEBUG - Starting new calculation for index 0.\n",
      "2024-09-30 13:09:02 - DEBUG - Child index 10 created for 0.\n",
      "2024-09-30 13:09:02 - DEBUG - Run RosettaDesign for index 10 based on index 0.\n",
      "2024-09-30 13:09:03 - DEBUG - Your job 1615554 (\"ref_RosettaDesign_10\") has been submitted\n",
      "2024-09-30 13:09:03 - DEBUG - Updating scores\n",
      "2024-09-30 13:09:23 - DEBUG - Updating scores\n",
      "2024-09-30 13:09:43 - DEBUG - Updating scores\n",
      "2024-09-30 13:10:03 - DEBUG - Updating scores\n",
      "2024-09-30 13:10:23 - DEBUG - Updating scores\n",
      "2024-09-30 13:10:43 - DEBUG - Updating scores\n",
      "2024-09-30 13:11:04 - DEBUG - Updating scores\n",
      "2024-09-30 13:11:04 - INFO - Updated scores and potentials of index 7.\n",
      "2024-09-30 13:11:04 - DEBUG - Unblocked index 7.\n",
      "2024-09-30 13:11:25 - DEBUG - Updating scores\n",
      "2024-09-30 13:11:25 - INFO - Updated scores and potentials of index 6.\n",
      "2024-09-30 13:11:25 - DEBUG - Unblocked index 6.\n",
      "2024-09-30 13:11:25 - INFO - 6 selected because its relaxed but nothing was designed from it.\n",
      "2024-09-30 13:11:25 - DEBUG - Starting new calculation for index 6.\n",
      "2024-09-30 13:11:25 - DEBUG - Child index 11 created for 6.\n",
      "2024-09-30 13:11:25 - DEBUG - Run RosettaDesign for index 11 based on index 6.\n",
      "2024-09-30 13:11:26 - DEBUG - Your job 1615555 (\"ref_RosettaDesign_11\") has been submitted\n",
      "2024-09-30 13:11:26 - DEBUG - Updating scores\n",
      "2024-09-30 13:11:46 - DEBUG - Updating scores\n",
      "2024-09-30 13:11:46 - INFO - Updated scores and potentials of index 8.\n",
      "2024-09-30 13:11:46 - DEBUG - Unblocked index 8.\n",
      "2024-09-30 13:11:47 - INFO - Updated scores and potentials of index 9.\n",
      "2024-09-30 13:11:47 - DEBUG - Unblocked index 9.\n",
      "2024-09-30 13:11:47 - INFO - 7 selected because its relaxed but nothing was designed from it.\n",
      "2024-09-30 13:11:47 - DEBUG - Starting new calculation for index 7.\n",
      "2024-09-30 13:11:47 - DEBUG - Child index 12 created for 7.\n",
      "2024-09-30 13:11:47 - DEBUG - Run RosettaDesign for index 12 based on index 7.\n",
      "2024-09-30 13:11:47 - DEBUG - Your job 1615556 (\"ref_RosettaDesign_12\") has been submitted\n",
      "2024-09-30 13:11:47 - DEBUG - Updating scores\n",
      "2024-09-30 13:12:08 - DEBUG - Updating scores\n",
      "2024-09-30 13:12:09 - INFO - Updated scores and potentials of index 1.\n",
      "2024-09-30 13:12:09 - DEBUG - Unblocked index 1.\n",
      "2024-09-30 13:12:09 - INFO - 1 selected because its relaxed but nothing was designed from it.\n",
      "2024-09-30 13:12:09 - DEBUG - Starting new calculation for index 1.\n",
      "2024-09-30 13:12:09 - DEBUG - Child index 13 created for 1.\n",
      "2024-09-30 13:12:09 - DEBUG - Run RosettaDesign for index 13 based on index 1.\n",
      "2024-09-30 13:12:09 - DEBUG - Your job 1615557 (\"ref_RosettaDesign_13\") has been submitted\n",
      "2024-09-30 13:12:09 - DEBUG - Updating scores\n",
      "2024-09-30 13:12:09 - INFO - 8 selected because its relaxed but nothing was designed from it.\n",
      "2024-09-30 13:12:09 - DEBUG - Starting new calculation for index 8.\n",
      "2024-09-30 13:12:09 - DEBUG - Child index 14 created for 8.\n",
      "2024-09-30 13:12:09 - DEBUG - Run RosettaDesign for index 14 based on index 8.\n",
      "2024-09-30 13:12:09 - DEBUG - Your job 1615558 (\"ref_RosettaDesign_14\") has been submitted\n",
      "2024-09-30 13:12:09 - DEBUG - Updating scores\n",
      "2024-09-30 13:12:29 - DEBUG - Updating scores\n",
      "2024-09-30 13:12:31 - INFO - Updated scores and potentials of index 3.\n",
      "2024-09-30 13:12:31 - DEBUG - Unblocked index 3.\n",
      "2024-09-30 13:12:31 - INFO - Updated scores and potentials of index 4.\n",
      "2024-09-30 13:12:31 - DEBUG - Unblocked index 4.\n"
     ]
    },
    {
     "ename": "FileNotFoundError",
     "evalue": "[Errno 2] No such file or directory: '/home/bunzelh/AIzymes/design/HAB/AB_refactor_standard_013/5/7vuu_RosettaRelax_5.pdb'",
     "output_type": "error",
     "traceback": [
      "\u001b[0;31m---------------------------------------------------------------------------\u001b[0m",
      "\u001b[0;31mFileNotFoundError\u001b[0m                         Traceback (most recent call last)",
      "\u001b[0;32m/tmp/ipykernel_18959/3207772976.py\u001b[0m in \u001b[0;36m<module>\u001b[0;34m\u001b[0m\n\u001b[1;32m      4\u001b[0m \u001b[0mAIzymes\u001b[0m \u001b[0;34m=\u001b[0m \u001b[0mAIzymes_MAIN\u001b[0m\u001b[0;34m(\u001b[0m\u001b[0;34m)\u001b[0m\u001b[0;34m\u001b[0m\u001b[0;34m\u001b[0m\u001b[0m\n\u001b[1;32m      5\u001b[0m \u001b[0mAIzymes\u001b[0m\u001b[0;34m.\u001b[0m\u001b[0minitialize\u001b[0m\u001b[0;34m(\u001b[0m\u001b[0mFOLDER_HOME\u001b[0m \u001b[0;34m=\u001b[0m \u001b[0;34m'AB_refactor_standard_013'\u001b[0m\u001b[0;34m,\u001b[0m \u001b[0mLOG\u001b[0m\u001b[0;34m=\u001b[0m\u001b[0;34m\"debug\"\u001b[0m\u001b[0;34m,\u001b[0m \u001b[0mPRINT_VAR\u001b[0m\u001b[0;34m=\u001b[0m\u001b[0;32mFalse\u001b[0m\u001b[0;34m)\u001b[0m \u001b[0;31m#LOG=\"debug/info\"\u001b[0m\u001b[0;34m\u001b[0m\u001b[0;34m\u001b[0m\u001b[0m\n\u001b[0;32m----> 6\u001b[0;31m \u001b[0mAIzymes\u001b[0m\u001b[0;34m.\u001b[0m\u001b[0mcontroller\u001b[0m\u001b[0;34m(\u001b[0m\u001b[0;34m)\u001b[0m\u001b[0;34m\u001b[0m\u001b[0;34m\u001b[0m\u001b[0m\n\u001b[0m",
      "\u001b[0;32m~/AIzymes/design/HAB/../../src/AIzymes_013.py\u001b[0m in \u001b[0;36mcontroller\u001b[0;34m(self, HIGHSCORE, NORM)\u001b[0m\n\u001b[1;32m     96\u001b[0m         \u001b[0mstart_controller\u001b[0m\u001b[0;34m(\u001b[0m\u001b[0mself\u001b[0m\u001b[0;34m)\u001b[0m\u001b[0;34m\u001b[0m\u001b[0;34m\u001b[0m\u001b[0m\n",
      "\u001b[0;32m~/AIzymes/design/HAB/../../src/main_running_001.py\u001b[0m in \u001b[0;36mstart_controller\u001b[0;34m(self)\u001b[0m\n\u001b[1;32m     23\u001b[0m         \u001b[0mupdate_scores\u001b[0m\u001b[0;34m(\u001b[0m\u001b[0mself\u001b[0m\u001b[0;34m)\u001b[0m\u001b[0;34m\u001b[0m\u001b[0;34m\u001b[0m\u001b[0m\n\u001b[1;32m     24\u001b[0m \u001b[0;34m\u001b[0m\u001b[0m\n\u001b[0;32m---> 25\u001b[0;31m         \u001b[0;31m# Check how many jobs are currently running\u001b[0m\u001b[0;34m\u001b[0m\u001b[0;34m\u001b[0m\u001b[0;34m\u001b[0m\u001b[0m\n\u001b[0m\u001b[1;32m     26\u001b[0m         \u001b[0mnum_running_jobs\u001b[0m \u001b[0;34m=\u001b[0m \u001b[0mcheck_running_jobs\u001b[0m\u001b[0;34m(\u001b[0m\u001b[0mself\u001b[0m\u001b[0;34m)\u001b[0m\u001b[0;34m\u001b[0m\u001b[0;34m\u001b[0m\u001b[0m\n\u001b[1;32m     27\u001b[0m \u001b[0;34m\u001b[0m\u001b[0m\n",
      "\u001b[0;32m~/AIzymes/design/HAB/../../src/main_running_001.py\u001b[0m in \u001b[0;36mupdate_scores\u001b[0;34m(self)\u001b[0m\n\u001b[1;32m    156\u001b[0m         \u001b[0msave_cat_res_into_all_scores_df\u001b[0m\u001b[0;34m(\u001b[0m\u001b[0mself\u001b[0m\u001b[0;34m,\u001b[0m \u001b[0mindex\u001b[0m\u001b[0;34m,\u001b[0m \u001b[0mpdb_path\u001b[0m\u001b[0;34m)\u001b[0m\u001b[0;34m\u001b[0m\u001b[0;34m\u001b[0m\u001b[0m\n\u001b[1;32m    157\u001b[0m         \u001b[0mcat_res\u001b[0m \u001b[0;34m=\u001b[0m \u001b[0mself\u001b[0m\u001b[0;34m.\u001b[0m\u001b[0mall_scores_df\u001b[0m\u001b[0;34m.\u001b[0m\u001b[0mat\u001b[0m\u001b[0;34m[\u001b[0m\u001b[0mindex\u001b[0m\u001b[0;34m,\u001b[0m \u001b[0;34m'cat_resi'\u001b[0m\u001b[0;34m]\u001b[0m\u001b[0;34m\u001b[0m\u001b[0;34m\u001b[0m\u001b[0m\n\u001b[0;32m--> 158\u001b[0;31m \u001b[0;34m\u001b[0m\u001b[0m\n\u001b[0m\u001b[1;32m    159\u001b[0m         \u001b[0;31m# Calculate catalytic and interface score\u001b[0m\u001b[0;34m\u001b[0m\u001b[0;34m\u001b[0m\u001b[0;34m\u001b[0m\u001b[0m\n\u001b[1;32m    160\u001b[0m         \u001b[0mcatalytic_score\u001b[0m \u001b[0;34m=\u001b[0m \u001b[0;36m0.0\u001b[0m\u001b[0;34m\u001b[0m\u001b[0;34m\u001b[0m\u001b[0m\n",
      "\u001b[0;32m~/AIzymes/design/HAB/../../src/helper_001.py\u001b[0m in \u001b[0;36msave_cat_res_into_all_scores_df\u001b[0;34m(self, index, PDB_file_path, from_parent_struct)\u001b[0m\n\u001b[1;32m    157\u001b[0m     \u001b[0mtime\u001b[0m\u001b[0;34m.\u001b[0m\u001b[0msleep\u001b[0m\u001b[0;34m(\u001b[0m\u001b[0;36m0.1\u001b[0m\u001b[0;34m)\u001b[0m\u001b[0;34m\u001b[0m\u001b[0;34m\u001b[0m\u001b[0m\n\u001b[1;32m    158\u001b[0m \u001b[0;34m\u001b[0m\u001b[0m\n\u001b[0;32m--> 159\u001b[0;31m     \u001b[0;32mwith\u001b[0m \u001b[0mopen\u001b[0m\u001b[0;34m(\u001b[0m\u001b[0mPDB_file_path\u001b[0m\u001b[0;34m,\u001b[0m \u001b[0;34m'r'\u001b[0m\u001b[0;34m)\u001b[0m \u001b[0;32mas\u001b[0m \u001b[0mf\u001b[0m\u001b[0;34m:\u001b[0m\u001b[0;34m\u001b[0m\u001b[0;34m\u001b[0m\u001b[0m\n\u001b[0m\u001b[1;32m    160\u001b[0m         \u001b[0mPDB\u001b[0m \u001b[0;34m=\u001b[0m \u001b[0mf\u001b[0m\u001b[0;34m.\u001b[0m\u001b[0mreadlines\u001b[0m\u001b[0;34m(\u001b[0m\u001b[0;34m)\u001b[0m\u001b[0;34m\u001b[0m\u001b[0;34m\u001b[0m\u001b[0m\n\u001b[1;32m    161\u001b[0m \u001b[0;34m\u001b[0m\u001b[0m\n",
      "\u001b[0;31mFileNotFoundError\u001b[0m: [Errno 2] No such file or directory: '/home/bunzelh/AIzymes/design/HAB/AB_refactor_standard_013/5/7vuu_RosettaRelax_5.pdb'"
     ]
    }
   ],
   "source": [
    "import sys, os\n",
    "if os.path.join(os.getcwd(), '../../src') not in sys.path: sys.path.append(os.path.join(os.getcwd(), '../../src'))\n",
    "from AIzymes_013 import *\n",
    "AIzymes = AIzymes_MAIN()\n",
    "AIzymes.initialize(FOLDER_HOME = 'AB_refactor_standard_013', LOG=\"debug\", PRINT_VAR=False) #LOG=\"debug/info\"\n",
    "AIzymes.controller()"
   ]
  },
  {
   "cell_type": "code",
   "execution_count": 9,
   "id": "4db205de",
   "metadata": {},
   "outputs": [],
   "source": [
    "#!qdel -u bunzelh\n",
    "#!rm -r /home/bunzelh/AIzymes/design/HAB/AB_refactor_standard_013"
   ]
  },
  {
   "cell_type": "code",
   "execution_count": 4,
   "id": "ceeafc31",
   "metadata": {},
   "outputs": [
    {
     "name": "stdout",
     "output_type": "stream",
     "text": [
      "8\n",
      "job-ID  prior   name       user         state submit/start at     queue                          slots ja-task-ID \n",
      "-----------------------------------------------------------------------------------------------------------------\n",
      "1615520 0.55500 ref_Rosett bunzelh      r     09/30/2024 12:46:27 regular.q@bs-dsvr57.ethz.ch        1        \n",
      "1615521 0.55500 ref_Rosett bunzelh      r     09/30/2024 12:46:27 regular.q@bs-dsvr58.ethz.ch        1        \n",
      "1615523 0.55500 ref_Rosett bunzelh      r     09/30/2024 12:46:27 regular.q@bs-grid72.ethz.ch        1        \n",
      "1615524 0.55500 ref_Rosett bunzelh      r     09/30/2024 12:46:27 regular.q@bs-grid73.ethz.ch        1        \n",
      "1615525 0.55500 ref_Rosett bunzelh      r     09/30/2024 12:46:27 regular.q@bs-grid77.ethz.ch        1        \n",
      "1615528 0.55500 ref_Rosett bunzelh      r     09/30/2024 12:46:27 regular.q@bs-grid75.ethz.ch        1        \n",
      "1615529 0.55500 ref_Rosett bunzelh      r     09/30/2024 12:46:27 regular.q@bs-grid68.ethz.ch        1        \n",
      "1615530 0.55500 ref_ESMfol bunzelh      r     09/30/2024 12:48:27 regular.q@bs-dsvr69.ethz.ch        1        \n"
     ]
    }
   ],
   "source": [
    "!qstat | grep ref | wc -l\n",
    "!qstat "
   ]
  },
  {
   "cell_type": "code",
   "execution_count": null,
   "id": "03341e61",
   "metadata": {},
   "outputs": [],
   "source": [
    "!ls "
   ]
  },
  {
   "cell_type": "code",
   "execution_count": null,
   "id": "08370e4e",
   "metadata": {},
   "outputs": [],
   "source": []
  },
  {
   "cell_type": "code",
   "execution_count": null,
   "id": "6dc65d57",
   "metadata": {},
   "outputs": [],
   "source": []
  }
 ],
 "metadata": {
  "kernelspec": {
   "display_name": "Python 3 (ipykernel)",
   "language": "python",
   "name": "python3"
  },
  "language_info": {
   "codemirror_mode": {
    "name": "ipython",
    "version": 3
   },
   "file_extension": ".py",
   "mimetype": "text/x-python",
   "name": "python",
   "nbconvert_exporter": "python",
   "pygments_lexer": "ipython3",
   "version": "3.7.16"
  }
 },
 "nbformat": 4,
 "nbformat_minor": 5
}
