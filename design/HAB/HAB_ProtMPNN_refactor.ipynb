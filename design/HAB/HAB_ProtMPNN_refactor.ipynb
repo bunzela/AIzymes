{
 "cells": [
  {
   "cell_type": "code",
   "execution_count": 1,
   "id": "8b4b8893",
   "metadata": {},
   "outputs": [
    {
     "name": "stdout",
     "output_type": "stream",
     "text": [
      "Do you really want to restart AIzymes from scratch? \n",
      "    This will delete all existing files in /home/bunzelh/AIzymes/design/HAB/HAB_refactor_ProtMPNN_013 [y/n]\n",
      "\n",
      "    y\n"
     ]
    },
    {
     "name": "stderr",
     "output_type": "stream",
     "text": [
      "2024-10-08 10:51:20 - INFO - Running AI.zymes setup.\n",
      "2024-10-08 10:51:20 - INFO - Content of /home/bunzelh/AIzymes/design/HAB/HAB_refactor_ProtMPNN_013 deleted.\n",
      "2024-10-08 10:51:20 - INFO - Happy AI.zymeing! :)\n"
     ]
    },
    {
     "name": "stdout",
     "output_type": "stream",
     "text": [
      "AIzymes initiated.\n",
      "\n"
     ]
    }
   ],
   "source": [
    "import sys, os\n",
    "if os.path.join(os.getcwd(), '../../src') not in sys.path: sys.path.append(os.path.join(os.getcwd(), '../../src'))\n",
    "from AIzymes_013 import *\n",
    "\n",
    "# GENERAL SETTINGS FOR AI.zymes -------------------------------------------------------------------------------------------\n",
    "AIzymes = AIzymes_MAIN()\n",
    "AIzymes.setup(FOLDER_HOME = 'HAB_refactor_ProtMPNN_013',\n",
    "  FOLDER_PARENT     = 'parent',\n",
    "  MAX_JOBS          = 10,\n",
    "  N_PARENT_JOBS     = 10,\n",
    "  MAX_DESIGNS       = 50,\n",
    "  KBT_BOLTZMANN     = [0.5, 0.0003],\n",
    "  CST_WEIGHT        = 1.0,\n",
    "  ProteinMPNN_PROB  = 1.0,\n",
    "  ProteinMPNN_BIAS  = 0.5,\n",
    "  CST_NAME          = \"5TS_enzdes_planar_tAB100\",\n",
    "  WT                = \"7vuu\",\n",
    "  LIGAND            = \"5TS\",\n",
    "  DESIGN            = \"4,8,16,21,25,28,40,41,44,52,57,60,61\",\n",
    "  ProteinMPNN_T     = \"0.1\",\n",
    "  SUBMIT_PREFIX     = \"mpnn\",\n",
    "  SYSTEM            = \"GRID\",\n",
    "  ROSETTA_PATH      = \"/home/bunzelh/rosetta_src_2021.16.61629_bundle/main/source/\",\n",
    "  EXPLORE           = True,\n",
    "  FIELD_TOOLS       = '../../src/FieldTools.py',\n",
    "  PARENT_DES_MED    = 'ProteinMPNN'\n",
    " )"
   ]
  },
  {
   "cell_type": "code",
   "execution_count": null,
   "id": "5aadc10c",
   "metadata": {
    "scrolled": true
   },
   "outputs": [
    {
     "name": "stderr",
     "output_type": "stream",
     "text": [
      "2024-10-08 10:51:21 - DEBUG - Updating scores\n",
      "2024-10-08 10:51:21 - DEBUG - Parent design not yet done. 1/10 jobs submitted.\n",
      "2024-10-08 10:51:21 - DEBUG - Child index 0 created for Parent.\n",
      "2024-10-08 10:51:21 - DEBUG - Run ProteinMPNN for index 0.\n",
      "2024-10-08 10:51:21 - DEBUG - Your job 1620097 (\"mpnn_ProteinMPNN_0\") has been submitted\n",
      "2024-10-08 10:51:21 - DEBUG - Updating scores\n",
      "2024-10-08 10:51:21 - DEBUG - Parent design not yet done. 2/10 jobs submitted.\n",
      "2024-10-08 10:51:21 - DEBUG - Child index 1 created for Parent.\n",
      "2024-10-08 10:51:22 - DEBUG - Run ProteinMPNN for index 1.\n",
      "2024-10-08 10:51:22 - DEBUG - Your job 1620098 (\"mpnn_ProteinMPNN_1\") has been submitted\n",
      "2024-10-08 10:51:22 - DEBUG - Updating scores\n",
      "2024-10-08 10:51:22 - DEBUG - Parent design not yet done. 3/10 jobs submitted.\n",
      "2024-10-08 10:51:22 - DEBUG - Child index 2 created for Parent.\n",
      "2024-10-08 10:51:22 - DEBUG - Run ProteinMPNN for index 2.\n",
      "2024-10-08 10:51:22 - DEBUG - Your job 1620099 (\"mpnn_ProteinMPNN_2\") has been submitted\n",
      "2024-10-08 10:51:22 - DEBUG - Updating scores\n",
      "2024-10-08 10:51:22 - DEBUG - Parent design not yet done. 4/10 jobs submitted.\n",
      "2024-10-08 10:51:22 - DEBUG - Child index 3 created for Parent.\n",
      "2024-10-08 10:51:22 - DEBUG - Run ProteinMPNN for index 3.\n",
      "2024-10-08 10:51:22 - DEBUG - Your job 1620100 (\"mpnn_ProteinMPNN_3\") has been submitted\n",
      "2024-10-08 10:51:22 - DEBUG - Updating scores\n",
      "2024-10-08 10:51:22 - DEBUG - Parent design not yet done. 5/10 jobs submitted.\n",
      "2024-10-08 10:51:22 - DEBUG - Child index 4 created for Parent.\n",
      "2024-10-08 10:51:22 - DEBUG - Run ProteinMPNN for index 4.\n",
      "2024-10-08 10:51:22 - DEBUG - Your job 1620101 (\"mpnn_ProteinMPNN_4\") has been submitted\n",
      "2024-10-08 10:51:22 - DEBUG - Updating scores\n",
      "2024-10-08 10:51:22 - DEBUG - Parent design not yet done. 6/10 jobs submitted.\n",
      "2024-10-08 10:51:23 - DEBUG - Child index 5 created for Parent.\n",
      "2024-10-08 10:51:23 - DEBUG - Run ProteinMPNN for index 5.\n",
      "2024-10-08 10:51:23 - DEBUG - Your job 1620102 (\"mpnn_ProteinMPNN_5\") has been submitted\n",
      "2024-10-08 10:51:23 - DEBUG - Updating scores\n",
      "2024-10-08 10:51:23 - DEBUG - Parent design not yet done. 7/10 jobs submitted.\n",
      "2024-10-08 10:51:23 - DEBUG - Child index 6 created for Parent.\n",
      "2024-10-08 10:51:23 - DEBUG - Run ProteinMPNN for index 6.\n",
      "2024-10-08 10:51:23 - DEBUG - Your job 1620103 (\"mpnn_ProteinMPNN_6\") has been submitted\n",
      "2024-10-08 10:51:23 - DEBUG - Updating scores\n",
      "2024-10-08 10:51:23 - DEBUG - Parent design not yet done. 8/10 jobs submitted.\n",
      "2024-10-08 10:51:23 - DEBUG - Child index 7 created for Parent.\n",
      "2024-10-08 10:51:23 - DEBUG - Run ProteinMPNN for index 7.\n",
      "2024-10-08 10:51:23 - DEBUG - Your job 1620104 (\"mpnn_ProteinMPNN_7\") has been submitted\n",
      "2024-10-08 10:51:23 - DEBUG - Updating scores\n",
      "2024-10-08 10:51:23 - DEBUG - Parent design not yet done. 9/10 jobs submitted.\n",
      "2024-10-08 10:51:23 - DEBUG - Child index 8 created for Parent.\n",
      "2024-10-08 10:51:23 - DEBUG - Run ProteinMPNN for index 8.\n",
      "2024-10-08 10:51:23 - DEBUG - Your job 1620105 (\"mpnn_ProteinMPNN_8\") has been submitted\n",
      "2024-10-08 10:51:23 - DEBUG - Updating scores\n",
      "2024-10-08 10:51:23 - DEBUG - Parent design not yet done. 10/10 jobs submitted.\n",
      "2024-10-08 10:51:23 - DEBUG - Child index 9 created for Parent.\n",
      "2024-10-08 10:51:23 - DEBUG - Run ProteinMPNN for index 9.\n",
      "2024-10-08 10:51:23 - DEBUG - Your job 1620106 (\"mpnn_ProteinMPNN_9\") has been submitted\n"
     ]
    }
   ],
   "source": [
    "import sys, os\n",
    "if os.path.join(os.getcwd(), '../../src') not in sys.path: sys.path.append(os.path.join(os.getcwd(), '../../src'))\n",
    "from AIzymes_013 import *\n",
    "AIzymes = AIzymes_MAIN()\n",
    "AIzymes.initialize(FOLDER_HOME = 'HAB_refactor_ProtMPNN_013', LOG=\"debug\", PRINT_VAR=False) #LOG=\"debug/info\"\n",
    "AIzymes.controller()"
   ]
  },
  {
   "cell_type": "code",
   "execution_count": null,
   "id": "2b64a5df",
   "metadata": {},
   "outputs": [],
   "source": [
    "import sys, os\n",
    "if os.path.join(os.getcwd(), '../../src') not in sys.path: sys.path.append(os.path.join(os.getcwd(), '../../src'))\n",
    "from AIzymes_013 import *\n",
    "AIzymes = AIzymes_MAIN()\n",
    "AIzymes.initialize(FOLDER_HOME = 'HAB_refactor_ProtMPNN_013', LOG=\"info\", PRINT_VAR=False) #LOG=\"debug/info\"\n",
    "AIzymes.plot()"
   ]
  },
  {
   "cell_type": "code",
   "execution_count": null,
   "id": "3ac82215",
   "metadata": {},
   "outputs": [],
   "source": [
    "!qstat"
   ]
  },
  {
   "cell_type": "code",
   "execution_count": null,
   "id": "c4f39926",
   "metadata": {},
   "outputs": [],
   "source": []
  }
 ],
 "metadata": {
  "kernelspec": {
   "display_name": "Python 3 (ipykernel)",
   "language": "python",
   "name": "python3"
  },
  "language_info": {
   "codemirror_mode": {
    "name": "ipython",
    "version": 3
   },
   "file_extension": ".py",
   "mimetype": "text/x-python",
   "name": "python",
   "nbconvert_exporter": "python",
   "pygments_lexer": "ipython3",
   "version": "3.7.16"
  }
 },
 "nbformat": 4,
 "nbformat_minor": 5
}
