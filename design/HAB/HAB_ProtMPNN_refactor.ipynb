{
 "cells": [
  {
   "cell_type": "code",
   "execution_count": 2,
   "id": "8b4b8893",
   "metadata": {},
   "outputs": [
    {
     "name": "stderr",
     "output_type": "stream",
     "text": [
      "2024-10-08 10:50:37 - DEBUG - An unexpected error occurred while tokenizing input\n",
      "The following traceback may be corrupted or invalid\n",
      "The error message is: ('EOF in multi-line string', (1, 4))\n",
      "\n"
     ]
    },
    {
     "ename": "KeyboardInterrupt",
     "evalue": "Interrupted by user",
     "output_type": "error",
     "traceback": [
      "\u001b[0;31m---------------------------------------------------------------------------\u001b[0m",
      "\u001b[0;31mKeyboardInterrupt\u001b[0m                         Traceback (most recent call last)",
      "\u001b[0;32m/tmp/ipykernel_1269/3971877631.py\u001b[0m in \u001b[0;36m<module>\u001b[0;34m\u001b[0m\n\u001b[1;32m     24\u001b[0m   \u001b[0mEXPLORE\u001b[0m           \u001b[0;34m=\u001b[0m \u001b[0;32mTrue\u001b[0m\u001b[0;34m,\u001b[0m\u001b[0;34m\u001b[0m\u001b[0;34m\u001b[0m\u001b[0m\n\u001b[1;32m     25\u001b[0m   \u001b[0mFIELD_TOOLS\u001b[0m       \u001b[0;34m=\u001b[0m \u001b[0;34m'../../src/FieldTools.py'\u001b[0m\u001b[0;34m,\u001b[0m\u001b[0;34m\u001b[0m\u001b[0;34m\u001b[0m\u001b[0m\n\u001b[0;32m---> 26\u001b[0;31m   \u001b[0mPARENT_DES_MED\u001b[0m    \u001b[0;34m=\u001b[0m \u001b[0;34m'ProteinMPNN'\u001b[0m\u001b[0;34m\u001b[0m\u001b[0;34m\u001b[0m\u001b[0m\n\u001b[0m\u001b[1;32m     27\u001b[0m  )\n",
      "\u001b[0;32m~/AIzymes/design/HAB/../../src/AIzymes_013.py\u001b[0m in \u001b[0;36msetup\u001b[0;34m(self, FOLDER_HOME, FOLDER_PARENT, CST_NAME, WT, LIGAND, DESIGN, MAX_JOBS, N_PARENT_JOBS, MAX_DESIGNS, KBT_BOLTZMANN, CST_WEIGHT, ProteinMPNN_PROB, ProteinMPNN_BIAS, LMPNN_PROB, FOLDER_MATCH, ProteinMPNN_T, LMPNN_T, LMPNN_BIAS, SUBMIT_PREFIX, SYSTEM, MATCH, ROSETTA_PATH, EXPLORE, FIELD_TOOLS, LOG, PARENT_DES_MED)\u001b[0m\n\u001b[1;32m     55\u001b[0m \u001b[0;34m\u001b[0m\u001b[0m\n\u001b[1;32m     56\u001b[0m         \u001b[0;31m# Run aizymes_setup\u001b[0m\u001b[0;34m\u001b[0m\u001b[0;34m\u001b[0m\u001b[0;34m\u001b[0m\u001b[0m\n\u001b[0;32m---> 57\u001b[0;31m         \u001b[0maizymes_setup\u001b[0m\u001b[0;34m(\u001b[0m\u001b[0mself\u001b[0m\u001b[0;34m)\u001b[0m\u001b[0;34m\u001b[0m\u001b[0;34m\u001b[0m\u001b[0m\n\u001b[0m\u001b[1;32m     58\u001b[0m \u001b[0;34m\u001b[0m\u001b[0m\n\u001b[1;32m     59\u001b[0m         print('''AIzymes initiated.\n",
      "\u001b[0;32m~/AIzymes/design/HAB/../../src/main_startup_001.py\u001b[0m in \u001b[0;36maizymes_setup\u001b[0;34m(self)\u001b[0m\n\u001b[1;32m    146\u001b[0m     \u001b[0mThis\u001b[0m \u001b[0mwill\u001b[0m \u001b[0mdelete\u001b[0m \u001b[0mall\u001b[0m \u001b[0mexisting\u001b[0m \u001b[0mfiles\u001b[0m \u001b[0;32min\u001b[0m \u001b[0;34m{\u001b[0m\u001b[0mself\u001b[0m\u001b[0;34m.\u001b[0m\u001b[0mFOLDER_HOME\u001b[0m\u001b[0;34m}\u001b[0m \u001b[0;34m[\u001b[0m\u001b[0my\u001b[0m\u001b[0;34m/\u001b[0m\u001b[0mn\u001b[0m\u001b[0;34m]\u001b[0m\u001b[0;34m\u001b[0m\u001b[0;34m\u001b[0m\u001b[0m\n\u001b[1;32m    147\u001b[0m \u001b[0;34m\u001b[0m\u001b[0m\n\u001b[0;32m--> 148\u001b[0;31m     ''') != 'y': \n\u001b[0m\u001b[1;32m    149\u001b[0m         \u001b[0mprint\u001b[0m\u001b[0;34m(\u001b[0m\u001b[0;34m\"AIzymes reset aborted.\"\u001b[0m\u001b[0;34m)\u001b[0m\u001b[0;34m\u001b[0m\u001b[0;34m\u001b[0m\u001b[0m\n\u001b[1;32m    150\u001b[0m         \u001b[0;32mreturn\u001b[0m \u001b[0;31m# Do not reset.\u001b[0m\u001b[0;34m\u001b[0m\u001b[0;34m\u001b[0m\u001b[0m\n",
      "\u001b[0;32m~/miniconda3/envs/py37/lib/python3.7/site-packages/ipykernel/kernelbase.py\u001b[0m in \u001b[0;36mraw_input\u001b[0;34m(self, prompt)\u001b[0m\n\u001b[1;32m   1179\u001b[0m             \u001b[0mself\u001b[0m\u001b[0;34m.\u001b[0m\u001b[0m_parent_ident\u001b[0m\u001b[0;34m[\u001b[0m\u001b[0;34m\"shell\"\u001b[0m\u001b[0;34m]\u001b[0m\u001b[0;34m,\u001b[0m\u001b[0;34m\u001b[0m\u001b[0;34m\u001b[0m\u001b[0m\n\u001b[1;32m   1180\u001b[0m             \u001b[0mself\u001b[0m\u001b[0;34m.\u001b[0m\u001b[0mget_parent\u001b[0m\u001b[0;34m(\u001b[0m\u001b[0;34m\"shell\"\u001b[0m\u001b[0;34m)\u001b[0m\u001b[0;34m,\u001b[0m\u001b[0;34m\u001b[0m\u001b[0;34m\u001b[0m\u001b[0m\n\u001b[0;32m-> 1181\u001b[0;31m             \u001b[0mpassword\u001b[0m\u001b[0;34m=\u001b[0m\u001b[0;32mFalse\u001b[0m\u001b[0;34m,\u001b[0m\u001b[0;34m\u001b[0m\u001b[0;34m\u001b[0m\u001b[0m\n\u001b[0m\u001b[1;32m   1182\u001b[0m         )\n\u001b[1;32m   1183\u001b[0m \u001b[0;34m\u001b[0m\u001b[0m\n",
      "\u001b[0;32m~/miniconda3/envs/py37/lib/python3.7/site-packages/ipykernel/kernelbase.py\u001b[0m in \u001b[0;36m_input_request\u001b[0;34m(self, prompt, ident, parent, password)\u001b[0m\n\u001b[1;32m   1217\u001b[0m             \u001b[0;32mexcept\u001b[0m \u001b[0mKeyboardInterrupt\u001b[0m\u001b[0;34m:\u001b[0m\u001b[0;34m\u001b[0m\u001b[0;34m\u001b[0m\u001b[0m\n\u001b[1;32m   1218\u001b[0m                 \u001b[0;31m# re-raise KeyboardInterrupt, to truncate traceback\u001b[0m\u001b[0;34m\u001b[0m\u001b[0;34m\u001b[0m\u001b[0;34m\u001b[0m\u001b[0m\n\u001b[0;32m-> 1219\u001b[0;31m                 \u001b[0;32mraise\u001b[0m \u001b[0mKeyboardInterrupt\u001b[0m\u001b[0;34m(\u001b[0m\u001b[0;34m\"Interrupted by user\"\u001b[0m\u001b[0;34m)\u001b[0m \u001b[0;32mfrom\u001b[0m \u001b[0;32mNone\u001b[0m\u001b[0;34m\u001b[0m\u001b[0;34m\u001b[0m\u001b[0m\n\u001b[0m\u001b[1;32m   1220\u001b[0m             \u001b[0;32mexcept\u001b[0m \u001b[0mException\u001b[0m\u001b[0;34m:\u001b[0m\u001b[0;34m\u001b[0m\u001b[0;34m\u001b[0m\u001b[0m\n\u001b[1;32m   1221\u001b[0m                 \u001b[0mself\u001b[0m\u001b[0;34m.\u001b[0m\u001b[0mlog\u001b[0m\u001b[0;34m.\u001b[0m\u001b[0mwarning\u001b[0m\u001b[0;34m(\u001b[0m\u001b[0;34m\"Invalid Message:\"\u001b[0m\u001b[0;34m,\u001b[0m \u001b[0mexc_info\u001b[0m\u001b[0;34m=\u001b[0m\u001b[0;32mTrue\u001b[0m\u001b[0;34m)\u001b[0m\u001b[0;34m\u001b[0m\u001b[0;34m\u001b[0m\u001b[0m\n",
      "\u001b[0;31mKeyboardInterrupt\u001b[0m: Interrupted by user"
     ]
    }
   ],
   "source": [
    "import sys, os\n",
    "if os.path.join(os.getcwd(), '../../src') not in sys.path: sys.path.append(os.path.join(os.getcwd(), '../../src'))\n",
    "from AIzymes_013 import *\n",
    "\n",
    "# GENERAL SETTINGS FOR AI.zymes -------------------------------------------------------------------------------------------\n",
    "AIzymes = AIzymes_MAIN()\n",
    "AIzymes.setup(FOLDER_HOME = 'HAB_refactor_ProtMPNN_013',\n",
    "  FOLDER_PARENT     = 'parent',\n",
    "  MAX_JOBS          = 10,\n",
    "  N_PARENT_JOBS     = 10,\n",
    "  MAX_DESIGNS       = 50,\n",
    "  KBT_BOLTZMANN     = [0.5, 0.0003],\n",
    "  CST_WEIGHT        = 1.0,\n",
    "  ProteinMPNN_PROB  = 1.0,\n",
    "  ProteinMPNN_BIAS  = 0.5,\n",
    "  CST_NAME          = \"5TS_enzdes_planar_tAB100\",\n",
    "  WT                = \"7vuu\",\n",
    "  LIGAND            = \"5TS\",\n",
    "  DESIGN            = \"4,8,16,21,25,28,40,41,44,52,57,60,61\",\n",
    "  ProteinMPNN_T     = \"0.1\",\n",
    "  SUBMIT_PREFIX     = \"mpnn\",\n",
    "  SYSTEM            = \"GRID\",\n",
    "  ROSETTA_PATH      = \"/home/bunzelh/rosetta_src_2021.16.61629_bundle/main/source/\",\n",
    "  EXPLORE           = True,\n",
    "  FIELD_TOOLS       = '../../src/FieldTools.py',\n",
    "  PARENT_DES_MED    = 'ProteinMPNN'\n",
    " )"
   ]
  },
  {
   "cell_type": "code",
   "execution_count": 1,
   "id": "5aadc10c",
   "metadata": {
    "scrolled": false
   },
   "outputs": [
    {
     "name": "stderr",
     "output_type": "stream",
     "text": [
      "2024-10-08 10:47:44 - DEBUG - Updating scores\n",
      "2024-10-08 10:47:44 - DEBUG - Unblocked RosettaRelax index 4.\n",
      "2024-10-08 10:47:45 - INFO - Updated scores and potentials of index 4.\n",
      "2024-10-08 10:47:45 - DEBUG - Unblocked ESMfold index 5.\n",
      "2024-10-08 10:47:45 - DEBUG - Unblocked ESMfold index 6.\n",
      "2024-10-08 10:47:45 - DEBUG - Unblocked ESMfold index 7.\n",
      "2024-10-08 10:47:45 - DEBUG - Unblocked ESMfold index 8.\n",
      "2024-10-08 10:47:45 - DEBUG - Unblocked ESMfold index 9.\n",
      "2024-10-08 10:47:45 - DEBUG - Starting new calculation for index 5.\n",
      "2024-10-08 10:47:45 - INFO - Index 5 has no relaxed structure, starting RosettaRelax.\n",
      "2024-10-08 10:47:45 - DEBUG - Run RosettaRelax for index 5.\n",
      "2024-10-08 10:47:45 - DEBUG - Your job 1620075 (\"mpnn_RosettaRelax_5\") has been submitted\n",
      "2024-10-08 10:47:45 - DEBUG - Updating scores\n",
      "2024-10-08 10:47:45 - DEBUG - Starting new calculation for index 6.\n",
      "2024-10-08 10:47:45 - INFO - Index 6 has no relaxed structure, starting RosettaRelax.\n",
      "2024-10-08 10:47:45 - DEBUG - Run RosettaRelax for index 6.\n",
      "2024-10-08 10:47:45 - DEBUG - Your job 1620076 (\"mpnn_RosettaRelax_6\") has been submitted\n",
      "2024-10-08 10:47:45 - DEBUG - Updating scores\n",
      "2024-10-08 10:47:45 - DEBUG - Starting new calculation for index 7.\n",
      "2024-10-08 10:47:45 - INFO - Index 7 has no relaxed structure, starting RosettaRelax.\n",
      "2024-10-08 10:47:45 - DEBUG - Run RosettaRelax for index 7.\n",
      "2024-10-08 10:47:45 - DEBUG - Your job 1620077 (\"mpnn_RosettaRelax_7\") has been submitted\n",
      "2024-10-08 10:47:46 - DEBUG - Updating scores\n",
      "2024-10-08 10:47:46 - DEBUG - Starting new calculation for index 8.\n",
      "2024-10-08 10:47:46 - INFO - Index 8 has no relaxed structure, starting RosettaRelax.\n",
      "2024-10-08 10:47:46 - DEBUG - Run RosettaRelax for index 8.\n",
      "2024-10-08 10:47:46 - DEBUG - Your job 1620078 (\"mpnn_RosettaRelax_8\") has been submitted\n",
      "2024-10-08 10:47:46 - DEBUG - Updating scores\n",
      "2024-10-08 10:47:46 - DEBUG - Starting new calculation for index 9.\n",
      "2024-10-08 10:47:46 - INFO - Index 9 has no relaxed structure, starting RosettaRelax.\n",
      "2024-10-08 10:47:46 - DEBUG - Run RosettaRelax for index 9.\n",
      "2024-10-08 10:47:46 - DEBUG - Your job 1620079 (\"mpnn_RosettaRelax_9\") has been submitted\n",
      "2024-10-08 10:47:46 - DEBUG - Updating scores\n",
      "2024-10-08 10:47:46 - DEBUG - Starting new calculation for index 2.\n",
      "2024-10-08 10:47:46 - DEBUG - Child index 11 created for 2.\n",
      "2024-10-08 10:47:46 - DEBUG - Run ProteinMPNN for index 11.\n",
      "2024-10-08 10:47:46 - DEBUG - Your job 1620080 (\"mpnn_ProteinMPNN_11\") has been submitted\n"
     ]
    },
    {
     "name": "stdout",
     "output_type": "stream",
     "text": [
      "xxxxxxxxxxxxxxxxxxx [ 0.59061697  0.59061697  0.14860471  0.0132387  -1.34307735] 0.4998500224977502\n"
     ]
    },
    {
     "name": "stderr",
     "output_type": "stream",
     "text": [
      "2024-10-08 10:47:46 - DEBUG - Updating scores\n",
      "2024-10-08 10:47:46 - DEBUG - Starting new calculation for index 0.\n",
      "2024-10-08 10:47:46 - DEBUG - Child index 12 created for 0.\n",
      "2024-10-08 10:47:46 - DEBUG - Run ProteinMPNN for index 12.\n",
      "2024-10-08 10:47:46 - DEBUG - Your job 1620081 (\"mpnn_ProteinMPNN_12\") has been submitted\n",
      "2024-10-08 10:47:46 - DEBUG - Updating scores\n"
     ]
    },
    {
     "name": "stdout",
     "output_type": "stream",
     "text": [
      "xxxxxxxxxxxxxxxxxxx [ 0.59061697  0.59061697  0.14860471  0.0132387  -1.34307735] 0.4997000899820027\n"
     ]
    },
    {
     "name": "stderr",
     "output_type": "stream",
     "text": [
      "2024-10-08 10:47:46 - DEBUG - Starting new calculation for index 1.\n",
      "2024-10-08 10:47:46 - DEBUG - Child index 13 created for 1.\n",
      "2024-10-08 10:47:46 - DEBUG - Run ProteinMPNN for index 13.\n",
      "2024-10-08 10:47:46 - DEBUG - Your job 1620082 (\"mpnn_ProteinMPNN_13\") has been submitted\n",
      "2024-10-08 10:47:47 - DEBUG - Updating scores\n"
     ]
    },
    {
     "name": "stdout",
     "output_type": "stream",
     "text": [
      "xxxxxxxxxxxxxxxxxxx [ 0.59061697  0.59061697  0.14860471  0.0132387  -1.34307735] 0.4995502024392637\n"
     ]
    },
    {
     "name": "stderr",
     "output_type": "stream",
     "text": [
      "2024-10-08 10:47:47 - DEBUG - Starting new calculation for index 0.\n",
      "2024-10-08 10:47:47 - DEBUG - Child index 14 created for 0.\n",
      "2024-10-08 10:47:47 - DEBUG - Run ProteinMPNN for index 14.\n",
      "2024-10-08 10:47:47 - DEBUG - Your job 1620083 (\"mpnn_ProteinMPNN_14\") has been submitted\n",
      "2024-10-08 10:47:47 - DEBUG - Updating scores\n"
     ]
    },
    {
     "name": "stdout",
     "output_type": "stream",
     "text": [
      "xxxxxxxxxxxxxxxxxxx [ 0.59061697  0.59061697  0.14860471  0.0132387  -1.34307735] 0.4994003598560432\n"
     ]
    },
    {
     "name": "stderr",
     "output_type": "stream",
     "text": [
      "2024-10-08 10:47:47 - DEBUG - Starting new calculation for index 2.\n",
      "2024-10-08 10:47:47 - DEBUG - Child index 15 created for 2.\n",
      "2024-10-08 10:47:47 - DEBUG - Run ProteinMPNN for index 15.\n",
      "2024-10-08 10:47:47 - DEBUG - Your job 1620084 (\"mpnn_ProteinMPNN_15\") has been submitted\n"
     ]
    },
    {
     "name": "stdout",
     "output_type": "stream",
     "text": [
      "xxxxxxxxxxxxxxxxxxx [ 0.59061697  0.59061697  0.14860471  0.0132387  -1.34307735] 0.49925056221885544\n"
     ]
    },
    {
     "name": "stderr",
     "output_type": "stream",
     "text": [
      "2024-10-08 10:48:48 - DEBUG - Updating scores\n",
      "2024-10-08 10:48:48 - DEBUG - Unblocked RosettaRelax index 9.\n",
      "2024-10-08 10:48:48 - INFO - Updated scores and potentials of index 9.\n",
      "2024-10-08 10:48:48 - DEBUG - Starting new calculation for index 0.\n",
      "2024-10-08 10:48:48 - DEBUG - Child index 16 created for 0.\n",
      "2024-10-08 10:48:48 - DEBUG - Run ProteinMPNN for index 16.\n",
      "2024-10-08 10:48:48 - DEBUG - Your job 1620085 (\"mpnn_ProteinMPNN_16\") has been submitted\n"
     ]
    },
    {
     "name": "stdout",
     "output_type": "stream",
     "text": [
      "xxxxxxxxxxxxxxxxxxx [ 0.30152221  0.30152221 -0.20452705 -0.70003959  0.30152221] 0.49910080951421865\n"
     ]
    },
    {
     "name": "stderr",
     "output_type": "stream",
     "text": [
      "2024-10-08 10:49:08 - DEBUG - Updating scores\n",
      "2024-10-08 10:49:09 - DEBUG - Unblocked RosettaRelax index 6.\n",
      "2024-10-08 10:49:10 - INFO - Updated scores and potentials of index 6.\n",
      "2024-10-08 10:49:10 - DEBUG - Starting new calculation for index 2.\n",
      "2024-10-08 10:49:10 - DEBUG - Child index 17 created for 2.\n",
      "2024-10-08 10:49:10 - DEBUG - Run ProteinMPNN for index 17.\n",
      "2024-10-08 10:49:10 - DEBUG - Your job 1620086 (\"mpnn_ProteinMPNN_17\") has been submitted\n"
     ]
    },
    {
     "name": "stdout",
     "output_type": "stream",
     "text": [
      "xxxxxxxxxxxxxxxxxxx [ 0.49733211  0.49733211  0.10361591 -0.06210389 -1.53350835  0.49733211] 0.498951101728655\n"
     ]
    },
    {
     "name": "stderr",
     "output_type": "stream",
     "text": [
      "2024-10-08 10:50:25 - ERROR - Internal Python error in the inspect module.\n",
      "Below is the traceback from this internal error.\n",
      "\n",
      "2024-10-08 10:50:25 - INFO - \n",
      "Unfortunately, your original traceback can not be constructed.\n",
      "\n"
     ]
    },
    {
     "name": "stdout",
     "output_type": "stream",
     "text": [
      "Traceback (most recent call last):\n",
      "  File \"/home/bunzelh/miniconda3/envs/py37/lib/python3.7/site-packages/IPython/core/interactiveshell.py\", line 3553, in run_code\n",
      "    exec(code_obj, self.user_global_ns, self.user_ns)\n",
      "  File \"/tmp/ipykernel_1269/1828793074.py\", line 6, in <module>\n",
      "    AIzymes.controller()\n",
      "  File \"/home/bunzelh/AIzymes/design/HAB/../../src/AIzymes_013.py\", line 88, in controller\n",
      "    start_controller(self)\n",
      "  File \"/home/bunzelh/AIzymes/design/HAB/../../src/main_running_001.py\", line 28, in start_controller\n",
      "    time.sleep(20)\n",
      "KeyboardInterrupt\n",
      "\n",
      "During handling of the above exception, another exception occurred:\n",
      "\n",
      "Traceback (most recent call last):\n",
      "  File \"/home/bunzelh/miniconda3/envs/py37/lib/python3.7/site-packages/IPython/core/interactiveshell.py\", line 2099, in showtraceback\n",
      "    stb = value._render_traceback_()\n",
      "AttributeError: 'KeyboardInterrupt' object has no attribute '_render_traceback_'\n",
      "\n",
      "During handling of the above exception, another exception occurred:\n",
      "\n",
      "Traceback (most recent call last):\n",
      "  File \"/home/bunzelh/miniconda3/envs/py37/lib/python3.7/site-packages/IPython/core/ultratb.py\", line 1101, in get_records\n",
      "    return _fixed_getinnerframes(etb, number_of_lines_of_context, tb_offset)\n",
      "  File \"/home/bunzelh/miniconda3/envs/py37/lib/python3.7/site-packages/IPython/core/ultratb.py\", line 248, in wrapped\n",
      "    return f(*args, **kwargs)\n",
      "  File \"/home/bunzelh/miniconda3/envs/py37/lib/python3.7/site-packages/IPython/core/ultratb.py\", line 281, in _fixed_getinnerframes\n",
      "    records = fix_frame_records_filenames(inspect.getinnerframes(etb, context))\n",
      "  File \"/home/bunzelh/miniconda3/envs/py37/lib/python3.7/inspect.py\", line 1502, in getinnerframes\n",
      "    frameinfo = (tb.tb_frame,) + getframeinfo(tb, context)\n",
      "  File \"/home/bunzelh/miniconda3/envs/py37/lib/python3.7/inspect.py\", line 1460, in getframeinfo\n",
      "    filename = getsourcefile(frame) or getfile(frame)\n",
      "  File \"/home/bunzelh/miniconda3/envs/py37/lib/python3.7/inspect.py\", line 693, in getsourcefile\n",
      "    if os.path.exists(filename):\n",
      "  File \"/home/bunzelh/miniconda3/envs/py37/lib/python3.7/genericpath.py\", line 19, in exists\n",
      "    os.stat(path)\n",
      "KeyboardInterrupt\n"
     ]
    },
    {
     "ename": "TypeError",
     "evalue": "object of type 'NoneType' has no len()",
     "output_type": "error",
     "traceback": [
      "\u001b[0;31m---------------------------------------------------------------------------\u001b[0m",
      "\u001b[0;31mKeyboardInterrupt\u001b[0m                         Traceback (most recent call last)",
      "    \u001b[0;31m[... skipping hidden 1 frame]\u001b[0m\n",
      "\u001b[0;32m/tmp/ipykernel_1269/1828793074.py\u001b[0m in \u001b[0;36m<module>\u001b[0;34m\u001b[0m\n\u001b[1;32m      5\u001b[0m \u001b[0mAIzymes\u001b[0m\u001b[0;34m.\u001b[0m\u001b[0minitialize\u001b[0m\u001b[0;34m(\u001b[0m\u001b[0mFOLDER_HOME\u001b[0m \u001b[0;34m=\u001b[0m \u001b[0;34m'HAB_refactor_ProtMPNN_013'\u001b[0m\u001b[0;34m,\u001b[0m \u001b[0mLOG\u001b[0m\u001b[0;34m=\u001b[0m\u001b[0;34m\"debug\"\u001b[0m\u001b[0;34m,\u001b[0m \u001b[0mPRINT_VAR\u001b[0m\u001b[0;34m=\u001b[0m\u001b[0;32mFalse\u001b[0m\u001b[0;34m)\u001b[0m \u001b[0;31m#LOG=\"debug/info\"\u001b[0m\u001b[0;34m\u001b[0m\u001b[0;34m\u001b[0m\u001b[0m\n\u001b[0;32m----> 6\u001b[0;31m \u001b[0mAIzymes\u001b[0m\u001b[0;34m.\u001b[0m\u001b[0mcontroller\u001b[0m\u001b[0;34m(\u001b[0m\u001b[0;34m)\u001b[0m\u001b[0;34m\u001b[0m\u001b[0;34m\u001b[0m\u001b[0m\n\u001b[0m",
      "\u001b[0;32m~/AIzymes/design/HAB/../../src/AIzymes_013.py\u001b[0m in \u001b[0;36mcontroller\u001b[0;34m(self, HIGHSCORE, NORM)\u001b[0m\n\u001b[1;32m     87\u001b[0m \u001b[0;34m\u001b[0m\u001b[0m\n\u001b[0;32m---> 88\u001b[0;31m         \u001b[0mstart_controller\u001b[0m\u001b[0;34m(\u001b[0m\u001b[0mself\u001b[0m\u001b[0;34m)\u001b[0m\u001b[0;34m\u001b[0m\u001b[0;34m\u001b[0m\u001b[0m\n\u001b[0m\u001b[1;32m     89\u001b[0m \u001b[0;34m\u001b[0m\u001b[0m\n",
      "\u001b[0;32m~/AIzymes/design/HAB/../../src/main_running_001.py\u001b[0m in \u001b[0;36mstart_controller\u001b[0;34m(self)\u001b[0m\n\u001b[1;32m     27\u001b[0m             \u001b[0;31m# Pause and continue after some time\u001b[0m\u001b[0;34m\u001b[0m\u001b[0;34m\u001b[0m\u001b[0;34m\u001b[0m\u001b[0m\n\u001b[0;32m---> 28\u001b[0;31m             \u001b[0mtime\u001b[0m\u001b[0;34m.\u001b[0m\u001b[0msleep\u001b[0m\u001b[0;34m(\u001b[0m\u001b[0;36m20\u001b[0m\u001b[0;34m)\u001b[0m\u001b[0;34m\u001b[0m\u001b[0;34m\u001b[0m\u001b[0m\n\u001b[0m\u001b[1;32m     29\u001b[0m \u001b[0;34m\u001b[0m\u001b[0m\n",
      "\u001b[0;31mKeyboardInterrupt\u001b[0m: ",
      "\nDuring handling of the above exception, another exception occurred:\n",
      "\u001b[0;31mAttributeError\u001b[0m                            Traceback (most recent call last)",
      "\u001b[0;32m~/miniconda3/envs/py37/lib/python3.7/site-packages/IPython/core/interactiveshell.py\u001b[0m in \u001b[0;36mshowtraceback\u001b[0;34m(self, exc_tuple, filename, tb_offset, exception_only, running_compiled_code)\u001b[0m\n\u001b[1;32m   2098\u001b[0m                         \u001b[0;31m# in the engines. This should return a list of strings.\u001b[0m\u001b[0;34m\u001b[0m\u001b[0;34m\u001b[0m\u001b[0;34m\u001b[0m\u001b[0m\n\u001b[0;32m-> 2099\u001b[0;31m                         \u001b[0mstb\u001b[0m \u001b[0;34m=\u001b[0m \u001b[0mvalue\u001b[0m\u001b[0;34m.\u001b[0m\u001b[0m_render_traceback_\u001b[0m\u001b[0;34m(\u001b[0m\u001b[0;34m)\u001b[0m\u001b[0;34m\u001b[0m\u001b[0;34m\u001b[0m\u001b[0m\n\u001b[0m\u001b[1;32m   2100\u001b[0m                     \u001b[0;32mexcept\u001b[0m \u001b[0mException\u001b[0m\u001b[0;34m:\u001b[0m\u001b[0;34m\u001b[0m\u001b[0;34m\u001b[0m\u001b[0m\n",
      "\u001b[0;31mAttributeError\u001b[0m: 'KeyboardInterrupt' object has no attribute '_render_traceback_'",
      "\nDuring handling of the above exception, another exception occurred:\n",
      "\u001b[0;31mTypeError\u001b[0m                                 Traceback (most recent call last)",
      "    \u001b[0;31m[... skipping hidden 1 frame]\u001b[0m\n",
      "\u001b[0;32m~/miniconda3/envs/py37/lib/python3.7/site-packages/IPython/core/interactiveshell.py\u001b[0m in \u001b[0;36mshowtraceback\u001b[0;34m(self, exc_tuple, filename, tb_offset, exception_only, running_compiled_code)\u001b[0m\n\u001b[1;32m   2100\u001b[0m                     \u001b[0;32mexcept\u001b[0m \u001b[0mException\u001b[0m\u001b[0;34m:\u001b[0m\u001b[0;34m\u001b[0m\u001b[0;34m\u001b[0m\u001b[0m\n\u001b[1;32m   2101\u001b[0m                         stb = self.InteractiveTB.structured_traceback(etype,\n\u001b[0;32m-> 2102\u001b[0;31m                                             value, tb, tb_offset=tb_offset)\n\u001b[0m\u001b[1;32m   2103\u001b[0m \u001b[0;34m\u001b[0m\u001b[0m\n\u001b[1;32m   2104\u001b[0m                     \u001b[0mself\u001b[0m\u001b[0;34m.\u001b[0m\u001b[0m_showtraceback\u001b[0m\u001b[0;34m(\u001b[0m\u001b[0metype\u001b[0m\u001b[0;34m,\u001b[0m \u001b[0mvalue\u001b[0m\u001b[0;34m,\u001b[0m \u001b[0mstb\u001b[0m\u001b[0;34m)\u001b[0m\u001b[0;34m\u001b[0m\u001b[0;34m\u001b[0m\u001b[0m\n",
      "\u001b[0;32m~/miniconda3/envs/py37/lib/python3.7/site-packages/IPython/core/ultratb.py\u001b[0m in \u001b[0;36mstructured_traceback\u001b[0;34m(self, etype, value, tb, tb_offset, number_of_lines_of_context)\u001b[0m\n\u001b[1;32m   1366\u001b[0m             \u001b[0mself\u001b[0m\u001b[0;34m.\u001b[0m\u001b[0mtb\u001b[0m \u001b[0;34m=\u001b[0m \u001b[0mtb\u001b[0m\u001b[0;34m\u001b[0m\u001b[0;34m\u001b[0m\u001b[0m\n\u001b[1;32m   1367\u001b[0m         return FormattedTB.structured_traceback(\n\u001b[0;32m-> 1368\u001b[0;31m             self, etype, value, tb, tb_offset, number_of_lines_of_context)\n\u001b[0m\u001b[1;32m   1369\u001b[0m \u001b[0;34m\u001b[0m\u001b[0m\n\u001b[1;32m   1370\u001b[0m \u001b[0;34m\u001b[0m\u001b[0m\n",
      "\u001b[0;32m~/miniconda3/envs/py37/lib/python3.7/site-packages/IPython/core/ultratb.py\u001b[0m in \u001b[0;36mstructured_traceback\u001b[0;34m(self, etype, value, tb, tb_offset, number_of_lines_of_context)\u001b[0m\n\u001b[1;32m   1266\u001b[0m             \u001b[0;31m# Verbose modes need a full traceback\u001b[0m\u001b[0;34m\u001b[0m\u001b[0;34m\u001b[0m\u001b[0;34m\u001b[0m\u001b[0m\n\u001b[1;32m   1267\u001b[0m             return VerboseTB.structured_traceback(\n\u001b[0;32m-> 1268\u001b[0;31m                 \u001b[0mself\u001b[0m\u001b[0;34m,\u001b[0m \u001b[0metype\u001b[0m\u001b[0;34m,\u001b[0m \u001b[0mvalue\u001b[0m\u001b[0;34m,\u001b[0m \u001b[0mtb\u001b[0m\u001b[0;34m,\u001b[0m \u001b[0mtb_offset\u001b[0m\u001b[0;34m,\u001b[0m \u001b[0mnumber_of_lines_of_context\u001b[0m\u001b[0;34m\u001b[0m\u001b[0;34m\u001b[0m\u001b[0m\n\u001b[0m\u001b[1;32m   1269\u001b[0m             )\n\u001b[1;32m   1270\u001b[0m         \u001b[0;32melif\u001b[0m \u001b[0mmode\u001b[0m \u001b[0;34m==\u001b[0m \u001b[0;34m'Minimal'\u001b[0m\u001b[0;34m:\u001b[0m\u001b[0;34m\u001b[0m\u001b[0;34m\u001b[0m\u001b[0m\n",
      "\u001b[0;32m~/miniconda3/envs/py37/lib/python3.7/site-packages/IPython/core/ultratb.py\u001b[0m in \u001b[0;36mstructured_traceback\u001b[0;34m(self, etype, evalue, etb, tb_offset, number_of_lines_of_context)\u001b[0m\n\u001b[1;32m   1123\u001b[0m \u001b[0;34m\u001b[0m\u001b[0m\n\u001b[1;32m   1124\u001b[0m         formatted_exception = self.format_exception_as_a_whole(etype, evalue, etb, number_of_lines_of_context,\n\u001b[0;32m-> 1125\u001b[0;31m                                                                tb_offset)\n\u001b[0m\u001b[1;32m   1126\u001b[0m \u001b[0;34m\u001b[0m\u001b[0m\n\u001b[1;32m   1127\u001b[0m         \u001b[0mcolors\u001b[0m \u001b[0;34m=\u001b[0m \u001b[0mself\u001b[0m\u001b[0;34m.\u001b[0m\u001b[0mColors\u001b[0m  \u001b[0;31m# just a shorthand + quicker name lookup\u001b[0m\u001b[0;34m\u001b[0m\u001b[0;34m\u001b[0m\u001b[0m\n",
      "\u001b[0;32m~/miniconda3/envs/py37/lib/python3.7/site-packages/IPython/core/ultratb.py\u001b[0m in \u001b[0;36mformat_exception_as_a_whole\u001b[0;34m(self, etype, evalue, etb, number_of_lines_of_context, tb_offset)\u001b[0m\n\u001b[1;32m   1080\u001b[0m \u001b[0;34m\u001b[0m\u001b[0m\n\u001b[1;32m   1081\u001b[0m \u001b[0;34m\u001b[0m\u001b[0m\n\u001b[0;32m-> 1082\u001b[0;31m         \u001b[0mlast_unique\u001b[0m\u001b[0;34m,\u001b[0m \u001b[0mrecursion_repeat\u001b[0m \u001b[0;34m=\u001b[0m \u001b[0mfind_recursion\u001b[0m\u001b[0;34m(\u001b[0m\u001b[0morig_etype\u001b[0m\u001b[0;34m,\u001b[0m \u001b[0mevalue\u001b[0m\u001b[0;34m,\u001b[0m \u001b[0mrecords\u001b[0m\u001b[0;34m)\u001b[0m\u001b[0;34m\u001b[0m\u001b[0;34m\u001b[0m\u001b[0m\n\u001b[0m\u001b[1;32m   1083\u001b[0m \u001b[0;34m\u001b[0m\u001b[0m\n\u001b[1;32m   1084\u001b[0m         \u001b[0mframes\u001b[0m \u001b[0;34m=\u001b[0m \u001b[0mself\u001b[0m\u001b[0;34m.\u001b[0m\u001b[0mformat_records\u001b[0m\u001b[0;34m(\u001b[0m\u001b[0mrecords\u001b[0m\u001b[0;34m,\u001b[0m \u001b[0mlast_unique\u001b[0m\u001b[0;34m,\u001b[0m \u001b[0mrecursion_repeat\u001b[0m\u001b[0;34m)\u001b[0m\u001b[0;34m\u001b[0m\u001b[0;34m\u001b[0m\u001b[0m\n",
      "\u001b[0;32m~/miniconda3/envs/py37/lib/python3.7/site-packages/IPython/core/ultratb.py\u001b[0m in \u001b[0;36mfind_recursion\u001b[0;34m(etype, value, records)\u001b[0m\n\u001b[1;32m    380\u001b[0m     \u001b[0;31m# first frame (from in to out) that looks different.\u001b[0m\u001b[0;34m\u001b[0m\u001b[0;34m\u001b[0m\u001b[0;34m\u001b[0m\u001b[0m\n\u001b[1;32m    381\u001b[0m     \u001b[0;32mif\u001b[0m \u001b[0;32mnot\u001b[0m \u001b[0mis_recursion_error\u001b[0m\u001b[0;34m(\u001b[0m\u001b[0metype\u001b[0m\u001b[0;34m,\u001b[0m \u001b[0mvalue\u001b[0m\u001b[0;34m,\u001b[0m \u001b[0mrecords\u001b[0m\u001b[0;34m)\u001b[0m\u001b[0;34m:\u001b[0m\u001b[0;34m\u001b[0m\u001b[0;34m\u001b[0m\u001b[0m\n\u001b[0;32m--> 382\u001b[0;31m         \u001b[0;32mreturn\u001b[0m \u001b[0mlen\u001b[0m\u001b[0;34m(\u001b[0m\u001b[0mrecords\u001b[0m\u001b[0;34m)\u001b[0m\u001b[0;34m,\u001b[0m \u001b[0;36m0\u001b[0m\u001b[0;34m\u001b[0m\u001b[0;34m\u001b[0m\u001b[0m\n\u001b[0m\u001b[1;32m    383\u001b[0m \u001b[0;34m\u001b[0m\u001b[0m\n\u001b[1;32m    384\u001b[0m     \u001b[0;31m# Select filename, lineno, func_name to track frames with\u001b[0m\u001b[0;34m\u001b[0m\u001b[0;34m\u001b[0m\u001b[0;34m\u001b[0m\u001b[0m\n",
      "\u001b[0;31mTypeError\u001b[0m: object of type 'NoneType' has no len()"
     ]
    }
   ],
   "source": [
    "import sys, os\n",
    "if os.path.join(os.getcwd(), '../../src') not in sys.path: sys.path.append(os.path.join(os.getcwd(), '../../src'))\n",
    "from AIzymes_013 import *\n",
    "AIzymes = AIzymes_MAIN()\n",
    "AIzymes.initialize(FOLDER_HOME = 'HAB_refactor_ProtMPNN_013', LOG=\"debug\", PRINT_VAR=False) #LOG=\"debug/info\"\n",
    "AIzymes.controller()"
   ]
  },
  {
   "cell_type": "code",
   "execution_count": null,
   "id": "2b64a5df",
   "metadata": {},
   "outputs": [],
   "source": [
    "import sys, os\n",
    "if os.path.join(os.getcwd(), '../../src') not in sys.path: sys.path.append(os.path.join(os.getcwd(), '../../src'))\n",
    "from AIzymes_013 import *\n",
    "AIzymes = AIzymes_MAIN()\n",
    "AIzymes.initialize(FOLDER_HOME = 'HAB_refactor_ProtMPNN_013', LOG=\"info\", PRINT_VAR=False) #LOG=\"debug/info\"\n",
    "AIzymes.plot()"
   ]
  },
  {
   "cell_type": "code",
   "execution_count": null,
   "id": "3ac82215",
   "metadata": {},
   "outputs": [],
   "source": [
    "!qstat\n",
    "!qdel -u bunzelh"
   ]
  },
  {
   "cell_type": "code",
   "execution_count": null,
   "id": "02968247",
   "metadata": {},
   "outputs": [],
   "source": []
  }
 ],
 "metadata": {
  "kernelspec": {
   "display_name": "Python 3 (ipykernel)",
   "language": "python",
   "name": "python3"
  },
  "language_info": {
   "codemirror_mode": {
    "name": "ipython",
    "version": 3
   },
   "file_extension": ".py",
   "mimetype": "text/x-python",
   "name": "python",
   "nbconvert_exporter": "python",
   "pygments_lexer": "ipython3",
   "version": "3.7.16"
  }
 },
 "nbformat": 4,
 "nbformat_minor": 5
}
