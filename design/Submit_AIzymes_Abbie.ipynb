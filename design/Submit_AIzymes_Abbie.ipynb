{
 "cells": [
  {
   "cell_type": "code",
   "execution_count": null,
   "id": "948eed2f",
   "metadata": {
    "scrolled": false
   },
   "outputs": [],
   "source": [
    "#### DESIGN RUN NAME #####################################################################################################\n",
    "DESIGN_FOLDER     = 'Design_AL'\n",
    "FOLDER_MATCH      = 'MATCH' #Not needed for now -> This is just for match\n",
    "FOLDER_PARENT     = '../../design/Parent_1ohp' # -> Adjust, contains ONLY parent pdbs\n",
    "##########################################################################################################################\n",
    "#### Input parameters ####################################################################################################\n",
    "MAX_JOBS          = 12\n",
    "N_PARENT_JOBS     = 5\n",
    "MAX_DESIGNS       = 50 #00\n",
    "KBT_BOLTZMANN     = 0.02\n",
    "CST_WEIGHT        = 1.0\n",
    "HIGHSCORE         = 0.93\n",
    "NEG_BEST          = 0.79\n",
    "ProteinMPNN_PROB  = 0.0\n",
    "WT                = \"1ohp\"\n",
    "LIGAND            = \"5TS\"\n",
    "REPACK            = \"36,45,51,67\"\n",
    "MATCH             = \"14,18,26,30,55,65,80,82,99,101,112\"\n",
    "DESIGN            = \"7,10,11,14,15,18,26,29,30,38,54,55,58,59,63,65,71,73,78\"\n",
    "DESIGN           += \",80,82,84,86,93,95,97,99,101,103,109,112,114,116,121\"\n",
    "ProteinMPNN_T     = \"0.1\"\n",
    "SUBMIT_PREFIX     = \"AIz\" # Adjust, use a short prefix to allow \n",
    "BLUEPEBBLE        = True\n",
    "GRID              = False\n",
    "BACKGROUND_JOB    = False\n",
    "ABBIE_LOCAL       = False\n",
    "\n",
    "if GRID:            ROSETTA_PATH = \"/home/bunzelh/rosetta_src_2021.16.61629_bundle/main/source/\"      #GRID\n",
    "if BLUEPEBBLE:      \n",
    "                    ROSETTA_PATH = \"/sw/apps/rosetta/rosetta_src_2021.16.61629_bundle/main/source/\"   #BLUEPEBBLE \n",
    "                    #BLUEPEBBLE_ACCOUNT = \"ptch000361\"\n",
    "                    BLUEPEBBLE_ACCOUNT = \"ptch000721\"\n",
    "if BACKGROUND_JOB:  ROSETTA_PATH = \"/sw/apps/rosetta/rosetta_src_2021.16.61629_bundle/main/source/\"   #BLUEPEBBLE \n",
    "\n",
    "if ABBIE_LOCAL:     ROSETTA_PATH = \"/home/abbie/rosetta.binary.ubuntu.release-371/main/source\"\n",
    "    \n",
    "NORM              = {'interface_score': [10, 30], 'total_score': [340, 410], 'catalytic_score': [-40, 0]}\n",
    "##########################################################################################################################\n",
    "AIZYME_TOOLS      = \"../src/AIzymes_010.ipynb\"\n",
    "%run \"$AIZYME_TOOLS\""
   ]
  },
  {
   "cell_type": "code",
   "execution_count": null,
   "id": "b486023f",
   "metadata": {
    "scrolled": false
   },
   "outputs": [],
   "source": [
    "%run \"$AIZYME_TOOLS\"\n",
    "controller(RESET=False, EXPLORE=True, UNBLOCK_ALL=False, PRINT_VAR=True, PLOT_DATA=False) "
   ]
  },
  {
   "cell_type": "code",
   "execution_count": null,
   "id": "b25054f5",
   "metadata": {},
   "outputs": [],
   "source": [
    "import pandas as pd\n",
    "\n",
    "PDB_input  = \"/home/abbie/AIzymes/design/Design_AL/../../design/Parent_1ohp/1ohp.pdb\"\n",
    "\n",
    "index = 0\n",
    "\n",
    "all_scores_df = pd.read_csv(\"Design_AL/all_scores.csv\")\n",
    "\n",
    "save_cat_res_into_all_scores_df(all_scores_df, index, PDB_input, from_parent_struct=True)"
   ]
  },
  {
   "cell_type": "code",
   "execution_count": null,
   "id": "41818b43",
   "metadata": {},
   "outputs": [],
   "source": [
    "# WT = \"1ohp\"\n",
    "# DESIGN_FOLDER = \"Design_AL\"\n",
    "# FOLDER_HOME = f'{os.getcwd()}/{DESIGN_FOLDER}'\n",
    "index = 0\n",
    "\n",
    "import os\n",
    "import pickle\n",
    "\n",
    "pdb_path = f\"{FOLDER_HOME}/{int(index)}/{WT}_Rosetta_Design_{int(index)}.pdb\"\n",
    "\n",
    "rel_pdb_path = os.path.relpath(pdb_path)\n",
    "print(rel_pdb_path)\n",
    "\n",
    "out_path = f\"{os.path.dirname(rel_pdb_path)}/{WT}_fields.pkl\""
   ]
  },
  {
   "cell_type": "code",
   "execution_count": null,
   "id": "a5b60528",
   "metadata": {},
   "outputs": [],
   "source": [
    "structure_filename = os.path.splitext(pdb_path)[0]"
   ]
  },
  {
   "cell_type": "code",
   "execution_count": null,
   "id": "ec1a963a",
   "metadata": {},
   "outputs": [],
   "source": [
    "import subprocess\n",
    "\n",
    "with open(f\"{output_filename}_clean.pdb\", \"w\") as f:\n",
    "    subprocess.call(['sed', '-n', '/CONECT/q;p' ,pdb_path], stdout=f)"
   ]
  },
  {
   "cell_type": "code",
   "execution_count": null,
   "id": "14228e3b",
   "metadata": {},
   "outputs": [],
   "source": [
    "output = run_command(['sed', '-n', '/CONECT/q;p' ,pdb_path])\n",
    "\n",
    "with open(f\"{output_filename}_clean.pdb\", \"w\") as f:\n",
    "    f.write(output)"
   ]
  },
  {
   "cell_type": "code",
   "execution_count": null,
   "id": "45d95a78",
   "metadata": {},
   "outputs": [],
   "source": [
    "\n",
    "os.system(f\"sed -n '/CONECT/q;p' {pdb_path} > {output_filename}_clean.pdb\")\n",
    "os.system(f\"pdb_delelem -H {output_filename}_clean.pdb > {output_filename}_noHclean.pdb\")\n",
    "\n",
    "with open(\"tleap.in\", \"w\") as f:\n",
    "        f.write(f\"\"\"source leaprc.protein.ff19SB \n",
    "source leaprc.gaff\n",
    "loadamberprep   Input/5TS.prepi\n",
    "loadamberparams Input/5TS.frcmod\n",
    "mol = loadpdb {output_filename}_noHclean.pdb\n",
    "saveamberparm mol {output_filename}.parm7 {output_filename}.rst7\n",
    "quit\n",
    "\"\"\")\n",
    "    \n",
    "os.system(\"tleap -s -f tleap.in > tleap.tmp\")"
   ]
  },
  {
   "cell_type": "code",
   "execution_count": null,
   "id": "9d9bdc53",
   "metadata": {},
   "outputs": [],
   "source": [
    "run_command([\"tleap\", \"-s\", \"-f\", \"tleap.in\"])"
   ]
  },
  {
   "cell_type": "code",
   "execution_count": null,
   "id": "317ea421",
   "metadata": {},
   "outputs": [],
   "source": [
    "os.system(f\"ambpdb  -p {output_filename}.parm7 -c {output_filename}.rst7 > {output_filename}_new.pdb\")"
   ]
  },
  {
   "cell_type": "code",
   "execution_count": null,
   "id": "ba2c54ee",
   "metadata": {},
   "outputs": [],
   "source": [
    "f\"{os.path.relpath(output_filename)}.parm7\""
   ]
  },
  {
   "cell_type": "code",
   "execution_count": null,
   "id": "e688b1c7",
   "metadata": {},
   "outputs": [],
   "source": [
    "pdb_path = f\"{FOLDER_HOME}/1/{WT}_Rosetta_Design_1.pdb\"\n",
    "\n",
    "structure_filename = os.path.splitext(pdb_path)[0]\n",
    "\n",
    "run_command([\"python\", \"FieldTools.py\", \n",
    "            \"-nc\", f\"{os.path.relpath(structure_filename)}.rst7\", \n",
    "            \"-parm\", f\"{os.path.relpath(structure_filename)}.parm7\", \n",
    "            \"-out\", f\"{os.path.relpath(structure_filename)}_fields.pkl\", \n",
    "            \"-target\", \"Input/field_target.dat\", \n",
    "            \"-solvent\", \"WAT\"])\n",
    "\n",
    "# subprocess.run([\"python\", \"FieldTools.py\", \n",
    "#                 \"-nc\", f\"{os.path.relpath(output_filename)}.rst7\", \n",
    "#                 \"-parm\", f\"{os.path.relpath(output_filename)}.parm7\", \n",
    "#                 \"-out\", out_path, \n",
    "#                 \"-target\", \"Input/field_target.dat\", \n",
    "#                 \"-solvent\", \"WAT\"])"
   ]
  },
  {
   "cell_type": "code",
   "execution_count": null,
   "id": "4647a4e5",
   "metadata": {},
   "outputs": [],
   "source": [
    "python_main([\"FieldTools.py\", \n",
    "                \"-nc\", f\"{os.path.relpath(output_filename)}.rst7\", \n",
    "                \"-parm\", f\"{os.path.relpath(output_filename)}.parm7\", \n",
    "                \"-out\", out_path, \n",
    "                \"-target\", \"Input/field_target.dat\", \n",
    "                \"-solvent\", \"WAT\"])"
   ]
  },
  {
   "cell_type": "code",
   "execution_count": null,
   "id": "a40b48cc",
   "metadata": {},
   "outputs": [],
   "source": [
    "python_main([\"FieldTools.py\", \"-nc\", f\"{os.path.relpath(output_filename)}.rst7\", \"-parm\", f\"{os.path.relpath(output_filename)}.parm7\", \"-out\", out_path, \"-target\", \"Input/field_target.dat\", \"-solvent\", \"WAT\"])"
   ]
  },
  {
   "cell_type": "code",
   "execution_count": null,
   "id": "7cee2659",
   "metadata": {},
   "outputs": [],
   "source": [
    "with open(f\"{FOLDER_HOME}/3/{WT}_Rosetta_Design_3_fields.pkl\", \"rb\") as f:\n",
    "    FIELDS_3 = pkl.load(f)\n",
    "\n",
    "# with open(f\"{FOLDER_HOME}/1/{WT}_Rosetta_Design_1_fields.pkl\", \"rb\") as f:\n",
    "#     FIELDS_1 = pkl.load(f)\n",
    "\n",
    "# print(FIELDS)\n",
    "\n",
    "# bond_field = FIELDS[':5TS@C9_:5TS@H04']['Total']\n",
    "\n",
    "all_fields_3 = FIELDS_3[':5TS@C9_:5TS@H04']\n",
    "# all_fields_1 = FIELDS_1[':5TS@C9_:5TS@H04']\n",
    "\n",
    "# print(bond_field[0])\n",
    "#return (np.mean(bond_fields), list(bond_fields))"
   ]
  },
  {
   "cell_type": "code",
   "execution_count": null,
   "id": "0b80852e",
   "metadata": {},
   "outputs": [],
   "source": [
    "[field[0] for field in all_fields_3.values()]"
   ]
  },
  {
   "cell_type": "code",
   "execution_count": null,
   "id": "477198f3",
   "metadata": {},
   "outputs": [],
   "source": [
    "print(ALL_SCORES_CSV)\n",
    "\n",
    "FOLDER_HOME"
   ]
  },
  {
   "cell_type": "code",
   "execution_count": null,
   "id": "b82e9c7e",
   "metadata": {},
   "outputs": [],
   "source": [
    "def update_efieldsdf(index, index_efields_dict):\n",
    "    no_residues = len(index_efields_dict)-4\n",
    "\n",
    "    gen_headers = [\"Total\",\"Protein\",\"Solvent\",\"WAT\"]\n",
    "    resi_headers = [f\"RESI_{idx}\" for idx in range(1,no_residues+1)]\n",
    "    headers = gen_headers + resi_headers\n",
    "\n",
    "    fields_list = [field[0] for field in index_efields_dict.values()]\n",
    "\n",
    "    if not os.path.isfile(f\"{FOLDER_HOME}/electric_fields.csv\"):       \n",
    "        fields_df = pd.DataFrame([fields_list], columns=headers, index=[index])\n",
    "        fields_df.to_csv(f\"{FOLDER_HOME}/electric_fields.csv\") \n",
    "\n",
    "    else:\n",
    "        fields_df = pd.read_csv(f\"{FOLDER_HOME}/electric_fields.csv\", index_col=0)\n",
    "        new_row_df = pd.DataFrame([fields_list], columns=headers, index=[index])\n",
    "        fields_df = pd.concat([fields_df, new_row_df])\n",
    "        fields_df.to_csv(f\"{FOLDER_HOME}/electric_fields.csv\") \n",
    "        print(fields_df)"
   ]
  },
  {
   "cell_type": "code",
   "execution_count": null,
   "id": "8a91b989",
   "metadata": {},
   "outputs": [],
   "source": [
    "update_efieldsdf(3, all_fields_3)\n",
    "\n",
    "#print(len(all_fields_1)-4)"
   ]
  },
  {
   "cell_type": "code",
   "execution_count": null,
   "id": "b8ddfb0a",
   "metadata": {},
   "outputs": [],
   "source": [
    "gen_headers = [\"Total\",\"Protein\",\"Solvent\",\"WAT\"]\n",
    "#resi_headers = [f\"RESN_{int(idx/2)}\" if idx%2 == 0 else f\"Efield_{int((idx-1)/2)}\" for idx in range(2,252)]\n",
    "resi_headers = [f\"RESI_{idx}\" for idx in range(1,127)]\n",
    "\n",
    "print(resi_headers)\n",
    "\n",
    "headers = gen_headers + resi_headers\n",
    "\n",
    "fields_list = [field[0] for field in all_fields_0.values()]\n",
    "\n",
    "fields_df = pd.DataFrame([fields_list], columns=headers)\n",
    "\n",
    "fields_1_list = [field[0] for field in all_fields_1.values()]\n",
    "\n",
    "fields_1_df = pd.DataFrame([fields_1_list], columns=headers, index=[1])\n",
    "\n",
    "# fields_0_df = pd.DataFrame(all_fields_0, columns = headers)\n",
    "\n",
    "# fields_0_df\n",
    "\n",
    "# fields_1_df = pd.DataFrame(all_fields_1, index=[1])\n",
    "\n",
    "# print(len(fields_0_df.columns))\n",
    "\n",
    "all = pd.concat([fields_df, fields_1_df])\n",
    "\n",
    "all\n",
    "\n",
    "# for column in all.columns:\n",
    "#     print(column)"
   ]
  },
  {
   "cell_type": "code",
   "execution_count": null,
   "id": "735e30a1",
   "metadata": {},
   "outputs": [],
   "source": [
    "!squeue --me\n",
    "#!scancel --me"
   ]
  },
  {
   "cell_type": "code",
   "execution_count": null,
   "id": "c9951e7c",
   "metadata": {},
   "outputs": [],
   "source": [
    "%run \"$AIZYME_TOOLS\"\n",
    "#get_best_structures()"
   ]
  },
  {
   "cell_type": "code",
   "execution_count": null,
   "id": "629d6db0",
   "metadata": {},
   "outputs": [],
   "source": []
  }
 ],
 "metadata": {
  "kernelspec": {
   "display_name": "Python 3 (ipykernel)",
   "language": "python",
   "name": "python3"
  }
 },
 "nbformat": 4,
 "nbformat_minor": 5
}
