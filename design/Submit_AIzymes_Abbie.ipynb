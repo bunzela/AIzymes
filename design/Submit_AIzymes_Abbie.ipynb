{
 "cells": [
  {
   "cell_type": "code",
   "execution_count": 115,
   "id": "948eed2f",
   "metadata": {
    "scrolled": false
   },
   "outputs": [
    {
     "name": "stdout",
     "output_type": "stream",
     "text": [
      "AIzyme Functions loaded!\n"
     ]
    }
   ],
   "source": [
    "#### DESIGN RUN NAME #####################################################################################################\n",
    "DESIGN_FOLDER     = 'Design_AL'\n",
    "FOLDER_MATCH      = 'MATCH' #Not needed for now -> This is just for match\n",
    "FOLDER_PARENT     = '../../design/Parent_1ohp' # -> Adjust, contains ONLY parent pdbs\n",
    "##########################################################################################################################\n",
    "#### Input parameters ####################################################################################################\n",
    "MAX_JOBS          = 50\n",
    "N_PARENT_JOBS     = 10\n",
    "MAX_DESIGNS       = 50 #00\n",
    "KBT_BOLTZMANN     = 0.02\n",
    "CST_WEIGHT        = 1.0\n",
    "HIGHSCORE         = 0.93\n",
    "NEG_BEST          = 0.79\n",
    "ProteinMPNN_PROB  = 0.0\n",
    "WT                = \"1ohp\"\n",
    "LIGAND            = \"5TS\"\n",
    "REPACK            = \"36,45,51,67\"\n",
    "MATCH             = \"14,18,26,30,55,65,80,82,99,101,112\"\n",
    "DESIGN            = \"7,10,11,14,15,18,26,29,30,38,54,55,58,59,63,65,71,73,78\"\n",
    "DESIGN           += \",80,82,84,86,93,95,97,99,101,103,109,112,114,116,121\"\n",
    "ProteinMPNN_T     = \"0.1\"\n",
    "SUBMIT_PREFIX     = \"AIz\" # Adjust, use a short prefix to allow \n",
    "BLUEPEBBLE        = True\n",
    "GRID              = False\n",
    "BACKGROUND_JOB    = False\n",
    "\n",
    "if GRID:            ROSETTA_PATH = \"/home/bunzelh/rosetta_src_2021.16.61629_bundle/main/source/\"      #GRID\n",
    "if BLUEPEBBLE:      \n",
    "                    ROSETTA_PATH = \"/sw/apps/rosetta/rosetta_src_2021.16.61629_bundle/main/source/\"   #BLUEPEBBLE \n",
    "                    #BLUEPEBBLE_ACCOUNT = \"ptch000361\"\n",
    "                    BLUEPEBBLE_ACCOUNT = \"ptch000721\"\n",
    "if BACKGROUND_JOB:  ROSETTA_PATH = \"/sw/apps/rosetta/rosetta_src_2021.16.61629_bundle/main/source/\"   #BLUEPEBBLE \n",
    "    \n",
    "NORM              = {'interface_score': [10, 30], 'total_score': [340, 410], 'catalytic_score': [-40, 0]}\n",
    "##########################################################################################################################\n",
    "AIZYME_TOOLS      = \"../src/AIzymes_010.ipynb\"\n",
    "%run \"$AIZYME_TOOLS\""
   ]
  },
  {
   "cell_type": "code",
   "execution_count": 116,
   "id": "b486023f",
   "metadata": {
    "scrolled": false
   },
   "outputs": [
    {
     "name": "stdout",
     "output_type": "stream",
     "text": [
      "AIzyme Functions loaded!\n",
      "DESIGN_FOLDER    : Design_AL\n",
      "FOLDER_MATCH     : MATCH\n",
      "MAX_JOBS         : 50\n",
      "N_PARENT_JOBS    : 10\n",
      "MAX_DESIGNS      : 50\n",
      "KBT_BOLTZMANN    : 0.02\n",
      "CST_WEIGHT       : 1.0\n",
      "ProteinMPNN_PROB : 0.0\n",
      "WT               : 1ohp\n",
      "LIGAND           : 5TS\n",
      "ROSETTA_PATH     : /sw/apps/rosetta/rosetta_src_2021.16.61629_bundle/main/source/\n",
      "REPACK           : 36,45,51,67\n",
      "DESIGN           : 7,10,11,14,15,18,26,29,30,38,54,55,58,59,63,65,71,73,78,80,82,84,86,93,95,97,99,101,103,109,112,114,116,121\n",
      "MATCH            : 14,18,26,30,55,65,80,82,99,101,112\n",
      "FOLDER_PARENT    : ../../design/Parent_1ohp\n",
      "ProteinMPNN_T    : 0.1\n",
      "SUBMIT_PREFIX    : AIz\n",
      "BLUEPEBBLE       : True\n",
      "GRID             : False\n",
      "BACKGROUND_JOB   : False\n",
      "EXPLORE          : True\n"
     ]
    },
    {
     "name": "stderr",
     "output_type": "stream",
     "text": [
      "2024-03-28 15:51:50 - INFO - Updated total_score, interface_delta_X, and catalytic_score of index 10.\n",
      "2024-03-28 15:51:52 - INFO - Updated total_score, interface_delta_X, and catalytic_score of index 11.\n",
      "2024-03-28 15:51:53 - INFO - Updated total_score, interface_delta_X, and catalytic_score of index 12.\n",
      "2024-03-28 15:51:54 - INFO - Updated total_score, interface_delta_X, and catalytic_score of index 13.\n",
      "2024-03-28 15:51:55 - INFO - Updated total_score, interface_delta_X, and catalytic_score of index 14.\n",
      "2024-03-28 15:51:56 - INFO - Updated total_score, interface_delta_X, and catalytic_score of index 15.\n",
      "2024-03-28 15:51:57 - INFO - Updated total_score, interface_delta_X, and catalytic_score of index 16.\n",
      "2024-03-28 15:51:59 - INFO - Updated total_score, interface_delta_X, and catalytic_score of index 17.\n",
      "2024-03-28 15:52:00 - INFO - Updated total_score, interface_delta_X, and catalytic_score of index 18.\n",
      "2024-03-28 15:52:01 - INFO - Updated total_score, interface_delta_X, and catalytic_score of index 19.\n",
      "2024-03-28 15:52:01 - INFO - Run RosettaDesign for index 39 based on index 1.\n",
      "2024-03-28 15:52:02 - INFO - Run RosettaDesign for index 40 based on index 1.\n",
      "2024-03-28 15:52:04 - INFO - Run RosettaDesign for index 41 based on index 1.\n",
      "2024-03-28 15:52:05 - INFO - Index 11 has no relaxed structure, starting ESMfold_Rosetta_Relax.\n",
      "2024-03-28 15:52:05 - INFO - Run ESMfold & Rosetta_Relax for index 11.\n",
      "2024-03-28 15:52:07 - INFO - Run RosettaDesign for index 42 based on index 1.\n",
      "2024-03-28 15:52:08 - INFO - Run RosettaDesign for index 43 based on index 1.\n",
      "2024-03-28 15:52:09 - INFO - Index 14 has no relaxed structure, starting ESMfold_Rosetta_Relax.\n",
      "2024-03-28 15:52:10 - INFO - Run ESMfold & Rosetta_Relax for index 14.\n",
      "2024-03-28 15:52:11 - INFO - Index 18 has no relaxed structure, starting ESMfold_Rosetta_Relax.\n",
      "2024-03-28 15:52:11 - INFO - Run ESMfold & Rosetta_Relax for index 18.\n",
      "2024-03-28 15:52:12 - INFO - Run RosettaDesign for index 44 based on index 1.\n",
      "2024-03-28 15:52:13 - INFO - Index 16 has no relaxed structure, starting ESMfold_Rosetta_Relax.\n",
      "2024-03-28 15:52:14 - INFO - Run ESMfold & Rosetta_Relax for index 16.\n",
      "2024-03-28 15:52:15 - INFO - Run RosettaDesign for index 45 based on index 1.\n",
      "2024-03-28 15:52:16 - INFO - Run RosettaDesign for index 46 based on index 1.\n",
      "2024-03-28 15:52:18 - INFO - Run RosettaDesign for index 47 based on index 1.\n",
      "2024-03-28 15:52:19 - INFO - Run RosettaDesign for index 48 based on index 1.\n",
      "2024-03-28 15:52:20 - INFO - Run RosettaDesign for index 49 based on index 1.\n",
      "2024-03-28 15:52:22 - INFO - Index 17 has no relaxed structure, starting ESMfold_Rosetta_Relax.\n",
      "2024-03-28 15:52:22 - INFO - Run ESMfold & Rosetta_Relax for index 17.\n",
      "2024-03-28 15:52:23 - INFO - Run RosettaDesign for index 50 based on index 1.\n"
     ]
    },
    {
     "name": "stdout",
     "output_type": "stream",
     "text": [
      "Stopped because /user/work/qz22231/AIzymes_git/AIzymes/design/Design_AL/50 exists.\n"
     ]
    }
   ],
   "source": [
    "%run \"$AIZYME_TOOLS\"\n",
    "controller(RESET=False, EXPLORE=True, UNBLOCK_ALL=False, PRINT_VAR=True, PLOT_DATA=False) "
   ]
  },
  {
   "cell_type": "code",
   "execution_count": 67,
   "id": "41818b43",
   "metadata": {},
   "outputs": [
    {
     "name": "stdout",
     "output_type": "stream",
     "text": [
      "Design_AL/0/1ohp_Rosetta_Design_0.pdb\n"
     ]
    }
   ],
   "source": [
    "# WT = \"1ohp\"\n",
    "# DESIGN_FOLDER = \"Design_AL\"\n",
    "# FOLDER_HOME = f'{os.getcwd()}/{DESIGN_FOLDER}'\n",
    "index = 0\n",
    "\n",
    "import os\n",
    "import pickle\n",
    "\n",
    "pdb_path = f\"{FOLDER_HOME}/{int(index)}/{WT}_Rosetta_Design_{int(index)}.pdb\"\n",
    "\n",
    "rel_pdb_path = os.path.relpath(pdb_path)\n",
    "print(rel_pdb_path)\n",
    "\n",
    "out_path = f\"{os.path.dirname(rel_pdb_path)}/{WT}_fields.pkl\""
   ]
  },
  {
   "cell_type": "code",
   "execution_count": 85,
   "id": "a5b60528",
   "metadata": {},
   "outputs": [],
   "source": [
    "structure_filename = os.path.splitext(pdb_path)[0]"
   ]
  },
  {
   "cell_type": "code",
   "execution_count": 72,
   "id": "ec1a963a",
   "metadata": {},
   "outputs": [],
   "source": [
    "import subprocess\n",
    "\n",
    "with open(f\"{output_filename}_clean.pdb\", \"w\") as f:\n",
    "    subprocess.call(['sed', '-n', '/CONECT/q;p' ,pdb_path], stdout=f)"
   ]
  },
  {
   "cell_type": "code",
   "execution_count": 75,
   "id": "14228e3b",
   "metadata": {},
   "outputs": [],
   "source": [
    "output = run_command(['sed', '-n', '/CONECT/q;p' ,pdb_path])\n",
    "\n",
    "with open(f\"{output_filename}_clean.pdb\", \"w\") as f:\n",
    "    f.write(output)"
   ]
  },
  {
   "cell_type": "code",
   "execution_count": null,
   "id": "45d95a78",
   "metadata": {},
   "outputs": [],
   "source": [
    "\n",
    "os.system(f\"sed -n '/CONECT/q;p' {pdb_path} > {output_filename}_clean.pdb\")\n",
    "os.system(f\"pdb_delelem -H {output_filename}_clean.pdb > {output_filename}_noHclean.pdb\")\n",
    "\n",
    "with open(\"tleap.in\", \"w\") as f:\n",
    "        f.write(f\"\"\"source leaprc.protein.ff19SB \n",
    "source leaprc.gaff\n",
    "loadamberprep   Input/5TS.prepi\n",
    "loadamberparams Input/5TS.frcmod\n",
    "mol = loadpdb {output_filename}_noHclean.pdb\n",
    "saveamberparm mol {output_filename}.parm7 {output_filename}.rst7\n",
    "quit\n",
    "\"\"\")\n",
    "    \n",
    "os.system(\"tleap -s -f tleap.in > tleap.tmp\")"
   ]
  },
  {
   "cell_type": "code",
   "execution_count": 44,
   "id": "9d9bdc53",
   "metadata": {},
   "outputs": [
    {
     "data": {
      "text/plain": [
       "\"-I: Adding /sw/apps/amber22-tools22-MPI-CUDA-GCC/amber22/dat/leap/prep to search path.\\n-I: Adding /sw/apps/amber22-tools22-MPI-CUDA-GCC/amber22/dat/leap/lib to search path.\\n-I: Adding /sw/apps/amber22-tools22-MPI-CUDA-GCC/amber22/dat/leap/parm to search path.\\n-I: Adding /sw/apps/amber22-tools22-MPI-CUDA-GCC/amber22/dat/leap/cmd to search path.\\n-s: Ignoring all leaprc startup files.\\n-f: Source tleap.in.\\n\\nWelcome to LEaP!\\nSourcing: ./tleap.in\\n----- Source: /sw/apps/amber22-tools22-MPI-CUDA-GCC/amber22/dat/leap/cmd/leaprc.protein.ff19SB\\n----- Source of /sw/apps/amber22-tools22-MPI-CUDA-GCC/amber22/dat/leap/cmd/leaprc.protein.ff19SB done\\nLog file: ./leap.log\\nLoading parameters: /sw/apps/amber22-tools22-MPI-CUDA-GCC/amber22/dat/leap/parm/parm19.dat\\nReading title:\\nPARM99 + frcmod.ff99SB + frcmod.parmbsc0 + OL3 for RNA + ff19SB\\nLoading parameters: /sw/apps/amber22-tools22-MPI-CUDA-GCC/amber22/dat/leap/parm/frcmod.ff19SB\\nReading force field modification type file (frcmod)\\nReading title:\\nff19SB AA-specific backbone CMAPs for protein 07/25/2019\\nLoading library: /sw/apps/amber22-tools22-MPI-CUDA-GCC/amber22/dat/leap/lib/amino19.lib\\nLoading library: /sw/apps/amber22-tools22-MPI-CUDA-GCC/amber22/dat/leap/lib/aminoct12.lib\\nLoading library: /sw/apps/amber22-tools22-MPI-CUDA-GCC/amber22/dat/leap/lib/aminont12.lib\\n----- Source: /sw/apps/amber22-tools22-MPI-CUDA-GCC/amber22/dat/leap/cmd/leaprc.gaff\\n----- Source of /sw/apps/amber22-tools22-MPI-CUDA-GCC/amber22/dat/leap/cmd/leaprc.gaff done\\nLog file: ./leap.log\\nLoading parameters: /sw/apps/amber22-tools22-MPI-CUDA-GCC/amber22/dat/leap/parm/gaff.dat\\nReading title:\\nAMBER General Force Field for organic molecules (Version 1.81, May 2017)\\nLoading Prep file: ./Input/5TS.prepi\\nLoading parameters: ./Input/5TS.frcmod\\nReading force field modification type file (frcmod)\\nReading title:\\nRemark line goes here\\nLoading PDB file: /user/work/qz22231/AIzymes_git/AIzymes/design/Design_AL/3/1ohp_Rosetta_Design_3_noHclean.pdb\\n  total atoms in file: 961\\n  Leap added 961 missing atoms according to residue templates:\\n       961 H / lone pairs\\nChecking Unit.\\n\\n/sw/apps/amber22-tools22-MPI-CUDA-GCC/amber22/bin/teLeap: Warning!\\nThe unperturbed charge of the unit (-3.000000) is not zero.\\n\\n/sw/apps/amber22-tools22-MPI-CUDA-GCC/amber22/bin/teLeap: Note.\\nIgnoring the warning from Unit Checking.\\n\\nBuilding topology.\\nBuilding atom parameters.\\nBuilding bond parameters.\\nBuilding angle parameters.\\nBuilding proper torsion parameters.\\nBuilding improper torsion parameters.\\nold PREP-specified impropers:\\n <5TS 126>:  C1   O3   N2   O4  \\n <5TS 126>:  C6   C2   C1   N2  \\n <5TS 126>:  C5   C1   C6   H01 \\n <5TS 126>:  C3   C1   C2   H02 \\n <5TS 126>:  C4   C2   C3   H03 \\n <5TS 126>:  C3   C5   C4   O5  \\n <5TS 126>:  C4   C6   C5   C9  \\n <5TS 126>:  C5   H04  C9   N1  \\n total 392 improper torsions applied\\n 8 improper torsions in old prep form\\nBuilding H-Bond parameters.\\nIncorporating Non-Bonded adjustments.\\nNot Marking per-residue atom chain types.\\nMarking per-residue atom chain types.\\n  (Residues lacking connect0/connect1 - \\n   these don't have chain types marked:\\n\\n\\tres\\ttotal affected\\n\\n\\tCALA\\t1\\n\\tNMET\\t1\\n  )\\n (no restraints)\\n\\tQuit\\n\\nExiting LEaP: Errors = 0; Warnings = 1; Notes = 1.\\n\""
      ]
     },
     "execution_count": 44,
     "metadata": {},
     "output_type": "execute_result"
    }
   ],
   "source": [
    "run_command([\"tleap\", \"-s\", \"-f\", \"tleap.in\"])"
   ]
  },
  {
   "cell_type": "code",
   "execution_count": 34,
   "id": "317ea421",
   "metadata": {},
   "outputs": [
    {
     "data": {
      "text/plain": [
       "0"
      ]
     },
     "execution_count": 34,
     "metadata": {},
     "output_type": "execute_result"
    }
   ],
   "source": [
    "os.system(f\"ambpdb  -p {output_filename}.parm7 -c {output_filename}.rst7 > {output_filename}_new.pdb\")"
   ]
  },
  {
   "cell_type": "code",
   "execution_count": 27,
   "id": "ba2c54ee",
   "metadata": {},
   "outputs": [
    {
     "data": {
      "text/plain": [
       "'Design_AL/3/1ohp_Rosetta_Relax_3.parm7'"
      ]
     },
     "execution_count": 27,
     "metadata": {},
     "output_type": "execute_result"
    }
   ],
   "source": [
    "f\"{os.path.relpath(output_filename)}.parm7\""
   ]
  },
  {
   "cell_type": "code",
   "execution_count": 88,
   "id": "e688b1c7",
   "metadata": {},
   "outputs": [
    {
     "data": {
      "text/plain": [
       "'-nc              Trajectory file      :  /user/work/qz22231/AIzymes_git/AIzymes/design/Design_AL/1/1ohp_Rosetta_Design_1.rst7\\n-parm            Parameter file       :  /user/work/qz22231/AIzymes_git/AIzymes/design/Design_AL/1/1ohp_Rosetta_Design_1.parm7\\n-out             Output file          :  /user/work/qz22231/AIzymes_git/AIzymes/design/Design_AL/1/1ohp_Rosetta_Design_1_fields.pkl\\n-target          Field target         :  /user/work/qz22231/AIzymes_git/AIzymes/design/Input/field_target.dat\\n-arg_solvent     Non-protein residues :  WAT\\n-exclude_atoms   Atoms excluded       : Full residue defined in the first Atom for each Target.\\n\\nField calculation RUNNING :  2024-03-28 15:18:19.875904\\n\\nField calculation DONE :  2024-03-28 15:18:19.927353\\n'"
      ]
     },
     "execution_count": 88,
     "metadata": {},
     "output_type": "execute_result"
    }
   ],
   "source": [
    "pdb_path = f\"{FOLDER_HOME}/1/{WT}_Rosetta_Design_1.pdb\"\n",
    "\n",
    "structure_filename = os.path.splitext(pdb_path)[0]\n",
    "\n",
    "run_command([\"python\", \"FieldTools.py\", \n",
    "            \"-nc\", f\"{os.path.relpath(structure_filename)}.rst7\", \n",
    "            \"-parm\", f\"{os.path.relpath(structure_filename)}.parm7\", \n",
    "            \"-out\", f\"{os.path.relpath(structure_filename)}_fields.pkl\", \n",
    "            \"-target\", \"Input/field_target.dat\", \n",
    "            \"-solvent\", \"WAT\"])\n",
    "\n",
    "# subprocess.run([\"python\", \"FieldTools.py\", \n",
    "#                 \"-nc\", f\"{os.path.relpath(output_filename)}.rst7\", \n",
    "#                 \"-parm\", f\"{os.path.relpath(output_filename)}.parm7\", \n",
    "#                 \"-out\", out_path, \n",
    "#                 \"-target\", \"Input/field_target.dat\", \n",
    "#                 \"-solvent\", \"WAT\"])"
   ]
  },
  {
   "cell_type": "code",
   "execution_count": 63,
   "id": "4647a4e5",
   "metadata": {},
   "outputs": [
    {
     "name": "stdout",
     "output_type": "stream",
     "text": [
      "-nc              Trajectory file      :  /user/work/qz22231/AIzymes_git/AIzymes/design/Design_AL/0/1ohp_Rosetta_Design_0.rst7\n",
      "-parm            Parameter file       :  /user/work/qz22231/AIzymes_git/AIzymes/design/Design_AL/0/1ohp_Rosetta_Design_0.parm7\n",
      "-out             Output file          :  /user/work/qz22231/AIzymes_git/AIzymes/design/Design_AL/0/1ohp_fields.pkl\n",
      "-target          Field target         :  /user/work/qz22231/AIzymes_git/AIzymes/design/Input/field_target.dat\n",
      "-arg_solvent     Non-protein residues :  WAT\n",
      "-exclude_atoms   Atoms excluded       : Full residue defined in the first Atom for each Target.\n",
      "ARG_PARM /user/work/qz22231/AIzymes_git/AIzymes/design/Design_AL/0/1ohp_Rosetta_Design_0.parm7\n",
      "ARG_PARM type <class 'str'>\n",
      "\n",
      "Field calculation RUNNING :  2024-03-28 14:26:33.271229\n",
      "from load_trajectory /user/work/qz22231/AIzymes_git/AIzymes/design/Design_AL/0/1ohp_Rosetta_Design_0.rst7 /user/work/qz22231/AIzymes_git/AIzymes/design/Design_AL/0/1ohp_Rosetta_Design_0.parm7\n",
      "\n",
      "Field calculation DONE :  2024-03-28 14:26:33.338869\n"
     ]
    }
   ],
   "source": [
    "python_main([\"FieldTools.py\", \n",
    "                \"-nc\", f\"{os.path.relpath(output_filename)}.rst7\", \n",
    "                \"-parm\", f\"{os.path.relpath(output_filename)}.parm7\", \n",
    "                \"-out\", out_path, \n",
    "                \"-target\", \"Input/field_target.dat\", \n",
    "                \"-solvent\", \"WAT\"])"
   ]
  },
  {
   "cell_type": "code",
   "execution_count": 57,
   "id": "a40b48cc",
   "metadata": {},
   "outputs": [
    {
     "name": "stdout",
     "output_type": "stream",
     "text": [
      "-nc              Trajectory file      :  /user/work/qz22231/AIzymes_git/AIzymes/design/Design_AL/0/1ohp_Rosetta_Design_0.rst7\n",
      "-parm            Parameter file       :  /user/work/qz22231/AIzymes_git/AIzymes/design/Design_AL/0/1ohp_Rosetta_Design_0.parm7\n",
      "-out             Output file          :  /user/work/qz22231/AIzymes_git/AIzymes/design/Design_AL/0/1ohp_fields.pkl\n",
      "-target          Field target         :  /user/work/qz22231/AIzymes_git/AIzymes/design/Input/field_target.dat\n",
      "-arg_solvent     Non-protein residues :  WAT\n",
      "-exclude_atoms   Atoms excluded       : Full residue defined in the first Atom for each Target.\n",
      "ARG_PARM /user/work/qz22231/AIzymes_git/AIzymes/design/Design_AL/0/1ohp_Rosetta_Design_0.parm7\n",
      "ARG_PARM type <class 'str'>\n",
      "\n",
      "Field calculation RUNNING :  2024-03-28 14:22:39.387539\n",
      "from load_trajectory /user/work/qz22231/AIzymes_git/AIzymes/design/Design_AL/0/1ohp_Rosetta_Design_0.rst7 /user/work/qz22231/AIzymes_git/AIzymes/design/Design_AL/0/1ohp_Rosetta_Design_0.parm7\n",
      "\n",
      "Field calculation DONE :  2024-03-28 14:22:39.456256\n"
     ]
    }
   ],
   "source": [
    "python_main([\"FieldTools.py\", \"-nc\", f\"{os.path.relpath(output_filename)}.rst7\", \"-parm\", f\"{os.path.relpath(output_filename)}.parm7\", \"-out\", out_path, \"-target\", \"Input/field_target.dat\", \"-solvent\", \"WAT\"])"
   ]
  },
  {
   "cell_type": "code",
   "execution_count": 89,
   "id": "7cee2659",
   "metadata": {},
   "outputs": [],
   "source": [
    "with open(f\"{FOLDER_HOME}/0/{WT}_Rosetta_Design_0_fields.pkl\", \"rb\") as f:\n",
    "    FIELDS_0 = pickle.load(f)\n",
    "\n",
    "with open(f\"{FOLDER_HOME}/1/{WT}_Rosetta_Design_1_fields.pkl\", \"rb\") as f:\n",
    "    FIELDS_1 = pickle.load(f)\n",
    "\n",
    "# print(FIELDS)\n",
    "\n",
    "# bond_field = FIELDS[':5TS@C9_:5TS@H04']['Total']\n",
    "\n",
    "all_fields_0 = FIELDS_0[':5TS@C9_:5TS@H04']\n",
    "all_fields_1 = FIELDS_1[':5TS@C9_:5TS@H04']\n",
    "\n",
    "# print(bond_field[0])\n",
    "#return (np.mean(bond_fields), list(bond_fields))"
   ]
  },
  {
   "cell_type": "code",
   "execution_count": 112,
   "id": "b8ddfb0a",
   "metadata": {},
   "outputs": [
    {
     "name": "stdout",
     "output_type": "stream",
     "text": [
      "['RESI_1', 'RESI_2', 'RESI_3', 'RESI_4', 'RESI_5', 'RESI_6', 'RESI_7', 'RESI_8', 'RESI_9', 'RESI_10', 'RESI_11', 'RESI_12', 'RESI_13', 'RESI_14', 'RESI_15', 'RESI_16', 'RESI_17', 'RESI_18', 'RESI_19', 'RESI_20', 'RESI_21', 'RESI_22', 'RESI_23', 'RESI_24', 'RESI_25', 'RESI_26', 'RESI_27', 'RESI_28', 'RESI_29', 'RESI_30', 'RESI_31', 'RESI_32', 'RESI_33', 'RESI_34', 'RESI_35', 'RESI_36', 'RESI_37', 'RESI_38', 'RESI_39', 'RESI_40', 'RESI_41', 'RESI_42', 'RESI_43', 'RESI_44', 'RESI_45', 'RESI_46', 'RESI_47', 'RESI_48', 'RESI_49', 'RESI_50', 'RESI_51', 'RESI_52', 'RESI_53', 'RESI_54', 'RESI_55', 'RESI_56', 'RESI_57', 'RESI_58', 'RESI_59', 'RESI_60', 'RESI_61', 'RESI_62', 'RESI_63', 'RESI_64', 'RESI_65', 'RESI_66', 'RESI_67', 'RESI_68', 'RESI_69', 'RESI_70', 'RESI_71', 'RESI_72', 'RESI_73', 'RESI_74', 'RESI_75', 'RESI_76', 'RESI_77', 'RESI_78', 'RESI_79', 'RESI_80', 'RESI_81', 'RESI_82', 'RESI_83', 'RESI_84', 'RESI_85', 'RESI_86', 'RESI_87', 'RESI_88', 'RESI_89', 'RESI_90', 'RESI_91', 'RESI_92', 'RESI_93', 'RESI_94', 'RESI_95', 'RESI_96', 'RESI_97', 'RESI_98', 'RESI_99', 'RESI_100', 'RESI_101', 'RESI_102', 'RESI_103', 'RESI_104', 'RESI_105', 'RESI_106', 'RESI_107', 'RESI_108', 'RESI_109', 'RESI_110', 'RESI_111', 'RESI_112', 'RESI_113', 'RESI_114', 'RESI_115', 'RESI_116', 'RESI_117', 'RESI_118', 'RESI_119', 'RESI_120', 'RESI_121', 'RESI_122', 'RESI_123', 'RESI_124', 'RESI_125', 'RESI_126']\n"
     ]
    },
    {
     "data": {
      "text/html": [
       "<div>\n",
       "<style scoped>\n",
       "    .dataframe tbody tr th:only-of-type {\n",
       "        vertical-align: middle;\n",
       "    }\n",
       "\n",
       "    .dataframe tbody tr th {\n",
       "        vertical-align: top;\n",
       "    }\n",
       "\n",
       "    .dataframe thead th {\n",
       "        text-align: right;\n",
       "    }\n",
       "</style>\n",
       "<table border=\"1\" class=\"dataframe\">\n",
       "  <thead>\n",
       "    <tr style=\"text-align: right;\">\n",
       "      <th></th>\n",
       "      <th>Total</th>\n",
       "      <th>Protein</th>\n",
       "      <th>Solvent</th>\n",
       "      <th>WAT</th>\n",
       "      <th>RESI_1</th>\n",
       "      <th>RESI_2</th>\n",
       "      <th>RESI_3</th>\n",
       "      <th>RESI_4</th>\n",
       "      <th>RESI_5</th>\n",
       "      <th>RESI_6</th>\n",
       "      <th>...</th>\n",
       "      <th>RESI_117</th>\n",
       "      <th>RESI_118</th>\n",
       "      <th>RESI_119</th>\n",
       "      <th>RESI_120</th>\n",
       "      <th>RESI_121</th>\n",
       "      <th>RESI_122</th>\n",
       "      <th>RESI_123</th>\n",
       "      <th>RESI_124</th>\n",
       "      <th>RESI_125</th>\n",
       "      <th>RESI_126</th>\n",
       "    </tr>\n",
       "  </thead>\n",
       "  <tbody>\n",
       "    <tr>\n",
       "      <th>0</th>\n",
       "      <td>97.166134</td>\n",
       "      <td>97.166134</td>\n",
       "      <td>0.0</td>\n",
       "      <td>0.0</td>\n",
       "      <td>NaN</td>\n",
       "      <td>NaN</td>\n",
       "      <td>NaN</td>\n",
       "      <td>NaN</td>\n",
       "      <td>NaN</td>\n",
       "      <td>NaN</td>\n",
       "      <td>...</td>\n",
       "      <td>NaN</td>\n",
       "      <td>NaN</td>\n",
       "      <td>NaN</td>\n",
       "      <td>NaN</td>\n",
       "      <td>NaN</td>\n",
       "      <td>NaN</td>\n",
       "      <td>NaN</td>\n",
       "      <td>NaN</td>\n",
       "      <td>NaN</td>\n",
       "      <td>NaN</td>\n",
       "    </tr>\n",
       "  </tbody>\n",
       "</table>\n",
       "<p>1 rows × 130 columns</p>\n",
       "</div>"
      ],
      "text/plain": [
       "       Total    Protein  Solvent  WAT RESI_1 RESI_2 RESI_3 RESI_4 RESI_5  \\\n",
       "0  97.166134  97.166134      0.0  0.0    NaN    NaN    NaN    NaN    NaN   \n",
       "\n",
       "  RESI_6  ... RESI_117 RESI_118 RESI_119 RESI_120 RESI_121 RESI_122 RESI_123  \\\n",
       "0    NaN  ...      NaN      NaN      NaN      NaN      NaN      NaN      NaN   \n",
       "\n",
       "  RESI_124 RESI_125 RESI_126  \n",
       "0      NaN      NaN      NaN  \n",
       "\n",
       "[1 rows x 130 columns]"
      ]
     },
     "execution_count": 112,
     "metadata": {},
     "output_type": "execute_result"
    }
   ],
   "source": [
    "gen_headers = [\"Total\",\"Protein\",\"Solvent\",\"WAT\"]\n",
    "#resi_headers = [f\"RESN_{int(idx/2)}\" if idx%2 == 0 else f\"Efield_{int((idx-1)/2)}\" for idx in range(2,252)]\n",
    "resi_headers = [f\"RESI_{idx}\" for idx in range(1,127)]\n",
    "\n",
    "print(resi_headers)\n",
    "\n",
    "headers = gen_headers + resi_headers\n",
    "\n",
    "fields_df = pd.DataFrame()\n",
    "\n",
    "fields_0_df = pd.DataFrame(all_fields_0, columns = headers)\n",
    "\n",
    "fields_0_df\n",
    "\n",
    "# fields_1_df = pd.DataFrame(all_fields_1, index=[1])\n",
    "\n",
    "# print(len(fields_0_df.columns))\n",
    "\n",
    "# all = pd.concat([fields_df, new_fields_df])\n",
    "\n",
    "# for column in all.columns:\n",
    "#     print(column)"
   ]
  },
  {
   "cell_type": "code",
   "execution_count": 3,
   "id": "735e30a1",
   "metadata": {},
   "outputs": [
    {
     "name": "stdout",
     "output_type": "stream",
     "text": [
      "             JOBID PARTITION     NAME     USER ST       TIME  NODES NODELIST(REASON)\r\n",
      "           8146434     short AB1_Rose  hb18661 PD       0:00      1 (Priority)\r\n",
      "           8146433     short AB1_Rose  hb18661 PD       0:00      1 (Priority)\r\n",
      "           8146431     short AB1_Rose  hb18661 PD       0:00      1 (Priority)\r\n",
      "           8146430     short AB1_Rose  hb18661 PD       0:00      1 (Priority)\r\n",
      "           8146429     short AB1_Rose  hb18661 PD       0:00      1 (Priority)\r\n"
     ]
    }
   ],
   "source": [
    "!squeue --me\n",
    "#!scancel --me"
   ]
  },
  {
   "cell_type": "code",
   "execution_count": 6,
   "id": "c9951e7c",
   "metadata": {},
   "outputs": [
    {
     "name": "stdout",
     "output_type": "stream",
     "text": [
      "AIzyme Functions loaded!\n"
     ]
    }
   ],
   "source": [
    "%run \"$AIZYME_TOOLS\"\n",
    "#get_best_structures()"
   ]
  },
  {
   "cell_type": "code",
   "execution_count": null,
   "id": "629d6db0",
   "metadata": {},
   "outputs": [],
   "source": []
  }
 ],
 "metadata": {
  "kernelspec": {
   "display_name": "Python 3 (ipykernel)",
   "language": "python",
   "name": "python3"
  },
  "language_info": {
   "codemirror_mode": {
    "name": "ipython",
    "version": 3
   },
   "file_extension": ".py",
   "mimetype": "text/x-python",
   "name": "python",
   "nbconvert_exporter": "python",
   "pygments_lexer": "ipython3",
   "version": "3.9.18"
  }
 },
 "nbformat": 4,
 "nbformat_minor": 5
}
