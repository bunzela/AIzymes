{
 "cells": [
  {
   "cell_type": "code",
   "execution_count": 2,
   "id": "8b4b8893",
   "metadata": {
    "scrolled": true
   },
   "outputs": [
    {
     "name": "stdout",
     "output_type": "stream",
     "text": [
      "Do you really want to restart AIzymes from scratch? \n",
      "    This will delete all existing files in /home/bunzelh/AIzymes/design/VD/241016_VD_KSI_pos_control [y/n]\n",
      "\n",
      "    y\n"
     ]
    },
    {
     "name": "stderr",
     "output_type": "stream",
     "text": [
      "2024-10-19 09:50:29 - INFO - Running AI.zymes setup.\n",
      "2024-10-19 09:50:29 - INFO - Content of /home/bunzelh/AIzymes/design/VD/241016_VD_KSI_pos_control deleted.\n",
      "2024-10-19 09:50:29 - INFO - Happy AI.zymeing! :)\n"
     ]
    },
    {
     "name": "stdout",
     "output_type": "stream",
     "text": [
      "AIzymes initiated.\n",
      "\n"
     ]
    }
   ],
   "source": [
    "import sys, os\n",
    "if os.path.join(os.getcwd(), '../../src') not in sys.path: sys.path.append(os.path.join(os.getcwd(), '../../src'))\n",
    "from AIzymes_013 import *\n",
    "\n",
    "# GENERAL SETTINGS FOR AI.zymes -------------------------------------------------------------------------------------------\n",
    "AIzymes = AIzymes_MAIN()\n",
    "AIzymes.setup(FOLDER_HOME = '241016_VD_KSI_pos_control',\n",
    "  FOLDER_PARENT     = 'parent',\n",
    "  MAX_JOBS          = 50,\n",
    "  N_PARENT_JOBS     = 50,\n",
    "  MAX_DESIGNS       = 1000,\n",
    "  KBT_BOLTZMANN     = [0.5, 0.0003],\n",
    "  CST_WEIGHT        = 1.0,\n",
    "  CST_NAME          = \"5TS_enzdes_planar_tAB100\",\n",
    "  WT                = \"1ohp\",\n",
    "  LIGAND            = \"5TS\",\n",
    "  DESIGN            = \"7,10,11,14,15,18,26,29,30,38,54,55,58,59,63,65,71,73,78,80,82,84,86,93,95,97,99,101,103,109,112,114,116,121\",\n",
    "  SUBMIT_PREFIX     = \"KSI_pos\",\n",
    "  SYSTEM            = \"GRID\",\n",
    "  EXPLORE           = False,\n",
    " )"
   ]
  },
  {
   "cell_type": "code",
   "execution_count": null,
   "id": "5aadc10c",
   "metadata": {
    "scrolled": false
   },
   "outputs": [
    {
     "name": "stderr",
     "output_type": "stream",
     "text": [
      "2024-10-19 11:32:37 - DEBUG - Updating scores\n",
      "2024-10-19 11:32:37 - DEBUG - Boltzmann selection tries to select design, but all are blocked. Waiting 20 seconds\n",
      "2024-10-19 11:32:57 - DEBUG - Updating scores\n",
      "2024-10-19 11:32:57 - DEBUG - Boltzmann selection tries to select design, but all are blocked. Waiting 20 seconds\n",
      "2024-10-19 11:33:17 - DEBUG - Updating scores\n",
      "2024-10-19 11:33:18 - DEBUG - Boltzmann selection tries to select design, but all are blocked. Waiting 20 seconds\n",
      "2024-10-19 11:33:38 - DEBUG - Updating scores\n",
      "2024-10-19 11:33:38 - DEBUG - Boltzmann selection tries to select design, but all are blocked. Waiting 20 seconds\n",
      "2024-10-19 11:33:58 - DEBUG - Updating scores\n",
      "2024-10-19 11:33:58 - DEBUG - Boltzmann selection tries to select design, but all are blocked. Waiting 20 seconds\n",
      "2024-10-19 11:34:18 - DEBUG - Updating scores\n",
      "2024-10-19 11:34:18 - DEBUG - Boltzmann selection tries to select design, but all are blocked. Waiting 20 seconds\n",
      "2024-10-19 11:34:39 - DEBUG - Updating scores\n",
      "2024-10-19 11:34:39 - DEBUG - Boltzmann selection tries to select design, but all are blocked. Waiting 20 seconds\n",
      "2024-10-19 11:34:59 - DEBUG - Updating scores\n",
      "2024-10-19 11:34:59 - DEBUG - Boltzmann selection tries to select design, but all are blocked. Waiting 20 seconds\n",
      "2024-10-19 11:35:19 - DEBUG - Updating scores\n",
      "2024-10-19 11:35:19 - DEBUG - Boltzmann selection tries to select design, but all are blocked. Waiting 20 seconds\n",
      "2024-10-19 11:35:39 - DEBUG - Updating scores\n",
      "2024-10-19 11:35:39 - DEBUG - Boltzmann selection tries to select design, but all are blocked. Waiting 20 seconds\n",
      "2024-10-19 11:35:59 - DEBUG - Updating scores\n",
      "2024-10-19 11:35:59 - DEBUG - Boltzmann selection tries to select design, but all are blocked. Waiting 20 seconds\n",
      "2024-10-19 11:36:20 - DEBUG - Updating scores\n",
      "2024-10-19 11:36:20 - DEBUG - Boltzmann selection tries to select design, but all are blocked. Waiting 20 seconds\n"
     ]
    }
   ],
   "source": [
    "import sys, os\n",
    "if os.path.join(os.getcwd(), '../../src') not in sys.path: sys.path.append(os.path.join(os.getcwd(), '../../src'))\n",
    "from AIzymes_013 import *\n",
    "AIzymes = AIzymes_MAIN()\n",
    "AIzymes.initialize(FOLDER_HOME = '241016_VD_KSI_pos_control', \n",
    "                   LOG=\"debug\", \n",
    "                   PRINT_VAR=False) #LOG=\"debug/info\"\n",
    "AIzymes.controller()"
   ]
  },
  {
   "cell_type": "markdown",
   "id": "3666dda9",
   "metadata": {},
   "source": [
    "Determines how many NaN values are present in the all_score.csv file for either the total score, interface score, or the efield score."
   ]
  },
  {
   "cell_type": "code",
   "execution_count": 7,
   "id": "32bfd4ad",
   "metadata": {},
   "outputs": [
    {
     "name": "stdout",
     "output_type": "stream",
     "text": [
      "49\r\n"
     ]
    }
   ],
   "source": [
    "!qstat | grep KSI_pos | wc -l"
   ]
  },
  {
   "cell_type": "code",
   "execution_count": null,
   "id": "426905bd",
   "metadata": {},
   "outputs": [],
   "source": [
    "import pandas as pd\n",
    "plot_scores_df = pd.read_csv('/home/vdegiorgi/AIzymes/design/VD/241016_VD_KSI_pos_control/all_scores.csv')\n",
    "nan_count_total_score = plot_scores_df['total_score'].isna().sum()\n",
    "nan_count_interface_score = plot_scores_df['interface_score'].isna().sum()\n",
    "nan_count_efield_score=plot_scores_df['efield_score'].isna().sum()\n",
    "\n",
    "print(f'Total Score # NaN Values: {nan_count_total_score}')\n",
    "print(f'Interface Score # NaN Values: {nan_count_interface_score}')\n",
    "print(f'Efield Score # NaN Values: {nan_count_efield_score}')"
   ]
  },
  {
   "cell_type": "markdown",
   "id": "3bce490e",
   "metadata": {},
   "source": [
    "Generates the plots of the design, by setting the type of plot as True the graph will be generated, otherwise set it as False. The plots will be automatically saved in the plots directory inside the experiment folder in png format."
   ]
  },
  {
   "cell_type": "code",
   "execution_count": null,
   "id": "b9a21715",
   "metadata": {},
   "outputs": [],
   "source": [
    "import sys, os\n",
    "if os.path.join(os.getcwd(), '../../src') not in sys.path: sys.path.append(os.path.join(os.getcwd(), '../../src'))\n",
    "from AIzymes_013 import *\n",
    "AIzymes = AIzymes_MAIN()\n",
    "AIzymes.initialize(FOLDER_HOME = '241016_VD_KSI_pos_control', LOG=\"info\", PRINT_VAR=False) #LOG=\"debug/info\"\n",
    "AIzymes.plot(main_plots=True, tree_plot=True, landscape_plot=True)"
   ]
  }
 ],
 "metadata": {
  "kernelspec": {
   "display_name": "Python 3 (ipykernel)",
   "language": "python",
   "name": "python3"
  },
  "language_info": {
   "codemirror_mode": {
    "name": "ipython",
    "version": 3
   },
   "file_extension": ".py",
   "mimetype": "text/x-python",
   "name": "python",
   "nbconvert_exporter": "python",
   "pygments_lexer": "ipython3",
   "version": "3.7.16"
  }
 },
 "nbformat": 4,
 "nbformat_minor": 5
}
