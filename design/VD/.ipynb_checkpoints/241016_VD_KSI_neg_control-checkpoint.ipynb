{
 "cells": [
  {
   "cell_type": "code",
   "execution_count": 2,
   "id": "8b4b8893",
   "metadata": {
    "scrolled": true
   },
   "outputs": [
    {
     "name": "stdout",
     "output_type": "stream",
     "text": [
      "Do you really want to restart AIzymes from scratch? \n",
      "    This will delete all existing files in /home/bunzelh/AIzymes/design/VD/241016_VD_KSI_neg_control [y/n]\n",
      "\n",
      "    y\n"
     ]
    },
    {
     "name": "stderr",
     "output_type": "stream",
     "text": [
      "2024-10-19 10:35:44 - INFO - Running AI.zymes setup.\n",
      "2024-10-19 10:35:44 - INFO - Content of /home/bunzelh/AIzymes/design/VD/241016_VD_KSI_neg_control deleted.\n",
      "2024-10-19 10:35:44 - INFO - Happy AI.zymeing! :)\n"
     ]
    },
    {
     "name": "stdout",
     "output_type": "stream",
     "text": [
      "AIzymes initiated.\n",
      "\n"
     ]
    }
   ],
   "source": [
    "import sys, os\n",
    "if os.path.join(os.getcwd(), '../../src') not in sys.path: sys.path.append(os.path.join(os.getcwd(), '../../src'))\n",
    "from AIzymes_013 import *\n",
    "\n",
    "# GENERAL SETTINGS FOR AI.zymes -------------------------------------------------------------------------------------------\n",
    "AIzymes = AIzymes_MAIN()\n",
    "AIzymes.setup(FOLDER_HOME = '241016_VD_KSI_neg_control',\n",
    "  FOLDER_PARENT     = 'parent',\n",
    "  MAX_JOBS          = 50,\n",
    "  N_PARENT_JOBS     = 100,\n",
    "  MAX_DESIGNS       = 100,\n",
    "  KBT_BOLTZMANN     = [0.5, 0.0003],\n",
    "  CST_WEIGHT        = 0.0,\n",
    "  CST_NAME          = \"5TS_enzdes_planar_tAB100\",\n",
    "  WT                = \"1ohp\",\n",
    "  LIGAND            = \"5TS\",\n",
    "  DESIGN            = \"7,10,11,14,15,18,26,29,30,38,54,55,58,59,63,65,71,73,78,80,82,84,86,93,95,97,99,101,103,109,112,114,116,121\",\n",
    "  SUBMIT_PREFIX     = \"KSI_neg\",\n",
    "  SYSTEM            = \"GRID\",\n",
    "  EXPLORE           = False,\n",
    " )"
   ]
  },
  {
   "cell_type": "code",
   "execution_count": 3,
   "id": "5aadc10c",
   "metadata": {
    "scrolled": false
   },
   "outputs": [
    {
     "name": "stderr",
     "output_type": "stream",
     "text": [
      "2024-10-19 10:35:45 - DEBUG - Updating scores\n",
      "2024-10-19 10:35:45 - DEBUG - Parent design not yet done. 1/100 jobs submitted.\n",
      "2024-10-19 10:35:45 - DEBUG - Child index 0 created for Parent.\n",
      "2024-10-19 10:35:45 - DEBUG - Run RosettaDesign for index 0 based on index 0.\n",
      "2024-10-19 10:35:45 - DEBUG - Your job 1644667 (\"KSI_neg_RosettaDesign_0\") has been submitted\n",
      "2024-10-19 10:35:45 - DEBUG - Updating scores\n",
      "2024-10-19 10:35:45 - DEBUG - Parent design not yet done. 2/100 jobs submitted.\n",
      "2024-10-19 10:35:45 - DEBUG - Child index 1 created for Parent.\n",
      "2024-10-19 10:35:45 - DEBUG - Run RosettaDesign for index 1 based on index 1.\n",
      "2024-10-19 10:35:45 - DEBUG - Your job 1644668 (\"KSI_neg_RosettaDesign_1\") has been submitted\n",
      "2024-10-19 10:35:45 - DEBUG - Updating scores\n",
      "2024-10-19 10:35:45 - DEBUG - Parent design not yet done. 3/100 jobs submitted.\n",
      "2024-10-19 10:35:45 - DEBUG - Child index 2 created for Parent.\n",
      "2024-10-19 10:35:45 - DEBUG - Run RosettaDesign for index 2 based on index 2.\n",
      "2024-10-19 10:35:45 - DEBUG - Your job 1644669 (\"KSI_neg_RosettaDesign_2\") has been submitted\n",
      "2024-10-19 10:35:46 - DEBUG - Updating scores\n",
      "2024-10-19 10:35:46 - DEBUG - Parent design not yet done. 4/100 jobs submitted.\n",
      "2024-10-19 10:35:46 - DEBUG - Child index 3 created for Parent.\n",
      "2024-10-19 10:35:46 - DEBUG - Run RosettaDesign for index 3 based on index 3.\n",
      "2024-10-19 10:35:46 - DEBUG - Your job 1644670 (\"KSI_neg_RosettaDesign_3\") has been submitted\n",
      "2024-10-19 10:35:46 - DEBUG - Updating scores\n",
      "2024-10-19 10:35:46 - DEBUG - Parent design not yet done. 5/100 jobs submitted.\n",
      "2024-10-19 10:35:46 - DEBUG - Child index 4 created for Parent.\n",
      "2024-10-19 10:35:46 - DEBUG - Run RosettaDesign for index 4 based on index 4.\n",
      "2024-10-19 10:35:46 - DEBUG - Your job 1644671 (\"KSI_neg_RosettaDesign_4\") has been submitted\n",
      "2024-10-19 10:35:46 - DEBUG - Updating scores\n",
      "2024-10-19 10:35:46 - DEBUG - Parent design not yet done. 6/100 jobs submitted.\n",
      "2024-10-19 10:35:46 - DEBUG - Child index 5 created for Parent.\n",
      "2024-10-19 10:35:46 - DEBUG - Run RosettaDesign for index 5 based on index 5.\n",
      "2024-10-19 10:35:46 - DEBUG - Your job 1644672 (\"KSI_neg_RosettaDesign_5\") has been submitted\n",
      "2024-10-19 10:35:46 - DEBUG - Updating scores\n",
      "2024-10-19 10:35:46 - DEBUG - Parent design not yet done. 7/100 jobs submitted.\n",
      "2024-10-19 10:35:46 - DEBUG - Child index 6 created for Parent.\n",
      "2024-10-19 10:35:46 - DEBUG - Run RosettaDesign for index 6 based on index 6.\n",
      "2024-10-19 10:35:46 - DEBUG - Your job 1644673 (\"KSI_neg_RosettaDesign_6\") has been submitted\n",
      "2024-10-19 10:35:46 - DEBUG - Updating scores\n",
      "2024-10-19 10:35:47 - DEBUG - Parent design not yet done. 8/100 jobs submitted.\n",
      "2024-10-19 10:35:47 - DEBUG - Child index 7 created for Parent.\n",
      "2024-10-19 10:35:47 - DEBUG - Run RosettaDesign for index 7 based on index 7.\n",
      "2024-10-19 10:35:47 - DEBUG - Your job 1644674 (\"KSI_neg_RosettaDesign_7\") has been submitted\n",
      "2024-10-19 10:35:47 - DEBUG - Updating scores\n",
      "2024-10-19 10:35:47 - DEBUG - Parent design not yet done. 9/100 jobs submitted.\n",
      "2024-10-19 10:35:47 - DEBUG - Child index 8 created for Parent.\n",
      "2024-10-19 10:35:47 - DEBUG - Run RosettaDesign for index 8 based on index 8.\n",
      "2024-10-19 10:35:47 - DEBUG - Your job 1644675 (\"KSI_neg_RosettaDesign_8\") has been submitted\n",
      "2024-10-19 10:35:47 - DEBUG - Updating scores\n",
      "2024-10-19 10:35:47 - DEBUG - Parent design not yet done. 10/100 jobs submitted.\n",
      "2024-10-19 10:35:47 - DEBUG - Child index 9 created for Parent.\n",
      "2024-10-19 10:35:47 - DEBUG - Run RosettaDesign for index 9 based on index 9.\n",
      "2024-10-19 10:35:47 - DEBUG - Your job 1644676 (\"KSI_neg_RosettaDesign_9\") has been submitted\n",
      "2024-10-19 10:35:47 - DEBUG - Updating scores\n",
      "2024-10-19 10:35:47 - DEBUG - Parent design not yet done. 11/100 jobs submitted.\n",
      "2024-10-19 10:35:47 - DEBUG - Child index 10 created for Parent.\n",
      "2024-10-19 10:35:47 - DEBUG - Run RosettaDesign for index 10 based on index 10.\n",
      "2024-10-19 10:35:47 - DEBUG - Your job 1644677 (\"KSI_neg_RosettaDesign_10\") has been submitted\n",
      "2024-10-19 10:35:47 - DEBUG - Updating scores\n",
      "2024-10-19 10:35:47 - DEBUG - Parent design not yet done. 12/100 jobs submitted.\n",
      "2024-10-19 10:35:47 - DEBUG - Child index 11 created for Parent.\n",
      "2024-10-19 10:35:47 - DEBUG - Run RosettaDesign for index 11 based on index 11.\n",
      "2024-10-19 10:35:48 - DEBUG - Your job 1644678 (\"KSI_neg_RosettaDesign_11\") has been submitted\n",
      "2024-10-19 10:35:48 - DEBUG - Updating scores\n",
      "2024-10-19 10:35:48 - DEBUG - Parent design not yet done. 13/100 jobs submitted.\n",
      "2024-10-19 10:35:48 - DEBUG - Child index 12 created for Parent.\n",
      "2024-10-19 10:35:48 - DEBUG - Run RosettaDesign for index 12 based on index 12.\n",
      "2024-10-19 10:35:48 - DEBUG - Your job 1644679 (\"KSI_neg_RosettaDesign_12\") has been submitted\n",
      "2024-10-19 10:35:48 - DEBUG - Updating scores\n",
      "2024-10-19 10:35:48 - DEBUG - Parent design not yet done. 14/100 jobs submitted.\n",
      "2024-10-19 10:35:48 - DEBUG - Child index 13 created for Parent.\n",
      "2024-10-19 10:35:48 - DEBUG - Run RosettaDesign for index 13 based on index 13.\n",
      "2024-10-19 10:35:48 - DEBUG - Your job 1644680 (\"KSI_neg_RosettaDesign_13\") has been submitted\n",
      "2024-10-19 10:35:48 - DEBUG - Updating scores\n",
      "2024-10-19 10:35:48 - DEBUG - Parent design not yet done. 15/100 jobs submitted.\n",
      "2024-10-19 10:35:48 - DEBUG - Child index 14 created for Parent.\n",
      "2024-10-19 10:35:48 - DEBUG - Run RosettaDesign for index 14 based on index 14.\n",
      "2024-10-19 10:35:48 - DEBUG - Your job 1644681 (\"KSI_neg_RosettaDesign_14\") has been submitted\n",
      "2024-10-19 10:35:48 - DEBUG - Updating scores\n",
      "2024-10-19 10:35:48 - DEBUG - Parent design not yet done. 16/100 jobs submitted.\n",
      "2024-10-19 10:35:48 - DEBUG - Child index 15 created for Parent.\n",
      "2024-10-19 10:35:48 - DEBUG - Run RosettaDesign for index 15 based on index 15.\n",
      "2024-10-19 10:35:48 - DEBUG - Your job 1644682 (\"KSI_neg_RosettaDesign_15\") has been submitted\n",
      "2024-10-19 10:35:49 - DEBUG - Updating scores\n",
      "2024-10-19 10:35:49 - DEBUG - Parent design not yet done. 17/100 jobs submitted.\n",
      "2024-10-19 10:35:49 - DEBUG - Child index 16 created for Parent.\n",
      "2024-10-19 10:35:49 - DEBUG - Run RosettaDesign for index 16 based on index 16.\n",
      "2024-10-19 10:35:49 - DEBUG - Your job 1644683 (\"KSI_neg_RosettaDesign_16\") has been submitted\n",
      "2024-10-19 10:35:49 - DEBUG - Updating scores\n",
      "2024-10-19 10:35:49 - DEBUG - Parent design not yet done. 18/100 jobs submitted.\n",
      "2024-10-19 10:35:49 - DEBUG - Child index 17 created for Parent.\n",
      "2024-10-19 10:35:49 - DEBUG - Run RosettaDesign for index 17 based on index 17.\n",
      "2024-10-19 10:35:49 - DEBUG - Your job 1644684 (\"KSI_neg_RosettaDesign_17\") has been submitted\n",
      "2024-10-19 10:35:49 - DEBUG - Updating scores\n",
      "2024-10-19 10:35:49 - DEBUG - Parent design not yet done. 19/100 jobs submitted.\n",
      "2024-10-19 10:35:49 - DEBUG - Child index 18 created for Parent.\n",
      "2024-10-19 10:35:49 - DEBUG - Run RosettaDesign for index 18 based on index 18.\n",
      "2024-10-19 10:35:49 - DEBUG - Your job 1644685 (\"KSI_neg_RosettaDesign_18\") has been submitted\n",
      "2024-10-19 10:35:49 - DEBUG - Updating scores\n",
      "2024-10-19 10:35:49 - DEBUG - Parent design not yet done. 20/100 jobs submitted.\n",
      "2024-10-19 10:35:49 - DEBUG - Child index 19 created for Parent.\n",
      "2024-10-19 10:35:49 - DEBUG - Run RosettaDesign for index 19 based on index 19.\n",
      "2024-10-19 10:35:49 - DEBUG - Your job 1644686 (\"KSI_neg_RosettaDesign_19\") has been submitted\n",
      "2024-10-19 10:35:50 - DEBUG - Updating scores\n",
      "2024-10-19 10:35:50 - DEBUG - Parent design not yet done. 21/100 jobs submitted.\n",
      "2024-10-19 10:35:50 - DEBUG - Child index 20 created for Parent.\n",
      "2024-10-19 10:35:50 - DEBUG - Run RosettaDesign for index 20 based on index 20.\n",
      "2024-10-19 10:35:50 - DEBUG - Your job 1644687 (\"KSI_neg_RosettaDesign_20\") has been submitted\n",
      "2024-10-19 10:35:50 - DEBUG - Updating scores\n",
      "2024-10-19 10:35:50 - DEBUG - Parent design not yet done. 22/100 jobs submitted.\n",
      "2024-10-19 10:35:50 - DEBUG - Child index 21 created for Parent.\n",
      "2024-10-19 10:35:50 - DEBUG - Run RosettaDesign for index 21 based on index 21.\n",
      "2024-10-19 10:35:50 - DEBUG - Your job 1644688 (\"KSI_neg_RosettaDesign_21\") has been submitted\n",
      "2024-10-19 10:35:50 - DEBUG - Updating scores\n",
      "2024-10-19 10:35:50 - DEBUG - Parent design not yet done. 23/100 jobs submitted.\n",
      "2024-10-19 10:35:50 - DEBUG - Child index 22 created for Parent.\n"
     ]
    },
    {
     "name": "stderr",
     "output_type": "stream",
     "text": [
      "2024-10-19 10:35:50 - DEBUG - Run RosettaDesign for index 22 based on index 22.\n",
      "2024-10-19 10:35:50 - DEBUG - Your job 1644689 (\"KSI_neg_RosettaDesign_22\") has been submitted\n",
      "2024-10-19 10:35:50 - DEBUG - Updating scores\n",
      "2024-10-19 10:35:50 - DEBUG - Parent design not yet done. 24/100 jobs submitted.\n",
      "2024-10-19 10:35:50 - DEBUG - Child index 23 created for Parent.\n",
      "2024-10-19 10:35:50 - DEBUG - Run RosettaDesign for index 23 based on index 23.\n",
      "2024-10-19 10:35:50 - DEBUG - Your job 1644690 (\"KSI_neg_RosettaDesign_23\") has been submitted\n",
      "2024-10-19 10:35:50 - DEBUG - Updating scores\n",
      "2024-10-19 10:35:50 - DEBUG - Parent design not yet done. 25/100 jobs submitted.\n",
      "2024-10-19 10:35:51 - DEBUG - Child index 24 created for Parent.\n",
      "2024-10-19 10:35:51 - DEBUG - Run RosettaDesign for index 24 based on index 24.\n",
      "2024-10-19 10:35:51 - DEBUG - Your job 1644691 (\"KSI_neg_RosettaDesign_24\") has been submitted\n",
      "2024-10-19 10:35:51 - DEBUG - Updating scores\n",
      "2024-10-19 10:35:51 - DEBUG - Parent design not yet done. 26/100 jobs submitted.\n",
      "2024-10-19 10:35:51 - DEBUG - Child index 25 created for Parent.\n",
      "2024-10-19 10:35:51 - DEBUG - Run RosettaDesign for index 25 based on index 25.\n",
      "2024-10-19 10:35:51 - DEBUG - Your job 1644692 (\"KSI_neg_RosettaDesign_25\") has been submitted\n",
      "2024-10-19 10:35:51 - DEBUG - Updating scores\n",
      "2024-10-19 10:35:51 - DEBUG - Parent design not yet done. 27/100 jobs submitted.\n",
      "2024-10-19 10:35:51 - DEBUG - Child index 26 created for Parent.\n",
      "2024-10-19 10:35:51 - DEBUG - Run RosettaDesign for index 26 based on index 26.\n",
      "2024-10-19 10:35:51 - DEBUG - Your job 1644693 (\"KSI_neg_RosettaDesign_26\") has been submitted\n",
      "2024-10-19 10:35:51 - DEBUG - Updating scores\n",
      "2024-10-19 10:35:51 - DEBUG - Parent design not yet done. 28/100 jobs submitted.\n",
      "2024-10-19 10:35:51 - DEBUG - Child index 27 created for Parent.\n",
      "2024-10-19 10:35:51 - DEBUG - Run RosettaDesign for index 27 based on index 27.\n",
      "2024-10-19 10:35:51 - DEBUG - Your job 1644694 (\"KSI_neg_RosettaDesign_27\") has been submitted\n"
     ]
    },
    {
     "ename": "KeyboardInterrupt",
     "evalue": "",
     "output_type": "error",
     "traceback": [
      "\u001b[0;31m---------------------------------------------------------------------------\u001b[0m",
      "\u001b[0;31mKeyboardInterrupt\u001b[0m                         Traceback (most recent call last)",
      "\u001b[0;32m/tmp/ipykernel_7470/1211040767.py\u001b[0m in \u001b[0;36m<module>\u001b[0;34m\u001b[0m\n\u001b[1;32m      6\u001b[0m                    \u001b[0mLOG\u001b[0m\u001b[0;34m=\u001b[0m\u001b[0;34m\"debug\"\u001b[0m\u001b[0;34m,\u001b[0m\u001b[0;34m\u001b[0m\u001b[0;34m\u001b[0m\u001b[0m\n\u001b[1;32m      7\u001b[0m                    PRINT_VAR=False) #LOG=\"debug/info\"\n\u001b[0;32m----> 8\u001b[0;31m \u001b[0mAIzymes\u001b[0m\u001b[0;34m.\u001b[0m\u001b[0mcontroller\u001b[0m\u001b[0;34m(\u001b[0m\u001b[0;34m)\u001b[0m\u001b[0;34m\u001b[0m\u001b[0;34m\u001b[0m\u001b[0m\n\u001b[0m",
      "\u001b[0;32m~/AIzymes/design/VD/../../src/AIzymes_013.py\u001b[0m in \u001b[0;36mcontroller\u001b[0;34m(self, HIGHSCORE, NORM)\u001b[0m\n\u001b[1;32m     86\u001b[0m                 \u001b[0msetattr\u001b[0m\u001b[0;34m(\u001b[0m\u001b[0mself\u001b[0m\u001b[0;34m,\u001b[0m \u001b[0mkey\u001b[0m\u001b[0;34m,\u001b[0m \u001b[0mvalue\u001b[0m\u001b[0;34m)\u001b[0m\u001b[0;34m\u001b[0m\u001b[0;34m\u001b[0m\u001b[0m\n\u001b[1;32m     87\u001b[0m \u001b[0;34m\u001b[0m\u001b[0m\n\u001b[0;32m---> 88\u001b[0;31m         \u001b[0mstart_controller\u001b[0m\u001b[0;34m(\u001b[0m\u001b[0mself\u001b[0m\u001b[0;34m)\u001b[0m\u001b[0;34m\u001b[0m\u001b[0;34m\u001b[0m\u001b[0m\n\u001b[0m\u001b[1;32m     89\u001b[0m \u001b[0;34m\u001b[0m\u001b[0m\n\u001b[1;32m     90\u001b[0m     def plot(self, main_plots=True, tree_plot=True, landscape_plot=True, print_vals=True,\n",
      "\u001b[0;32m~/AIzymes/design/VD/../../src/main_running_001.py\u001b[0m in \u001b[0;36mstart_controller\u001b[0;34m(self)\u001b[0m\n\u001b[1;32m     50\u001b[0m \u001b[0;34m\u001b[0m\u001b[0m\n\u001b[1;32m     51\u001b[0m         \u001b[0;31m# Sleep a bit for safety\u001b[0m\u001b[0;34m\u001b[0m\u001b[0;34m\u001b[0m\u001b[0;34m\u001b[0m\u001b[0m\n\u001b[0;32m---> 52\u001b[0;31m         \u001b[0mtime\u001b[0m\u001b[0;34m.\u001b[0m\u001b[0msleep\u001b[0m\u001b[0;34m(\u001b[0m\u001b[0;36m0.1\u001b[0m\u001b[0;34m)\u001b[0m\u001b[0;34m\u001b[0m\u001b[0;34m\u001b[0m\u001b[0m\n\u001b[0m\u001b[1;32m     53\u001b[0m \u001b[0;34m\u001b[0m\u001b[0m\n\u001b[1;32m     54\u001b[0m     \u001b[0mupdate_scores\u001b[0m\u001b[0;34m(\u001b[0m\u001b[0mself\u001b[0m\u001b[0;34m)\u001b[0m\u001b[0;34m\u001b[0m\u001b[0;34m\u001b[0m\u001b[0m\n",
      "\u001b[0;31mKeyboardInterrupt\u001b[0m: "
     ]
    }
   ],
   "source": [
    "import sys, os\n",
    "if os.path.join(os.getcwd(), '../../src') not in sys.path: sys.path.append(os.path.join(os.getcwd(), '../../src'))\n",
    "from AIzymes_013 import *\n",
    "AIzymes = AIzymes_MAIN()\n",
    "AIzymes.initialize(FOLDER_HOME = '241016_VD_KSI_neg_control', \n",
    "                   LOG=\"debug\", \n",
    "                   PRINT_VAR=False) #LOG=\"debug/info\"\n",
    "AIzymes.controller()"
   ]
  },
  {
   "cell_type": "markdown",
   "id": "3666dda9",
   "metadata": {},
   "source": [
    "Determines how many NaN values are present in the all_score.csv file for either the total score, interface score, or the efield score."
   ]
  },
  {
   "cell_type": "code",
   "execution_count": null,
   "id": "426905bd",
   "metadata": {},
   "outputs": [],
   "source": [
    "import pandas as pd\n",
    "plot_scores_df = pd.read_csv('/home/vdegiorgi/AIzymes/design/VD/241016_VD_KSI_neg_control/all_scores.csv')\n",
    "nan_count_total_score = plot_scores_df['total_score'].isna().sum()\n",
    "nan_count_interface_score = plot_scores_df['interface_score'].isna().sum()\n",
    "nan_count_efield_score=plot_scores_df['efield_score'].isna().sum()\n",
    "\n",
    "print(f'Total Score # NaN Values: {nan_count_total_score}')\n",
    "print(f'Interface Score # NaN Values: {nan_count_interface_score}')\n",
    "print(f'Efield Score # NaN Values: {nan_count_efield_score}')"
   ]
  },
  {
   "cell_type": "markdown",
   "id": "3bce490e",
   "metadata": {},
   "source": [
    "Generates the plots of the design, by setting the type of plot as True the graph will be generated, otherwise set it as False. The plots will be automatically saved in the plots directory inside the experiment folder in png format."
   ]
  },
  {
   "cell_type": "code",
   "execution_count": null,
   "id": "b9a21715",
   "metadata": {},
   "outputs": [],
   "source": [
    "import sys, os\n",
    "if os.path.join(os.getcwd(), '../../src') not in sys.path: sys.path.append(os.path.join(os.getcwd(), '../../src'))\n",
    "from AIzymes_013 import *\n",
    "AIzymes = AIzymes_MAIN()\n",
    "AIzymes.initialize(FOLDER_HOME = '241016_VD_KSI_neg_control', LOG=\"info\", PRINT_VAR=False) #LOG=\"debug/info\"\n",
    "AIzymes.plot(main_plots=True, tree_plot=True, landscape_plot=True)"
   ]
  }
 ],
 "metadata": {
  "kernelspec": {
   "display_name": "Python 3 (ipykernel)",
   "language": "python",
   "name": "python3"
  },
  "language_info": {
   "codemirror_mode": {
    "name": "ipython",
    "version": 3
   },
   "file_extension": ".py",
   "mimetype": "text/x-python",
   "name": "python",
   "nbconvert_exporter": "python",
   "pygments_lexer": "ipython3",
   "version": "3.7.16"
  }
 },
 "nbformat": 4,
 "nbformat_minor": 5
}
