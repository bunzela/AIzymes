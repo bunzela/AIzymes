{
 "cells": [
  {
   "cell_type": "code",
   "execution_count": 1,
   "id": "8b4b8893",
   "metadata": {},
   "outputs": [
    {
     "name": "stdin",
     "output_type": "stream",
     "text": [
      "Do you really want to restart AIzymes from scratch? \n",
      "    This will delete all existing files in /home/bunzelh/AIzymes/design/TEST/TEST_ROSETTA_FIELD [y/n]\n",
      "\n",
      "     y\n"
     ]
    },
    {
     "name": "stderr",
     "output_type": "stream",
     "text": [
      "2024-12-12 16:19:53 - INFO - Running AI.zymes setup.\n",
      "2024-12-12 16:19:53 - INFO - Content of /home/bunzelh/AIzymes/design/TEST/TEST_ROSETTA_FIELD deleted.\n",
      "2024-12-12 16:19:53 - INFO - Happy AI.zymeing! :)\n"
     ]
    },
    {
     "name": "stdout",
     "output_type": "stream",
     "text": [
      "AIzymes initiated.\n"
     ]
    }
   ],
   "source": [
    "import sys, os\n",
    "if os.path.join(os.getcwd(), '../../src') not in sys.path: sys.path.append(os.path.join(os.getcwd(), '../../src'))\n",
    "from AIzymes_014 import *\n",
    "\n",
    "# GENERAL SETTINGS FOR AI.zymes -------------------------------------------------------------------------------------------\n",
    "AIzymes = AIzymes_MAIN()\n",
    "AIzymes.setup(FOLDER_HOME = 'TEST_ROSETTA_FIELD',\n",
    "  FOLDER_PARENT     = 'parent',\n",
    "  MAX_JOBS          = 5,\n",
    "  N_PARENT_JOBS     = 5,\n",
    "  MAX_DESIGNS       = 20,\n",
    "  KBT_BOLTZMANN     = [0.5, 0.0003],\n",
    "  CST_WEIGHT        = 1.0,\n",
    "  CST_NAME          = \"5TS_enzdes_planar_tAB100\",\n",
    "  WT                = \"7vuu\",\n",
    "  LIGAND            = \"5TS\",\n",
    "  DESIGN            = \"4,8,16,21,25,28,40,41,44,52,57,60,61\",\n",
    "  SUBMIT_PREFIX     = \"ROS\",\n",
    "  SYSTEM            = \"GRID\",\n",
    "  #SYSTEM            = \"BLUEPEBBLE\",\n",
    "  EXPLORE           = True,\n",
    "  MDMin             = False,\n",
    "  FIELDS_EXCL_CAT   = True\n",
    " )"
   ]
  },
  {
   "cell_type": "code",
   "execution_count": 1,
   "id": "5aadc10c",
   "metadata": {},
   "outputs": [
    {
     "name": "stderr",
     "output_type": "stream",
     "text": [
      "2024-12-12 16:29:39 - DEBUG - Updating scores\n",
      "/home/bunzelh/AIzymes/design/TEST/../../src/helper_001.py:442: FutureWarning: Setting an item of incompatible dtype is deprecated and will raise an error in a future version of pandas. Value '8' has dtype incompatible with int64, please explicitly cast to a compatible dtype first.\n",
      "  self.all_scores_df.at[index, 'cat_resi'] = \";\".join(cat_resis)\n",
      "2024-12-12 16:29:39 - INFO - Updated scores and potentials of index 0.\n",
      "2024-12-12 16:29:39 - INFO - Updated scores and potentials of index 2.\n",
      "2024-12-12 16:29:39 - INFO - Updated scores and potentials of index 3.\n",
      "2024-12-12 16:29:39 - DEBUG - Starting new calculation for index 0.\n",
      "2024-12-12 16:29:39 - INFO - Index 0 has no predicted structure, starting ESMfold.\n",
      "2024-12-12 16:29:39 - DEBUG - Run ESMfold for index 0.\n",
      "2024-12-12 16:29:39 - DEBUG - Run RosettaRelax for index 0.\n",
      "2024-12-12 16:29:39 - DEBUG - Calculating ElectricFields for index 0.\n"
     ]
    },
    {
     "name": "stdout",
     "output_type": "stream",
     "text": [
      "original field [168.91222992]\n",
      "base field [198.88469633095565]\n",
      "new field base subtraction [-29.97246641]\n",
      "original field [168.91222992]\n",
      "base field [198.88469633095565]\n",
      "new field base subtraction [-29.97246641]\n",
      "original field [170.4478304]\n",
      "base field [185.68817305650128]\n",
      "new field base subtraction [-15.24034265]\n"
     ]
    },
    {
     "name": "stderr",
     "output_type": "stream",
     "text": [
      "2024-12-12 16:29:40 - DEBUG - Your job 1740688 (\"ROS_ESMfold_RosettaRelax_ElectricFields_0\") has been submitted\n",
      "2024-12-12 16:29:40 - DEBUG - Updating scores\n",
      "2024-12-12 16:29:40 - DEBUG - Starting new calculation for index 1.\n",
      "2024-12-12 16:29:40 - INFO - Index 1 has no predicted structure, starting ESMfold.\n",
      "2024-12-12 16:29:40 - DEBUG - Run ESMfold for index 1.\n",
      "2024-12-12 16:29:40 - DEBUG - Run RosettaRelax for index 1.\n",
      "2024-12-12 16:29:40 - DEBUG - Calculating ElectricFields for index 1.\n",
      "2024-12-12 16:29:40 - DEBUG - Your job 1740689 (\"ROS_ESMfold_RosettaRelax_ElectricFields_1\") has been submitted\n",
      "2024-12-12 16:29:40 - DEBUG - Updating scores\n",
      "2024-12-12 16:29:40 - DEBUG - Starting new calculation for index 2.\n",
      "2024-12-12 16:29:40 - INFO - Index 2 has no predicted structure, starting ESMfold.\n",
      "2024-12-12 16:29:40 - DEBUG - Run ESMfold for index 2.\n",
      "2024-12-12 16:29:40 - DEBUG - Run RosettaRelax for index 2.\n",
      "2024-12-12 16:29:40 - DEBUG - Calculating ElectricFields for index 2.\n",
      "2024-12-12 16:29:40 - DEBUG - Your job 1740690 (\"ROS_ESMfold_RosettaRelax_ElectricFields_2\") has been submitted\n",
      "\n",
      "KeyboardInterrupt\n",
      "\n"
     ]
    }
   ],
   "source": [
    "import sys, os\n",
    "if os.path.join(os.getcwd(), '../../src') not in sys.path: sys.path.append(os.path.join(os.getcwd(), '../../src'))\n",
    "from AIzymes_014 import *\n",
    "AIzymes = AIzymes_MAIN()\n",
    "AIzymes.initialize(FOLDER_HOME = 'TEST_ROSETTA_FIELD', \n",
    "                   LOG=\"debug\", \n",
    "                   PRINT_VAR=False) #LOG=\"debug/info\"\n",
    "AIzymes.controller()"
   ]
  },
  {
   "cell_type": "code",
   "execution_count": null,
   "id": "b9a21715",
   "metadata": {},
   "outputs": [],
   "source": [
    "import sys, os\n",
    "if os.path.join(os.getcwd(), '../../src') not in sys.path: sys.path.append(os.path.join(os.getcwd(), '../../src'))\n",
    "from AIzymes_014 import *\n",
    "AIzymes = AIzymes_MAIN()\n",
    "AIzymes.initialize(FOLDER_HOME = 'TEST_ROSETTA', LOG=\"info\", PRINT_VAR=False) #LOG=\"debug/info\"\n",
    "AIzymes.plot(tree_plot=False, landscape_plot=False)"
   ]
  },
  {
   "cell_type": "code",
   "execution_count": 13,
   "id": "13a70fe2",
   "metadata": {},
   "outputs": [
    {
     "name": "stdout",
     "output_type": "stream",
     "text": [
      "1ohp_RosettaDesign_0.parm7\t 1ohp_RosettaDesign_0_tleap.out\n",
      "1ohp_RosettaDesign_0.pdb\t 1ohp_RosettaRelax_0.pdb\n",
      "1ohp_RosettaDesign_0.rst7\t 1ohp_RosettaRelax_0_tleap.in\n",
      "1ohp_RosettaDesign_0_fields.pkl  1ohp_RosettaRelax_0_tleap.log\n",
      "1ohp_RosettaDesign_0_tleap.in\t 1ohp_RosettaRelax_0_tleap.out\n",
      "1ohp_RosettaDesign_0_tleap.log\n"
     ]
    }
   ],
   "source": [
    "!ls "
   ]
  },
  {
   "cell_type": "code",
   "execution_count": 10,
   "id": "4232763a-a426-4d56-9d09-2399d9132106",
   "metadata": {},
   "outputs": [],
   "source": [
    "import pickle as pkl\n",
    "import numpy as np\n",
    "filename = '../HAB/WT_relax/0/ElectricFields/1ohp_RosettaDesign_0_fields.pkl'\n",
    "with open(filename, 'rb') as file:  # Open the file in binary read mode\n",
    "    data = pkl.load(file)  "
   ]
  },
  {
   "cell_type": "code",
   "execution_count": 16,
   "id": "1e2708e4-33d7-4470-bb02-2efbc1e275f0",
   "metadata": {},
   "outputs": [
    {
     "name": "stdout",
     "output_type": "stream",
     "text": [
      "dict_keys([':5TS@C9_:5TS@H04'])\n",
      "dict_keys(['Total', 'Protein', 'Solvent', 'WAT', 'MET_1', 'ASN_2', 'THR_3', 'PRO_4', 'GLU_5', 'HIE_6', 'MET_7', 'THR_8', 'ALA_9', 'VAL_10', 'VAL_11', 'GLN_12', 'ARG_13', 'TYR_14', 'VAL_15', 'ALA_16', 'ALA_17', 'LEU_18', 'ASN_19', 'ALA_20', 'GLY_21', 'ASP_22', 'LEU_23', 'ASP_24', 'GLY_25', 'ILE_26', 'VAL_27', 'ALA_28', 'LEU_29', 'PHE_30', 'ALA_31', 'ASP_32', 'ASP_33', 'ALA_34', 'THR_35', 'VAL_36', 'GLU_37', 'ASN_38', 'PRO_39', 'VAL_40', 'GLY_41', 'SER_42', 'GLU_43', 'PRO_44', 'ARG_45', 'SER_46', 'GLY_47', 'THR_48', 'ALA_49', 'ALA_50', 'ILE_51', 'ARG_52', 'GLU_53', 'PHE_54', 'TYR_55', 'ALA_56', 'ASN_57', 'SER_58', 'LEU_59', 'LYS_60', 'LEU_61', 'PRO_62', 'LEU_63', 'ALA_64', 'VAL_65', 'GLU_66', 'LEU_67', 'THR_68', 'GLN_69', 'GLU_70', 'VAL_71', 'ARG_72', 'ALA_73', 'VAL_74', 'ALA_75', 'ASN_76', 'GLU_77', 'ALA_78', 'ALA_79', 'PHE_80', 'ALA_81', 'PHE_82', 'ILE_83', 'VAL_84', 'SER_85', 'PHE_86', 'GLU_87', 'TYR_88', 'GLN_89', 'GLY_90', 'ARG_91', 'LYS_92', 'THR_93', 'VAL_94', 'VAL_95', 'ALA_96', 'PRO_97', 'ILE_98', 'ASP_99', 'HIE_100', 'PHE_101', 'ARG_102', 'PHE_103', 'ASN_104', 'GLY_105', 'ALA_106', 'GLY_107', 'LYS_108', 'VAL_109', 'VAL_110', 'SER_111', 'MET_112', 'ARG_113', 'ALA_114', 'LEU_115', 'PHE_116', 'GLY_117', 'GLU_118', 'LYS_119', 'ASN_120', 'ILE_121', 'HIE_122', 'ALA_123', 'GLY_124', 'ALA_125', '5TS_126'])\n"
     ]
    }
   ],
   "source": [
    "print(data.keys())\n",
    "print(data[':5TS@C9_:5TS@H04'].keys())"
   ]
  },
  {
   "cell_type": "code",
   "execution_count": 17,
   "id": "64dda25a-4e93-4b5f-9e4e-fa6cdf8d8256",
   "metadata": {},
   "outputs": [],
   "source": [
    "key_with_99 = [key for key in data[':5TS@C9_:5TS@H04'].keys() if '_99' in key]"
   ]
  },
  {
   "cell_type": "code",
   "execution_count": 13,
   "id": "787442d2-6b7d-45a2-a07c-7bb1ee06f850",
   "metadata": {},
   "outputs": [
    {
     "name": "stdout",
     "output_type": "stream",
     "text": [
      "[8.31536385]\n"
     ]
    }
   ],
   "source": [
    "print(np.array(data[':5TS@C9_:5TS@H04']['Total'])-np.array(data[':5TS@C9_:5TS@H04']['ASP_99']))\n",
    "#print(data)"
   ]
  },
  {
   "cell_type": "code",
   "execution_count": null,
   "id": "a131e23e-7613-41e1-9eb3-730eb0863bdd",
   "metadata": {},
   "outputs": [],
   "source": []
  }
 ],
 "metadata": {
  "kernelspec": {
   "display_name": "Python 3 (ipykernel)",
   "language": "python",
   "name": "python3"
  },
  "language_info": {
   "codemirror_mode": {
    "name": "ipython",
    "version": 3
   },
   "file_extension": ".py",
   "mimetype": "text/x-python",
   "name": "python",
   "nbconvert_exporter": "python",
   "pygments_lexer": "ipython3",
   "version": "3.9.21"
  }
 },
 "nbformat": 4,
 "nbformat_minor": 5
}
