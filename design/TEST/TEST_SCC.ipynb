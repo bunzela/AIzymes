{
 "cells": [
  {
   "cell_type": "code",
   "execution_count": null,
   "id": "d974b573",
   "metadata": {},
   "outputs": [],
   "source": [
    "\"\"\" ---------------------------------------------------------------------------------------------------------------------------\n",
    "# Test script to establish AI.zymes on SCC\n",
    "\" -----------------------------------------------------------------------------------------------------------------------------\n",
    "\"\"\" \n",
    "\n",
    "import sys, os\n",
    "if os.path.join(os.getcwd(), '../../src') not in sys.path: sys.path.append(os.path.join(os.getcwd(), '../../src'))\n",
    "from AIzymes_014 import *\n",
    "\n",
    "# GENERAL SETTINGS FOR AI.zymes -------------------------------------------------------------------------------------------\n",
    "AIzymes = AIzymes_MAIN()\n",
    "AIzymes.setup(FOLDER_HOME = 'TEST_SCC',\n",
    "  FOLDER_PARENT     = 'parent',\n",
    "  MAX_JOBS          = 5,\n",
    "  N_PARENT_JOBS     = 7,\n",
    "  MAX_DESIGNS       = 10,\n",
    "  KBT_BOLTZMANN     = [0.5, 0.0003],\n",
    "  CST_WEIGHT        = 1.0,\n",
    "  CST_NAME          = \"5TS_enzdes_planar_tAB100\",\n",
    "  WT                = \"7vuu\",\n",
    "  LIGAND            = \"5TS\",\n",
    "  DESIGN            = \"4,8,16,21,25,28,40,41,44,52,57,60,61\",\n",
    "  SYSTEM            = \"SCC\",\n",
    "  EXPLORE           = True,\n",
    "  RUN_PARALLEL      = True,\n",
    "  SUBMIT_PREFIX     = \"TEST\"\n",
    " )"
   ]
  },
  {
   "cell_type": "code",
   "execution_count": 3,
   "id": "a7371918",
   "metadata": {},
   "outputs": [
    {
     "name": "stderr",
     "output_type": "stream",
     "text": [
      "2025-02-18 18:56:58 - INFO - Starting parallel controller.\n"
     ]
    }
   ],
   "source": [
    "import sys, os\n",
    "if os.path.join(os.getcwd(), '../../src') not in sys.path: sys.path.append(os.path.join(os.getcwd(), '../../src'))\n",
    "from AIzymes_014 import *\n",
    "AIzymes = AIzymes_MAIN()\n",
    "AIzymes.initialize(FOLDER_HOME = 'TEST_SCC', LOG=\"debug\", PRINT_VAR=False) \n",
    "AIzymes.submit_controller()"
   ]
  },
  {
   "cell_type": "code",
   "execution_count": 4,
   "id": "864933f8-7090-4d44-a120-93e2f76a3883",
   "metadata": {},
   "outputs": [],
   "source": [
    "#!python TEST_SCC/start_controller_parallel.py"
   ]
  },
  {
   "cell_type": "code",
   "execution_count": 7,
   "id": "0dfafd90-8c3a-4f19-84cc-72a424c19111",
   "metadata": {},
   "outputs": [
    {
     "name": "stdout",
     "output_type": "stream",
     "text": [
      "             JOBID    PARTITION         NAME     USER  ACCOUNT     STATE       TIME NODES NODELIST(REASON)\n",
      "           6075433      scc-cpu TEST_control   u14852 scc_mmtm   RUNNING       0:37     1 c0090\n"
     ]
    }
   ],
   "source": [
    "!squeue --me   "
   ]
  },
  {
   "cell_type": "code",
   "execution_count": null,
   "id": "b4d01add",
   "metadata": {},
   "outputs": [],
   "source": []
  }
 ],
 "metadata": {
  "kernelspec": {
   "display_name": "Python 3 (ipykernel)",
   "language": "python",
   "name": "python3"
  },
  "language_info": {
   "codemirror_mode": {
    "name": "ipython",
    "version": 3
   },
   "file_extension": ".py",
   "mimetype": "text/x-python",
   "name": "python",
   "nbconvert_exporter": "python",
   "pygments_lexer": "ipython3",
   "version": "3.11.11"
  }
 },
 "nbformat": 4,
 "nbformat_minor": 5
}
