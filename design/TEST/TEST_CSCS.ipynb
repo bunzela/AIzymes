{
 "cells": [
  {
   "cell_type": "code",
   "execution_count": 1,
   "id": "8b4b8893",
   "metadata": {},
   "outputs": [
    {
     "name": "stdin",
     "output_type": "stream",
     "text": [
      "Do you really want to restart AIzymes from scratch? \n",
      "    This will delete all existing files in /users/abunzel/AIzymes/design/TEST/TEST_CSCS [y/n]\n",
      "\n",
      "     y\n"
     ]
    },
    {
     "name": "stderr",
     "output_type": "stream",
     "text": [
      "2024-12-17 15:01:42 - INFO - Running AI.zymes setup.\n",
      "2024-12-17 15:01:42 - INFO - Content of /users/abunzel/AIzymes/design/TEST/TEST_CSCS deleted.\n",
      "2024-12-17 15:01:42 - INFO - Happy AI.zymeing! :)\n"
     ]
    },
    {
     "name": "stdout",
     "output_type": "stream",
     "text": [
      "AIzymes initiated.\n"
     ]
    }
   ],
   "source": [
    "\"\"\" ----------------------------------------------------------------------------------------------------------------------------------\n",
    "# Test script to establish AI.zymes on CSCS\n",
    "\" ------------------------------------------------------------------------------------------------------------------------------------\n",
    "#installation instruction on CSCS\n",
    "!pip install torch==1.10.0+cu113 torchvision==0.11.1+cu113 torchaudio==0.10.0+cu113 --index-url https://download.pytorch.org/whl/cu113\n",
    "import torch\n",
    "print(f'Torch version: {torch.__version__}')\n",
    "print(f'CUDA available: {torch.cuda.is_available()}')\n",
    "print(f'CUDA version: {torch.version.cuda}')\n",
    "!pip install scikit-learn transformers umap fair-esm\n",
    "\"\"\" \n",
    "\n",
    "import sys, os\n",
    "if os.path.join(os.getcwd(), '../../src') not in sys.path: sys.path.append(os.path.join(os.getcwd(), '../../src'))\n",
    "from AIzymes_014 import *\n",
    "\n",
    "# GENERAL SETTINGS FOR AI.zymes -------------------------------------------------------------------------------------------\n",
    "AIzymes = AIzymes_MAIN()\n",
    "AIzymes.setup(FOLDER_HOME = 'TEST_CSCS',\n",
    "  FOLDER_PARENT     = 'parent',\n",
    "  MAX_JOBS          = 24,\n",
    "  N_PARENT_JOBS     = 48,\n",
    "  MAX_DESIGNS       = 20,\n",
    "  KBT_BOLTZMANN     = [0.5, 0.0003],\n",
    "  CST_WEIGHT        = 1.0,\n",
    "  CST_NAME          = \"5TS_enzdes_planar_tAB100\",\n",
    "  WT                = \"7vuu\",\n",
    "  LIGAND            = \"5TS\",\n",
    "  DESIGN            = \"4,8,16,21,25,28,40,41,44,52,57,60,61\",\n",
    "  SYSTEM            = \"CSCS_PARALLEL_INTERACTIVE\",\n",
    "  EXPLORE           = True,\n",
    "  RUN_PARALLEL      = True,\n",
    "  RUN_INTERACTIVE   = True\n",
    " )"
   ]
  },
  {
   "cell_type": "code",
   "execution_count": 1,
   "id": "5aadc10c",
   "metadata": {},
   "outputs": [
    {
     "name": "stderr",
     "output_type": "stream",
     "text": [
      "2024-12-17 15:46:53 - DEBUG - Updating scores\n",
      "2024-12-17 15:46:53 - DEBUG - Parent design not yet done. 2/48 jobs submitted.\n",
      "2024-12-17 15:46:53 - DEBUG - Child index 1 created for Parent.\n",
      "2024-12-17 15:46:53 - DEBUG - Run RosettaDesign for index 1 based on index 1.\n",
      "2024-12-17 15:46:53 - DEBUG - Calculating ElectricFields for index 1.\n",
      "2024-12-17 15:46:53 - DEBUG - Updating scores\n",
      "2024-12-17 15:46:53 - DEBUG - Parent design not yet done. 3/48 jobs submitted.\n",
      "2024-12-17 15:46:53 - DEBUG - Child index 2 created for Parent.\n",
      "2024-12-17 15:46:53 - DEBUG - Run RosettaDesign for index 2 based on index 2.\n",
      "2024-12-17 15:46:53 - DEBUG - Calculating ElectricFields for index 2.\n",
      "2024-12-17 15:46:53 - DEBUG - Updating scores\n",
      "2024-12-17 15:46:53 - DEBUG - Parent design not yet done. 4/48 jobs submitted.\n",
      "2024-12-17 15:46:53 - DEBUG - Child index 3 created for Parent.\n",
      "2024-12-17 15:46:54 - DEBUG - Run RosettaDesign for index 3 based on index 3.\n",
      "2024-12-17 15:46:54 - DEBUG - Calculating ElectricFields for index 3.\n",
      "2024-12-17 15:46:54 - DEBUG - Updating scores\n",
      "2024-12-17 15:46:54 - DEBUG - Parent design not yet done. 5/48 jobs submitted.\n",
      "2024-12-17 15:46:54 - DEBUG - Child index 4 created for Parent.\n",
      "2024-12-17 15:46:54 - DEBUG - Run RosettaDesign for index 4 based on index 4.\n",
      "2024-12-17 15:46:54 - DEBUG - Calculating ElectricFields for index 4.\n",
      "2024-12-17 15:46:54 - DEBUG - Updating scores\n",
      "2024-12-17 15:46:54 - DEBUG - Parent design not yet done. 6/48 jobs submitted.\n",
      "2024-12-17 15:46:54 - DEBUG - Child index 5 created for Parent.\n",
      "2024-12-17 15:46:54 - DEBUG - Run RosettaDesign for index 5 based on index 5.\n",
      "2024-12-17 15:46:54 - DEBUG - Calculating ElectricFields for index 5.\n",
      "2024-12-17 15:46:54 - DEBUG - Updating scores\n",
      "2024-12-17 15:46:54 - DEBUG - Parent design not yet done. 7/48 jobs submitted.\n",
      "2024-12-17 15:46:54 - DEBUG - Child index 6 created for Parent.\n",
      "2024-12-17 15:46:54 - DEBUG - Run RosettaDesign for index 6 based on index 6.\n",
      "2024-12-17 15:46:54 - DEBUG - Calculating ElectricFields for index 6.\n",
      "2024-12-17 15:46:54 - DEBUG - Updating scores\n",
      "2024-12-17 15:46:54 - DEBUG - Parent design not yet done. 8/48 jobs submitted.\n",
      "2024-12-17 15:46:54 - DEBUG - Child index 7 created for Parent.\n",
      "2024-12-17 15:46:54 - DEBUG - Run RosettaDesign for index 7 based on index 7.\n",
      "2024-12-17 15:46:54 - DEBUG - Calculating ElectricFields for index 7.\n",
      "2024-12-17 15:46:54 - DEBUG - Updating scores\n",
      "2024-12-17 15:46:54 - DEBUG - Parent design not yet done. 9/48 jobs submitted.\n",
      "2024-12-17 15:46:54 - DEBUG - Child index 8 created for Parent.\n",
      "2024-12-17 15:46:54 - DEBUG - Run RosettaDesign for index 8 based on index 8.\n",
      "2024-12-17 15:46:54 - DEBUG - Calculating ElectricFields for index 8.\n",
      "2024-12-17 15:46:55 - DEBUG - Updating scores\n",
      "2024-12-17 15:46:55 - DEBUG - Parent design not yet done. 10/48 jobs submitted.\n",
      "2024-12-17 15:46:55 - DEBUG - Child index 9 created for Parent.\n",
      "2024-12-17 15:46:55 - DEBUG - Run RosettaDesign for index 9 based on index 9.\n",
      "2024-12-17 15:46:55 - DEBUG - Calculating ElectricFields for index 9.\n",
      "2024-12-17 15:46:55 - DEBUG - Updating scores\n",
      "2024-12-17 15:46:55 - DEBUG - Parent design not yet done. 11/48 jobs submitted.\n",
      "2024-12-17 15:46:55 - DEBUG - Child index 10 created for Parent.\n",
      "2024-12-17 15:46:55 - DEBUG - Run RosettaDesign for index 10 based on index 10.\n",
      "2024-12-17 15:46:55 - DEBUG - Calculating ElectricFields for index 10.\n",
      "2024-12-17 15:46:55 - DEBUG - Updating scores\n",
      "2024-12-17 15:46:55 - DEBUG - Parent design not yet done. 12/48 jobs submitted.\n",
      "2024-12-17 15:46:55 - DEBUG - Child index 11 created for Parent.\n",
      "2024-12-17 15:46:56 - DEBUG - Run RosettaDesign for index 11 based on index 11.\n",
      "2024-12-17 15:46:56 - DEBUG - Calculating ElectricFields for index 11.\n",
      "2024-12-17 15:46:56 - DEBUG - Updating scores\n",
      "2024-12-17 15:46:56 - DEBUG - Parent design not yet done. 13/48 jobs submitted.\n",
      "2024-12-17 15:46:56 - DEBUG - Child index 12 created for Parent.\n",
      "2024-12-17 15:46:56 - DEBUG - Run RosettaDesign for index 12 based on index 12.\n",
      "2024-12-17 15:46:56 - DEBUG - Calculating ElectricFields for index 12.\n",
      "2024-12-17 15:46:56 - DEBUG - Updating scores\n",
      "2024-12-17 15:46:56 - DEBUG - Parent design not yet done. 14/48 jobs submitted.\n",
      "2024-12-17 15:46:56 - DEBUG - Child index 13 created for Parent.\n",
      "2024-12-17 15:46:56 - DEBUG - Run RosettaDesign for index 13 based on index 13.\n",
      "2024-12-17 15:46:56 - DEBUG - Calculating ElectricFields for index 13.\n",
      "2024-12-17 15:46:56 - DEBUG - Updating scores\n",
      "2024-12-17 15:46:57 - DEBUG - Parent design not yet done. 15/48 jobs submitted.\n",
      "2024-12-17 15:46:57 - DEBUG - Child index 14 created for Parent.\n",
      "2024-12-17 15:46:57 - DEBUG - Run RosettaDesign for index 14 based on index 14.\n",
      "2024-12-17 15:46:57 - DEBUG - Calculating ElectricFields for index 14.\n",
      "2024-12-17 15:46:57 - DEBUG - Updating scores\n",
      "2024-12-17 15:46:57 - DEBUG - Parent design not yet done. 16/48 jobs submitted.\n",
      "2024-12-17 15:46:57 - DEBUG - Child index 15 created for Parent.\n",
      "2024-12-17 15:46:57 - DEBUG - Run RosettaDesign for index 15 based on index 15.\n",
      "2024-12-17 15:46:57 - DEBUG - Calculating ElectricFields for index 15.\n",
      "2024-12-17 15:46:57 - DEBUG - Updating scores\n",
      "2024-12-17 15:46:57 - DEBUG - Parent design not yet done. 17/48 jobs submitted.\n",
      "2024-12-17 15:46:57 - DEBUG - Child index 16 created for Parent.\n",
      "2024-12-17 15:46:57 - DEBUG - Run RosettaDesign for index 16 based on index 16.\n",
      "2024-12-17 15:46:57 - DEBUG - Calculating ElectricFields for index 16.\n",
      "2024-12-17 15:46:58 - DEBUG - Updating scores\n",
      "2024-12-17 15:46:58 - DEBUG - Parent design not yet done. 18/48 jobs submitted.\n",
      "2024-12-17 15:46:58 - DEBUG - Child index 17 created for Parent.\n",
      "2024-12-17 15:46:58 - DEBUG - Run RosettaDesign for index 17 based on index 17.\n",
      "2024-12-17 15:46:58 - DEBUG - Calculating ElectricFields for index 17.\n",
      "2024-12-17 15:46:58 - DEBUG - Updating scores\n",
      "2024-12-17 15:46:58 - DEBUG - Parent design not yet done. 19/48 jobs submitted.\n",
      "2024-12-17 15:46:58 - DEBUG - Child index 18 created for Parent.\n",
      "2024-12-17 15:46:58 - DEBUG - Run RosettaDesign for index 18 based on index 18.\n",
      "2024-12-17 15:46:58 - DEBUG - Calculating ElectricFields for index 18.\n",
      "2024-12-17 15:46:58 - DEBUG - Updating scores\n",
      "2024-12-17 15:46:58 - DEBUG - Parent design not yet done. 20/48 jobs submitted.\n",
      "2024-12-17 15:46:59 - DEBUG - Child index 19 created for Parent.\n",
      "2024-12-17 15:46:59 - DEBUG - Run RosettaDesign for index 19 based on index 19.\n",
      "2024-12-17 15:46:59 - DEBUG - Calculating ElectricFields for index 19.\n",
      "2024-12-17 15:46:59 - DEBUG - Updating scores\n"
     ]
    },
    {
     "name": "stdout",
     "output_type": "stream",
     "text": [
      "Stopped because 20/20 designs have been made.\n"
     ]
    }
   ],
   "source": [
    "import sys, os\n",
    "if os.path.join(os.getcwd(), '../../src') not in sys.path: sys.path.append(os.path.join(os.getcwd(), '../../src'))\n",
    "from AIzymes_014 import *\n",
    "AIzymes = AIzymes_MAIN()\n",
    "AIzymes.initialize(FOLDER_HOME = 'TEST_CSCS', \n",
    "                   LOG=\"debug\", \n",
    "                   PRINT_VAR=False) #LOG=\"debug/info\"\n",
    "AIzymes.controller()"
   ]
  },
  {
   "cell_type": "code",
   "execution_count": null,
   "id": "b9a21715",
   "metadata": {},
   "outputs": [],
   "source": [
    "import sys, os\n",
    "if os.path.join(os.getcwd(), '../../src') not in sys.path: sys.path.append(os.path.join(os.getcwd(), '../../src'))\n",
    "from AIzymes_014 import *\n",
    "AIzymes = AIzymes_MAIN()\n",
    "AIzymes.initialize(FOLDER_HOME = 'TEST_ROSETTA', LOG=\"info\", PRINT_VAR=False) #LOG=\"debug/info\"\n",
    "AIzymes.plot(tree_plot=False, landscape_plot=False)"
   ]
  },
  {
   "cell_type": "code",
   "execution_count": 3,
   "id": "13a70fe2",
   "metadata": {},
   "outputs": [
    {
     "name": "stdout",
     "output_type": "stream",
     "text": [
      "/usr/local/bin/bash: conda: command not found\n"
     ]
    }
   ],
   "source": [
    "!conda install -c conda-forge ambertools\n",
    "\n",
    "#!pip install pytraj"
   ]
  },
  {
   "cell_type": "code",
   "execution_count": 14,
   "id": "4232763a-a426-4d56-9d09-2399d9132106",
   "metadata": {},
   "outputs": [],
   "source": [
    "import pickle as pkl\n",
    "filename = '../HAB/WT_relax/0/ElectricFields/1ohp_RosettaDesign_0_fields.pkl'\n",
    "with open(filename, 'rb') as file:  # Open the file in binary read mode\n",
    "    data = pkl.load(file)  "
   ]
  },
  {
   "cell_type": "code",
   "execution_count": 16,
   "id": "1e2708e4-33d7-4470-bb02-2efbc1e275f0",
   "metadata": {},
   "outputs": [
    {
     "name": "stdout",
     "output_type": "stream",
     "text": [
      "dict_keys([':5TS@C9_:5TS@H04'])\n",
      "dict_keys(['Total', 'Protein', 'Solvent', 'WAT', 'MET_1', 'ASN_2', 'THR_3', 'PRO_4', 'GLU_5', 'HIE_6', 'MET_7', 'THR_8', 'ALA_9', 'VAL_10', 'VAL_11', 'GLN_12', 'ARG_13', 'TYR_14', 'VAL_15', 'ALA_16', 'ALA_17', 'LEU_18', 'ASN_19', 'ALA_20', 'GLY_21', 'ASP_22', 'LEU_23', 'ASP_24', 'GLY_25', 'ILE_26', 'VAL_27', 'ALA_28', 'LEU_29', 'PHE_30', 'ALA_31', 'ASP_32', 'ASP_33', 'ALA_34', 'THR_35', 'VAL_36', 'GLU_37', 'ASN_38', 'PRO_39', 'VAL_40', 'GLY_41', 'SER_42', 'GLU_43', 'PRO_44', 'ARG_45', 'SER_46', 'GLY_47', 'THR_48', 'ALA_49', 'ALA_50', 'ILE_51', 'ARG_52', 'GLU_53', 'PHE_54', 'TYR_55', 'ALA_56', 'ASN_57', 'SER_58', 'LEU_59', 'LYS_60', 'LEU_61', 'PRO_62', 'LEU_63', 'ALA_64', 'VAL_65', 'GLU_66', 'LEU_67', 'THR_68', 'GLN_69', 'GLU_70', 'VAL_71', 'ARG_72', 'ALA_73', 'VAL_74', 'ALA_75', 'ASN_76', 'GLU_77', 'ALA_78', 'ALA_79', 'PHE_80', 'ALA_81', 'PHE_82', 'ILE_83', 'VAL_84', 'SER_85', 'PHE_86', 'GLU_87', 'TYR_88', 'GLN_89', 'GLY_90', 'ARG_91', 'LYS_92', 'THR_93', 'VAL_94', 'VAL_95', 'ALA_96', 'PRO_97', 'ILE_98', 'ASP_99', 'HIE_100', 'PHE_101', 'ARG_102', 'PHE_103', 'ASN_104', 'GLY_105', 'ALA_106', 'GLY_107', 'LYS_108', 'VAL_109', 'VAL_110', 'SER_111', 'MET_112', 'ARG_113', 'ALA_114', 'LEU_115', 'PHE_116', 'GLY_117', 'GLU_118', 'LYS_119', 'ASN_120', 'ILE_121', 'HIE_122', 'ALA_123', 'GLY_124', 'ALA_125', '5TS_126'])\n"
     ]
    }
   ],
   "source": [
    "print(data.keys())\n",
    "print(data[':5TS@C9_:5TS@H04'].keys())"
   ]
  },
  {
   "cell_type": "code",
   "execution_count": 17,
   "id": "64dda25a-4e93-4b5f-9e4e-fa6cdf8d8256",
   "metadata": {},
   "outputs": [],
   "source": [
    "key_with_99 = [key for key in data[':5TS@C9_:5TS@H04'].keys() if '_99' in key]"
   ]
  },
  {
   "cell_type": "code",
   "execution_count": 18,
   "id": "787442d2-6b7d-45a2-a07c-7bb1ee06f850",
   "metadata": {},
   "outputs": [
    {
     "name": "stdout",
     "output_type": "stream",
     "text": [
      "['ASP_99']\n"
     ]
    }
   ],
   "source": [
    "print(key_with_99)"
   ]
  },
  {
   "cell_type": "code",
   "execution_count": null,
   "id": "a131e23e-7613-41e1-9eb3-730eb0863bdd",
   "metadata": {},
   "outputs": [],
   "source": []
  }
 ],
 "metadata": {
  "kernelspec": {
   "display_name": "Python 3 (ipykernel)",
   "language": "python",
   "name": "python3"
  },
  "language_info": {
   "codemirror_mode": {
    "name": "ipython",
    "version": 3
   },
   "file_extension": ".py",
   "mimetype": "text/x-python",
   "name": "python",
   "nbconvert_exporter": "python",
   "pygments_lexer": "ipython3",
   "version": "3.9.4"
  }
 },
 "nbformat": 4,
 "nbformat_minor": 5
}
