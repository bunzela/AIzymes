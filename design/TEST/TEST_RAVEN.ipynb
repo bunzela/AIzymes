{
 "cells": [
  {
   "cell_type": "code",
   "execution_count": 1,
   "id": "d974b573",
   "metadata": {},
   "outputs": [
    {
     "name": "stdin",
     "output_type": "stream",
     "text": [
      "Do you really want to restart AIzymes from scratch? \n",
      "    This will delete all existing files in /raven/u/bunzela/AIzymes/design/TEST/TEST_RAVEN [y/n]\n",
      "\n",
      "     y\n"
     ]
    },
    {
     "name": "stderr",
     "output_type": "stream",
     "text": [
      "2025-02-19 07:18:49 - INFO - Running AI.zymes setup.\n",
      "2025-02-19 07:18:49 - INFO - Content of /raven/u/bunzela/AIzymes/design/TEST/TEST_RAVEN deleted.\n",
      "2025-02-19 07:18:49 - INFO - Happy AI.zymeing! :)\n"
     ]
    },
    {
     "name": "stdout",
     "output_type": "stream",
     "text": [
      "AIzymes initiated.\n"
     ]
    }
   ],
   "source": [
    "\"\"\" ---------------------------------------------------------------------------------------------------------------------------\n",
    "# Test script to establish AI.zymes on SCC\n",
    "\" -----------------------------------------------------------------------------------------------------------------------------\n",
    "\"\"\" \n",
    "\n",
    "import sys, os\n",
    "if os.path.join(os.getcwd(), '../../src') not in sys.path: sys.path.append(os.path.join(os.getcwd(), '../../src'))\n",
    "from AIzymes_014 import *\n",
    "\n",
    "# GENERAL SETTINGS FOR AI.zymes -------------------------------------------------------------------------------------------\n",
    "AIzymes = AIzymes_MAIN()\n",
    "AIzymes.setup(FOLDER_HOME = 'TEST_RAVEN',\n",
    "  FOLDER_PARENT     = 'parent',\n",
    "  MAX_JOBS          = 5,\n",
    "  N_PARENT_JOBS     = 7,\n",
    "  MAX_DESIGNS       = 10,\n",
    "  KBT_BOLTZMANN     = [0.5, 0.0003],\n",
    "  CST_WEIGHT        = 1.0,\n",
    "  CST_NAME          = \"5TS_enzdes_planar_tAB100\",\n",
    "  WT                = \"7vuu\",\n",
    "  LIGAND            = \"5TS\",\n",
    "  DESIGN            = \"4,8,16,21,25,28,40,41,44,52,57,60,61\",\n",
    "  SYSTEM            = \"RAVEN\",\n",
    "  EXPLORE           = True,\n",
    "  RUN_PARALLEL      = True,\n",
    "  SUBMIT_PREFIX     = \"TEST\"\n",
    " )"
   ]
  },
  {
   "cell_type": "code",
   "execution_count": 2,
   "id": "a7371918",
   "metadata": {},
   "outputs": [
    {
     "name": "stderr",
     "output_type": "stream",
     "text": [
      "2025-02-19 07:18:49 - INFO - Starting parallel controller.\n"
     ]
    }
   ],
   "source": [
    "import sys, os\n",
    "if os.path.join(os.getcwd(), '../../src') not in sys.path: sys.path.append(os.path.join(os.getcwd(), '../../src'))\n",
    "from AIzymes_014 import *\n",
    "AIzymes = AIzymes_MAIN()\n",
    "AIzymes.initialize(FOLDER_HOME = 'TEST_RAVEN', LOG=\"debug\", PRINT_VAR=False) \n",
    "AIzymes.submit_controller()"
   ]
  },
  {
   "cell_type": "code",
   "execution_count": 7,
   "id": "0dfafd90-8c3a-4f19-84cc-72a424c19111",
   "metadata": {},
   "outputs": [
    {
     "name": "stdout",
     "output_type": "stream",
     "text": [
      "             JOBID PARTITION     NAME     USER ST       TIME  NODES NODELIST(REASON)\n",
      "          15683881     small TEST_con  bunzela  R       0:03      1 ravc4089\n"
     ]
    }
   ],
   "source": [
    "!squeue --me  \n",
    "#!ls TEST_RAVEN\t\t\n",
    "#!scancel --me"
   ]
  },
  {
   "cell_type": "code",
   "execution_count": 13,
   "id": "b4d01add",
   "metadata": {},
   "outputs": [
    {
     "name": "stdout",
     "output_type": "stream",
     "text": [
      "2025-02-19 07:19:04 - DEBUG - Parent design not yet done. 3/7 jobs submitted.\n",
      "2025-02-19 07:19:04 - DEBUG - Child index 2 created for Parent.\n",
      "2025-02-19 07:19:04 - DEBUG - Run RosettaDesign for index 2 based on index 2.\n",
      "2025-02-19 07:19:04 - DEBUG - Calculating ElectricFields for index 2.\n",
      "2025-02-19 07:19:04 - DEBUG - job started with /raven/u/bunzela/AIzymes/design/TEST/TEST_RAVEN/2/scripts/submit_RosettaDesign_ElectricFields_2.sh\n",
      "2025-02-19 07:19:04 - DEBUG - 3 parallel jobs.\n",
      "2025-02-19 07:19:04 - DEBUG - Updating scores\n",
      "2025-02-19 07:19:04 - DEBUG - Parent design not yet done. 4/7 jobs submitted.\n",
      "2025-02-19 07:19:04 - DEBUG - Child index 3 created for Parent.\n",
      "2025-02-19 07:19:04 - DEBUG - Run RosettaDesign for index 3 based on index 3.\n",
      "2025-02-19 07:19:04 - DEBUG - Calculating ElectricFields for index 3.\n",
      "2025-02-19 07:19:04 - DEBUG - job started with /raven/u/bunzela/AIzymes/design/TEST/TEST_RAVEN/3/scripts/submit_RosettaDesign_ElectricFields_3.sh\n",
      "2025-02-19 07:19:04 - DEBUG - 4 parallel jobs.\n",
      "2025-02-19 07:19:04 - DEBUG - Updating scores\n",
      "2025-02-19 07:19:04 - DEBUG - Parent design not yet done. 5/7 jobs submitted.\n",
      "2025-02-19 07:19:04 - DEBUG - Child index 4 created for Parent.\n",
      "2025-02-19 07:19:04 - DEBUG - Run RosettaDesign for index 4 based on index 4.\n",
      "2025-02-19 07:19:04 - DEBUG - Calculating ElectricFields for index 4.\n",
      "2025-02-19 07:19:04 - DEBUG - job started with /raven/u/bunzela/AIzymes/design/TEST/TEST_RAVEN/4/scripts/submit_RosettaDesign_ElectricFields_4.sh\n",
      "2025-02-19 07:19:05 - DEBUG - 5 parallel jobs.\n"
     ]
    }
   ],
   "source": [
    "!tail -n 20 TEST_RAVEN/logfile.log"
   ]
  },
  {
   "cell_type": "code",
   "execution_count": 14,
   "id": "17c3a06f-5029-4f16-a4d9-47f4a1b83ec8",
   "metadata": {},
   "outputs": [
    {
     "name": "stdout",
     "output_type": "stream",
     "text": [
      "Current Working Directory:\n",
      "/raven/u/bunzela/AIzymes/design/TEST\n",
      "Job Started:\n",
      "Wed Feb 19 07:18:53 CET 2025\n",
      "2025-02-19 07:19:04 - DEBUG - 0 parallel jobs.\n",
      "2025-02-19 07:19:04 - DEBUG - Updating scores\n",
      "2025-02-19 07:19:04 - DEBUG - Parent design not yet done. 1/7 jobs submitted.\n",
      "2025-02-19 07:19:04 - DEBUG - Child index 0 created for Parent.\n",
      "2025-02-19 07:19:04 - DEBUG - Run RosettaDesign for index 0 based on index 0.\n",
      "2025-02-19 07:19:04 - DEBUG - Calculating ElectricFields for index 0.\n",
      "2025-02-19 07:19:04 - DEBUG - job started with /raven/u/bunzela/AIzymes/design/TEST/TEST_RAVEN/0/scripts/submit_RosettaDesign_ElectricFields_0.sh\n",
      "2025-02-19 07:19:04 - DEBUG - 1 parallel jobs.\n",
      "2025-02-19 07:19:04 - DEBUG - Updating scores\n",
      "2025-02-19 07:19:04 - DEBUG - Parent design not yet done. 2/7 jobs submitted.\n",
      "2025-02-19 07:19:04 - DEBUG - Child index 1 created for Parent.\n",
      "2025-02-19 07:19:04 - DEBUG - Run RosettaDesign for index 1 based on index 1.\n",
      "2025-02-19 07:19:04 - DEBUG - Calculating ElectricFields for index 1.\n",
      "2025-02-19 07:19:04 - DEBUG - job started with /raven/u/bunzela/AIzymes/design/TEST/TEST_RAVEN/1/scripts/submit_RosettaDesign_ElectricFields_1.sh\n",
      "2025-02-19 07:19:04 - DEBUG - 2 parallel jobs.\n",
      "2025-02-19 07:19:04 - DEBUG - Updating scores\n",
      "2025-02-19 07:19:04 - DEBUG - Parent design not yet done. 3/7 jobs submitted.\n",
      "2025-02-19 07:19:04 - DEBUG - Child index 2 created for Parent.\n",
      "2025-02-19 07:19:04 - DEBUG - Run RosettaDesign for index 2 based on index 2.\n",
      "2025-02-19 07:19:04 - DEBUG - Calculating ElectricFields for index 2.\n",
      "2025-02-19 07:19:04 - DEBUG - job started with /raven/u/bunzela/AIzymes/design/TEST/TEST_RAVEN/2/scripts/submit_RosettaDesign_ElectricFields_2.sh\n",
      "2025-02-19 07:19:04 - DEBUG - 3 parallel jobs.\n",
      "2025-02-19 07:19:04 - DEBUG - Updating scores\n",
      "2025-02-19 07:19:04 - DEBUG - Parent design not yet done. 4/7 jobs submitted.\n",
      "2025-02-19 07:19:04 - DEBUG - Child index 3 created for Parent.\n",
      "2025-02-19 07:19:04 - DEBUG - Run RosettaDesign for index 3 based on index 3.\n",
      "2025-02-19 07:19:04 - DEBUG - Calculating ElectricFields for index 3.\n",
      "2025-02-19 07:19:04 - DEBUG - job started with /raven/u/bunzela/AIzymes/design/TEST/TEST_RAVEN/3/scripts/submit_RosettaDesign_ElectricFields_3.sh\n",
      "2025-02-19 07:19:04 - DEBUG - 4 parallel jobs.\n",
      "2025-02-19 07:19:04 - DEBUG - Updating scores\n",
      "2025-02-19 07:19:04 - DEBUG - Parent design not yet done. 5/7 jobs submitted.\n",
      "2025-02-19 07:19:04 - DEBUG - Child index 4 created for Parent.\n",
      "2025-02-19 07:19:04 - DEBUG - Run RosettaDesign for index 4 based on index 4.\n",
      "2025-02-19 07:19:04 - DEBUG - Calculating ElectricFields for index 4.\n",
      "2025-02-19 07:19:04 - DEBUG - job started with /raven/u/bunzela/AIzymes/design/TEST/TEST_RAVEN/4/scripts/submit_RosettaDesign_ElectricFields_4.sh\n",
      "2025-02-19 07:19:05 - DEBUG - 5 parallel jobs.\n"
     ]
    }
   ],
   "source": [
    "!tail -n 50 TEST_RAVEN/controller.log"
   ]
  },
  {
   "cell_type": "code",
   "execution_count": 15,
   "id": "95a62669-4a85-4c81-b591-ac67b7660ec9",
   "metadata": {},
   "outputs": [
    {
     "name": "stdout",
     "output_type": "stream",
     "text": [
      "0  7\t\t\t\t n_running_jobs.dat\n",
      "1  7vuu_with_X_as_wildecard.seq  parent\n",
      "2  all_scores.csv\t\t plots\n",
      "3  controller.log\t\t start_controller_parallel.py\n",
      "4  cst.dat\t\t\t submit_controller_parallel.sh\n",
      "5  electric_fields.csv\t\t variables.json\n",
      "6  logfile.log\n"
     ]
    }
   ],
   "source": [
    "!ls TEST_RAVEN\t\t"
   ]
  },
  {
   "cell_type": "code",
   "execution_count": null,
   "id": "19cdade1-68e4-49b6-845a-2aa7bef08703",
   "metadata": {},
   "outputs": [],
   "source": []
  }
 ],
 "metadata": {
  "kernelspec": {
   "display_name": "Python 3 (ipykernel)",
   "language": "python",
   "name": "python3"
  },
  "language_info": {
   "codemirror_mode": {
    "name": "ipython",
    "version": 3
   },
   "file_extension": ".py",
   "mimetype": "text/x-python",
   "name": "python",
   "nbconvert_exporter": "python",
   "pygments_lexer": "ipython3",
   "version": "3.11.11"
  }
 },
 "nbformat": 4,
 "nbformat_minor": 5
}
