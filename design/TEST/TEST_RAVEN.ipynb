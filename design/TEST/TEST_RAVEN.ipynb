{
 "cells": [
  {
   "cell_type": "code",
   "execution_count": 1,
   "id": "d974b573",
   "metadata": {
    "editable": true,
    "slideshow": {
     "slide_type": ""
    },
    "tags": []
   },
   "outputs": [
    {
     "name": "stderr",
     "output_type": "stream",
     "text": [
      "2025-02-19 10:22:39 - INFO - Job will be run in PARALLEL mode with 5 cpus. It is recommended to set N_PARENT_JOBS to at least 10.\n",
      "2025-02-19 10:22:39 - INFO - Add a chheck here for GPU request, failing if GPUs are requested wrongly!\n"
     ]
    },
    {
     "name": "stdin",
     "output_type": "stream",
     "text": [
      "Do you really want to restart AIzymes from scratch? \n",
      "    This will delete all existing files in /raven/u/bunzela/AIzymes/design/TEST/TEST_RAVEN [y/n]\n",
      "\n",
      "     y\n"
     ]
    },
    {
     "name": "stderr",
     "output_type": "stream",
     "text": [
      "2025-02-19 10:22:41 - INFO - Running AI.zymes setup.\n",
      "2025-02-19 10:22:41 - INFO - Content of /raven/u/bunzela/AIzymes/design/TEST/TEST_RAVEN deleted.\n",
      "2025-02-19 10:22:41 - INFO - Happy AI.zymeing! :)\n"
     ]
    },
    {
     "name": "stdout",
     "output_type": "stream",
     "text": [
      "AIzymes initiated.\n"
     ]
    }
   ],
   "source": [
    "\"\"\" ---------------------------------------------------------------------------------------------------------------------------\n",
    "# Test script to establish AI.zymes on SCC\n",
    "\" -----------------------------------------------------------------------------------------------------------------------------\n",
    "\"\"\" \n",
    "\n",
    "import sys, os\n",
    "if os.path.join(os.getcwd(), '../../src') not in sys.path: sys.path.append(os.path.join(os.getcwd(), '../../src'))\n",
    "from AIzymes_014 import *\n",
    "\n",
    "# GENERAL SETTINGS FOR AI.zymes -------------------------------------------------------------------------------------------\n",
    "AIzymes = AIzymes_MAIN()\n",
    "AIzymes.setup(FOLDER_HOME = 'TEST_RAVEN',\n",
    "  FOLDER_PARENT     = 'parent',\n",
    "  MAX_JOBS          = 5,\n",
    "  N_PARENT_JOBS     = 7,\n",
    "  MAX_DESIGNS       = 10,\n",
    "  KBT_BOLTZMANN     = [0.5, 0.0003],\n",
    "  CST_WEIGHT        = 1.0,\n",
    "  CST_NAME          = \"5TS_enzdes_planar_tAB100\",\n",
    "  WT                = \"7vuu\",\n",
    "  LIGAND            = \"5TS\",\n",
    "  DESIGN            = \"4,8,16,21,25,28,40,41,44,52,57,60,61\",\n",
    "  SYSTEM            = \"RAVEN\",\n",
    "  EXPLORE           = True,\n",
    "  RUN_PARALLEL      = True,\n",
    "  SUBMIT_PREFIX     = \"TEST\"\n",
    " )"
   ]
  },
  {
   "cell_type": "code",
   "execution_count": 2,
   "id": "a7371918",
   "metadata": {
    "editable": true,
    "slideshow": {
     "slide_type": ""
    },
    "tags": []
   },
   "outputs": [
    {
     "name": "stderr",
     "output_type": "stream",
     "text": [
      "2025-02-19 10:22:42 - INFO - Starting parallel controller.\n"
     ]
    }
   ],
   "source": [
    "import sys, os\n",
    "if os.path.join(os.getcwd(), '../../src') not in sys.path: sys.path.append(os.path.join(os.getcwd(), '../../src'))\n",
    "from AIzymes_014 import *\n",
    "AIzymes = AIzymes_MAIN()\n",
    "AIzymes.initialize(FOLDER_HOME = 'TEST_RAVEN', LOG=\"debug\", PRINT_VAR=False) \n",
    "AIzymes.submit_controller()"
   ]
  },
  {
   "cell_type": "code",
   "execution_count": 18,
   "id": "0dfafd90-8c3a-4f19-84cc-72a424c19111",
   "metadata": {},
   "outputs": [
    {
     "name": "stdout",
     "output_type": "stream",
     "text": [
      "             JOBID PARTITION     NAME     USER ST       TIME  NODES NODELIST(REASON)\n"
     ]
    }
   ],
   "source": [
    "!squeue --me  \n",
    "#!ls TEST_RAVEN\t\t\n",
    "#!scancel --me"
   ]
  },
  {
   "cell_type": "code",
   "execution_count": 19,
   "id": "b4d01add",
   "metadata": {
    "editable": true,
    "slideshow": {
     "slide_type": ""
    },
    "tags": []
   },
   "outputs": [
    {
     "name": "stdout",
     "output_type": "stream",
     "text": [
      "2025-02-19 10:27:34 - DEBUG - Updating scores\n",
      "2025-02-19 10:27:34 - DEBUG - Unblocked ESMfold index 0.\n",
      "2025-02-19 10:27:34 - DEBUG - Unblocked ESMfold index 3.\n",
      "2025-02-19 10:27:34 - DEBUG - Unblocked ESMfold index 4.\n",
      "2025-02-19 10:27:34 - DEBUG - Boltzmann selection tries to select a variant for design, but all are blocked. Waiting 20 seconds\n",
      "2025-02-19 10:27:54 - DEBUG - 1 parallel jobs.\n",
      "2025-02-19 10:27:54 - DEBUG - Updating scores\n",
      "2025-02-19 10:27:54 - DEBUG - Unblocked ESMfold index 6.\n",
      "2025-02-19 10:27:54 - DEBUG - Boltzmann selection tries to select a variant for design, but all are blocked. Waiting 20 seconds\n",
      "2025-02-19 10:28:14 - DEBUG - 1 parallel jobs.\n",
      "2025-02-19 10:28:14 - DEBUG - Updating scores\n",
      "2025-02-19 10:28:14 - DEBUG - Boltzmann selection tries to select a variant for design, but all are blocked. Waiting 20 seconds\n",
      "2025-02-19 10:28:34 - DEBUG - 0 parallel jobs.\n",
      "2025-02-19 10:28:34 - DEBUG - Updating scores\n",
      "2025-02-19 10:28:34 - DEBUG - Unblocked RosettaRelax index 5.\n",
      "2025-02-19 10:28:34 - DEBUG - Unblocked ESMfold index 5.\n",
      "2025-02-19 10:28:34 - INFO - Updated scores and potentials of index 5.\n",
      "2025-02-19 10:28:34 - INFO - 5 selected because its relaxed but nothing was designed from it.\n",
      "2025-02-19 10:28:34 - DEBUG - Starting new calculation for index 5.\n",
      "2025-02-19 10:28:34 - DEBUG - Child index 7 created for 5.\n"
     ]
    }
   ],
   "source": [
    "!tail -n 20 TEST_RAVEN/logfile.log"
   ]
  },
  {
   "cell_type": "code",
   "execution_count": 20,
   "id": "17c3a06f-5029-4f16-a4d9-47f4a1b83ec8",
   "metadata": {},
   "outputs": [
    {
     "name": "stdout",
     "output_type": "stream",
     "text": [
      "2025-02-19 10:28:14 - DEBUG - Updating scores\n",
      "2025-02-19 10:28:14 - DEBUG - Boltzmann selection tries to select a variant for design, but all are blocked. Waiting 20 seconds\n",
      "2025-02-19 10:28:34 - DEBUG - 0 parallel jobs.\n",
      "2025-02-19 10:28:34 - DEBUG - Updating scores\n",
      "2025-02-19 10:28:34 - DEBUG - Unblocked RosettaRelax index 5.\n",
      "2025-02-19 10:28:34 - DEBUG - Unblocked ESMfold index 5.\n",
      "2025-02-19 10:28:34 - INFO - Updated scores and potentials of index 5.\n",
      "2025-02-19 10:28:34 - INFO - 5 selected because its relaxed but nothing was designed from it.\n",
      "2025-02-19 10:28:34 - DEBUG - Starting new calculation for index 5.\n",
      "2025-02-19 10:28:34 - DEBUG - Child index 7 created for 5.\n",
      "Unblocking all\n",
      "Traceback (most recent call last):\n",
      "  File \"/raven/u/bunzela/AIzymes/design/TEST/TEST_RAVEN/start_controller_parallel.py\", line 9, in <module>\n",
      "    AIzymes.controller()\n",
      "  File \"/raven/u/bunzela/AIzymes/design/TEST/../../src/AIzymes_014.py\", line 170, in controller\n",
      "    start_controller(self)\n",
      "  File \"/raven/u/bunzela/AIzymes/design/TEST/../../src/main_running_002.py\", line 80, in start_controller\n",
      "    start_calculation(self, selected_index)\n",
      "  File \"/raven/u/bunzela/AIzymes/design/TEST/../../src/main_running_002.py\", line 586, in start_calculation\n",
      "    elif random.random()+self.ProteinMPNN_PROB < self.LMPNN_PROB+self.ProteinMPNN_PROB:\n",
      "                                                 ^^^^^^^^^^^^^^^\n",
      "AttributeError: 'AIzymes_MAIN' object has no attribute 'LMPNN_PROB'\n",
      "slurmstepd: error: Detected 6 oom_kill events in StepId=15688128.batch. Some of the step tasks have been OOM Killed.\n",
      "                                  \n",
      "================================= \n",
      "Global information about the job: \n",
      "================================= \n",
      "  \n",
      "Job owner: bunzela(51771)\n",
      "Job name:  TEST_controller\n",
      "Node list: ravc4005\n",
      "Job start: Wed Feb 19 10:22:56 CET 2025\n",
      "Job end:   Wed Feb 19 10:28:36 CET 2025\n",
      "Work dir:  /raven/u/bunzela/AIzymes/design/TEST\n",
      "Command:   /raven/u/bunzela/AIzymes/design/TEST/TEST_RAVEN/submit_controller_parallel.sh\n",
      "  \n",
      "  \n",
      "  \n",
      "==========================================================================================\n",
      "Information on jobsteps (Note: MaxRSS/AveRSS is the maximum/average over all \n",
      "tasks of the per-task memory high-water marks; cf. \"man sacct\"): \n",
      "==========================================================================================\n",
      "  \n",
      "JobID            JobName NNodes NTasks  NCPUS       MaxRSS       AveRSS    Elapsed ExitCode\n",
      "------------- ---------- ------ ------ ------ ------------ ------------ ---------- --------\n",
      "15688128      TEST_contr      1            10                             00:05:40    0:125\n",
      "  \n",
      "Maximum memory per node: 21.415085 GB (defined as MaxRSS*Ntasks/NNodes)\n",
      "CPU utilization: 15.5 %\n",
      "  \n"
     ]
    }
   ],
   "source": [
    "!tail -n 50 TEST_RAVEN/controller.log"
   ]
  },
  {
   "cell_type": "code",
   "execution_count": 17,
   "id": "95a62669-4a85-4c81-b591-ac67b7660ec9",
   "metadata": {},
   "outputs": [
    {
     "name": "stdout",
     "output_type": "stream",
     "text": [
      "7vuu_with_X_as_wildecard.seq  logfile.log\t  start_controller_parallel.py\n",
      "all_scores.csv\t\t      n_running_jobs.dat  submit_controller_parallel.sh\n",
      "controller.log\t\t      parent\t\t  variables.json\n",
      "cst.dat\t\t\t      plots\n"
     ]
    }
   ],
   "source": [
    "!ls TEST_RAVEN\t\t"
   ]
  },
  {
   "cell_type": "code",
   "execution_count": null,
   "id": "ba6fc889-8932-4d00-a4d0-f31a7ab655e5",
   "metadata": {},
   "outputs": [],
   "source": []
  }
 ],
 "metadata": {
  "kernelspec": {
   "display_name": "Python 3",
   "language": "python",
   "name": "python3"
  },
  "language_info": {
   "codemirror_mode": {
    "name": "ipython",
    "version": 3
   },
   "file_extension": ".py",
   "mimetype": "text/x-python",
   "name": "python",
   "nbconvert_exporter": "python",
   "pygments_lexer": "ipython3",
   "version": "3.11.11"
  }
 },
 "nbformat": 4,
 "nbformat_minor": 5
}
