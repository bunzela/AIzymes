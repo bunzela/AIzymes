{
 "cells": [
  {
   "cell_type": "code",
   "execution_count": 1,
   "id": "d974b573",
   "metadata": {
    "editable": true,
    "slideshow": {
     "slide_type": ""
    },
    "tags": []
   },
   "outputs": [
    {
     "name": "stderr",
     "output_type": "stream",
     "text": [
      "2025-02-19 17:19:52 - INFO - Job will be run in PARALLEL mode with 2 cpus. It is recommended to set N_PARENT_JOBS to at least 4.\n",
      "2025-02-19 17:19:52 - INFO - Add a chheck here for GPU request, failing if GPUs are requested wrongly!\n"
     ]
    },
    {
     "name": "stdin",
     "output_type": "stream",
     "text": [
      "Do you really want to restart AIzymes from scratch? \n",
      "    This will delete all existing files in /raven/u/bunzela/AIzymes/design/TEST/TEST_RAVEN [y/n]\n",
      "\n",
      "     y\n"
     ]
    },
    {
     "name": "stderr",
     "output_type": "stream",
     "text": [
      "2025-02-19 17:20:37 - INFO - Running AI.zymes setup.\n",
      "2025-02-19 17:20:37 - INFO - Content of /raven/u/bunzela/AIzymes/design/TEST/TEST_RAVEN deleted.\n",
      "2025-02-19 17:20:37 - INFO - Happy AI.zymeing! :)\n",
      "2025-02-19 17:20:37 - DEBUG - Child index 0 created for parent index Parent.\n",
      "2025-02-19 17:20:37 - DEBUG - Child index 1 created for parent index Parent.\n",
      "2025-02-19 17:20:38 - DEBUG - Child index 2 created for parent index Parent.\n",
      "2025-02-19 17:20:38 - DEBUG - Child index 3 created for parent index Parent.\n"
     ]
    },
    {
     "name": "stdout",
     "output_type": "stream",
     "text": [
      "AIzymes initiated.\n"
     ]
    }
   ],
   "source": [
    "\"\"\" ---------------------------------------------------------------------------------------------------------------------------\n",
    "# Test script to establish AI.zymes on SCC\n",
    "\" -----------------------------------------------------------------------------------------------------------------------------\n",
    "\"\"\" \n",
    "\n",
    "import sys, os\n",
    "if os.path.join(os.getcwd(), '../../src') not in sys.path: sys.path.append(os.path.join(os.getcwd(), '../../src'))\n",
    "from AIzymes_015 import *\n",
    "\n",
    "# GENERAL SETTINGS FOR AI.zymes -------------------------------------------------------------------------------------------\n",
    "AIzymes = AIzymes_MAIN()\n",
    "AIzymes.setup(FOLDER_HOME = 'TEST_RAVEN',\n",
    "  FOLDER_PARENT     = 'parent',\n",
    "  MAX_JOBS          = 2,\n",
    "  MAX_GPUS          = 2,\n",
    "  MEMORY            = 200,\n",
    "  N_PARENT_JOBS     = 4,\n",
    "  MAX_DESIGNS       = 10,\n",
    "  KBT_BOLTZMANN     = [0.5, 0.0003],\n",
    "  CST_WEIGHT        = 1.0,\n",
    "  CST_NAME          = \"5TS_enzdes_planar_tAB100\",\n",
    "  WT                = \"7vuu\",\n",
    "  LIGAND            = \"5TS\",\n",
    "  DESIGN            = \"4,8,16,21,25,28,40,41,44,52,57,60,61\",\n",
    "  SYSTEM            = \"RAVEN\",\n",
    "  EXPLORE           = True,\n",
    "  RUN_PARALLEL      = True,\n",
    "  SUBMIT_PREFIX     = \"TEST\",\n",
    "  SCORING_METHODS  = ['ESMfold','RosettaRelax','ElectricFields'], \n",
    " )"
   ]
  },
  {
   "cell_type": "code",
   "execution_count": 2,
   "id": "a7371918",
   "metadata": {
    "editable": true,
    "slideshow": {
     "slide_type": ""
    },
    "tags": []
   },
   "outputs": [
    {
     "name": "stderr",
     "output_type": "stream",
     "text": [
      "2025-02-19 17:21:01 - INFO - Starting parallel controller.\n"
     ]
    }
   ],
   "source": [
    "import sys, os\n",
    "if os.path.join(os.getcwd(), '../../src') not in sys.path: sys.path.append(os.path.join(os.getcwd(), '../../src'))\n",
    "from AIzymes_015 import *\n",
    "AIzymes = AIzymes_MAIN()\n",
    "AIzymes.initialize(FOLDER_HOME = 'TEST_RAVEN', LOG=\"debug\", PRINT_VAR=False) \n",
    "AIzymes.submit_controller()"
   ]
  },
  {
   "cell_type": "code",
   "execution_count": 6,
   "id": "0dfafd90-8c3a-4f19-84cc-72a424c19111",
   "metadata": {},
   "outputs": [
    {
     "name": "stdout",
     "output_type": "stream",
     "text": [
      "             JOBID PARTITION     NAME     USER ST       TIME  NODES NODELIST(REASON)\n",
      "          15694741      gpu1     bash  bunzela CG    1:58:01      1 ravg1114\n"
     ]
    }
   ],
   "source": [
    "!squeue --me  \n",
    "#!ls TEST_RAVEN\t\t\n",
    "#!scancel --me"
   ]
  },
  {
   "cell_type": "code",
   "execution_count": null,
   "id": "b4d01add",
   "metadata": {
    "editable": true,
    "slideshow": {
     "slide_type": ""
    },
    "tags": []
   },
   "outputs": [],
   "source": [
    "!tail -n 20 TEST_RAVEN/logfile.log"
   ]
  },
  {
   "cell_type": "code",
   "execution_count": null,
   "id": "17c3a06f-5029-4f16-a4d9-47f4a1b83ec8",
   "metadata": {},
   "outputs": [],
   "source": [
    "!tail -n 100 TEST_RAVEN/controller.log"
   ]
  },
  {
   "cell_type": "code",
   "execution_count": null,
   "id": "95a62669-4a85-4c81-b591-ac67b7660ec9",
   "metadata": {},
   "outputs": [],
   "source": [
    "!cat TEST_RAVEN/0/scripts/ESMfold_RosettaRelax_ElectricFields_0.err"
   ]
  },
  {
   "cell_type": "code",
   "execution_count": null,
   "id": "ba6fc889-8932-4d00-a4d0-f31a7ab655e5",
   "metadata": {},
   "outputs": [],
   "source": []
  },
  {
   "cell_type": "code",
   "execution_count": null,
   "id": "5dcac46b-1a6c-4d83-8dbc-d4a9c3931de3",
   "metadata": {},
   "outputs": [],
   "source": []
  },
  {
   "cell_type": "code",
   "execution_count": null,
   "id": "911bd8ba-b874-4c40-97fe-1fe5bf12819b",
   "metadata": {},
   "outputs": [],
   "source": []
  }
 ],
 "metadata": {
  "kernelspec": {
   "display_name": "Python 3",
   "language": "python",
   "name": "python3"
  },
  "language_info": {
   "codemirror_mode": {
    "name": "ipython",
    "version": 3
   },
   "file_extension": ".py",
   "mimetype": "text/x-python",
   "name": "python",
   "nbconvert_exporter": "python",
   "pygments_lexer": "ipython3",
   "version": "3.11.11"
  }
 },
 "nbformat": 4,
 "nbformat_minor": 5
}
