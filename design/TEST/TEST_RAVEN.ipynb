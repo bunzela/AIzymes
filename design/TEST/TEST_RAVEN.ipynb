{
 "cells": [
  {
   "cell_type": "code",
   "execution_count": 1,
   "id": "d974b573",
   "metadata": {
    "editable": true,
    "slideshow": {
     "slide_type": ""
    },
    "tags": []
   },
   "outputs": [
    {
     "name": "stderr",
     "output_type": "stream",
     "text": [
      "Exception ignored in: <bound method IPythonKernel._clean_thread_parent_frames of <ipykernel.ipkernel.IPythonKernel object at 0x1472859054d0>>\n",
      "Traceback (most recent call last):\n",
      "  File \"/u/bunzela/conda-envs/py311/lib/python3.11/site-packages/ipykernel/ipkernel.py\", line 775, in _clean_thread_parent_frames\n",
      "    def _clean_thread_parent_frames(\n",
      "\n",
      "KeyboardInterrupt: \n",
      "\n",
      "KeyboardInterrupt\n",
      "\n"
     ]
    }
   ],
   "source": [
    "\"\"\" -------------------------------------------------------------------------------------------------------------------\n",
    "# TEST design pipeline on Raven\n",
    "\" ---------------------------------------------------------------------------------------------------------------------\n",
    "\"\"\" \n",
    "import sys, os\n",
    "if os.path.join(os.getcwd(), '../../src') not in sys.path: sys.path.append(os.path.join(os.getcwd(), '../../src'))\n",
    "from AIzymes_015 import *\n",
    "\n",
    "# GENERAL SETTINGS FOR AI.zymes ---------------------------------------------------------------------------------------\n",
    "AIzymes = AIzymes_MAIN()\n",
    "AIzymes.setup(FOLDER_HOME = 'TEST_RAVEN',\n",
    "  FOLDER_PARENT     = 'parent',\n",
    "  MAX_JOBS          = 18, #72\n",
    "  MAX_GPUS          = 1,  #4\n",
    "  MEMORY            = 100, #512\n",
    "  N_PARENT_JOBS     = 18,\n",
    "  MAX_DESIGNS       = 400, #1000\n",
    "  KBT_BOLTZMANN     = [0.5, 0.0003],\n",
    "  CST_NAME          = \"5TS_enzdes_planar_tAB100\",\n",
    "  WT                = \"7vuu\",\n",
    "  LIGAND            = \"5TS\",\n",
    "  DESIGN            = \"4,8,16,21,25,28,40,41,44,52,57,60,61\",\n",
    "  SYSTEM            = \"RAVEN\",\n",
    "  EXPLORE           = False,\n",
    "  RUN_PARALLEL      = True,\n",
    "  SUBMIT_PREFIX     = \"TEST\",\n",
    "  FIELD_TARGET      = \":5TS@C9 :5TS@H04\",\n",
    " )"
   ]
  },
  {
   "cell_type": "code",
   "execution_count": null,
   "id": "a7371918",
   "metadata": {
    "editable": true,
    "slideshow": {
     "slide_type": ""
    },
    "tags": []
   },
   "outputs": [],
   "source": [
    "import sys, os\n",
    "if os.path.join(os.getcwd(), '../../src') not in sys.path: sys.path.append(os.path.join(os.getcwd(), '../../src'))\n",
    "from AIzymes_015 import *\n",
    "AIzymes = AIzymes_MAIN()\n",
    "AIzymes.initialize(FOLDER_HOME = 'TEST_RAVEN', LOG=\"debug\", PRINT_VAR=False) \n",
    "AIzymes.submit_controller()"
   ]
  },
  {
   "cell_type": "code",
   "execution_count": null,
   "id": "0dfafd90-8c3a-4f19-84cc-72a424c19111",
   "metadata": {},
   "outputs": [],
   "source": [
    "!squeue --me  \n",
    "!scancel 16061371            "
   ]
  },
  {
   "cell_type": "code",
   "execution_count": null,
   "id": "093a6237-6cc8-4e3c-bc1e-30b8e003343a",
   "metadata": {},
   "outputs": [],
   "source": [
    "!tail -n 20 TEST_RAVEN/controller.log "
   ]
  },
  {
   "cell_type": "code",
   "execution_count": null,
   "id": "b4d01add",
   "metadata": {
    "editable": true,
    "slideshow": {
     "slide_type": ""
    },
    "tags": []
   },
   "outputs": [],
   "source": [
    "import pandas as pd\n",
    "pd.set_option(\"display.max_colwidth\", None)\n",
    "pd.set_option(\"display.max_columns\", None)\n",
    "pd.set_option(\"display.max_rows\", 4)  \n",
    "file_path = \"TEST_RAVEN/all_scores.csv\"\n",
    "df = pd.read_csv(file_path)\n",
    "display(df)\n",
    "display(df[df[\"total_score\"].isna()])\n",
    "\n",
    "index=0\n",
    "print()\n",
    "pd.set_option(\"display.max_rows\", None)\n",
    "display(df.iloc[index])\n",
    "pd.set_option(\"display.max_rows\", 4)\n",
    "\n",
    "print()\n",
    "print(\"All Designs:             \",len(df))\n",
    "print(\"Designs with total_score:\",df[\"total_score\"].notna().sum())"
   ]
  },
  {
   "cell_type": "code",
   "execution_count": null,
   "id": "5b1f9c60-8894-43d6-ac6b-0b4bbc54db6f",
   "metadata": {},
   "outputs": [],
   "source": [
    "import matplotlib.pyplot as plt\n",
    "\n",
    "df_filtered = df.dropna(subset=[\"total_score\"])\n",
    "plt.figure(figsize=(10, 3))\n",
    "plt.plot(df_filtered.index, -df_filtered[\"total_score\"], marker='o', linestyle='-', alpha=0.7)\n",
    "plt.xlabel(\"Index\")\n",
    "plt.ylabel(\"Total Score\")\n",
    "plt.grid(True)\n",
    "plt.show()"
   ]
  },
  {
   "cell_type": "code",
   "execution_count": null,
   "id": "fd40cbfe-1613-4a4c-95c1-53df85c17565",
   "metadata": {},
   "outputs": [],
   "source": [
    "import sys, os\n",
    "if os.path.join(os.getcwd(), '../../src') not in sys.path: sys.path.append(os.path.join(os.getcwd(), '../../src'))\n",
    "from AIzymes_015 import *\n",
    "AIzymes = AIzymes_MAIN()\n",
    "AIzymes.initialize(FOLDER_HOME = 'TEST_RAVEN', LOG=\"info\", PRINT_VAR=False) #LOG=\"debug/info\"\n",
    "AIzymes.plot(tree_plot=False, landscape_plot=False)"
   ]
  },
  {
   "cell_type": "code",
   "execution_count": null,
   "id": "5dcac46b-1a6c-4d83-8dbc-d4a9c3931de3",
   "metadata": {},
   "outputs": [],
   "source": [
    "!tail -n 200 TEST_RAVEN/controller.log\t \n",
    "#!cat TEST_RAVEN/controller.log\t"
   ]
  },
  {
   "cell_type": "code",
   "execution_count": null,
   "id": "3126ad16-a7ed-4d74-8789-0dc8516fc75c",
   "metadata": {},
   "outputs": [],
   "source": []
  },
  {
   "cell_type": "code",
   "execution_count": null,
   "id": "4ad9f5ee-e4fe-48aa-829e-cca25ebd21b7",
   "metadata": {},
   "outputs": [],
   "source": []
  }
 ],
 "metadata": {
  "kernelspec": {
   "display_name": "Python 3",
   "language": "python",
   "name": "python3"
  },
  "language_info": {
   "codemirror_mode": {
    "name": "ipython",
    "version": 3
   },
   "file_extension": ".py",
   "mimetype": "text/x-python",
   "name": "python",
   "nbconvert_exporter": "python",
   "pygments_lexer": "ipython3",
   "version": "3.11.11"
  }
 },
 "nbformat": 4,
 "nbformat_minor": 5
}
