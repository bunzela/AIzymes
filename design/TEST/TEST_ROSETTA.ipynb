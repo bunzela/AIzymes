{
 "cells": [
  {
   "cell_type": "code",
   "execution_count": 6,
   "id": "8b4b8893",
   "metadata": {},
   "outputs": [
    {
     "ename": "ModuleNotFoundError",
     "evalue": "No module named 'esm'",
     "output_type": "error",
     "traceback": [
      "\u001b[0;31m---------------------------------------------------------------------------\u001b[0m",
      "\u001b[0;31mModuleNotFoundError\u001b[0m                       Traceback (most recent call last)",
      "Cell \u001b[0;32mIn[6], line 3\u001b[0m\n\u001b[1;32m      1\u001b[0m \u001b[38;5;28;01mimport\u001b[39;00m\u001b[38;5;250m \u001b[39m\u001b[38;5;21;01msys\u001b[39;00m\u001b[38;5;241m,\u001b[39m\u001b[38;5;250m \u001b[39m\u001b[38;5;21;01mos\u001b[39;00m\n\u001b[1;32m      2\u001b[0m \u001b[38;5;28;01mif\u001b[39;00m os\u001b[38;5;241m.\u001b[39mpath\u001b[38;5;241m.\u001b[39mjoin(os\u001b[38;5;241m.\u001b[39mgetcwd(), \u001b[38;5;124m'\u001b[39m\u001b[38;5;124m../../src\u001b[39m\u001b[38;5;124m'\u001b[39m) \u001b[38;5;129;01mnot\u001b[39;00m \u001b[38;5;129;01min\u001b[39;00m sys\u001b[38;5;241m.\u001b[39mpath: sys\u001b[38;5;241m.\u001b[39mpath\u001b[38;5;241m.\u001b[39mappend(os\u001b[38;5;241m.\u001b[39mpath\u001b[38;5;241m.\u001b[39mjoin(os\u001b[38;5;241m.\u001b[39mgetcwd(), \u001b[38;5;124m'\u001b[39m\u001b[38;5;124m../../src\u001b[39m\u001b[38;5;124m'\u001b[39m))\n\u001b[0;32m----> 3\u001b[0m \u001b[38;5;28;01mfrom\u001b[39;00m\u001b[38;5;250m \u001b[39m\u001b[38;5;21;01mAIzymes_014\u001b[39;00m\u001b[38;5;250m \u001b[39m\u001b[38;5;28;01mimport\u001b[39;00m \u001b[38;5;241m*\u001b[39m\n\u001b[1;32m      5\u001b[0m \u001b[38;5;66;03m# GENERAL SETTINGS FOR AI.zymes -------------------------------------------------------------------------------------------\u001b[39;00m\n\u001b[1;32m      6\u001b[0m AIzymes \u001b[38;5;241m=\u001b[39m AIzymes_MAIN()\n",
      "File \u001b[0;32m~/AIzymes/design/TEST/../../src/AIzymes_014.py:24\u001b[0m\n\u001b[1;32m     22\u001b[0m \u001b[38;5;28;01mfrom\u001b[39;00m\u001b[38;5;250m \u001b[39m\u001b[38;5;21;01mmain_running_002\u001b[39;00m\u001b[38;5;250m         \u001b[39m\u001b[38;5;28;01mimport\u001b[39;00m \u001b[38;5;241m*\u001b[39m\n\u001b[1;32m     23\u001b[0m \u001b[38;5;28;01mfrom\u001b[39;00m\u001b[38;5;250m \u001b[39m\u001b[38;5;21;01mmain_startup_001\u001b[39;00m\u001b[38;5;250m         \u001b[39m\u001b[38;5;28;01mimport\u001b[39;00m \u001b[38;5;241m*\u001b[39m\n\u001b[0;32m---> 24\u001b[0m \u001b[38;5;28;01mfrom\u001b[39;00m\u001b[38;5;250m \u001b[39m\u001b[38;5;21;01mplotting_001\u001b[39;00m\u001b[38;5;250m             \u001b[39m\u001b[38;5;28;01mimport\u001b[39;00m \u001b[38;5;241m*\u001b[39m\n\u001b[1;32m     26\u001b[0m \u001b[38;5;66;03m# Imports used elsewhere --------------------------------------------------------------------------------------------------\u001b[39;00m\n\u001b[1;32m     27\u001b[0m \u001b[38;5;66;03m#from main_design_001          import *\u001b[39;00m\n\u001b[1;32m     28\u001b[0m \u001b[38;5;66;03m#from design_match_001         import *\u001b[39;00m\n\u001b[0;32m   (...)\u001b[0m\n\u001b[1;32m     36\u001b[0m \u001b[38;5;66;03m#from setup_system_001         import *\u001b[39;00m\n\u001b[1;32m     37\u001b[0m \u001b[38;5;66;03m# -------------------------------------------------------------------------------------------------------------------------\u001b[39;00m\n\u001b[1;32m     39\u001b[0m \u001b[38;5;28;01mclass\u001b[39;00m\u001b[38;5;250m \u001b[39m\u001b[38;5;21;01mAIzymes_MAIN\u001b[39;00m:\n",
      "File \u001b[0;32m~/AIzymes/design/TEST/../../src/plotting_001.py:17\u001b[0m\n\u001b[1;32m     15\u001b[0m \u001b[38;5;28;01mimport\u001b[39;00m\u001b[38;5;250m \u001b[39m\u001b[38;5;21;01mumap\u001b[39;00m \n\u001b[1;32m     16\u001b[0m \u001b[38;5;28;01mimport\u001b[39;00m\u001b[38;5;250m \u001b[39m\u001b[38;5;21;01mtorch\u001b[39;00m\n\u001b[0;32m---> 17\u001b[0m \u001b[38;5;28;01mimport\u001b[39;00m\u001b[38;5;250m \u001b[39m\u001b[38;5;21;01mesm\u001b[39;00m\n\u001b[1;32m     19\u001b[0m \u001b[38;5;28;01mfrom\u001b[39;00m\u001b[38;5;250m \u001b[39m\u001b[38;5;21;01mhelper_001\u001b[39;00m\u001b[38;5;250m               \u001b[39m\u001b[38;5;28;01mimport\u001b[39;00m \u001b[38;5;241m*\u001b[39m\n\u001b[1;32m     21\u001b[0m \u001b[38;5;66;03m#plots = '/net/bs-gridfs/export/grid/scratch/vdegiorgi/AIzymes/design/VD/241025_VD_AlleyCat_cstweight_2.0/plots'\u001b[39;00m\n\u001b[1;32m     22\u001b[0m \u001b[38;5;66;03m#os.makedirs(plots)\u001b[39;00m\n\u001b[1;32m     23\u001b[0m \n\u001b[1;32m     24\u001b[0m \n\u001b[1;32m     25\u001b[0m \u001b[38;5;66;03m#Imports ALL_SCORES_CSV as the plot_scores_df dataframe\u001b[39;00m\n",
      "\u001b[0;31mModuleNotFoundError\u001b[0m: No module named 'esm'"
     ]
    }
   ],
   "source": [
    "import sys, os\n",
    "if os.path.join(os.getcwd(), '../../src') not in sys.path: sys.path.append(os.path.join(os.getcwd(), '../../src'))\n",
    "from AIzymes_014 import *\n",
    "\n",
    "# GENERAL SETTINGS FOR AI.zymes -------------------------------------------------------------------------------------------\n",
    "AIzymes = AIzymes_MAIN()\n",
    "AIzymes.setup(FOLDER_HOME = 'TEST_ROSETTA',\n",
    "  FOLDER_PARENT     = 'parent',\n",
    "  MAX_JOBS          = 5,\n",
    "  N_PARENT_JOBS     = 5,\n",
    "  MAX_DESIGNS       = 20,\n",
    "  KBT_BOLTZMANN     = [0.5, 0.0003],\n",
    "  CST_WEIGHT        = 1.0,\n",
    "  CST_NAME          = \"5TS_enzdes_planar_tAB100\",\n",
    "  WT                = \"7vuu\",\n",
    "  LIGAND            = \"5TS\",\n",
    "  DESIGN            = \"4,8,16,21,25,28,40,41,44,52,57,60,61\",\n",
    "  SUBMIT_PREFIX     = \"ROS\",\n",
    "  #SYSTEM            = \"GRID\",\n",
    "  SYSTEM            = \"BLUEPEBBLE\",\n",
    "  EXPLORE           = True,\n",
    "  MDMin             = True\n",
    " )"
   ]
  },
  {
   "cell_type": "code",
   "execution_count": 5,
   "id": "9a6c1862-daef-4a38-9549-d9dbe90d3f44",
   "metadata": {},
   "outputs": [
    {
     "name": "stdout",
     "output_type": "stream",
     "text": [
      "Collecting torch\n",
      "  Using cached torch-2.4.1-cp38-cp38-manylinux1_x86_64.whl.metadata (26 kB)\n",
      "Requirement already satisfied: filelock in /home/bunzelh/miniconda3/envs/py38/lib/python3.8/site-packages (from torch) (3.16.1)\n",
      "Requirement already satisfied: typing-extensions>=4.8.0 in /home/bunzelh/miniconda3/envs/py38/lib/python3.8/site-packages (from torch) (4.12.2)\n",
      "Collecting sympy (from torch)\n",
      "  Using cached sympy-1.13.3-py3-none-any.whl.metadata (12 kB)\n",
      "Requirement already satisfied: networkx in /home/bunzelh/miniconda3/envs/py38/lib/python3.8/site-packages (from torch) (3.1)\n",
      "Requirement already satisfied: jinja2 in /home/bunzelh/miniconda3/envs/py38/lib/python3.8/site-packages (from torch) (3.1.5)\n",
      "Requirement already satisfied: fsspec in /home/bunzelh/miniconda3/envs/py38/lib/python3.8/site-packages (from torch) (2024.12.0)\n",
      "Collecting nvidia-cuda-nvrtc-cu12==12.1.105 (from torch)\n",
      "  Using cached nvidia_cuda_nvrtc_cu12-12.1.105-py3-none-manylinux1_x86_64.whl.metadata (1.5 kB)\n",
      "Collecting nvidia-cuda-runtime-cu12==12.1.105 (from torch)\n",
      "  Using cached nvidia_cuda_runtime_cu12-12.1.105-py3-none-manylinux1_x86_64.whl.metadata (1.5 kB)\n",
      "Collecting nvidia-cuda-cupti-cu12==12.1.105 (from torch)\n",
      "  Using cached nvidia_cuda_cupti_cu12-12.1.105-py3-none-manylinux1_x86_64.whl.metadata (1.6 kB)\n",
      "Collecting nvidia-cudnn-cu12==9.1.0.70 (from torch)\n",
      "  Using cached nvidia_cudnn_cu12-9.1.0.70-py3-none-manylinux2014_x86_64.whl.metadata (1.6 kB)\n",
      "Collecting nvidia-cublas-cu12==12.1.3.1 (from torch)\n",
      "  Using cached nvidia_cublas_cu12-12.1.3.1-py3-none-manylinux1_x86_64.whl.metadata (1.5 kB)\n",
      "Collecting nvidia-cufft-cu12==11.0.2.54 (from torch)\n",
      "  Using cached nvidia_cufft_cu12-11.0.2.54-py3-none-manylinux1_x86_64.whl.metadata (1.5 kB)\n",
      "Collecting nvidia-curand-cu12==10.3.2.106 (from torch)\n",
      "  Using cached nvidia_curand_cu12-10.3.2.106-py3-none-manylinux1_x86_64.whl.metadata (1.5 kB)\n",
      "Collecting nvidia-cusolver-cu12==11.4.5.107 (from torch)\n",
      "  Using cached nvidia_cusolver_cu12-11.4.5.107-py3-none-manylinux1_x86_64.whl.metadata (1.6 kB)\n",
      "Collecting nvidia-cusparse-cu12==12.1.0.106 (from torch)\n",
      "  Using cached nvidia_cusparse_cu12-12.1.0.106-py3-none-manylinux1_x86_64.whl.metadata (1.6 kB)\n",
      "Collecting nvidia-nccl-cu12==2.20.5 (from torch)\n",
      "  Using cached nvidia_nccl_cu12-2.20.5-py3-none-manylinux2014_x86_64.whl.metadata (1.8 kB)\n",
      "Collecting nvidia-nvtx-cu12==12.1.105 (from torch)\n",
      "  Using cached nvidia_nvtx_cu12-12.1.105-py3-none-manylinux1_x86_64.whl.metadata (1.7 kB)\n",
      "Collecting triton==3.0.0 (from torch)\n",
      "  Using cached triton-3.0.0-1-cp38-cp38-manylinux2014_x86_64.manylinux_2_17_x86_64.whl.metadata (1.3 kB)\n",
      "Collecting nvidia-nvjitlink-cu12 (from nvidia-cusolver-cu12==11.4.5.107->torch)\n",
      "  Downloading nvidia_nvjitlink_cu12-12.8.61-py3-none-manylinux2010_x86_64.manylinux_2_12_x86_64.whl.metadata (1.7 kB)\n",
      "Requirement already satisfied: MarkupSafe>=2.0 in /home/bunzelh/miniconda3/envs/py38/lib/python3.8/site-packages (from jinja2->torch) (2.1.5)\n",
      "Collecting mpmath<1.4,>=1.1.0 (from sympy->torch)\n",
      "  Using cached mpmath-1.3.0-py3-none-any.whl.metadata (8.6 kB)\n",
      "Using cached torch-2.4.1-cp38-cp38-manylinux1_x86_64.whl (797.1 MB)\n",
      "Using cached nvidia_cublas_cu12-12.1.3.1-py3-none-manylinux1_x86_64.whl (410.6 MB)\n",
      "Using cached nvidia_cuda_cupti_cu12-12.1.105-py3-none-manylinux1_x86_64.whl (14.1 MB)\n",
      "Using cached nvidia_cuda_nvrtc_cu12-12.1.105-py3-none-manylinux1_x86_64.whl (23.7 MB)\n",
      "Using cached nvidia_cuda_runtime_cu12-12.1.105-py3-none-manylinux1_x86_64.whl (823 kB)\n",
      "Using cached nvidia_cudnn_cu12-9.1.0.70-py3-none-manylinux2014_x86_64.whl (664.8 MB)\n",
      "Using cached nvidia_cufft_cu12-11.0.2.54-py3-none-manylinux1_x86_64.whl (121.6 MB)\n",
      "Using cached nvidia_curand_cu12-10.3.2.106-py3-none-manylinux1_x86_64.whl (56.5 MB)\n",
      "Using cached nvidia_cusolver_cu12-11.4.5.107-py3-none-manylinux1_x86_64.whl (124.2 MB)\n",
      "Using cached nvidia_cusparse_cu12-12.1.0.106-py3-none-manylinux1_x86_64.whl (196.0 MB)\n",
      "Using cached nvidia_nccl_cu12-2.20.5-py3-none-manylinux2014_x86_64.whl (176.2 MB)\n",
      "Using cached nvidia_nvtx_cu12-12.1.105-py3-none-manylinux1_x86_64.whl (99 kB)\n",
      "Using cached triton-3.0.0-1-cp38-cp38-manylinux2014_x86_64.manylinux_2_17_x86_64.whl (209.4 MB)\n",
      "Using cached sympy-1.13.3-py3-none-any.whl (6.2 MB)\n",
      "Using cached mpmath-1.3.0-py3-none-any.whl (536 kB)\n",
      "Downloading nvidia_nvjitlink_cu12-12.8.61-py3-none-manylinux2010_x86_64.manylinux_2_12_x86_64.whl (39.2 MB)\n",
      "\u001b[2K   \u001b[90m━━━━━━━━━━━━━━━━━━━━━━━━━━━━━━━━━━━━━━━━\u001b[0m \u001b[32m39.2/39.2 MB\u001b[0m \u001b[31m14.3 MB/s\u001b[0m eta \u001b[36m0:00:00\u001b[0m00:01\u001b[0m00:01\u001b[0m\n",
      "Installing collected packages: mpmath, triton, sympy, nvidia-nvtx-cu12, nvidia-nvjitlink-cu12, nvidia-nccl-cu12, nvidia-curand-cu12, nvidia-cufft-cu12, nvidia-cuda-runtime-cu12, nvidia-cuda-nvrtc-cu12, nvidia-cuda-cupti-cu12, nvidia-cublas-cu12, nvidia-cusparse-cu12, nvidia-cudnn-cu12, nvidia-cusolver-cu12, torch\n",
      "Successfully installed mpmath-1.3.0 nvidia-cublas-cu12-12.1.3.1 nvidia-cuda-cupti-cu12-12.1.105 nvidia-cuda-nvrtc-cu12-12.1.105 nvidia-cuda-runtime-cu12-12.1.105 nvidia-cudnn-cu12-9.1.0.70 nvidia-cufft-cu12-11.0.2.54 nvidia-curand-cu12-10.3.2.106 nvidia-cusolver-cu12-11.4.5.107 nvidia-cusparse-cu12-12.1.0.106 nvidia-nccl-cu12-2.20.5 nvidia-nvjitlink-cu12-12.8.61 nvidia-nvtx-cu12-12.1.105 sympy-1.13.3 torch-2.4.1 triton-3.0.0\n"
     ]
    }
   ],
   "source": [
    "#!pip install umap\n",
    "!pip install torch"
   ]
  },
  {
   "cell_type": "code",
   "execution_count": null,
   "id": "5aadc10c",
   "metadata": {},
   "outputs": [],
   "source": [
    "import sys, os\n",
    "if os.path.join(os.getcwd(), '../../src') not in sys.path: sys.path.append(os.path.join(os.getcwd(), '../../src'))\n",
    "from AIzymes_014 import *\n",
    "AIzymes = AIzymes_MAIN()\n",
    "AIzymes.initialize(FOLDER_HOME = 'TEST_ROSETTA', \n",
    "                   LOG=\"debug\", \n",
    "                   PRINT_VAR=False) #LOG=\"debug/info\"\n",
    "AIzymes.controller()"
   ]
  },
  {
   "cell_type": "code",
   "execution_count": null,
   "id": "b9a21715",
   "metadata": {},
   "outputs": [],
   "source": [
    "import sys, os\n",
    "if os.path.join(os.getcwd(), '../../src') not in sys.path: sys.path.append(os.path.join(os.getcwd(), '../../src'))\n",
    "from AIzymes_014 import *\n",
    "AIzymes = AIzymes_MAIN()\n",
    "AIzymes.initialize(FOLDER_HOME = 'TEST_ROSETTA', LOG=\"info\", PRINT_VAR=False) #LOG=\"debug/info\"\n",
    "AIzymes.plot(tree_plot=False, landscape_plot=False)"
   ]
  },
  {
   "cell_type": "code",
   "execution_count": 13,
   "id": "13a70fe2",
   "metadata": {},
   "outputs": [
    {
     "name": "stdout",
     "output_type": "stream",
     "text": [
      "1ohp_RosettaDesign_0.parm7\t 1ohp_RosettaDesign_0_tleap.out\n",
      "1ohp_RosettaDesign_0.pdb\t 1ohp_RosettaRelax_0.pdb\n",
      "1ohp_RosettaDesign_0.rst7\t 1ohp_RosettaRelax_0_tleap.in\n",
      "1ohp_RosettaDesign_0_fields.pkl  1ohp_RosettaRelax_0_tleap.log\n",
      "1ohp_RosettaDesign_0_tleap.in\t 1ohp_RosettaRelax_0_tleap.out\n",
      "1ohp_RosettaDesign_0_tleap.log\n"
     ]
    }
   ],
   "source": [
    "!ls "
   ]
  },
  {
   "cell_type": "code",
   "execution_count": 14,
   "id": "4232763a-a426-4d56-9d09-2399d9132106",
   "metadata": {},
   "outputs": [],
   "source": [
    "import pickle as pkl\n",
    "filename = '../HAB/WT_relax/0/ElectricFields/1ohp_RosettaDesign_0_fields.pkl'\n",
    "with open(filename, 'rb') as file:  # Open the file in binary read mode\n",
    "    data = pkl.load(file)  "
   ]
  },
  {
   "cell_type": "code",
   "execution_count": 16,
   "id": "1e2708e4-33d7-4470-bb02-2efbc1e275f0",
   "metadata": {},
   "outputs": [
    {
     "name": "stdout",
     "output_type": "stream",
     "text": [
      "dict_keys([':5TS@C9_:5TS@H04'])\n",
      "dict_keys(['Total', 'Protein', 'Solvent', 'WAT', 'MET_1', 'ASN_2', 'THR_3', 'PRO_4', 'GLU_5', 'HIE_6', 'MET_7', 'THR_8', 'ALA_9', 'VAL_10', 'VAL_11', 'GLN_12', 'ARG_13', 'TYR_14', 'VAL_15', 'ALA_16', 'ALA_17', 'LEU_18', 'ASN_19', 'ALA_20', 'GLY_21', 'ASP_22', 'LEU_23', 'ASP_24', 'GLY_25', 'ILE_26', 'VAL_27', 'ALA_28', 'LEU_29', 'PHE_30', 'ALA_31', 'ASP_32', 'ASP_33', 'ALA_34', 'THR_35', 'VAL_36', 'GLU_37', 'ASN_38', 'PRO_39', 'VAL_40', 'GLY_41', 'SER_42', 'GLU_43', 'PRO_44', 'ARG_45', 'SER_46', 'GLY_47', 'THR_48', 'ALA_49', 'ALA_50', 'ILE_51', 'ARG_52', 'GLU_53', 'PHE_54', 'TYR_55', 'ALA_56', 'ASN_57', 'SER_58', 'LEU_59', 'LYS_60', 'LEU_61', 'PRO_62', 'LEU_63', 'ALA_64', 'VAL_65', 'GLU_66', 'LEU_67', 'THR_68', 'GLN_69', 'GLU_70', 'VAL_71', 'ARG_72', 'ALA_73', 'VAL_74', 'ALA_75', 'ASN_76', 'GLU_77', 'ALA_78', 'ALA_79', 'PHE_80', 'ALA_81', 'PHE_82', 'ILE_83', 'VAL_84', 'SER_85', 'PHE_86', 'GLU_87', 'TYR_88', 'GLN_89', 'GLY_90', 'ARG_91', 'LYS_92', 'THR_93', 'VAL_94', 'VAL_95', 'ALA_96', 'PRO_97', 'ILE_98', 'ASP_99', 'HIE_100', 'PHE_101', 'ARG_102', 'PHE_103', 'ASN_104', 'GLY_105', 'ALA_106', 'GLY_107', 'LYS_108', 'VAL_109', 'VAL_110', 'SER_111', 'MET_112', 'ARG_113', 'ALA_114', 'LEU_115', 'PHE_116', 'GLY_117', 'GLU_118', 'LYS_119', 'ASN_120', 'ILE_121', 'HIE_122', 'ALA_123', 'GLY_124', 'ALA_125', '5TS_126'])\n"
     ]
    }
   ],
   "source": [
    "print(data.keys())\n",
    "print(data[':5TS@C9_:5TS@H04'].keys())"
   ]
  },
  {
   "cell_type": "code",
   "execution_count": 17,
   "id": "64dda25a-4e93-4b5f-9e4e-fa6cdf8d8256",
   "metadata": {},
   "outputs": [],
   "source": [
    "key_with_99 = [key for key in data[':5TS@C9_:5TS@H04'].keys() if '_99' in key]"
   ]
  },
  {
   "cell_type": "code",
   "execution_count": 18,
   "id": "787442d2-6b7d-45a2-a07c-7bb1ee06f850",
   "metadata": {},
   "outputs": [
    {
     "name": "stdout",
     "output_type": "stream",
     "text": [
      "['ASP_99']\n"
     ]
    }
   ],
   "source": [
    "print(key_with_99)"
   ]
  },
  {
   "cell_type": "code",
   "execution_count": null,
   "id": "a131e23e-7613-41e1-9eb3-730eb0863bdd",
   "metadata": {},
   "outputs": [],
   "source": []
  }
 ],
 "metadata": {
  "kernelspec": {
   "display_name": "Python 3 (ipykernel)",
   "language": "python",
   "name": "python3"
  },
  "language_info": {
   "codemirror_mode": {
    "name": "ipython",
    "version": 3
   },
   "file_extension": ".py",
   "mimetype": "text/x-python",
   "name": "python",
   "nbconvert_exporter": "python",
   "pygments_lexer": "ipython3",
   "version": "3.8.19"
  }
 },
 "nbformat": 4,
 "nbformat_minor": 5
}
