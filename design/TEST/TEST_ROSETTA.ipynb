{
 "cells": [
  {
   "cell_type": "code",
   "execution_count": null,
   "id": "8b4b8893",
   "metadata": {
    "scrolled": false
   },
   "outputs": [],
   "source": [
    "import sys, os\n",
    "if os.path.join(os.getcwd(), '../../src') not in sys.path: sys.path.append(os.path.join(os.getcwd(), '../../src'))\n",
    "from AIzymes_014 import *\n",
    "\n",
    "# GENERAL SETTINGS FOR AI.zymes -------------------------------------------------------------------------------------------\n",
    "AIzymes = AIzymes_MAIN()\n",
    "AIzymes.setup(FOLDER_HOME = 'TEST_ROSETTA',\n",
    "  FOLDER_PARENT     = 'parent',\n",
    "  MAX_JOBS          = 5,\n",
    "  N_PARENT_JOBS     = 5,\n",
    "  MAX_DESIGNS       = 20,\n",
    "  KBT_BOLTZMANN     = [0.5, 0.0003],\n",
    "  CST_WEIGHT        = 1.0,\n",
    "  CST_NAME          = \"5TS_enzdes_planar_tAB100\",\n",
    "  WT                = \"7vuu\",\n",
    "  LIGAND            = \"5TS\",\n",
    "  DESIGN            = \"4,8,16,21,25,28,40,41,44,52,57,60,61\",\n",
    "  SUBMIT_PREFIX     = \"ROS\",\n",
    "  #SYSTEM            = \"GRID\",\n",
    "  SYSTEM            = \"BLUEPEBBLE\",\n",
    "  EXPLORE           = True,\n",
    "  MDMin             = True\n",
    " )"
   ]
  },
  {
   "cell_type": "code",
   "execution_count": null,
   "id": "5aadc10c",
   "metadata": {
    "scrolled": false
   },
   "outputs": [],
   "source": [
    "import sys, os\n",
    "if os.path.join(os.getcwd(), '../../src') not in sys.path: sys.path.append(os.path.join(os.getcwd(), '../../src'))\n",
    "from AIzymes_014 import *\n",
    "AIzymes = AIzymes_MAIN()\n",
    "AIzymes.initialize(FOLDER_HOME = 'TEST_ROSETTA', \n",
    "                   LOG=\"debug\", \n",
    "                   PRINT_VAR=False) #LOG=\"debug/info\"\n",
    "AIzymes.controller()"
   ]
  },
  {
   "cell_type": "code",
   "execution_count": null,
   "id": "b9a21715",
   "metadata": {},
   "outputs": [],
   "source": [
    "import sys, os\n",
    "if os.path.join(os.getcwd(), '../../src') not in sys.path: sys.path.append(os.path.join(os.getcwd(), '../../src'))\n",
    "from AIzymes_014 import *\n",
    "AIzymes = AIzymes_MAIN()\n",
    "AIzymes.initialize(FOLDER_HOME = 'TEST_ROSETTA', LOG=\"info\", PRINT_VAR=False) #LOG=\"debug/info\"\n",
    "AIzymes.plot(tree_plot=False, landscape_plot=False)"
   ]
  },
  {
   "cell_type": "code",
   "execution_count": null,
   "id": "13a70fe2",
   "metadata": {},
   "outputs": [],
   "source": []
  }
 ],
 "metadata": {
  "kernelspec": {
   "display_name": "AIzymes",
   "language": "python",
   "name": "python3"
  },
  "language_info": {
   "codemirror_mode": {
    "name": "ipython",
    "version": 3
   },
   "file_extension": ".py",
   "mimetype": "text/x-python",
   "name": "python",
   "nbconvert_exporter": "python",
   "pygments_lexer": "ipython3",
   "version": "3.9.19"
  }
 },
 "nbformat": 4,
 "nbformat_minor": 5
}
