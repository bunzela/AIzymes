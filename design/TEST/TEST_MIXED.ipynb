{
 "cells": [
  {
   "cell_type": "code",
   "execution_count": 1,
   "id": "8b4b8893",
   "metadata": {
    "scrolled": false
   },
   "outputs": [
    {
     "name": "stdout",
     "output_type": "stream",
     "text": [
      "Do you really want to restart AIzymes from scratch? \n",
      "    This will delete all existing files in /home/bunzelh/AIzymes/design/TEST/TEST_MIXED [y/n]\n",
      "\n",
      "    y\n"
     ]
    },
    {
     "name": "stderr",
     "output_type": "stream",
     "text": [
      "2024-11-05 14:52:25 - INFO - Running AI.zymes setup.\n",
      "2024-11-05 14:52:25 - INFO - Content of /home/bunzelh/AIzymes/design/TEST/TEST_MIXED deleted.\n",
      "2024-11-05 14:52:25 - INFO - Happy AI.zymeing! :)\n"
     ]
    },
    {
     "name": "stdout",
     "output_type": "stream",
     "text": [
      "AIzymes initiated.\n"
     ]
    }
   ],
   "source": [
    "import sys, os\n",
    "if os.path.join(os.getcwd(), '../../src') not in sys.path: sys.path.append(os.path.join(os.getcwd(), '../../src'))\n",
    "from AIzymes_013 import *\n",
    "\n",
    "# GENERAL SETTINGS FOR AI.zymes -------------------------------------------------------------------------------------------\n",
    "AIzymes = AIzymes_MAIN()\n",
    "AIzymes.setup(FOLDER_HOME = 'TEST_MIXED',\n",
    "  FOLDER_PARENT     = 'parent',\n",
    "  MAX_JOBS          = 5,\n",
    "  N_PARENT_JOBS     = 5,\n",
    "  MAX_DESIGNS       = 20,\n",
    "  KBT_BOLTZMANN     = [0.5, 0.0003],\n",
    "  CST_WEIGHT        = 1.0,\n",
    "  ProteinMPNN_PROB  = 0.5,\n",
    "  ProteinMPNN_BIAS  = 0.5,\n",
    "  CST_NAME          = \"5TS_enzdes_planar_tAB100\",\n",
    "  WT                = \"7vuu\",\n",
    "  LIGAND            = \"5TS\",\n",
    "  DESIGN            = \"4,8,16,21,25,28,40,41,44,52,57,60,61\",\n",
    "  SUBMIT_PREFIX     = \"MIX\",\n",
    "  SYSTEM            = \"GRID\",\n",
    "  EXPLORE           = True,\n",
    " )"
   ]
  },
  {
   "cell_type": "code",
   "execution_count": null,
   "id": "5aadc10c",
   "metadata": {
    "scrolled": false
   },
   "outputs": [
    {
     "name": "stderr",
     "output_type": "stream",
     "text": [
      "2024-11-05 15:02:02 - DEBUG - Updating scores\n",
      "2024-11-05 15:02:02 - INFO - Updated scores and potentials of index 0.\n",
      "2024-11-05 15:02:02 - DEBUG - Starting new calculation for index 0.\n",
      "2024-11-05 15:02:02 - INFO - Index 0 has no predicted structure, starting ESMfold.\n",
      "2024-11-05 15:02:02 - DEBUG - Run ESMfold for index 0.\n",
      "2024-11-05 15:02:02 - DEBUG - Run RosettaRelax for index 0.\n",
      "2024-11-05 15:02:02 - DEBUG - Calculating ElectricFields for index 0.\n",
      "2024-11-05 15:02:02 - DEBUG - Your job 1676769 (\"MIX_ESMfold_RosettaRelax_ElectricFields_0\") has been submitted\n",
      "2024-11-05 15:11:26 - DEBUG - Updating scores\n",
      "2024-11-05 15:11:26 - INFO - Updated scores and potentials of index 4.\n",
      "2024-11-05 15:11:26 - DEBUG - Starting new calculation for index 1.\n",
      "2024-11-05 15:11:26 - INFO - Index 1 has no predicted structure, starting ESMfold.\n",
      "2024-11-05 15:11:26 - DEBUG - Run ESMfold for index 1.\n",
      "2024-11-05 15:11:26 - DEBUG - Run RosettaRelax for index 1.\n",
      "2024-11-05 15:11:26 - DEBUG - Calculating ElectricFields for index 1.\n",
      "2024-11-05 15:11:26 - DEBUG - Your job 1676770 (\"MIX_ESMfold_RosettaRelax_ElectricFields_1\") has been submitted\n",
      "2024-11-05 15:19:50 - DEBUG - Updating scores\n",
      "2024-11-05 15:19:50 - DEBUG - Unblocked RosettaRelax index 0.\n",
      "2024-11-05 15:19:50 - DEBUG - Unblocked ESMfold index 0.\n",
      "2024-11-05 15:19:50 - INFO - Updated scores and potentials of index 1.\n",
      "2024-11-05 15:19:51 - INFO - Updated scores and potentials of index 2.\n",
      "2024-11-05 15:19:51 - INFO - Updated scores and potentials of index 3.\n",
      "2024-11-05 15:19:51 - DEBUG - Starting new calculation for index 2.\n",
      "2024-11-05 15:19:51 - INFO - Index 2 has no predicted structure, starting ESMfold.\n",
      "2024-11-05 15:19:51 - DEBUG - Run ESMfold for index 2.\n",
      "2024-11-05 15:19:51 - DEBUG - Run RosettaRelax for index 2.\n",
      "2024-11-05 15:19:51 - DEBUG - Calculating ElectricFields for index 2.\n",
      "2024-11-05 15:19:51 - DEBUG - Your job 1676787 (\"MIX_ESMfold_RosettaRelax_ElectricFields_2\") has been submitted\n",
      "2024-11-05 15:20:11 - DEBUG - Updating scores\n",
      "2024-11-05 15:20:11 - DEBUG - Starting new calculation for index 3.\n",
      "2024-11-05 15:20:11 - INFO - Index 3 has no predicted structure, starting ESMfold.\n",
      "2024-11-05 15:20:11 - DEBUG - Run ESMfold for index 3.\n",
      "2024-11-05 15:20:11 - DEBUG - Run RosettaRelax for index 3.\n",
      "2024-11-05 15:20:11 - DEBUG - Calculating ElectricFields for index 3.\n",
      "2024-11-05 15:20:11 - DEBUG - Your job 1676792 (\"MIX_ESMfold_RosettaRelax_ElectricFields_3\") has been submitted\n",
      "2024-11-05 15:20:32 - DEBUG - Updating scores\n",
      "2024-11-05 15:20:32 - DEBUG - Starting new calculation for index 4.\n",
      "2024-11-05 15:20:32 - INFO - Index 4 has no predicted structure, starting ESMfold.\n",
      "2024-11-05 15:20:32 - DEBUG - Run ESMfold for index 4.\n",
      "2024-11-05 15:20:32 - DEBUG - Run RosettaRelax for index 4.\n",
      "2024-11-05 15:20:32 - DEBUG - Calculating ElectricFields for index 4.\n",
      "2024-11-05 15:20:32 - DEBUG - Your job 1676796 (\"MIX_ESMfold_RosettaRelax_ElectricFields_4\") has been submitted\n",
      "2024-11-05 15:24:54 - DEBUG - Updating scores\n",
      "2024-11-05 15:24:54 - INFO - Updated scores and potentials of index 0.\n",
      "2024-11-05 15:24:54 - DEBUG - Unblocked ESMfold index 1.\n",
      "2024-11-05 15:24:54 - INFO - 0 selected because its relaxed but nothing was designed from it.\n",
      "2024-11-05 15:24:54 - DEBUG - Starting new calculation for index 0.\n",
      "2024-11-05 15:24:54 - DEBUG - Child index 5 created for 0.\n",
      "2024-11-05 15:24:54 - DEBUG - Run ProteinMPNN for index 5.\n",
      "2024-11-05 15:24:54 - DEBUG - Run ESMfold for index 5.\n",
      "2024-11-05 15:24:54 - DEBUG - Run RosettaRelax for index 5.\n",
      "2024-11-05 15:24:54 - DEBUG - Calculating ElectricFields for index 5.\n",
      "2024-11-05 15:24:54 - DEBUG - Your job 1676803 (\"MIX_ProteinMPNN_ESMfold_RosettaRelax_ElectricFields_5\") has been submitted\n"
     ]
    }
   ],
   "source": [
    "import sys, os\n",
    "if os.path.join(os.getcwd(), '../../src') not in sys.path: sys.path.append(os.path.join(os.getcwd(), '../../src'))\n",
    "from AIzymes_013 import *\n",
    "AIzymes = AIzymes_MAIN()\n",
    "AIzymes.initialize(FOLDER_HOME = 'TEST_MIXED', \n",
    "                   LOG=\"debug\", \n",
    "                   PRINT_VAR=False) #LOG=\"debug/info\"\n",
    "AIzymes.controller()"
   ]
  },
  {
   "cell_type": "code",
   "execution_count": 7,
   "id": "b9a21715",
   "metadata": {},
   "outputs": [
    {
     "name": "stdout",
     "output_type": "stream",
     "text": [
      "ERROR: plot_scores_df does not contain enough data\n",
      "Empty DataFrame\n",
      "Columns: [index, sequence, parent_index, interface_score, total_score, catalytic_score, efield_score, interface_potential, total_potential, catalytic_potential, efield_potential, relax_interface_score, relax_total_score, relax_catalytic_score, relax_efield_score, design_interface_score, design_total_score, design_catalytic_score, design_efield_score, generation, mutations, design_method, score_taken_from, blocked_ESMfold, blocked_RosettaRelax, cat_resi, cat_resn, kbt_boltzmann, luca]\n",
      "Index: []\n",
      "\n",
      "[0 rows x 29 columns]\n"
     ]
    }
   ],
   "source": [
    "import sys, os\n",
    "if os.path.join(os.getcwd(), '../../src') not in sys.path: sys.path.append(os.path.join(os.getcwd(), '../../src'))\n",
    "from AIzymes_013 import *\n",
    "AIzymes = AIzymes_MAIN()\n",
    "AIzymes.initialize(FOLDER_HOME = 'TEST_MIXED', LOG=\"info\", PRINT_VAR=False) #LOG=\"debug/info\"\n",
    "AIzymes.plot(tree_plot=False, landscape_plot=False)"
   ]
  },
  {
   "cell_type": "code",
   "execution_count": null,
   "id": "13a70fe2",
   "metadata": {},
   "outputs": [],
   "source": []
  }
 ],
 "metadata": {
  "kernelspec": {
   "display_name": "Python 3 (ipykernel)",
   "language": "python",
   "name": "python3"
  },
  "language_info": {
   "codemirror_mode": {
    "name": "ipython",
    "version": 3
   },
   "file_extension": ".py",
   "mimetype": "text/x-python",
   "name": "python",
   "nbconvert_exporter": "python",
   "pygments_lexer": "ipython3",
   "version": "3.7.16"
  }
 },
 "nbformat": 4,
 "nbformat_minor": 5
}
