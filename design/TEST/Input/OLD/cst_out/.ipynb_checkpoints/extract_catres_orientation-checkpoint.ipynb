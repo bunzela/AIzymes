{
 "cells": [
  {
   "cell_type": "code",
   "execution_count": 5,
   "metadata": {},
   "outputs": [],
   "source": [
    "import os\n",
    "import pandas as pd\n",
    "from Bio.PDB import PDBParser, PDBIO, Select"
   ]
  },
  {
   "cell_type": "code",
   "execution_count": 6,
   "metadata": {},
   "outputs": [
    {
     "name": "stdout",
     "output_type": "stream",
     "text": [
      "Combined PDB file saved as catres_sorted.pdb\n"
     ]
    }
   ],
   "source": [
    "# Read the CSV file\n",
    "csv_file = '/links/grid/scratch/lmerlicek/design/LM_CNTRpos_PMPNN_B05_p03_011/all_scores.csv'\n",
    "df = pd.read_csv(csv_file)\n",
    "\n",
    "# Sort by catalytic score\n",
    "df_sorted = df.sort_values(by='catalytic_score')\n",
    "\n",
    "# Initialize PDB parser\n",
    "parser = PDBParser(QUIET=True)\n",
    "\n",
    "class LigandCatResSelect(Select):\n",
    "    def __init__(self, chain_id, res_id, ligand_name):\n",
    "        self.chain_id = chain_id\n",
    "        self.res_id = res_id\n",
    "        self.ligand_name = ligand_name\n",
    "\n",
    "    def accept_residue(self, residue):\n",
    "        if residue.id[1] == self.res_id and residue.parent.id == self.chain_id:\n",
    "            return True\n",
    "        if residue.resname == self.ligand_name:\n",
    "            return True\n",
    "        return False\n",
    "\n",
    "# Output PDB file\n",
    "output_pdb = '/links/grid/scratch/lmerlicek/design/Input/cst_out/catres_sorted.pdb'\n",
    "io = PDBIO()\n",
    "\n",
    "# Iterate over sorted PDB files\n",
    "for index, row in df_sorted.iterrows():\n",
    "    pdb_file = next((file for file in os.listdir('/links/grid/scratch/lmerlicek/design/LM_CNTRpos_PMPNN_B05_p03_011/best_structures') if file.endswith(f'{row[\"index\"]}.pdb')), None)\n",
    "    pdb_file = f'/links/grid/scratch/lmerlicek/design/LM_CNTRpos_PMPNN_B05_p03_011/best_structures/{pdb_file}' if pdb_file else None\n",
    "    if pdb_file is None:\n",
    "        continue\n",
    "    structure = parser.get_structure(row[\"index\"], pdb_file)\n",
    "    \n",
    "    # Extract ligand and catalytic residue\n",
    "    select = LigandCatResSelect(chain_id='A', res_id=row['cat_resi'], ligand_name='5TS')\n",
    "    io.set_structure(structure)\n",
    "    io.save(output_pdb, select=select, write_end=False)\n",
    "\n",
    "print(f'Combined PDB file saved as {output_pdb}')"
   ]
  },
  {
   "cell_type": "code",
   "execution_count": null,
   "metadata": {},
   "outputs": [],
   "source": []
  }
 ],
 "metadata": {
  "kernelspec": {
   "display_name": "Python 3 (ipykernel)",
   "language": "python",
   "name": "python3"
  },
  "language_info": {
   "codemirror_mode": {
    "name": "ipython",
    "version": 3
   },
   "file_extension": ".py",
   "mimetype": "text/x-python",
   "name": "python",
   "nbconvert_exporter": "python",
   "pygments_lexer": "ipython3",
   "version": "3.9.16"
  }
 },
 "nbformat": 4,
 "nbformat_minor": 4
}
