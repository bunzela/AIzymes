{
 "cells": [
  {
   "cell_type": "code",
   "execution_count": 5,
   "metadata": {},
   "outputs": [
    {
     "name": "stdout",
     "output_type": "stream",
     "text": [
      "Requirement already satisfied: umap-learn in c:\\users\\bunzelh\\.conda\\envs\\narupa\\lib\\site-packages (0.5.6)\n",
      "Requirement already satisfied: numpy>=1.17 in c:\\users\\bunzelh\\.conda\\envs\\narupa\\lib\\site-packages (from umap-learn) (1.26.4)\n",
      "Requirement already satisfied: scipy>=1.3.1 in c:\\users\\bunzelh\\.conda\\envs\\narupa\\lib\\site-packages (from umap-learn) (1.12.0)\n",
      "Requirement already satisfied: scikit-learn>=0.22 in c:\\users\\bunzelh\\.conda\\envs\\narupa\\lib\\site-packages (from umap-learn) (1.3.0)\n",
      "Requirement already satisfied: numba>=0.51.2 in c:\\users\\bunzelh\\.conda\\envs\\narupa\\lib\\site-packages (from umap-learn) (0.60.0)\n",
      "Requirement already satisfied: pynndescent>=0.5 in c:\\users\\bunzelh\\.conda\\envs\\narupa\\lib\\site-packages (from umap-learn) (0.5.13)\n",
      "Requirement already satisfied: tqdm in c:\\users\\bunzelh\\.conda\\envs\\narupa\\lib\\site-packages (from umap-learn) (4.66.1)\n",
      "Requirement already satisfied: llvmlite<0.44,>=0.43.0dev0 in c:\\users\\bunzelh\\.conda\\envs\\narupa\\lib\\site-packages (from numba>=0.51.2->umap-learn) (0.43.0)\n",
      "Requirement already satisfied: joblib>=0.11 in c:\\users\\bunzelh\\.conda\\envs\\narupa\\lib\\site-packages (from pynndescent>=0.5->umap-learn) (1.3.2)\n",
      "Requirement already satisfied: threadpoolctl>=2.0.0 in c:\\users\\bunzelh\\.conda\\envs\\narupa\\lib\\site-packages (from scikit-learn>=0.22->umap-learn) (3.2.0)\n",
      "Requirement already satisfied: colorama in c:\\users\\bunzelh\\.conda\\envs\\narupa\\lib\\site-packages (from tqdm->umap-learn) (0.4.6)\n"
     ]
    }
   ],
   "source": [
    "#!pip install shap\n",
    "#!pip install transformers\n",
    "#!pip install umap\n",
    "#!pip uninstall torch torchvision torchaudio\n",
    "#!pip3 install torch torchvision torchaudio --index-url https://download.pytorch.org/whl/cu121\n",
    "#!pip3 uninstall UMAP\n",
    "#!pip install umap-learn\n",
    "#!pip uninstall pillow\n",
    "#!pip install pillow\n",
    "#!pip install seaborn\n",
    "#!pip install esm\n",
    "#!pip install ipywidgets"
   ]
  },
  {
   "cell_type": "code",
   "execution_count": null,
   "metadata": {},
   "outputs": [
    {
     "data": {
      "application/vnd.jupyter.widget-view+json": {
       "model_id": "955f7424e17849aba416c14f34c376c1",
       "version_major": 2,
       "version_minor": 0
      },
      "text/plain": [
       "VBox(children=(HTML(value='<center> <img\\nsrc=https://huggingface.co/front/assets/huggingface_logo-noborder.sv…"
      ]
     },
     "metadata": {},
     "output_type": "display_data"
    },
    {
     "ename": "GatedRepoError",
     "evalue": "401 Client Error. (Request ID: Root=1-6688f183-3ff8bfaa1a6aed2455104d9d;47f5793a-c951-4b7c-8768-c3b762e3d342)\n\nCannot access gated repo for url https://huggingface.co/api/models/EvolutionaryScale/esm3-sm-open-v1/revision/main.\nAccess to model EvolutionaryScale/esm3-sm-open-v1 is restricted. You must be authenticated to access it.",
     "output_type": "error",
     "traceback": [
      "\u001b[1;31m---------------------------------------------------------------------------\u001b[0m",
      "\u001b[1;31mHTTPError\u001b[0m                                 Traceback (most recent call last)",
      "File \u001b[1;32mc:\\Users\\bunzelh\\.conda\\envs\\narupa\\lib\\site-packages\\huggingface_hub\\utils\\_errors.py:304\u001b[0m, in \u001b[0;36mhf_raise_for_status\u001b[1;34m(response, endpoint_name)\u001b[0m\n\u001b[0;32m    303\u001b[0m \u001b[38;5;28;01mtry\u001b[39;00m:\n\u001b[1;32m--> 304\u001b[0m     \u001b[43mresponse\u001b[49m\u001b[38;5;241;43m.\u001b[39;49m\u001b[43mraise_for_status\u001b[49m\u001b[43m(\u001b[49m\u001b[43m)\u001b[49m\n\u001b[0;32m    305\u001b[0m \u001b[38;5;28;01mexcept\u001b[39;00m HTTPError \u001b[38;5;28;01mas\u001b[39;00m e:\n",
      "File \u001b[1;32mc:\\Users\\bunzelh\\.conda\\envs\\narupa\\lib\\site-packages\\requests\\models.py:1021\u001b[0m, in \u001b[0;36mResponse.raise_for_status\u001b[1;34m(self)\u001b[0m\n\u001b[0;32m   1020\u001b[0m \u001b[38;5;28;01mif\u001b[39;00m http_error_msg:\n\u001b[1;32m-> 1021\u001b[0m     \u001b[38;5;28;01mraise\u001b[39;00m HTTPError(http_error_msg, response\u001b[38;5;241m=\u001b[39m\u001b[38;5;28mself\u001b[39m)\n",
      "\u001b[1;31mHTTPError\u001b[0m: 401 Client Error: Unauthorized for url: https://huggingface.co/api/models/EvolutionaryScale/esm3-sm-open-v1/revision/main",
      "\nThe above exception was the direct cause of the following exception:\n",
      "\u001b[1;31mGatedRepoError\u001b[0m                            Traceback (most recent call last)",
      "Cell \u001b[1;32mIn[20], line 7\u001b[0m\n\u001b[0;32m      3\u001b[0m \u001b[38;5;28;01mfrom\u001b[39;00m \u001b[38;5;21;01mesm\u001b[39;00m\u001b[38;5;21;01m.\u001b[39;00m\u001b[38;5;21;01msdk\u001b[39;00m\u001b[38;5;21;01m.\u001b[39;00m\u001b[38;5;21;01mapi\u001b[39;00m \u001b[38;5;28;01mimport\u001b[39;00m ESM3InferenceClient, ESMProtein, GenerationConfig\n\u001b[0;32m      5\u001b[0m login()\n\u001b[1;32m----> 7\u001b[0m model \u001b[38;5;241m=\u001b[39m \u001b[43mESM3\u001b[49m\u001b[38;5;241;43m.\u001b[39;49m\u001b[43mfrom_pretrained\u001b[49m\u001b[43m(\u001b[49m\u001b[38;5;124;43m\"\u001b[39;49m\u001b[38;5;124;43mesm3_sm_open_v1\u001b[39;49m\u001b[38;5;124;43m\"\u001b[39;49m\u001b[43m)\u001b[49m\n",
      "File \u001b[1;32mc:\\Users\\bunzelh\\.conda\\envs\\narupa\\lib\\site-packages\\esm\\models\\esm3.py:241\u001b[0m, in \u001b[0;36mESM3.from_pretrained\u001b[1;34m(cls, model_name, device)\u001b[0m\n\u001b[0;32m    239\u001b[0m \u001b[38;5;28;01mif\u001b[39;00m model_name \u001b[38;5;129;01mnot\u001b[39;00m \u001b[38;5;129;01min\u001b[39;00m [ESM3_OPEN_SMALL]:\n\u001b[0;32m    240\u001b[0m     \u001b[38;5;28;01mraise\u001b[39;00m \u001b[38;5;167;01mValueError\u001b[39;00m(\u001b[38;5;124mf\u001b[39m\u001b[38;5;124m\"\u001b[39m\u001b[38;5;124mModel name \u001b[39m\u001b[38;5;132;01m{\u001b[39;00mmodel_name\u001b[38;5;132;01m}\u001b[39;00m\u001b[38;5;124m is not a valid ESM3 model name.\u001b[39m\u001b[38;5;124m\"\u001b[39m)\n\u001b[1;32m--> 241\u001b[0m model: ESM3 \u001b[38;5;241m=\u001b[39m \u001b[43mload_local_model\u001b[49m\u001b[43m(\u001b[49m\u001b[43mmodel_name\u001b[49m\u001b[43m,\u001b[49m\u001b[43m \u001b[49m\u001b[43mdevice\u001b[49m\u001b[38;5;241;43m=\u001b[39;49m\u001b[43mdevice\u001b[49m\u001b[43m)\u001b[49m  \u001b[38;5;66;03m# type: ignore\u001b[39;00m\n\u001b[0;32m    242\u001b[0m \u001b[38;5;28;01mreturn\u001b[39;00m model\n",
      "File \u001b[1;32mc:\\Users\\bunzelh\\.conda\\envs\\narupa\\lib\\site-packages\\esm\\pretrained.py:90\u001b[0m, in \u001b[0;36mload_local_model\u001b[1;34m(model_name, device)\u001b[0m\n\u001b[0;32m     88\u001b[0m \u001b[38;5;28;01mif\u001b[39;00m model_name \u001b[38;5;129;01mnot\u001b[39;00m \u001b[38;5;129;01min\u001b[39;00m LOCAL_MODEL_REGISTRY:\n\u001b[0;32m     89\u001b[0m     \u001b[38;5;28;01mraise\u001b[39;00m \u001b[38;5;167;01mValueError\u001b[39;00m(\u001b[38;5;124mf\u001b[39m\u001b[38;5;124m\"\u001b[39m\u001b[38;5;124mModel \u001b[39m\u001b[38;5;132;01m{\u001b[39;00mmodel_name\u001b[38;5;132;01m}\u001b[39;00m\u001b[38;5;124m not found in local model registry.\u001b[39m\u001b[38;5;124m\"\u001b[39m)\n\u001b[1;32m---> 90\u001b[0m \u001b[38;5;28;01mreturn\u001b[39;00m \u001b[43mLOCAL_MODEL_REGISTRY\u001b[49m\u001b[43m[\u001b[49m\u001b[43mmodel_name\u001b[49m\u001b[43m]\u001b[49m\u001b[43m(\u001b[49m\u001b[43mdevice\u001b[49m\u001b[43m)\u001b[49m\n",
      "File \u001b[1;32mc:\\Users\\bunzelh\\.conda\\envs\\narupa\\lib\\site-packages\\esm\\pretrained.py:25\u001b[0m, in \u001b[0;36mESM3_sm_open_v0\u001b[1;34m(device)\u001b[0m\n\u001b[0;32m     23\u001b[0m \u001b[38;5;28;01mdef\u001b[39;00m \u001b[38;5;21mESM3_sm_open_v0\u001b[39m(device: torch\u001b[38;5;241m.\u001b[39mdevice \u001b[38;5;241m|\u001b[39m \u001b[38;5;28mstr\u001b[39m \u001b[38;5;241m=\u001b[39m \u001b[38;5;124m\"\u001b[39m\u001b[38;5;124mcpu\u001b[39m\u001b[38;5;124m\"\u001b[39m):\n\u001b[0;32m     24\u001b[0m     model \u001b[38;5;241m=\u001b[39m (\n\u001b[1;32m---> 25\u001b[0m         \u001b[43mESM3\u001b[49m\u001b[43m(\u001b[49m\n\u001b[0;32m     26\u001b[0m \u001b[43m            \u001b[49m\u001b[43md_model\u001b[49m\u001b[38;5;241;43m=\u001b[39;49m\u001b[38;5;241;43m1536\u001b[39;49m\u001b[43m,\u001b[49m\n\u001b[0;32m     27\u001b[0m \u001b[43m            \u001b[49m\u001b[43mn_heads\u001b[49m\u001b[38;5;241;43m=\u001b[39;49m\u001b[38;5;241;43m24\u001b[39;49m\u001b[43m,\u001b[49m\n\u001b[0;32m     28\u001b[0m \u001b[43m            \u001b[49m\u001b[43mv_heads\u001b[49m\u001b[38;5;241;43m=\u001b[39;49m\u001b[38;5;241;43m256\u001b[39;49m\u001b[43m,\u001b[49m\n\u001b[0;32m     29\u001b[0m \u001b[43m            \u001b[49m\u001b[43mn_layers\u001b[49m\u001b[38;5;241;43m=\u001b[39;49m\u001b[38;5;241;43m48\u001b[39;49m\u001b[43m,\u001b[49m\n\u001b[0;32m     30\u001b[0m \u001b[43m            \u001b[49m\u001b[43mstructure_encoder_name\u001b[49m\u001b[38;5;241;43m=\u001b[39;49m\u001b[43mESM3_STRUCTURE_ENCODER_V0\u001b[49m\u001b[43m,\u001b[49m\n\u001b[0;32m     31\u001b[0m \u001b[43m            \u001b[49m\u001b[43mstructure_decoder_name\u001b[49m\u001b[38;5;241;43m=\u001b[39;49m\u001b[43mESM3_STRUCTURE_DECODER_V0\u001b[49m\u001b[43m,\u001b[49m\n\u001b[0;32m     32\u001b[0m \u001b[43m            \u001b[49m\u001b[43mfunction_decoder_name\u001b[49m\u001b[38;5;241;43m=\u001b[39;49m\u001b[43mESM3_FUNCTION_DECODER_V0\u001b[49m\u001b[43m,\u001b[49m\n\u001b[0;32m     33\u001b[0m \u001b[43m        \u001b[49m\u001b[43m)\u001b[49m\n\u001b[0;32m     34\u001b[0m         \u001b[38;5;241m.\u001b[39mto(device)\n\u001b[0;32m     35\u001b[0m         \u001b[38;5;241m.\u001b[39meval()\n\u001b[0;32m     36\u001b[0m     )\n\u001b[0;32m     37\u001b[0m     state_dict \u001b[38;5;241m=\u001b[39m torch\u001b[38;5;241m.\u001b[39mload(\n\u001b[0;32m     38\u001b[0m         data_root() \u001b[38;5;241m/\u001b[39m \u001b[38;5;124m\"\u001b[39m\u001b[38;5;124mdata/weights/esm3_sm_open_v1.pth\u001b[39m\u001b[38;5;124m\"\u001b[39m, map_location\u001b[38;5;241m=\u001b[39mdevice\n\u001b[0;32m     39\u001b[0m     )\n\u001b[0;32m     40\u001b[0m     model\u001b[38;5;241m.\u001b[39mload_state_dict(state_dict)\n",
      "File \u001b[1;32mc:\\Users\\bunzelh\\.conda\\envs\\narupa\\lib\\site-packages\\esm\\models\\esm3.py:229\u001b[0m, in \u001b[0;36mESM3.__init__\u001b[1;34m(self, d_model, n_heads, v_heads, n_layers, structure_encoder_name, structure_decoder_name, function_decoder_name)\u001b[0m\n\u001b[0;32m    226\u001b[0m \u001b[38;5;28mself\u001b[39m\u001b[38;5;241m.\u001b[39mstructure_decoder: StructureTokenDecoder \u001b[38;5;241m|\u001b[39m \u001b[38;5;28;01mNone\u001b[39;00m \u001b[38;5;241m=\u001b[39m \u001b[38;5;28;01mNone\u001b[39;00m  \u001b[38;5;66;03m# type: ignore\u001b[39;00m\n\u001b[0;32m    227\u001b[0m \u001b[38;5;28mself\u001b[39m\u001b[38;5;241m.\u001b[39mfunction_decoder: FunctionTokenDecoder \u001b[38;5;241m|\u001b[39m \u001b[38;5;28;01mNone\u001b[39;00m \u001b[38;5;241m=\u001b[39m \u001b[38;5;28;01mNone\u001b[39;00m  \u001b[38;5;66;03m# type: ignore\u001b[39;00m\n\u001b[1;32m--> 229\u001b[0m \u001b[38;5;28mself\u001b[39m\u001b[38;5;241m.\u001b[39mtokenizers \u001b[38;5;241m=\u001b[39m \u001b[43mget_model_tokenizers\u001b[49m\u001b[43m(\u001b[49m\u001b[43mESM3_OPEN_SMALL\u001b[49m\u001b[43m)\u001b[49m\n",
      "File \u001b[1;32mc:\\Users\\bunzelh\\.conda\\envs\\narupa\\lib\\site-packages\\esm\\tokenization\\__init__.py:42\u001b[0m, in \u001b[0;36mget_model_tokenizers\u001b[1;34m(model)\u001b[0m\n\u001b[0;32m     35\u001b[0m \u001b[38;5;28;01mdef\u001b[39;00m \u001b[38;5;21mget_model_tokenizers\u001b[39m(model: \u001b[38;5;28mstr\u001b[39m \u001b[38;5;241m=\u001b[39m ESM3_OPEN_SMALL) \u001b[38;5;241m-\u001b[39m\u001b[38;5;241m>\u001b[39m TokenizerCollection:\n\u001b[0;32m     36\u001b[0m     \u001b[38;5;28;01mif\u001b[39;00m model \u001b[38;5;241m==\u001b[39m ESM3_OPEN_SMALL:\n\u001b[0;32m     37\u001b[0m         \u001b[38;5;28;01mreturn\u001b[39;00m TokenizerCollection(\n\u001b[0;32m     38\u001b[0m             sequence\u001b[38;5;241m=\u001b[39mEsmSequenceTokenizer(),\n\u001b[0;32m     39\u001b[0m             structure\u001b[38;5;241m=\u001b[39mStructureTokenizer(vq_vae_special_tokens\u001b[38;5;241m=\u001b[39mVQVAE_SPECIAL_TOKENS),\n\u001b[0;32m     40\u001b[0m             secondary_structure\u001b[38;5;241m=\u001b[39mSecondaryStructureTokenizer(kind\u001b[38;5;241m=\u001b[39m\u001b[38;5;124m\"\u001b[39m\u001b[38;5;124mss8\u001b[39m\u001b[38;5;124m\"\u001b[39m),\n\u001b[0;32m     41\u001b[0m             sasa\u001b[38;5;241m=\u001b[39mSASADiscretizingTokenizer(),\n\u001b[1;32m---> 42\u001b[0m             function\u001b[38;5;241m=\u001b[39m\u001b[43mInterProQuantizedTokenizer\u001b[49m\u001b[43m(\u001b[49m\u001b[43m)\u001b[49m,\n\u001b[0;32m     43\u001b[0m             residue_annotations\u001b[38;5;241m=\u001b[39mResidueAnnotationsTokenizer(),\n\u001b[0;32m     44\u001b[0m         )\n\u001b[0;32m     45\u001b[0m     \u001b[38;5;28;01melse\u001b[39;00m:\n\u001b[0;32m     46\u001b[0m         \u001b[38;5;28;01mraise\u001b[39;00m \u001b[38;5;167;01mValueError\u001b[39;00m(\u001b[38;5;124mf\u001b[39m\u001b[38;5;124m\"\u001b[39m\u001b[38;5;124mUnknown model: \u001b[39m\u001b[38;5;132;01m{\u001b[39;00mmodel\u001b[38;5;132;01m}\u001b[39;00m\u001b[38;5;124m\"\u001b[39m)\n",
      "File \u001b[1;32mc:\\Users\\bunzelh\\.conda\\envs\\narupa\\lib\\site-packages\\esm\\tokenization\\function_tokenizer.py:54\u001b[0m, in \u001b[0;36mInterProQuantizedTokenizer.__init__\u001b[1;34m(self, depth, lsh_bits_per_token, lsh_path, keyword_vocabulary_path, keyword_idf_path, interpro_entry_path, interpro2keywords_path)\u001b[0m\n\u001b[0;32m     51\u001b[0m \u001b[38;5;28mself\u001b[39m\u001b[38;5;241m.\u001b[39mdepth \u001b[38;5;241m=\u001b[39m depth\n\u001b[0;32m     52\u001b[0m default \u001b[38;5;241m=\u001b[39m \u001b[38;5;28;01mlambda\u001b[39;00m x, d: x \u001b[38;5;28;01mif\u001b[39;00m x \u001b[38;5;129;01mis\u001b[39;00m \u001b[38;5;129;01mnot\u001b[39;00m \u001b[38;5;28;01mNone\u001b[39;00m \u001b[38;5;28;01melse\u001b[39;00m C\u001b[38;5;241m.\u001b[39mdata_root() \u001b[38;5;241m/\u001b[39m d\n\u001b[1;32m---> 54\u001b[0m \u001b[38;5;28mself\u001b[39m\u001b[38;5;241m.\u001b[39mkeyword_vocabulary_path \u001b[38;5;241m=\u001b[39m \u001b[43mdefault\u001b[49m\u001b[43m(\u001b[49m\n\u001b[0;32m     55\u001b[0m \u001b[43m    \u001b[49m\u001b[43mkeyword_vocabulary_path\u001b[49m\u001b[43m,\u001b[49m\u001b[43m \u001b[49m\u001b[43mC\u001b[49m\u001b[38;5;241;43m.\u001b[39;49m\u001b[43mKEYWORDS_VOCABULARY\u001b[49m\n\u001b[0;32m     56\u001b[0m \u001b[43m\u001b[49m\u001b[43m)\u001b[49m\n\u001b[0;32m     57\u001b[0m \u001b[38;5;28mself\u001b[39m\u001b[38;5;241m.\u001b[39mkeyword_idf_path \u001b[38;5;241m=\u001b[39m default(keyword_idf_path, C\u001b[38;5;241m.\u001b[39mKEYWORDS_IDF)\n\u001b[0;32m     59\u001b[0m \u001b[38;5;28mself\u001b[39m\u001b[38;5;241m.\u001b[39m_interpro2keywords_path \u001b[38;5;241m=\u001b[39m default(\n\u001b[0;32m     60\u001b[0m     interpro2keywords_path, C\u001b[38;5;241m.\u001b[39mINTERPRO2KEYWORDS\n\u001b[0;32m     61\u001b[0m )\n",
      "File \u001b[1;32mc:\\Users\\bunzelh\\.conda\\envs\\narupa\\lib\\site-packages\\esm\\tokenization\\function_tokenizer.py:52\u001b[0m, in \u001b[0;36mInterProQuantizedTokenizer.__init__.<locals>.<lambda>\u001b[1;34m(x, d)\u001b[0m\n\u001b[0;32m     39\u001b[0m \u001b[38;5;250m\u001b[39m\u001b[38;5;124;03m\"\"\"Constructs function tokenizer.\u001b[39;00m\n\u001b[0;32m     40\u001b[0m \n\u001b[0;32m     41\u001b[0m \u001b[38;5;124;03mArgs:\u001b[39;00m\n\u001b[1;32m   (...)\u001b[0m\n\u001b[0;32m     49\u001b[0m \u001b[38;5;124;03m    interpro2keywords_path: path to CSV mapping InterPro IDs to function keywords.\u001b[39;00m\n\u001b[0;32m     50\u001b[0m \u001b[38;5;124;03m\"\"\"\u001b[39;00m\n\u001b[0;32m     51\u001b[0m \u001b[38;5;28mself\u001b[39m\u001b[38;5;241m.\u001b[39mdepth \u001b[38;5;241m=\u001b[39m depth\n\u001b[1;32m---> 52\u001b[0m default \u001b[38;5;241m=\u001b[39m \u001b[38;5;28;01mlambda\u001b[39;00m x, d: x \u001b[38;5;28;01mif\u001b[39;00m x \u001b[38;5;129;01mis\u001b[39;00m \u001b[38;5;129;01mnot\u001b[39;00m \u001b[38;5;28;01mNone\u001b[39;00m \u001b[38;5;28;01melse\u001b[39;00m \u001b[43mC\u001b[49m\u001b[38;5;241;43m.\u001b[39;49m\u001b[43mdata_root\u001b[49m\u001b[43m(\u001b[49m\u001b[43m)\u001b[49m \u001b[38;5;241m/\u001b[39m d\n\u001b[0;32m     54\u001b[0m \u001b[38;5;28mself\u001b[39m\u001b[38;5;241m.\u001b[39mkeyword_vocabulary_path \u001b[38;5;241m=\u001b[39m default(\n\u001b[0;32m     55\u001b[0m     keyword_vocabulary_path, C\u001b[38;5;241m.\u001b[39mKEYWORDS_VOCABULARY\n\u001b[0;32m     56\u001b[0m )\n\u001b[0;32m     57\u001b[0m \u001b[38;5;28mself\u001b[39m\u001b[38;5;241m.\u001b[39mkeyword_idf_path \u001b[38;5;241m=\u001b[39m default(keyword_idf_path, C\u001b[38;5;241m.\u001b[39mKEYWORDS_IDF)\n",
      "File \u001b[1;32mc:\\Users\\bunzelh\\.conda\\envs\\narupa\\lib\\site-packages\\esm\\utils\\constants\\esm3.py:110\u001b[0m, in \u001b[0;36mdata_root\u001b[1;34m()\u001b[0m\n\u001b[0;32m    108\u001b[0m         \u001b[38;5;28;01mreturn\u001b[39;00m p\u001b[38;5;241m.\u001b[39mparent\n\u001b[0;32m    109\u001b[0m \u001b[38;5;66;03m# Try to download from hugginface if it doesn't exist\u001b[39;00m\n\u001b[1;32m--> 110\u001b[0m path \u001b[38;5;241m=\u001b[39m Path(\u001b[43msnapshot_download\u001b[49m\u001b[43m(\u001b[49m\u001b[43mrepo_id\u001b[49m\u001b[38;5;241;43m=\u001b[39;49m\u001b[38;5;124;43m\"\u001b[39;49m\u001b[38;5;124;43mEvolutionaryScale/esm3-sm-open-v1\u001b[39;49m\u001b[38;5;124;43m\"\u001b[39;49m\u001b[43m)\u001b[49m)\n\u001b[0;32m    111\u001b[0m \u001b[38;5;28;01mreturn\u001b[39;00m path\n",
      "File \u001b[1;32mc:\\Users\\bunzelh\\.conda\\envs\\narupa\\lib\\site-packages\\huggingface_hub\\utils\\_validators.py:114\u001b[0m, in \u001b[0;36mvalidate_hf_hub_args.<locals>._inner_fn\u001b[1;34m(*args, **kwargs)\u001b[0m\n\u001b[0;32m    111\u001b[0m \u001b[38;5;28;01mif\u001b[39;00m check_use_auth_token:\n\u001b[0;32m    112\u001b[0m     kwargs \u001b[38;5;241m=\u001b[39m smoothly_deprecate_use_auth_token(fn_name\u001b[38;5;241m=\u001b[39mfn\u001b[38;5;241m.\u001b[39m\u001b[38;5;18m__name__\u001b[39m, has_token\u001b[38;5;241m=\u001b[39mhas_token, kwargs\u001b[38;5;241m=\u001b[39mkwargs)\n\u001b[1;32m--> 114\u001b[0m \u001b[38;5;28;01mreturn\u001b[39;00m fn(\u001b[38;5;241m*\u001b[39margs, \u001b[38;5;241m*\u001b[39m\u001b[38;5;241m*\u001b[39mkwargs)\n",
      "File \u001b[1;32mc:\\Users\\bunzelh\\.conda\\envs\\narupa\\lib\\site-packages\\huggingface_hub\\_snapshot_download.py:233\u001b[0m, in \u001b[0;36msnapshot_download\u001b[1;34m(repo_id, repo_type, revision, cache_dir, local_dir, library_name, library_version, user_agent, proxies, etag_timeout, force_download, token, local_files_only, allow_patterns, ignore_patterns, max_workers, tqdm_class, headers, endpoint, local_dir_use_symlinks, resume_download)\u001b[0m\n\u001b[0;32m    226\u001b[0m     \u001b[38;5;28;01mraise\u001b[39;00m LocalEntryNotFoundError(\n\u001b[0;32m    227\u001b[0m         \u001b[38;5;124m\"\u001b[39m\u001b[38;5;124mCannot find an appropriate cached snapshot folder for the specified revision on the local disk and \u001b[39m\u001b[38;5;124m\"\u001b[39m\n\u001b[0;32m    228\u001b[0m         \u001b[38;5;124m\"\u001b[39m\u001b[38;5;124moutgoing traffic has been disabled. To enable repo look-ups and downloads online, set \u001b[39m\u001b[38;5;124m\"\u001b[39m\n\u001b[0;32m    229\u001b[0m         \u001b[38;5;124m\"\u001b[39m\u001b[38;5;124m'\u001b[39m\u001b[38;5;124mHF_HUB_OFFLINE=0\u001b[39m\u001b[38;5;124m'\u001b[39m\u001b[38;5;124m as environment variable.\u001b[39m\u001b[38;5;124m\"\u001b[39m\n\u001b[0;32m    230\u001b[0m     ) \u001b[38;5;28;01mfrom\u001b[39;00m \u001b[38;5;21;01mapi_call_error\u001b[39;00m\n\u001b[0;32m    231\u001b[0m \u001b[38;5;28;01melif\u001b[39;00m \u001b[38;5;28misinstance\u001b[39m(api_call_error, RepositoryNotFoundError) \u001b[38;5;129;01mor\u001b[39;00m \u001b[38;5;28misinstance\u001b[39m(api_call_error, GatedRepoError):\n\u001b[0;32m    232\u001b[0m     \u001b[38;5;66;03m# Repo not found => let's raise the actual error\u001b[39;00m\n\u001b[1;32m--> 233\u001b[0m     \u001b[38;5;28;01mraise\u001b[39;00m api_call_error\n\u001b[0;32m    234\u001b[0m \u001b[38;5;28;01melse\u001b[39;00m:\n\u001b[0;32m    235\u001b[0m     \u001b[38;5;66;03m# Otherwise: most likely a connection issue or Hub downtime => let's warn the user\u001b[39;00m\n\u001b[0;32m    236\u001b[0m     \u001b[38;5;28;01mraise\u001b[39;00m LocalEntryNotFoundError(\n\u001b[0;32m    237\u001b[0m         \u001b[38;5;124m\"\u001b[39m\u001b[38;5;124mAn error happened while trying to locate the files on the Hub and we cannot find the appropriate\u001b[39m\u001b[38;5;124m\"\u001b[39m\n\u001b[0;32m    238\u001b[0m         \u001b[38;5;124m\"\u001b[39m\u001b[38;5;124m snapshot folder for the specified revision on the local disk. Please check your internet connection\u001b[39m\u001b[38;5;124m\"\u001b[39m\n\u001b[0;32m    239\u001b[0m         \u001b[38;5;124m\"\u001b[39m\u001b[38;5;124m and try again.\u001b[39m\u001b[38;5;124m\"\u001b[39m\n\u001b[0;32m    240\u001b[0m     ) \u001b[38;5;28;01mfrom\u001b[39;00m \u001b[38;5;21;01mapi_call_error\u001b[39;00m\n",
      "File \u001b[1;32mc:\\Users\\bunzelh\\.conda\\envs\\narupa\\lib\\site-packages\\huggingface_hub\\_snapshot_download.py:164\u001b[0m, in \u001b[0;36msnapshot_download\u001b[1;34m(repo_id, repo_type, revision, cache_dir, local_dir, library_name, library_version, user_agent, proxies, etag_timeout, force_download, token, local_files_only, allow_patterns, ignore_patterns, max_workers, tqdm_class, headers, endpoint, local_dir_use_symlinks, resume_download)\u001b[0m\n\u001b[0;32m    155\u001b[0m \u001b[38;5;28;01mtry\u001b[39;00m:\n\u001b[0;32m    156\u001b[0m     \u001b[38;5;66;03m# if we have internet connection we want to list files to download\u001b[39;00m\n\u001b[0;32m    157\u001b[0m     api \u001b[38;5;241m=\u001b[39m HfApi(\n\u001b[0;32m    158\u001b[0m         library_name\u001b[38;5;241m=\u001b[39mlibrary_name,\n\u001b[0;32m    159\u001b[0m         library_version\u001b[38;5;241m=\u001b[39mlibrary_version,\n\u001b[1;32m   (...)\u001b[0m\n\u001b[0;32m    162\u001b[0m         headers\u001b[38;5;241m=\u001b[39mheaders,\n\u001b[0;32m    163\u001b[0m     )\n\u001b[1;32m--> 164\u001b[0m     repo_info \u001b[38;5;241m=\u001b[39m \u001b[43mapi\u001b[49m\u001b[38;5;241;43m.\u001b[39;49m\u001b[43mrepo_info\u001b[49m\u001b[43m(\u001b[49m\u001b[43mrepo_id\u001b[49m\u001b[38;5;241;43m=\u001b[39;49m\u001b[43mrepo_id\u001b[49m\u001b[43m,\u001b[49m\u001b[43m \u001b[49m\u001b[43mrepo_type\u001b[49m\u001b[38;5;241;43m=\u001b[39;49m\u001b[43mrepo_type\u001b[49m\u001b[43m,\u001b[49m\u001b[43m \u001b[49m\u001b[43mrevision\u001b[49m\u001b[38;5;241;43m=\u001b[39;49m\u001b[43mrevision\u001b[49m\u001b[43m,\u001b[49m\u001b[43m \u001b[49m\u001b[43mtoken\u001b[49m\u001b[38;5;241;43m=\u001b[39;49m\u001b[43mtoken\u001b[49m\u001b[43m)\u001b[49m\n\u001b[0;32m    165\u001b[0m \u001b[38;5;28;01mexcept\u001b[39;00m (requests\u001b[38;5;241m.\u001b[39mexceptions\u001b[38;5;241m.\u001b[39mSSLError, requests\u001b[38;5;241m.\u001b[39mexceptions\u001b[38;5;241m.\u001b[39mProxyError):\n\u001b[0;32m    166\u001b[0m     \u001b[38;5;66;03m# Actually raise for those subclasses of ConnectionError\u001b[39;00m\n\u001b[0;32m    167\u001b[0m     \u001b[38;5;28;01mraise\u001b[39;00m\n",
      "File \u001b[1;32mc:\\Users\\bunzelh\\.conda\\envs\\narupa\\lib\\site-packages\\huggingface_hub\\utils\\_validators.py:114\u001b[0m, in \u001b[0;36mvalidate_hf_hub_args.<locals>._inner_fn\u001b[1;34m(*args, **kwargs)\u001b[0m\n\u001b[0;32m    111\u001b[0m \u001b[38;5;28;01mif\u001b[39;00m check_use_auth_token:\n\u001b[0;32m    112\u001b[0m     kwargs \u001b[38;5;241m=\u001b[39m smoothly_deprecate_use_auth_token(fn_name\u001b[38;5;241m=\u001b[39mfn\u001b[38;5;241m.\u001b[39m\u001b[38;5;18m__name__\u001b[39m, has_token\u001b[38;5;241m=\u001b[39mhas_token, kwargs\u001b[38;5;241m=\u001b[39mkwargs)\n\u001b[1;32m--> 114\u001b[0m \u001b[38;5;28;01mreturn\u001b[39;00m fn(\u001b[38;5;241m*\u001b[39margs, \u001b[38;5;241m*\u001b[39m\u001b[38;5;241m*\u001b[39mkwargs)\n",
      "File \u001b[1;32mc:\\Users\\bunzelh\\.conda\\envs\\narupa\\lib\\site-packages\\huggingface_hub\\hf_api.py:2491\u001b[0m, in \u001b[0;36mHfApi.repo_info\u001b[1;34m(self, repo_id, revision, repo_type, timeout, files_metadata, token)\u001b[0m\n\u001b[0;32m   2489\u001b[0m \u001b[38;5;28;01melse\u001b[39;00m:\n\u001b[0;32m   2490\u001b[0m     \u001b[38;5;28;01mraise\u001b[39;00m \u001b[38;5;167;01mValueError\u001b[39;00m(\u001b[38;5;124m\"\u001b[39m\u001b[38;5;124mUnsupported repo type.\u001b[39m\u001b[38;5;124m\"\u001b[39m)\n\u001b[1;32m-> 2491\u001b[0m \u001b[38;5;28;01mreturn\u001b[39;00m \u001b[43mmethod\u001b[49m\u001b[43m(\u001b[49m\n\u001b[0;32m   2492\u001b[0m \u001b[43m    \u001b[49m\u001b[43mrepo_id\u001b[49m\u001b[43m,\u001b[49m\n\u001b[0;32m   2493\u001b[0m \u001b[43m    \u001b[49m\u001b[43mrevision\u001b[49m\u001b[38;5;241;43m=\u001b[39;49m\u001b[43mrevision\u001b[49m\u001b[43m,\u001b[49m\n\u001b[0;32m   2494\u001b[0m \u001b[43m    \u001b[49m\u001b[43mtoken\u001b[49m\u001b[38;5;241;43m=\u001b[39;49m\u001b[43mtoken\u001b[49m\u001b[43m,\u001b[49m\n\u001b[0;32m   2495\u001b[0m \u001b[43m    \u001b[49m\u001b[43mtimeout\u001b[49m\u001b[38;5;241;43m=\u001b[39;49m\u001b[43mtimeout\u001b[49m\u001b[43m,\u001b[49m\n\u001b[0;32m   2496\u001b[0m \u001b[43m    \u001b[49m\u001b[43mfiles_metadata\u001b[49m\u001b[38;5;241;43m=\u001b[39;49m\u001b[43mfiles_metadata\u001b[49m\u001b[43m,\u001b[49m\n\u001b[0;32m   2497\u001b[0m \u001b[43m\u001b[49m\u001b[43m)\u001b[49m\n",
      "File \u001b[1;32mc:\\Users\\bunzelh\\.conda\\envs\\narupa\\lib\\site-packages\\huggingface_hub\\utils\\_validators.py:114\u001b[0m, in \u001b[0;36mvalidate_hf_hub_args.<locals>._inner_fn\u001b[1;34m(*args, **kwargs)\u001b[0m\n\u001b[0;32m    111\u001b[0m \u001b[38;5;28;01mif\u001b[39;00m check_use_auth_token:\n\u001b[0;32m    112\u001b[0m     kwargs \u001b[38;5;241m=\u001b[39m smoothly_deprecate_use_auth_token(fn_name\u001b[38;5;241m=\u001b[39mfn\u001b[38;5;241m.\u001b[39m\u001b[38;5;18m__name__\u001b[39m, has_token\u001b[38;5;241m=\u001b[39mhas_token, kwargs\u001b[38;5;241m=\u001b[39mkwargs)\n\u001b[1;32m--> 114\u001b[0m \u001b[38;5;28;01mreturn\u001b[39;00m fn(\u001b[38;5;241m*\u001b[39margs, \u001b[38;5;241m*\u001b[39m\u001b[38;5;241m*\u001b[39mkwargs)\n",
      "File \u001b[1;32mc:\\Users\\bunzelh\\.conda\\envs\\narupa\\lib\\site-packages\\huggingface_hub\\hf_api.py:2301\u001b[0m, in \u001b[0;36mHfApi.model_info\u001b[1;34m(self, repo_id, revision, timeout, securityStatus, files_metadata, token)\u001b[0m\n\u001b[0;32m   2299\u001b[0m     params[\u001b[38;5;124m\"\u001b[39m\u001b[38;5;124mblobs\u001b[39m\u001b[38;5;124m\"\u001b[39m] \u001b[38;5;241m=\u001b[39m \u001b[38;5;28;01mTrue\u001b[39;00m\n\u001b[0;32m   2300\u001b[0m r \u001b[38;5;241m=\u001b[39m get_session()\u001b[38;5;241m.\u001b[39mget(path, headers\u001b[38;5;241m=\u001b[39mheaders, timeout\u001b[38;5;241m=\u001b[39mtimeout, params\u001b[38;5;241m=\u001b[39mparams)\n\u001b[1;32m-> 2301\u001b[0m \u001b[43mhf_raise_for_status\u001b[49m\u001b[43m(\u001b[49m\u001b[43mr\u001b[49m\u001b[43m)\u001b[49m\n\u001b[0;32m   2302\u001b[0m data \u001b[38;5;241m=\u001b[39m r\u001b[38;5;241m.\u001b[39mjson()\n\u001b[0;32m   2303\u001b[0m \u001b[38;5;28;01mreturn\u001b[39;00m ModelInfo(\u001b[38;5;241m*\u001b[39m\u001b[38;5;241m*\u001b[39mdata)\n",
      "File \u001b[1;32mc:\\Users\\bunzelh\\.conda\\envs\\narupa\\lib\\site-packages\\huggingface_hub\\utils\\_errors.py:321\u001b[0m, in \u001b[0;36mhf_raise_for_status\u001b[1;34m(response, endpoint_name)\u001b[0m\n\u001b[0;32m    317\u001b[0m \u001b[38;5;28;01melif\u001b[39;00m error_code \u001b[38;5;241m==\u001b[39m \u001b[38;5;124m\"\u001b[39m\u001b[38;5;124mGatedRepo\u001b[39m\u001b[38;5;124m\"\u001b[39m:\n\u001b[0;32m    318\u001b[0m     message \u001b[38;5;241m=\u001b[39m (\n\u001b[0;32m    319\u001b[0m         \u001b[38;5;124mf\u001b[39m\u001b[38;5;124m\"\u001b[39m\u001b[38;5;132;01m{\u001b[39;00mresponse\u001b[38;5;241m.\u001b[39mstatus_code\u001b[38;5;132;01m}\u001b[39;00m\u001b[38;5;124m Client Error.\u001b[39m\u001b[38;5;124m\"\u001b[39m \u001b[38;5;241m+\u001b[39m \u001b[38;5;124m\"\u001b[39m\u001b[38;5;130;01m\\n\u001b[39;00m\u001b[38;5;130;01m\\n\u001b[39;00m\u001b[38;5;124m\"\u001b[39m \u001b[38;5;241m+\u001b[39m \u001b[38;5;124mf\u001b[39m\u001b[38;5;124m\"\u001b[39m\u001b[38;5;124mCannot access gated repo for url \u001b[39m\u001b[38;5;132;01m{\u001b[39;00mresponse\u001b[38;5;241m.\u001b[39murl\u001b[38;5;132;01m}\u001b[39;00m\u001b[38;5;124m.\u001b[39m\u001b[38;5;124m\"\u001b[39m\n\u001b[0;32m    320\u001b[0m     )\n\u001b[1;32m--> 321\u001b[0m     \u001b[38;5;28;01mraise\u001b[39;00m GatedRepoError(message, response) \u001b[38;5;28;01mfrom\u001b[39;00m \u001b[38;5;21;01me\u001b[39;00m\n\u001b[0;32m    323\u001b[0m \u001b[38;5;28;01melif\u001b[39;00m error_message \u001b[38;5;241m==\u001b[39m \u001b[38;5;124m\"\u001b[39m\u001b[38;5;124mAccess to this resource is disabled.\u001b[39m\u001b[38;5;124m\"\u001b[39m:\n\u001b[0;32m    324\u001b[0m     message \u001b[38;5;241m=\u001b[39m (\n\u001b[0;32m    325\u001b[0m         \u001b[38;5;124mf\u001b[39m\u001b[38;5;124m\"\u001b[39m\u001b[38;5;132;01m{\u001b[39;00mresponse\u001b[38;5;241m.\u001b[39mstatus_code\u001b[38;5;132;01m}\u001b[39;00m\u001b[38;5;124m Client Error.\u001b[39m\u001b[38;5;124m\"\u001b[39m\n\u001b[0;32m    326\u001b[0m         \u001b[38;5;241m+\u001b[39m \u001b[38;5;124m\"\u001b[39m\u001b[38;5;130;01m\\n\u001b[39;00m\u001b[38;5;130;01m\\n\u001b[39;00m\u001b[38;5;124m\"\u001b[39m\n\u001b[1;32m   (...)\u001b[0m\n\u001b[0;32m    329\u001b[0m         \u001b[38;5;241m+\u001b[39m \u001b[38;5;124m\"\u001b[39m\u001b[38;5;124mAccess to this resource is disabled.\u001b[39m\u001b[38;5;124m\"\u001b[39m\n\u001b[0;32m    330\u001b[0m     )\n",
      "\u001b[1;31mGatedRepoError\u001b[0m: 401 Client Error. (Request ID: Root=1-6688f183-3ff8bfaa1a6aed2455104d9d;47f5793a-c951-4b7c-8768-c3b762e3d342)\n\nCannot access gated repo for url https://huggingface.co/api/models/EvolutionaryScale/esm3-sm-open-v1/revision/main.\nAccess to model EvolutionaryScale/esm3-sm-open-v1 is restricted. You must be authenticated to access it."
     ]
    }
   ],
   "source": [
    "from huggingface_hub import login\n",
    "from esm.models.esm3 import ESM3\n",
    "from esm.sdk.api import ESM3InferenceClient, ESMProtein, GenerationConfig\n",
    "\n",
    "login()\n",
    "\n",
    "# Load model directly\n",
    "from transformers import AutoModel\n",
    "model = AutoModel.from_pretrained(\"EvolutionaryScale/esm3-sm-open-v1\")"
   ]
  },
  {
   "cell_type": "code",
   "execution_count": null,
   "metadata": {},
   "outputs": [],
   "source": []
  },
  {
   "cell_type": "code",
   "execution_count": null,
   "metadata": {},
   "outputs": [],
   "source": []
  },
  {
   "cell_type": "code",
   "execution_count": 19,
   "metadata": {},
   "outputs": [
    {
     "name": "stdout",
     "output_type": "stream",
     "text": [
      "Files removed: 0\n"
     ]
    },
    {
     "name": "stderr",
     "output_type": "stream",
     "text": [
      "WARNING: No matching packages\n",
      "WARNING: Skipping esm as it is not installed.\n",
      "WARNING: Skipping biopython as it is not installed.\n"
     ]
    },
    {
     "name": "stdout",
     "output_type": "stream",
     "text": [
      "Collecting esm\n",
      "  Downloading esm-3.0.0-py3-none-any.whl.metadata (7.9 kB)\n",
      "Collecting biopython\n",
      "  Downloading biopython-1.84-cp310-cp310-win_amd64.whl.metadata (13 kB)\n",
      "Requirement already satisfied: torch>=2.0.0 in c:\\users\\bunzelh\\.conda\\envs\\narupa\\lib\\site-packages (from esm) (2.3.1+cu121)\n",
      "Requirement already satisfied: torchvision in c:\\users\\bunzelh\\.conda\\envs\\narupa\\lib\\site-packages (from esm) (0.18.1+cu121)\n",
      "Requirement already satisfied: torchtext in c:\\users\\bunzelh\\.conda\\envs\\narupa\\lib\\site-packages (from esm) (0.18.0)\n",
      "Requirement already satisfied: transformers in c:\\users\\bunzelh\\.conda\\envs\\narupa\\lib\\site-packages (from esm) (4.42.3)\n",
      "Requirement already satisfied: ipython in c:\\users\\bunzelh\\.conda\\envs\\narupa\\lib\\site-packages (from esm) (8.20.0)\n",
      "Requirement already satisfied: einops in c:\\users\\bunzelh\\.conda\\envs\\narupa\\lib\\site-packages (from esm) (0.8.0)\n",
      "Requirement already satisfied: biotite in c:\\users\\bunzelh\\.conda\\envs\\narupa\\lib\\site-packages (from esm) (0.41.2)\n",
      "Requirement already satisfied: msgpack-numpy in c:\\users\\bunzelh\\.conda\\envs\\narupa\\lib\\site-packages (from esm) (0.4.8)\n",
      "Requirement already satisfied: scikit-learn in c:\\users\\bunzelh\\.conda\\envs\\narupa\\lib\\site-packages (from esm) (1.3.0)\n",
      "Requirement already satisfied: brotli in c:\\users\\bunzelh\\.conda\\envs\\narupa\\lib\\site-packages (from esm) (1.0.9)\n",
      "Requirement already satisfied: attrs in c:\\users\\bunzelh\\.conda\\envs\\narupa\\lib\\site-packages (from esm) (23.2.0)\n",
      "Requirement already satisfied: pandas in c:\\users\\bunzelh\\.conda\\envs\\narupa\\lib\\site-packages (from esm) (2.0.3)\n",
      "Requirement already satisfied: numpy in c:\\users\\bunzelh\\.conda\\envs\\narupa\\lib\\site-packages (from biopython) (1.26.4)\n",
      "Requirement already satisfied: filelock in c:\\users\\bunzelh\\.conda\\envs\\narupa\\lib\\site-packages (from torch>=2.0.0->esm) (3.13.1)\n",
      "Requirement already satisfied: typing-extensions>=4.8.0 in c:\\users\\bunzelh\\.conda\\envs\\narupa\\lib\\site-packages (from torch>=2.0.0->esm) (4.9.0)\n",
      "Requirement already satisfied: sympy in c:\\users\\bunzelh\\.conda\\envs\\narupa\\lib\\site-packages (from torch>=2.0.0->esm) (1.12)\n",
      "Requirement already satisfied: networkx in c:\\users\\bunzelh\\.conda\\envs\\narupa\\lib\\site-packages (from torch>=2.0.0->esm) (3.2.1)\n",
      "Requirement already satisfied: jinja2 in c:\\users\\bunzelh\\.conda\\envs\\narupa\\lib\\site-packages (from torch>=2.0.0->esm) (3.1.3)\n",
      "Requirement already satisfied: fsspec in c:\\users\\bunzelh\\.conda\\envs\\narupa\\lib\\site-packages (from torch>=2.0.0->esm) (2024.3.1)\n",
      "Requirement already satisfied: mkl<=2021.4.0,>=2021.1.1 in c:\\users\\bunzelh\\.conda\\envs\\narupa\\lib\\site-packages (from torch>=2.0.0->esm) (2021.4.0)\n",
      "Requirement already satisfied: msgpack>=0.5.6 in c:\\users\\bunzelh\\.conda\\envs\\narupa\\lib\\site-packages (from biotite->esm) (1.0.3)\n",
      "Requirement already satisfied: requests>=2.12 in c:\\users\\bunzelh\\.conda\\envs\\narupa\\lib\\site-packages (from biotite->esm) (2.31.0)\n",
      "Requirement already satisfied: decorator in c:\\users\\bunzelh\\.conda\\envs\\narupa\\lib\\site-packages (from ipython->esm) (5.1.1)\n",
      "Requirement already satisfied: jedi>=0.16 in c:\\users\\bunzelh\\.conda\\envs\\narupa\\lib\\site-packages (from ipython->esm) (0.18.1)\n",
      "Requirement already satisfied: matplotlib-inline in c:\\users\\bunzelh\\.conda\\envs\\narupa\\lib\\site-packages (from ipython->esm) (0.1.6)\n",
      "Requirement already satisfied: prompt-toolkit<3.1.0,>=3.0.41 in c:\\users\\bunzelh\\.conda\\envs\\narupa\\lib\\site-packages (from ipython->esm) (3.0.43)\n",
      "Requirement already satisfied: pygments>=2.4.0 in c:\\users\\bunzelh\\.conda\\envs\\narupa\\lib\\site-packages (from ipython->esm) (2.15.1)\n",
      "Requirement already satisfied: stack-data in c:\\users\\bunzelh\\.conda\\envs\\narupa\\lib\\site-packages (from ipython->esm) (0.2.0)\n",
      "Requirement already satisfied: traitlets>=5 in c:\\users\\bunzelh\\.conda\\envs\\narupa\\lib\\site-packages (from ipython->esm) (5.7.1)\n",
      "Requirement already satisfied: exceptiongroup in c:\\users\\bunzelh\\.conda\\envs\\narupa\\lib\\site-packages (from ipython->esm) (1.2.0)\n",
      "Requirement already satisfied: colorama in c:\\users\\bunzelh\\.conda\\envs\\narupa\\lib\\site-packages (from ipython->esm) (0.4.6)\n",
      "Requirement already satisfied: python-dateutil>=2.8.2 in c:\\users\\bunzelh\\.conda\\envs\\narupa\\lib\\site-packages (from pandas->esm) (2.8.2)\n",
      "Requirement already satisfied: pytz>=2020.1 in c:\\users\\bunzelh\\.conda\\envs\\narupa\\lib\\site-packages (from pandas->esm) (2023.3.post1)\n",
      "Requirement already satisfied: tzdata>=2022.1 in c:\\users\\bunzelh\\.conda\\envs\\narupa\\lib\\site-packages (from pandas->esm) (2023.4)\n",
      "Requirement already satisfied: scipy>=1.5.0 in c:\\users\\bunzelh\\.conda\\envs\\narupa\\lib\\site-packages (from scikit-learn->esm) (1.12.0)\n",
      "Requirement already satisfied: joblib>=1.1.1 in c:\\users\\bunzelh\\.conda\\envs\\narupa\\lib\\site-packages (from scikit-learn->esm) (1.3.2)\n",
      "Requirement already satisfied: threadpoolctl>=2.0.0 in c:\\users\\bunzelh\\.conda\\envs\\narupa\\lib\\site-packages (from scikit-learn->esm) (3.2.0)\n",
      "Requirement already satisfied: tqdm in c:\\users\\bunzelh\\.conda\\envs\\narupa\\lib\\site-packages (from torchtext->esm) (4.66.1)\n",
      "Requirement already satisfied: pillow!=8.3.*,>=5.3.0 in c:\\users\\bunzelh\\.conda\\envs\\narupa\\lib\\site-packages (from torchvision->esm) (10.4.0)\n",
      "Requirement already satisfied: huggingface-hub<1.0,>=0.23.2 in c:\\users\\bunzelh\\.conda\\envs\\narupa\\lib\\site-packages (from transformers->esm) (0.23.4)\n",
      "Requirement already satisfied: packaging>=20.0 in c:\\users\\bunzelh\\.conda\\envs\\narupa\\lib\\site-packages (from transformers->esm) (23.2)\n",
      "Requirement already satisfied: pyyaml>=5.1 in c:\\users\\bunzelh\\.conda\\envs\\narupa\\lib\\site-packages (from transformers->esm) (6.0.1)\n",
      "Requirement already satisfied: regex!=2019.12.17 in c:\\users\\bunzelh\\.conda\\envs\\narupa\\lib\\site-packages (from transformers->esm) (2024.5.15)\n",
      "Requirement already satisfied: safetensors>=0.4.1 in c:\\users\\bunzelh\\.conda\\envs\\narupa\\lib\\site-packages (from transformers->esm) (0.4.3)\n",
      "Requirement already satisfied: tokenizers<0.20,>=0.19 in c:\\users\\bunzelh\\.conda\\envs\\narupa\\lib\\site-packages (from transformers->esm) (0.19.1)\n",
      "Requirement already satisfied: parso<0.9.0,>=0.8.0 in c:\\users\\bunzelh\\.conda\\envs\\narupa\\lib\\site-packages (from jedi>=0.16->ipython->esm) (0.8.3)\n",
      "Requirement already satisfied: intel-openmp==2021.* in c:\\users\\bunzelh\\.conda\\envs\\narupa\\lib\\site-packages (from mkl<=2021.4.0,>=2021.1.1->torch>=2.0.0->esm) (2021.4.0)\n",
      "Requirement already satisfied: tbb==2021.* in c:\\users\\bunzelh\\.conda\\envs\\narupa\\lib\\site-packages (from mkl<=2021.4.0,>=2021.1.1->torch>=2.0.0->esm) (2021.13.0)\n",
      "Requirement already satisfied: wcwidth in c:\\users\\bunzelh\\.conda\\envs\\narupa\\lib\\site-packages (from prompt-toolkit<3.1.0,>=3.0.41->ipython->esm) (0.2.5)\n",
      "Requirement already satisfied: six>=1.5 in c:\\users\\bunzelh\\.conda\\envs\\narupa\\lib\\site-packages (from python-dateutil>=2.8.2->pandas->esm) (1.16.0)\n",
      "Requirement already satisfied: charset-normalizer<4,>=2 in c:\\users\\bunzelh\\.conda\\envs\\narupa\\lib\\site-packages (from requests>=2.12->biotite->esm) (2.0.4)\n",
      "Requirement already satisfied: idna<4,>=2.5 in c:\\users\\bunzelh\\.conda\\envs\\narupa\\lib\\site-packages (from requests>=2.12->biotite->esm) (3.4)\n",
      "Requirement already satisfied: urllib3<3,>=1.21.1 in c:\\users\\bunzelh\\.conda\\envs\\narupa\\lib\\site-packages (from requests>=2.12->biotite->esm) (2.1.0)\n",
      "Requirement already satisfied: certifi>=2017.4.17 in c:\\users\\bunzelh\\.conda\\envs\\narupa\\lib\\site-packages (from requests>=2.12->biotite->esm) (2024.2.2)\n",
      "Requirement already satisfied: MarkupSafe>=2.0 in c:\\users\\bunzelh\\.conda\\envs\\narupa\\lib\\site-packages (from jinja2->torch>=2.0.0->esm) (2.1.3)\n",
      "Requirement already satisfied: executing in c:\\users\\bunzelh\\.conda\\envs\\narupa\\lib\\site-packages (from stack-data->ipython->esm) (0.8.3)\n",
      "Requirement already satisfied: asttokens in c:\\users\\bunzelh\\.conda\\envs\\narupa\\lib\\site-packages (from stack-data->ipython->esm) (2.0.5)\n",
      "Requirement already satisfied: pure-eval in c:\\users\\bunzelh\\.conda\\envs\\narupa\\lib\\site-packages (from stack-data->ipython->esm) (0.2.2)\n",
      "Requirement already satisfied: mpmath>=0.19 in c:\\users\\bunzelh\\.conda\\envs\\narupa\\lib\\site-packages (from sympy->torch>=2.0.0->esm) (1.3.0)\n",
      "Downloading esm-3.0.0-py3-none-any.whl (94 kB)\n",
      "   ---------------------------------------- 0.0/94.9 kB ? eta -:--:--\n",
      "   ------------------------- -------------- 61.4/94.9 kB 1.6 MB/s eta 0:00:01\n",
      "   ---------------------------------------- 94.9/94.9 kB 1.8 MB/s eta 0:00:00\n",
      "Downloading biopython-1.84-cp310-cp310-win_amd64.whl (2.8 MB)\n",
      "   ---------------------------------------- 0.0/2.8 MB ? eta -:--:--\n",
      "   ---- ----------------------------------- 0.3/2.8 MB 9.9 MB/s eta 0:00:01\n",
      "   ----------- ---------------------------- 0.8/2.8 MB 10.2 MB/s eta 0:00:01\n",
      "   -------------------- ------------------- 1.5/2.8 MB 10.3 MB/s eta 0:00:01\n",
      "   --------------------------------- ------ 2.4/2.8 MB 12.5 MB/s eta 0:00:01\n",
      "   ---------------------------------------- 2.8/2.8 MB 12.7 MB/s eta 0:00:00\n",
      "Installing collected packages: biopython, esm\n",
      "Successfully installed biopython-1.84 esm-3.0.0\n"
     ]
    }
   ],
   "source": [
    "#!pip cache purge\n",
    "#!pip uninstall -y esm biopython\n",
    "#!pip install esm biopython"
   ]
  },
  {
   "cell_type": "code",
   "execution_count": 17,
   "metadata": {},
   "outputs": [
    {
     "name": "stdout",
     "output_type": "stream",
     "text": [
      "c:\\users\\bunzelh\\appdata\\local\\pip\\cache\n",
      "Files removed: 56\n"
     ]
    }
   ],
   "source": []
  },
  {
   "cell_type": "code",
   "execution_count": null,
   "metadata": {},
   "outputs": [],
   "source": []
  }
 ],
 "metadata": {
  "kernelspec": {
   "display_name": "Python 3 (ipykernel)",
   "language": "python",
   "name": "python3"
  },
  "language_info": {
   "codemirror_mode": {
    "name": "ipython",
    "version": 3
   },
   "file_extension": ".py",
   "mimetype": "text/x-python",
   "name": "python",
   "nbconvert_exporter": "python",
   "pygments_lexer": "ipython3",
   "version": "3.8.16"
  }
 },
 "nbformat": 4,
 "nbformat_minor": 4
}
