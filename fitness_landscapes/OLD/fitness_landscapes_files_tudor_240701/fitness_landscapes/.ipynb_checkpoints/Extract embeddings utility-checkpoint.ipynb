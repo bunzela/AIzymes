{
 "cells": [
  {
   "cell_type": "code",
   "execution_count": null,
   "id": "01d587e0-5703-4936-bf99-d7862143e729",
   "metadata": {},
   "outputs": [],
   "source": []
  }
 ],
 "metadata": {
  "kernelspec": {
   "display_name": "Fitness landscapes",
   "language": "python",
   "name": "fitness_landscapes"
  },
  "language_info": {
   "codemirror_mode": {
    "name": "ipython",
    "version": 3
   },
   "file_extension": ".py",
   "mimetype": "text/x-python",
   "name": "python",
   "nbconvert_exporter": "python",
   "pygments_lexer": "ipython3",
   "version": "3.10.13"
  }
 },
 "nbformat": 4,
 "nbformat_minor": 5
}
