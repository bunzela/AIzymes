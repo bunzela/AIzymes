{
 "cells": [
  {
   "cell_type": "code",
   "execution_count": 1,
   "id": "8b4b8893",
   "metadata": {
    "scrolled": true
   },
   "outputs": [
    {
     "name": "stdout",
     "output_type": "stream",
     "text": [
      "Do you really want to restart AIzymes from scratch? \n",
      "    This will delete all existing files in /home/bunzelh/AIzymes/design/HAB/HAB_refactor_mixed_013 [y/n]\n",
      "\n",
      "    y\n"
     ]
    },
    {
     "name": "stderr",
     "output_type": "stream",
     "text": [
      "2024-10-08 10:51:17 - INFO - Running AI.zymes setup.\n",
      "2024-10-08 10:51:17 - INFO - Content of /home/bunzelh/AIzymes/design/HAB/HAB_refactor_mixed_013 deleted.\n",
      "2024-10-08 10:51:17 - INFO - Happy AI.zymeing! :)\n"
     ]
    },
    {
     "name": "stdout",
     "output_type": "stream",
     "text": [
      "AIzymes initiated.\n",
      "\n"
     ]
    }
   ],
   "source": [
    "import sys, os\n",
    "if os.path.join(os.getcwd(), '../../src') not in sys.path: sys.path.append(os.path.join(os.getcwd(), '../../src'))\n",
    "from AIzymes_013 import *\n",
    "\n",
    "# GENERAL SETTINGS FOR AI.zymes -------------------------------------------------------------------------------------------\n",
    "AIzymes = AIzymes_MAIN()\n",
    "AIzymes.setup(FOLDER_HOME = 'HAB_refactor_mixed_013',\n",
    "  FOLDER_PARENT     = 'parent',\n",
    "  MAX_JOBS          = 10,\n",
    "  N_PARENT_JOBS     = 10,\n",
    "  MAX_DESIGNS       = 50,\n",
    "  KBT_BOLTZMANN     = [0.5, 0.0003],\n",
    "  CST_WEIGHT        = 1.0,\n",
    "  ProteinMPNN_PROB  = 0.5,\n",
    "  CST_NAME          = \"5TS_enzdes_planar_tAB100\",\n",
    "  WT                = \"7vuu\",\n",
    "  LIGAND            = \"5TS\",\n",
    "  DESIGN            = \"4,8,16,21,25,28,40,41,44,52,57,60,61\",\n",
    "  SUBMIT_PREFIX     = \"MIX\",\n",
    "  SYSTEM            = \"GRID\",\n",
    "  EXPLORE           = True,\n",
    " )"
   ]
  },
  {
   "cell_type": "code",
   "execution_count": null,
   "id": "5aadc10c",
   "metadata": {
    "scrolled": false
   },
   "outputs": [
    {
     "name": "stderr",
     "output_type": "stream",
     "text": [
      "2024-10-08 10:51:19 - DEBUG - Updating scores\n",
      "2024-10-08 10:51:19 - DEBUG - Parent design not yet done. 1/10 jobs submitted.\n",
      "2024-10-08 10:51:19 - DEBUG - Child index 0 created for Parent.\n",
      "2024-10-08 10:51:19 - DEBUG - Run RosettaDesign for index 0 based on index 0.\n",
      "2024-10-08 10:51:19 - DEBUG - Your job 1620087 (\"MIX_RosettaDesign_0\") has been submitted\n",
      "2024-10-08 10:51:19 - DEBUG - Updating scores\n",
      "2024-10-08 10:51:19 - DEBUG - Parent design not yet done. 2/10 jobs submitted.\n",
      "2024-10-08 10:51:19 - DEBUG - Child index 1 created for Parent.\n",
      "2024-10-08 10:51:19 - DEBUG - Run RosettaDesign for index 1 based on index 1.\n",
      "2024-10-08 10:51:19 - DEBUG - Your job 1620088 (\"MIX_RosettaDesign_1\") has been submitted\n",
      "2024-10-08 10:51:19 - DEBUG - Updating scores\n",
      "2024-10-08 10:51:19 - DEBUG - Parent design not yet done. 3/10 jobs submitted.\n",
      "2024-10-08 10:51:19 - DEBUG - Child index 2 created for Parent.\n",
      "2024-10-08 10:51:19 - DEBUG - Run RosettaDesign for index 2 based on index 2.\n",
      "2024-10-08 10:51:19 - DEBUG - Your job 1620089 (\"MIX_RosettaDesign_2\") has been submitted\n",
      "2024-10-08 10:51:19 - DEBUG - Updating scores\n",
      "2024-10-08 10:51:19 - DEBUG - Parent design not yet done. 4/10 jobs submitted.\n",
      "2024-10-08 10:51:19 - DEBUG - Child index 3 created for Parent.\n",
      "2024-10-08 10:51:19 - DEBUG - Run RosettaDesign for index 3 based on index 3.\n",
      "2024-10-08 10:51:19 - DEBUG - Your job 1620090 (\"MIX_RosettaDesign_3\") has been submitted\n",
      "2024-10-08 10:51:20 - DEBUG - Updating scores\n",
      "2024-10-08 10:51:20 - DEBUG - Parent design not yet done. 5/10 jobs submitted.\n",
      "2024-10-08 10:51:20 - DEBUG - Child index 4 created for Parent.\n",
      "2024-10-08 10:51:20 - DEBUG - Run RosettaDesign for index 4 based on index 4.\n",
      "2024-10-08 10:51:20 - DEBUG - Your job 1620091 (\"MIX_RosettaDesign_4\") has been submitted\n",
      "2024-10-08 10:51:20 - DEBUG - Updating scores\n",
      "2024-10-08 10:51:20 - DEBUG - Parent design not yet done. 6/10 jobs submitted.\n",
      "2024-10-08 10:51:20 - DEBUG - Child index 5 created for Parent.\n",
      "2024-10-08 10:51:20 - DEBUG - Run RosettaDesign for index 5 based on index 5.\n",
      "2024-10-08 10:51:20 - DEBUG - Your job 1620092 (\"MIX_RosettaDesign_5\") has been submitted\n",
      "2024-10-08 10:51:20 - DEBUG - Updating scores\n",
      "2024-10-08 10:51:20 - DEBUG - Parent design not yet done. 7/10 jobs submitted.\n",
      "2024-10-08 10:51:20 - DEBUG - Child index 6 created for Parent.\n",
      "2024-10-08 10:51:20 - DEBUG - Run RosettaDesign for index 6 based on index 6.\n",
      "2024-10-08 10:51:20 - DEBUG - Your job 1620093 (\"MIX_RosettaDesign_6\") has been submitted\n",
      "2024-10-08 10:51:20 - DEBUG - Updating scores\n",
      "2024-10-08 10:51:20 - DEBUG - Parent design not yet done. 8/10 jobs submitted.\n",
      "2024-10-08 10:51:20 - DEBUG - Child index 7 created for Parent.\n",
      "2024-10-08 10:51:20 - DEBUG - Run RosettaDesign for index 7 based on index 7.\n",
      "2024-10-08 10:51:20 - DEBUG - Your job 1620094 (\"MIX_RosettaDesign_7\") has been submitted\n",
      "2024-10-08 10:51:20 - DEBUG - Updating scores\n",
      "2024-10-08 10:51:20 - DEBUG - Parent design not yet done. 9/10 jobs submitted.\n",
      "2024-10-08 10:51:20 - DEBUG - Child index 8 created for Parent.\n",
      "2024-10-08 10:51:20 - DEBUG - Run RosettaDesign for index 8 based on index 8.\n",
      "2024-10-08 10:51:20 - DEBUG - Your job 1620095 (\"MIX_RosettaDesign_8\") has been submitted\n",
      "2024-10-08 10:51:21 - DEBUG - Updating scores\n",
      "2024-10-08 10:51:21 - DEBUG - Parent design not yet done. 10/10 jobs submitted.\n",
      "2024-10-08 10:51:21 - DEBUG - Child index 9 created for Parent.\n",
      "2024-10-08 10:51:21 - DEBUG - Run RosettaDesign for index 9 based on index 9.\n",
      "2024-10-08 10:51:21 - DEBUG - Your job 1620096 (\"MIX_RosettaDesign_9\") has been submitted\n",
      "2024-10-08 10:53:22 - DEBUG - Updating scores\n",
      "2024-10-08 10:53:23 - INFO - Updated scores and potentials of index 9.\n",
      "2024-10-08 10:53:23 - DEBUG - Starting new calculation for index 6.\n",
      "2024-10-08 10:53:23 - INFO - Index 6 has no predicted structure, starting ESMfold.\n",
      "2024-10-08 10:53:23 - DEBUG - Run ESMfold for index 6.\n",
      "2024-10-08 10:53:23 - DEBUG - Your job 1620117 (\"MIX_ESMfold_6\") has been submitted\n",
      "2024-10-08 10:53:23 - DEBUG - Updating scores\n",
      "2024-10-08 10:53:23 - INFO - Updated scores and potentials of index 6.\n",
      "2024-10-08 10:53:23 - DEBUG - Starting new calculation for index 9.\n",
      "2024-10-08 10:53:23 - INFO - Index 9 has no predicted structure, starting ESMfold.\n",
      "2024-10-08 10:53:23 - DEBUG - Run ESMfold for index 9.\n",
      "2024-10-08 10:53:24 - DEBUG - Your job 1620118 (\"MIX_ESMfold_9\") has been submitted\n",
      "2024-10-08 10:56:25 - DEBUG - Updating scores\n",
      "2024-10-08 10:56:26 - INFO - Updated scores and potentials of index 2.\n",
      "2024-10-08 10:56:26 - DEBUG - Starting new calculation for index 2.\n",
      "2024-10-08 10:56:26 - INFO - Index 2 has no predicted structure, starting ESMfold.\n",
      "2024-10-08 10:56:26 - DEBUG - Run ESMfold for index 2.\n",
      "2024-10-08 10:56:26 - DEBUG - Your job 1620120 (\"MIX_ESMfold_2\") has been submitted\n",
      "2024-10-08 10:56:46 - DEBUG - Updating scores\n",
      "2024-10-08 10:56:47 - INFO - Updated scores and potentials of index 0.\n",
      "2024-10-08 10:56:47 - INFO - Updated scores and potentials of index 1.\n",
      "2024-10-08 10:56:48 - INFO - Updated scores and potentials of index 3.\n",
      "2024-10-08 10:56:48 - INFO - Updated scores and potentials of index 5.\n",
      "2024-10-08 10:56:48 - DEBUG - Starting new calculation for index 0.\n",
      "2024-10-08 10:56:48 - INFO - Index 0 has no predicted structure, starting ESMfold.\n",
      "2024-10-08 10:56:48 - DEBUG - Run ESMfold for index 0.\n",
      "2024-10-08 10:56:48 - DEBUG - Your job 1620121 (\"MIX_ESMfold_0\") has been submitted\n",
      "2024-10-08 10:56:48 - DEBUG - Updating scores\n",
      "2024-10-08 10:56:48 - DEBUG - Starting new calculation for index 1.\n",
      "2024-10-08 10:56:48 - INFO - Index 1 has no predicted structure, starting ESMfold.\n",
      "2024-10-08 10:56:48 - DEBUG - Run ESMfold for index 1.\n",
      "2024-10-08 10:56:49 - DEBUG - Your job 1620122 (\"MIX_ESMfold_1\") has been submitted\n",
      "2024-10-08 10:57:09 - DEBUG - Updating scores\n",
      "2024-10-08 10:57:09 - DEBUG - Starting new calculation for index 3.\n",
      "2024-10-08 10:57:09 - INFO - Index 3 has no predicted structure, starting ESMfold.\n",
      "2024-10-08 10:57:09 - DEBUG - Run ESMfold for index 3.\n",
      "2024-10-08 10:57:09 - DEBUG - Your job 1620123 (\"MIX_ESMfold_3\") has been submitted\n",
      "2024-10-08 10:57:09 - DEBUG - Updating scores\n",
      "2024-10-08 10:57:09 - DEBUG - Starting new calculation for index 5.\n",
      "2024-10-08 10:57:09 - INFO - Index 5 has no predicted structure, starting ESMfold.\n",
      "2024-10-08 10:57:09 - DEBUG - Run ESMfold for index 5.\n",
      "2024-10-08 10:57:09 - DEBUG - Your job 1620124 (\"MIX_ESMfold_5\") has been submitted\n",
      "2024-10-08 10:59:10 - DEBUG - Updating scores\n",
      "2024-10-08 10:59:11 - INFO - Updated scores and potentials of index 4.\n",
      "2024-10-08 10:59:11 - INFO - Updated scores and potentials of index 8.\n",
      "2024-10-08 10:59:11 - DEBUG - Starting new calculation for index 4.\n",
      "2024-10-08 10:59:11 - INFO - Index 4 has no predicted structure, starting ESMfold.\n",
      "2024-10-08 10:59:11 - DEBUG - Run ESMfold for index 4.\n",
      "2024-10-08 10:59:11 - DEBUG - Your job 1620129 (\"MIX_ESMfold_4\") has been submitted\n",
      "2024-10-08 10:59:11 - DEBUG - Updating scores\n",
      "2024-10-08 10:59:11 - DEBUG - Starting new calculation for index 8.\n",
      "2024-10-08 10:59:11 - INFO - Index 8 has no predicted structure, starting ESMfold.\n",
      "2024-10-08 10:59:11 - DEBUG - Run ESMfold for index 8.\n",
      "2024-10-08 10:59:11 - DEBUG - Your job 1620130 (\"MIX_ESMfold_8\") has been submitted\n"
     ]
    }
   ],
   "source": [
    "import sys, os\n",
    "if os.path.join(os.getcwd(), '../../src') not in sys.path: sys.path.append(os.path.join(os.getcwd(), '../../src'))\n",
    "from AIzymes_013 import *\n",
    "AIzymes = AIzymes_MAIN()\n",
    "AIzymes.initialize(FOLDER_HOME = 'HAB_refactor_mixed_013', \n",
    "                   LOG=\"debug\", \n",
    "                   PRINT_VAR=False) #LOG=\"debug/info\"\n",
    "AIzymes.controller()"
   ]
  },
  {
   "cell_type": "code",
   "execution_count": null,
   "id": "b9a21715",
   "metadata": {},
   "outputs": [],
   "source": [
    "import sys, os\n",
    "if os.path.join(os.getcwd(), '../../src') not in sys.path: sys.path.append(os.path.join(os.getcwd(), '../../src'))\n",
    "from AIzymes_013 import *\n",
    "AIzymes = AIzymes_MAIN()\n",
    "AIzymes.initialize(FOLDER_HOME = 'HAB_refactor_mixed_013', LOG=\"info\", PRINT_VAR=False) #LOG=\"debug/info\"\n",
    "AIzymes.plot()"
   ]
  },
  {
   "cell_type": "code",
   "execution_count": null,
   "id": "0c3b5518",
   "metadata": {},
   "outputs": [],
   "source": []
  }
 ],
 "metadata": {
  "kernelspec": {
   "display_name": "Python 3 (ipykernel)",
   "language": "python",
   "name": "python3"
  },
  "language_info": {
   "codemirror_mode": {
    "name": "ipython",
    "version": 3
   },
   "file_extension": ".py",
   "mimetype": "text/x-python",
   "name": "python",
   "nbconvert_exporter": "python",
   "pygments_lexer": "ipython3",
   "version": "3.7.16"
  }
 },
 "nbformat": 4,
 "nbformat_minor": 5
}
