{
 "cells": [
  {
   "cell_type": "code",
   "execution_count": null,
   "id": "948eed2f",
   "metadata": {
    "scrolled": false
   },
   "outputs": [],
   "source": [
    "#### DESIGN RUN NAME #####################################################################################################\n",
    "DESIGN_FOLDER     = 'Design_AL'\n",
    "FOLDER_MATCH      = 'MATCH' #Not needed for now -> This is just for match\n",
    "FOLDER_PARENT     = '../../design/Parent_1ohp' # -> Adjust, contains ONLY parent pdbs\n",
    "##########################################################################################################################\n",
    "#### Input parameters ####################################################################################################\n",
    "MAX_JOBS          = 50\n",
    "N_PARENT_JOBS     = 200\n",
    "MAX_DESIGNS       = 10000\n",
    "KBT_BOLTZMANN     = 0.02\n",
    "CST_WEIGHT        = 1.0\n",
    "HIGHSCORE         = 0.93\n",
    "NEG_BEST          = 0.79\n",
    "ProteinMPNN_PROB  = 0.0\n",
    "WT                = \"1ohp\"\n",
    "LIGAND            = \"5TS\"\n",
    "REPACK            = \"36,45,51,67\"\n",
    "MATCH             = \"14,18,26,30,55,65,80,82,99,101,112\"\n",
    "DESIGN            = \"7,10,11,14,15,18,26,29,30,38,54,55,58,59,63,65,71,73,78\"\n",
    "DESIGN           += \",80,82,84,86,93,95,97,99,101,103,109,112,114,116,121\"\n",
    "ProteinMPNN_T     = \"0.1\"\n",
    "SUBMIT_PREFIX     = \"AIz\" # Adjust, use a short prefix to allow \n",
    "BLUEPEBBLE        = True\n",
    "GRID              = False\n",
    "BACKGROUND_JOB    = False\n",
    "ABBIE_LOCAL       = False\n",
    "\n",
    "if GRID:            ROSETTA_PATH = \"/home/bunzelh/rosetta_src_2021.16.61629_bundle/main/source/\"      #GRID\n",
    "if BLUEPEBBLE:      \n",
    "                    ROSETTA_PATH = \"/sw/apps/rosetta/rosetta_src_2021.16.61629_bundle/main/source/\"   #BLUEPEBBLE \n",
    "                    #BLUEPEBBLE_ACCOUNT = \"ptch000361\"\n",
    "                    BLUEPEBBLE_ACCOUNT = \"ptch000721\"\n",
    "if BACKGROUND_JOB:  ROSETTA_PATH = \"/sw/apps/rosetta/rosetta_src_2021.16.61629_bundle/main/source/\"   #BLUEPEBBLE \n",
    "\n",
    "if ABBIE_LOCAL:     ROSETTA_PATH = \"/home/abbie/rosetta.binary.ubuntu.release-371/main/source\"\n",
    "    \n",
    "NORM              = {'interface_score': [10, 30], 'total_score': [340, 410], 'catalytic_score': [-40, 0], 'efield_score': [10,170]}\n",
    "##########################################################################################################################\n",
    "AIZYME_TOOLS      = \"../src/AIzymes_010.ipynb\"\n",
    "%run \"$AIZYME_TOOLS\""
   ]
  },
  {
   "cell_type": "code",
   "execution_count": null,
   "id": "b486023f",
   "metadata": {
    "scrolled": false
   },
   "outputs": [],
   "source": [
    "%run \"$AIZYME_TOOLS\"\n",
    "controller(RESET=False, EXPLORE=True, UNBLOCK_ALL=False, PRINT_VAR=True, PLOT_DATA=True) "
   ]
  }
 ],
 "metadata": {
  "kernelspec": {
   "display_name": "Python 3 (ipykernel)",
   "language": "python",
   "name": "python3"
  },
  "language_info": {
   "codemirror_mode": {
    "name": "ipython",
    "version": 3
   },
   "file_extension": ".py",
   "mimetype": "text/x-python",
   "name": "python",
   "nbconvert_exporter": "python",
   "pygments_lexer": "ipython3",
   "version": "3.9.19"
  }
 },
 "nbformat": 4,
 "nbformat_minor": 5
}
