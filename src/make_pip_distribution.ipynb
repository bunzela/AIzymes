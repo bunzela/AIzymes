{
 "cells": [
  {
   "cell_type": "code",
   "execution_count": 8,
   "id": "ce3400db-7cb6-476e-aa90-50d82f4e6e53",
   "metadata": {},
   "outputs": [],
   "source": [
    "# Commands to make pip distribution\n",
    "#!pip install build twine"
   ]
  },
  {
   "cell_type": "raw",
   "id": "2a874291-d1d3-47ad-b861-6461f73bb333",
   "metadata": {},
   "source": [
    "adjust version number in pyproject.toml\n",
    "\n",
    "rm -rf dist/ build/ *.egg-info\n",
    "\n",
    "python -m build\n",
    "\n",
    "twine upload dist/*"
   ]
  },
  {
   "cell_type": "code",
   "execution_count": 1,
   "id": "2d0ae948-63e3-4c81-b2f0-bd2ddb061517",
   "metadata": {},
   "outputs": [
    {
     "name": "stdin",
     "output_type": "stream",
     "text": [
      "Enter your PyPI API token:  ········\n"
     ]
    },
    {
     "name": "stdout",
     "output_type": "stream",
     "text": [
      "Uploading distributions to https://upload.pypi.org/legacy/\n",
      "Uploading aizymes-0.1.12-py3-none-any.whl\n",
      "\u001b[2K\u001b[35m100%\u001b[0m \u001b[90m━━━━━━━━━━━━━━━━━━━━━━━━━━━━━━━━━━━━━━━\u001b[0m \u001b[32m198.1/198.1 kB\u001b[0m • \u001b[33m00:00\u001b[0m • \u001b[31m723.6 kB/s\u001b[0mMB/s\u001b[0m7 MB/s\u001b[0m\n",
      "\u001b[?25hUploading aizymes-0.1.12.tar.gz\n",
      "\u001b[2K\u001b[35m100%\u001b[0m \u001b[90m━━━━━━━━━━━━━━━━━━━━━━━━━━━━━━━━━━━━━━━\u001b[0m \u001b[32m166.3/166.3 kB\u001b[0m • \u001b[33m00:00\u001b[0m • \u001b[31m155.1 MB/s\u001b[0m\n",
      "\u001b[?25h\n",
      "\u001b[32mView at:\u001b[0m\n",
      "https://pypi.org/project/aizymes/0.1.12/\n",
      "xxx\n"
     ]
    }
   ],
   "source": [
    "import subprocess\n",
    "import getpass\n",
    "import twine\n",
    "import shutil\n",
    "import glob   \n",
    "\n",
    "version = '0.1.12'\n",
    "\n",
    "pyproject = f'''[project]\n",
    "name = \"aizymes\"\n",
    "version = \"{version}\"\n",
    "description = \"A modular enzyme design platform\"\n",
    "authors = [{{ name = \"Adrian Bunzel\", email = \"adrian.bunzel@mpi-marburg.mpg.de\" }}]\n",
    "readme = \"README.md\"\n",
    "license-files = [\"LICENSE.txt\"]\n",
    "requires-python = \">=3.8\"\n",
    "dependencies = [\n",
    "    \"numpy\",\n",
    "    \"pandas\",\n",
    "    \"biopython\",\n",
    "    \"scikit-learn\",\n",
    "    \"matplotlib\"\n",
    "]\n",
    "\n",
    "[build-system]\n",
    "requires = [\"setuptools>=61.0\", \"wheel\"]\n",
    "build-backend = \"setuptools.build_meta\"\n",
    "\n",
    "[tool.setuptools]\n",
    "package-dir = {{\"\" = \"src\"}}\n",
    "\n",
    "[tool.setuptools.packages.find]\n",
    "where = [\"src\"]\n",
    "'''\n",
    "\n",
    "with open('../pyproject.toml', 'w') as f: f.write(pyproject)\n",
    "\n",
    "# Remove dist, build, and .egg-info directories\n",
    "import shutil, glob\n",
    "for p in ['../dist','../build', *glob.glob('../*.egg-info')]: shutil.rmtree(p, ignore_errors=True)\n",
    "\n",
    "# Build the package\n",
    "subprocess.run([\"python\", \"-m\", \"build\"], cwd=\"..\", stdout=subprocess.DEVNULL, check=True, text=True)\n",
    "\n",
    "# Upload to PyPI\n",
    "api_token = getpass.getpass(\"Enter your PyPI API token: \")\n",
    "subprocess.run([\"twine\", \"upload\", \"-u\", \"__token__\", \"-p\", api_token, \"../dist/*\"], check=True, text=True)\n",
    "print('xxx')"
   ]
  },
  {
   "cell_type": "code",
   "execution_count": null,
   "id": "0117922e-8a2e-47c0-a6ab-2d0e9c8fadc4",
   "metadata": {},
   "outputs": [],
   "source": []
  }
 ],
 "metadata": {
  "kernelspec": {
   "display_name": "Python 3 (ipykernel)",
   "language": "python",
   "name": "python3"
  },
  "language_info": {
   "codemirror_mode": {
    "name": "ipython",
    "version": 3
   },
   "file_extension": ".py",
   "mimetype": "text/x-python",
   "name": "python",
   "nbconvert_exporter": "python",
   "pygments_lexer": "ipython3",
   "version": "3.11.12"
  }
 },
 "nbformat": 4,
 "nbformat_minor": 5
}
