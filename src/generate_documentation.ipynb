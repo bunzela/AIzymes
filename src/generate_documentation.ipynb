{
 "cells": [
  {
   "cell_type": "code",
   "execution_count": 18,
   "id": "d11138cb",
   "metadata": {},
   "outputs": [],
   "source": [
    "#!pip install pdoc weasyprint\n",
    "#!pip install markdown\n",
    "#!pip install pdfkit\n",
    "#https://wkhtmltopdf.org/downloads.html"
   ]
  },
  {
   "cell_type": "code",
   "execution_count": 26,
   "id": "e6c2aa13",
   "metadata": {},
   "outputs": [
    {
     "name": "stdout",
     "output_type": "stream",
     "text": [
      "PDF generated at docs/AIzymes_013_docs.pdf\n"
     ]
    }
   ],
   "source": [
    "import ast\n",
    "import os\n",
    "import markdown\n",
    "import pdfkit\n",
    "\n",
    "# Define folder and file paths\n",
    "FOLDER_DOC = \"docs\"\n",
    "os.makedirs(FOLDER_DOC, exist_ok=True)\n",
    "module_path = 'AIzymes_013.py'\n",
    "markdown_path = f'{FOLDER_DOC}/AIzymes_013_docs.md'\n",
    "html_path = f'{FOLDER_DOC}/AIzymes_013_docs.html'\n",
    "pdf_path = f'{FOLDER_DOC}/AIzymes_013_docs.pdf'\n",
    "\n",
    "# Configure pdfkit to use wkhtmltopdf\n",
    "config = pdfkit.configuration(wkhtmltopdf=r\"C:\\Program Files\\wkhtmltopdf\\bin\\wkhtmltopdf.exe\")\n",
    "\n",
    "# Step 1: Extract docstrings and save as Markdown\n",
    "def extract_docstrings(filepath):\n",
    "    with open(filepath, \"r\") as file:\n",
    "        tree = ast.parse(file.read())\n",
    "\n",
    "    docstrings = []\n",
    "    for node in ast.walk(tree):\n",
    "        if isinstance(node, (ast.FunctionDef, ast.ClassDef, ast.Module)):\n",
    "            docstring = ast.get_docstring(node)\n",
    "            if docstring:\n",
    "                if isinstance(node, ast.Module):\n",
    "                    header = \"# Module: AIzymes_013\\n\\n\"\n",
    "                elif isinstance(node, ast.ClassDef):\n",
    "                    header = f\"## Class: {node.name}\\n\\n\"\n",
    "                elif isinstance(node, ast.FunctionDef):\n",
    "                    header = f\"### Function: {node.name}\\n\\n\"\n",
    "                \n",
    "                # Improved formatting for parameter section\n",
    "                formatted_docstring = []\n",
    "                for line in docstring.splitlines():\n",
    "                    line = line.strip()\n",
    "                    # Add extra line breaks for each parameter and a tab before descriptions\n",
    "                    if \"Parameters:\" in line:\n",
    "                        formatted_docstring.append(\"**Parameters:**\\n\")\n",
    "                    elif \": \" in line:\n",
    "                        parts = line.split(\": \", 1)\n",
    "                        formatted_docstring.append(f\"**{parts[0].strip()}**:\\t{parts[1].strip()}\\n\")\n",
    "                    else:\n",
    "                        formatted_docstring.append(line)\n",
    "\n",
    "                # Join with double newlines to add space between parameters\n",
    "                docstrings.append(header + \"\\n\".join(formatted_docstring) + \"\\n\\n\")\n",
    "    return \"\\n\".join(docstrings)\n",
    "\n",
    "docstring_content = extract_docstrings(module_path)\n",
    "with open(markdown_path, \"w\") as file:\n",
    "    file.write(docstring_content)\n",
    "\n",
    "# Step 2: Convert Markdown to HTML\n",
    "with open(markdown_path, \"r\") as f:\n",
    "    text = f.read()\n",
    "    html_content = markdown.markdown(text)\n",
    "\n",
    "# Optional: Add CSS for styling\n",
    "css = \"\"\"\n",
    "<style>\n",
    "    body { font-family: Arial, sans-serif; margin: 20px; }\n",
    "    h1 { color: #4CAF50; font-size: 2em; }\n",
    "    h2 { color: #333; font-size: 1.5em; }\n",
    "    h3 { color: #555; font-size: 1.2em; }\n",
    "    p { font-size: 1em; line-height: 1.6; }\n",
    "</style>\n",
    "\"\"\"\n",
    "html_content = css + html_content\n",
    "\n",
    "with open(html_path, \"w\") as f:\n",
    "    f.write(html_content)\n",
    "\n",
    "# Step 3: Convert HTML to PDF using pdfkit\n",
    "pdfkit.from_file(html_path, pdf_path, configuration=config, options={\n",
    "    'quiet': '',\n",
    "    'dpi': 300,\n",
    "    'disable-smart-shrinking': '',\n",
    "    'enable-local-file-access': ''\n",
    "})\n",
    "print(f\"PDF generated at {pdf_path}\")\n",
    "\n"
   ]
  },
  {
   "cell_type": "code",
   "execution_count": 27,
   "id": "c5fe7934",
   "metadata": {},
   "outputs": [
    {
     "name": "stdout",
     "output_type": "stream",
     "text": [
      "AIzymes_013.py\n",
      "FieldTools.py\n",
      "OLD\n",
      "README.md\n",
      "__pycache__\n",
      "cst_weight and kbt_weight optimization.ipynb\n",
      "design_ESMfold_001.py\n",
      "design_LigandMPNN_001.py\n",
      "design_ProteinMPNN_001.py\n",
      "design_RosettaDesign_001.py\n",
      "design_RosettaRelax_001.py\n",
      "design_match_001.py\n",
      "docs\n",
      "generate_documentation.ipynb\n",
      "helper_001.py\n",
      "main_design_001.py\n",
      "main_running_001.py\n",
      "main_scripts_001.py\n",
      "main_startup_001.py\n",
      "plotting_001 Backup.py\n",
      "plotting_001.py\n",
      "scoring_efields_001.py\n",
      "setup_system_001.py\n"
     ]
    }
   ],
   "source": [
    "!ls"
   ]
  },
  {
   "cell_type": "code",
   "execution_count": null,
   "id": "50cfec73",
   "metadata": {},
   "outputs": [],
   "source": []
  }
 ],
 "metadata": {
  "kernelspec": {
   "display_name": "Python 3",
   "language": "python",
   "name": "python3"
  },
  "language_info": {
   "codemirror_mode": {
    "name": "ipython",
    "version": 3
   },
   "file_extension": ".py",
   "mimetype": "text/x-python",
   "name": "python",
   "nbconvert_exporter": "python",
   "pygments_lexer": "ipython3",
   "version": "3.9.12"
  }
 },
 "nbformat": 4,
 "nbformat_minor": 5
}
