{
 "cells": [
  {
   "cell_type": "markdown",
   "id": "a8e774fb",
   "metadata": {},
   "source": []
  },
  {
   "cell_type": "markdown",
   "id": "4641f811",
   "metadata": {},
   "source": [
    "Define the optimal **cst_weight_0** and **cst_weight_1** value and defines the decay factor **k**."
   ]
  },
  {
   "cell_type": "code",
   "execution_count": 2,
   "id": "6e5bb9bc",
   "metadata": {},
   "outputs": [],
   "source": [
    "cst_weight_0 = 0\n",
    "cst_weight_1 = 0\n",
    "k = 0"
   ]
  },
  {
   "cell_type": "markdown",
   "id": "2b652327",
   "metadata": {},
   "source": [
    "Define the **cst_weight_function** which according to the generation returns the cst_weight to be applied during the RosettaDesign step"
   ]
  },
  {
   "cell_type": "code",
   "execution_count": null,
   "id": "9ade1b82",
   "metadata": {},
   "outputs": [],
   "source": [
    "def cst_weight_function(self, cst_weight_0, cst_weight_1, k):\n",
    "    if  parent_index == 'Parent':\n",
    "        generation = 0\n",
    "    else:\n",
    "        generation = self.all_scores_df['generation'][int(parent_index)]+1\n",
    "\n",
    "    cst_weight = (cst_weight_0 - cst_weight_1)*exp(-k*generation)+cst_weight_1\n",
    "    #return cst_weight, not needed with self correct?"
   ]
  },
  {
   "cell_type": "markdown",
   "id": "216f5853",
   "metadata": {},
   "source": [
    "Define the **kbt_weight_function** which according to the generation returns the kbt_weight to be applied during the RosettaDesign step"
   ]
  },
  {
   "cell_type": "code",
   "execution_count": null,
   "id": "d11138cb",
   "metadata": {},
   "outputs": [],
   "source": []
  }
 ],
 "metadata": {
  "kernelspec": {
   "display_name": "Python 3 (ipykernel)",
   "language": "python",
   "name": "python3"
  },
  "language_info": {
   "codemirror_mode": {
    "name": "ipython",
    "version": 3
   },
   "file_extension": ".py",
   "mimetype": "text/x-python",
   "name": "python",
   "nbconvert_exporter": "python",
   "pygments_lexer": "ipython3",
   "version": "3.7.12"
  }
 },
 "nbformat": 4,
 "nbformat_minor": 5
}
