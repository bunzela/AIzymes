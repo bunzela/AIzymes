{
 "cells": [
  {
   "cell_type": "code",
   "execution_count": 1,
   "id": "d974b573",
   "metadata": {},
   "outputs": [
    {
     "name": "stdout",
     "output_type": "stream",
     "text": [
      "SCC_PARALLEL not defined in set_system(self), located in setup_system.py.\n"
     ]
    },
    {
     "ename": "SystemExit",
     "evalue": "",
     "output_type": "error",
     "traceback": [
      "An exception has occurred, use %tb to see the full traceback.\n",
      "\u001b[0;31mSystemExit\u001b[0m\n"
     ]
    },
    {
     "name": "stderr",
     "output_type": "stream",
     "text": [
      "/user/hansadrian.bunzel01/u14852/miniconda3/envs/py311/lib/python3.11/site-packages/IPython/core/interactiveshell.py:3585: UserWarning: To exit: use 'exit', 'quit', or Ctrl-D.\n",
      "  warn(\"To exit: use 'exit', 'quit', or Ctrl-D.\", stacklevel=1)\n"
     ]
    }
   ],
   "source": [
    "\"\"\" ---------------------------------------------------------------------------------------------------------------------------\n",
    "# Test script to establish AI.zymes on SCC\n",
    "\" -----------------------------------------------------------------------------------------------------------------------------\n",
    "\"\"\" \n",
    "\n",
    "import sys, os\n",
    "if os.path.join(os.getcwd(), '../../src') not in sys.path: sys.path.append(os.path.join(os.getcwd(), '../../src'))\n",
    "from AIzymes_014 import *\n",
    "\n",
    "# GENERAL SETTINGS FOR AI.zymes -------------------------------------------------------------------------------------------\n",
    "AIzymes = AIzymes_MAIN()\n",
    "AIzymes.setup(FOLDER_HOME = 'TEST_CSCS',\n",
    "  FOLDER_PARENT     = 'parent',\n",
    "  MAX_JOBS          = 5,\n",
    "  N_PARENT_JOBS     = 7,\n",
    "  MAX_DESIGNS       = 100,\n",
    "  KBT_BOLTZMANN     = [0.5, 0.0003],\n",
    "  CST_WEIGHT        = 1.0,\n",
    "  CST_NAME          = \"5TS_enzdes_planar_tAB100\",\n",
    "  WT                = \"7vuu\",\n",
    "  LIGAND            = \"5TS\",\n",
    "  DESIGN            = \"4,8,16,21,25,28,40,41,44,52,57,60,61\",\n",
    "  SYSTEM            = \"SCC_PARALLEL\",\n",
    "  EXPLORE           = True,\n",
    "  RUN_PARALLEL      = True,\n",
    "  RUN_INTERACTIVE   = True\n",
    " )"
   ]
  },
  {
   "cell_type": "code",
   "execution_count": null,
   "id": "a7371918",
   "metadata": {},
   "outputs": [
    {
     "name": "stderr",
     "output_type": "stream",
     "text": [
      "2024-12-19 08:17:25 - DEBUG - Updating scores\n",
      "2024-12-19 08:17:25 - DEBUG - Parent design not yet done. 1/7 jobs submitted.\n",
      "2024-12-19 08:17:25 - DEBUG - Child index 0 created for Parent.\n",
      "2024-12-19 08:17:25 - DEBUG - Run RosettaDesign for index 0 based on index 0.\n",
      "2024-12-19 08:17:25 - DEBUG - Calculating ElectricFields for index 0.\n",
      "2024-12-19 08:17:25 - DEBUG - Updating scores\n",
      "2024-12-19 08:17:25 - DEBUG - Parent design not yet done. 2/7 jobs submitted.\n",
      "2024-12-19 08:17:25 - DEBUG - Child index 1 created for Parent.\n",
      "2024-12-19 08:17:25 - DEBUG - Run RosettaDesign for index 1 based on index 1.\n",
      "2024-12-19 08:17:25 - DEBUG - Calculating ElectricFields for index 1.\n",
      "2024-12-19 08:17:25 - DEBUG - Updating scores\n",
      "2024-12-19 08:17:25 - DEBUG - Parent design not yet done. 3/7 jobs submitted.\n",
      "2024-12-19 08:17:25 - DEBUG - Child index 2 created for Parent.\n",
      "2024-12-19 08:17:25 - DEBUG - Run RosettaDesign for index 2 based on index 2.\n",
      "2024-12-19 08:17:25 - DEBUG - Calculating ElectricFields for index 2.\n",
      "2024-12-19 08:17:25 - DEBUG - Updating scores\n",
      "2024-12-19 08:17:25 - DEBUG - Parent design not yet done. 4/7 jobs submitted.\n",
      "2024-12-19 08:17:25 - DEBUG - Child index 3 created for Parent.\n",
      "2024-12-19 08:17:25 - DEBUG - Run RosettaDesign for index 3 based on index 3.\n",
      "2024-12-19 08:17:25 - DEBUG - Calculating ElectricFields for index 3.\n",
      "2024-12-19 08:17:25 - DEBUG - Updating scores\n",
      "2024-12-19 08:17:25 - DEBUG - Parent design not yet done. 5/7 jobs submitted.\n",
      "2024-12-19 08:17:25 - DEBUG - Child index 4 created for Parent.\n",
      "2024-12-19 08:17:25 - DEBUG - Run RosettaDesign for index 4 based on index 4.\n",
      "2024-12-19 08:17:25 - DEBUG - Calculating ElectricFields for index 4.\n",
      "2024-12-19 08:18:46 - DEBUG - Updating scores\n",
      "2024-12-19 08:18:46 - INFO - Updated scores and potentials of index 0.\n",
      "2024-12-19 08:18:46 - INFO - Updated scores and potentials of index 1.\n",
      "2024-12-19 08:18:46 - INFO - Updated scores and potentials of index 2.\n",
      "2024-12-19 08:18:46 - INFO - Updated scores and potentials of index 3.\n",
      "2024-12-19 08:18:46 - INFO - Updated scores and potentials of index 4.\n",
      "2024-12-19 08:18:46 - DEBUG - Parent design not yet done. 6/7 jobs submitted.\n",
      "2024-12-19 08:18:46 - DEBUG - Child index 5 created for Parent.\n",
      "2024-12-19 08:18:46 - DEBUG - Run RosettaDesign for index 5 based on index 5.\n",
      "2024-12-19 08:18:46 - DEBUG - Calculating ElectricFields for index 5.\n",
      "2024-12-19 08:18:46 - DEBUG - Updating scores\n",
      "2024-12-19 08:18:46 - DEBUG - Parent design not yet done. 7/7 jobs submitted.\n",
      "2024-12-19 08:18:46 - DEBUG - Child index 6 created for Parent.\n",
      "2024-12-19 08:18:46 - DEBUG - Run RosettaDesign for index 6 based on index 6.\n",
      "2024-12-19 08:18:46 - DEBUG - Calculating ElectricFields for index 6.\n",
      "2024-12-19 08:18:46 - DEBUG - Updating scores\n",
      "2024-12-19 08:18:46 - DEBUG - Starting new calculation for index 0.\n",
      "2024-12-19 08:18:46 - INFO - Index 0 has no predicted structure, starting ESMfold.\n",
      "2024-12-19 08:18:46 - DEBUG - Run ESMfold for index 0.\n",
      "2024-12-19 08:18:46 - DEBUG - Run RosettaRelax for index 0.\n",
      "2024-12-19 08:18:46 - DEBUG - Calculating ElectricFields for index 0.\n",
      "2024-12-19 08:19:47 - DEBUG - Updating scores\n",
      "2024-12-19 08:19:47 - INFO - Updated scores and potentials of index 5.\n",
      "2024-12-19 08:19:47 - INFO - Updated scores and potentials of index 6.\n",
      "2024-12-19 08:19:47 - DEBUG - Starting new calculation for index 1.\n",
      "2024-12-19 08:19:47 - INFO - Index 1 has no predicted structure, starting ESMfold.\n",
      "2024-12-19 08:19:47 - DEBUG - Run ESMfold for index 1.\n",
      "2024-12-19 08:19:47 - DEBUG - Run RosettaRelax for index 1.\n",
      "2024-12-19 08:19:47 - DEBUG - Calculating ElectricFields for index 1.\n",
      "2024-12-19 08:19:47 - DEBUG - Updating scores\n",
      "2024-12-19 08:19:47 - DEBUG - Starting new calculation for index 2.\n",
      "2024-12-19 08:19:47 - INFO - Index 2 has no predicted structure, starting ESMfold.\n",
      "2024-12-19 08:19:47 - DEBUG - Run ESMfold for index 2.\n",
      "2024-12-19 08:19:47 - DEBUG - Run RosettaRelax for index 2.\n",
      "2024-12-19 08:19:47 - DEBUG - Calculating ElectricFields for index 2.\n"
     ]
    }
   ],
   "source": [
    "import sys, os\n",
    "if os.path.join(os.getcwd(), '../../src') not in sys.path: sys.path.append(os.path.join(os.getcwd(), '../../src'))\n",
    "from AIzymes_014 import *\n",
    "AIzymes = AIzymes_MAIN()\n",
    "AIzymes.initialize(FOLDER_HOME = 'TEST_CSCS', \n",
    "                   LOG=\"debug\", \n",
    "                   PRINT_VAR=False) #LOG=\"debug/info\"\n",
    "AIzymes.controller()"
   ]
  },
  {
   "cell_type": "code",
   "execution_count": null,
   "id": "3437f8c8",
   "metadata": {},
   "outputs": [],
   "source": [
    "import sys, os\n",
    "if os.path.join(os.getcwd(), '../../src') not in sys.path: sys.path.append(os.path.join(os.getcwd(), '../../src'))\n",
    "from AIzymes_014 import *\n",
    "AIzymes = AIzymes_MAIN()\n",
    "AIzymes.initialize(FOLDER_HOME = 'TEST_ROSETTA', LOG=\"info\", PRINT_VAR=False) #LOG=\"debug/info\"\n",
    "AIzymes.plot(tree_plot=False, landscape_plot=False)"
   ]
  },
  {
   "cell_type": "code",
   "execution_count": 3,
   "id": "b622fbe4",
   "metadata": {},
   "outputs": [
    {
     "name": "stdout",
     "output_type": "stream",
     "text": [
      "/usr/local/bin/bash: conda: command not found\n"
     ]
    }
   ],
   "source": [
    "!conda install -c conda-forge ambertools\n",
    "\n",
    "#!pip install pytraj"
   ]
  },
  {
   "cell_type": "code",
   "execution_count": 14,
   "id": "146697de",
   "metadata": {},
   "outputs": [],
   "source": [
    "import pickle as pkl\n",
    "filename = '../HAB/WT_relax/0/ElectricFields/1ohp_RosettaDesign_0_fields.pkl'\n",
    "with open(filename, 'rb') as file:  # Open the file in binary read mode\n",
    "    data = pkl.load(file)  "
   ]
  },
  {
   "cell_type": "code",
   "execution_count": 16,
   "id": "40aa4c4d",
   "metadata": {},
   "outputs": [
    {
     "name": "stdout",
     "output_type": "stream",
     "text": [
      "dict_keys([':5TS@C9_:5TS@H04'])\n",
      "dict_keys(['Total', 'Protein', 'Solvent', 'WAT', 'MET_1', 'ASN_2', 'THR_3', 'PRO_4', 'GLU_5', 'HIE_6', 'MET_7', 'THR_8', 'ALA_9', 'VAL_10', 'VAL_11', 'GLN_12', 'ARG_13', 'TYR_14', 'VAL_15', 'ALA_16', 'ALA_17', 'LEU_18', 'ASN_19', 'ALA_20', 'GLY_21', 'ASP_22', 'LEU_23', 'ASP_24', 'GLY_25', 'ILE_26', 'VAL_27', 'ALA_28', 'LEU_29', 'PHE_30', 'ALA_31', 'ASP_32', 'ASP_33', 'ALA_34', 'THR_35', 'VAL_36', 'GLU_37', 'ASN_38', 'PRO_39', 'VAL_40', 'GLY_41', 'SER_42', 'GLU_43', 'PRO_44', 'ARG_45', 'SER_46', 'GLY_47', 'THR_48', 'ALA_49', 'ALA_50', 'ILE_51', 'ARG_52', 'GLU_53', 'PHE_54', 'TYR_55', 'ALA_56', 'ASN_57', 'SER_58', 'LEU_59', 'LYS_60', 'LEU_61', 'PRO_62', 'LEU_63', 'ALA_64', 'VAL_65', 'GLU_66', 'LEU_67', 'THR_68', 'GLN_69', 'GLU_70', 'VAL_71', 'ARG_72', 'ALA_73', 'VAL_74', 'ALA_75', 'ASN_76', 'GLU_77', 'ALA_78', 'ALA_79', 'PHE_80', 'ALA_81', 'PHE_82', 'ILE_83', 'VAL_84', 'SER_85', 'PHE_86', 'GLU_87', 'TYR_88', 'GLN_89', 'GLY_90', 'ARG_91', 'LYS_92', 'THR_93', 'VAL_94', 'VAL_95', 'ALA_96', 'PRO_97', 'ILE_98', 'ASP_99', 'HIE_100', 'PHE_101', 'ARG_102', 'PHE_103', 'ASN_104', 'GLY_105', 'ALA_106', 'GLY_107', 'LYS_108', 'VAL_109', 'VAL_110', 'SER_111', 'MET_112', 'ARG_113', 'ALA_114', 'LEU_115', 'PHE_116', 'GLY_117', 'GLU_118', 'LYS_119', 'ASN_120', 'ILE_121', 'HIE_122', 'ALA_123', 'GLY_124', 'ALA_125', '5TS_126'])\n"
     ]
    }
   ],
   "source": [
    "print(data.keys())\n",
    "print(data[':5TS@C9_:5TS@H04'].keys())"
   ]
  },
  {
   "cell_type": "code",
   "execution_count": 17,
   "id": "d329db0d",
   "metadata": {},
   "outputs": [],
   "source": [
    "key_with_99 = [key for key in data[':5TS@C9_:5TS@H04'].keys() if '_99' in key]"
   ]
  },
  {
   "cell_type": "code",
   "execution_count": null,
   "id": "1aaf95df",
   "metadata": {},
   "outputs": [],
   "source": [
    "print(key_with_99)"
   ]
  },
  {
   "cell_type": "code",
   "execution_count": null,
   "id": "b4d01add",
   "metadata": {},
   "outputs": [],
   "source": []
  }
 ],
 "metadata": {
  "kernelspec": {
   "display_name": "Python 3 (ipykernel)",
   "language": "python",
   "name": "python3"
  },
  "language_info": {
   "codemirror_mode": {
    "name": "ipython",
    "version": 3
   },
   "file_extension": ".py",
   "mimetype": "text/x-python",
   "name": "python",
   "nbconvert_exporter": "python",
   "pygments_lexer": "ipython3",
   "version": "3.11.6"
  }
 },
 "nbformat": 4,
 "nbformat_minor": 5
}
