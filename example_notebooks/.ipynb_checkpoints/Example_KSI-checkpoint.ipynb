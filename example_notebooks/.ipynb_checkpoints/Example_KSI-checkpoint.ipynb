{
 "cells": [
  {
   "cell_type": "markdown",
   "id": "76ad7e9a-3a00-4e5a-ae82-434c8465bcee",
   "metadata": {},
   "source": [
    "# Example Script to run AI.zymes with KSI to improve Kemp eliminase activity"
   ]
  },
  {
   "cell_type": "markdown",
   "id": "01899eda-2af9-4c20-8d75-b10add94d70e",
   "metadata": {},
   "source": [
    "#### Create an instance of the AI.zymes class"
   ]
  },
  {
   "cell_type": "code",
   "execution_count": null,
   "id": "3c821554-de57-4b58-a25e-f5cffad25e6f",
   "metadata": {},
   "outputs": [],
   "source": [
    "# Import AI.zymes\n",
    "from aizymes import * \n",
    " \n",
    "# Create instance of AIzymes_MAIN\n",
    "AIzymes = AIzymes_MAIN(FOLDER_HOME = 'Example_KSI') "
   ]
  },
  {
   "cell_type": "markdown",
   "id": "be39a3a6-8d7c-4e23-b69e-4affc6b1748b",
   "metadata": {},
   "source": [
    "#### Set up AI.zymes for design"
   ]
  },
  {
   "cell_type": "code",
   "execution_count": null,
   "id": "d974b573",
   "metadata": {
    "editable": true,
    "slideshow": {
     "slide_type": ""
    },
    "tags": []
   },
   "outputs": [],
   "source": [
    "AIzymes.setup(\n",
    "\n",
    "# General Design Settings\n",
    "    WT                = \"1ohp\",\n",
    "    LIGAND            = \"5TS\",\n",
    "    DESIGN            = \"11,14,15,18,38,54,55,58,63,65,80,82,84,97,99,101,112,114,116\",\n",
    "    PARENT_DES_MED    = ['RosettaDesign','ESMfold','MDMin','RosettaRelax','ElectricFields'],\n",
    "    DESIGN_METHODS    = [[0.5,'SolubleMPNN','ESMfold','MDMin','RosettaRelax','ElectricFields'],\\\n",
    "                         [0.5,'RosettaDesign','ESMfold','MDMin','RosettaRelax','ElectricFields']],\n",
    "\n",
    "# General Scoring Settings    \n",
    "    SELECTED_SCORES   = [\"total\",\"catalytic\",\"interface\",\"efield\", \"identical\"],\n",
    "    \n",
    "# General Job Settings\n",
    "    MAX_JOBS          = 72,\n",
    "    MAX_GPUS          = 4,\n",
    "    MEMORY            = 450,\n",
    "    N_PARENT_JOBS     = 144,\n",
    "    MAX_DESIGNS       = 2000,\n",
    "    KBT_BOLTZMANN     = [1.0, 0.5, 0.05],   \n",
    "    SUBMIT_PREFIX     = \"KSI_TEST\", \n",
    "    SYSTEM            = \"AIzymes.config\",\n",
    "\n",
    "# RosettaDesign Settings\n",
    "    CST_NAME          = \"5TS_enzdes_planar_tAB100\", \n",
    "    CST_DIST_CUTOFF   = 40.,\n",
    "\n",
    "# FieldTools settings\n",
    "    FIELD_TARGET      = \":5TS@C9 :5TS@H04\",\n",
    " )"
   ]
  },
  {
   "cell_type": "markdown",
   "id": "c7da5a8a-4dc3-4125-b4d5-72acfa464475",
   "metadata": {},
   "source": [
    "#### Submit controller to run AI.zymes"
   ]
  },
  {
   "cell_type": "code",
   "execution_count": null,
   "id": "a7371918",
   "metadata": {
    "editable": true,
    "slideshow": {
     "slide_type": ""
    },
    "tags": []
   },
   "outputs": [],
   "source": [
    "AIzymes.submit_controller()"
   ]
  },
  {
   "cell_type": "code",
   "execution_count": null,
   "id": "0dfafd90-8c3a-4f19-84cc-72a424c19111",
   "metadata": {},
   "outputs": [],
   "source": [
    "!squeue --me         \n",
    "# Use the command below to check the output from the running AI.zymes controller\n",
    "#!tail -n 50 Example_KSI/controller.log  "
   ]
  },
  {
   "cell_type": "markdown",
   "id": "23a6f627-0e43-4198-9a44-fc29cf361e62",
   "metadata": {},
   "source": [
    "#### Analysis tools to check AI.zymes"
   ]
  },
  {
   "cell_type": "code",
   "execution_count": null,
   "id": "fd40cbfe-1613-4a4c-95c1-53df85c17565",
   "metadata": {},
   "outputs": [],
   "source": [
    "AIzymes.plot(NORM = {\n",
    "                'final_score': [0.2, 0.7], \n",
    "                'total_score': [320, 380], \n",
    "                'catalytic_score': [-35, 0],\n",
    "                'interface_score': [20, 32],\n",
    "                'efield_score': [-40, 35],\n",
    "                'identical_score': [0, 1.05],\n",
    "             })"
   ]
  },
  {
   "cell_type": "code",
   "execution_count": null,
   "id": "47b1b7a3-a323-4d2b-afd3-e861839b2c3c",
   "metadata": {},
   "outputs": [],
   "source": [
    "AIzymes.tar_designs()"
   ]
  },
  {
   "cell_type": "code",
   "execution_count": null,
   "id": "0bef1c33-fa23-47f3-96ae-a75a0b213184",
   "metadata": {},
   "outputs": [],
   "source": [
    "AIzymes.print_statistics()"
   ]
  },
  {
   "cell_type": "markdown",
   "id": "65dd95f1-e317-41b4-a92b-06a3cff22bcb",
   "metadata": {},
   "source": [
    "#### Extract best structures after AI.zymes run"
   ]
  },
  {
   "cell_type": "code",
   "execution_count": null,
   "id": "6b976ead-526a-4a9f-a4b5-9fca76c48d80",
   "metadata": {
    "editable": true,
    "scrolled": true,
    "slideshow": {
     "slide_type": ""
    },
    "tags": []
   },
   "outputs": [],
   "source": [
    "AIzymes.best_structures(SEQ_PER_ACTIVE_SITE=5, N_HITS=30)"
   ]
  },
  {
   "cell_type": "code",
   "execution_count": null,
   "id": "090ebf5d-f15b-4de3-8890-8ec476daedaa",
   "metadata": {},
   "outputs": [],
   "source": []
  }
 ],
 "metadata": {
  "kernelspec": {
   "display_name": "Python 3",
   "language": "python",
   "name": "python3"
  },
  "language_info": {
   "codemirror_mode": {
    "name": "ipython",
    "version": 3
   },
   "file_extension": ".py",
   "mimetype": "text/x-python",
   "name": "python",
   "nbconvert_exporter": "python",
   "pygments_lexer": "ipython3",
   "version": "3.11.11"
  }
 },
 "nbformat": 4,
 "nbformat_minor": 5
}
